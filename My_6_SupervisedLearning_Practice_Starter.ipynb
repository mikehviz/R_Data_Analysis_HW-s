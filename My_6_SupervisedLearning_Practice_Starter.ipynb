{
  "cells": [
    {
      "cell_type": "markdown",
      "metadata": {
        "id": "view-in-github",
        "colab_type": "text"
      },
      "source": [
        "<a href=\"https://colab.research.google.com/github/mikehviz/R_Data_Analysis_HW-s/blob/main/My_6_SupervisedLearning_Practice_Starter.ipynb\" target=\"_parent\"><img src=\"https://colab.research.google.com/assets/colab-badge.svg\" alt=\"Open In Colab\"/></a>"
      ]
    },
    {
      "cell_type": "markdown",
      "metadata": {
        "id": "03S34tCna-1h"
      },
      "source": [
        "\n",
        "\n"
      ]
    },
    {
      "cell_type": "code",
      "execution_count": null,
      "metadata": {
        "id": "B-o1TZ7-a-1r",
        "outputId": "0c2645c4-d083-40e2-ca47-13688a912e0f",
        "colab": {
          "base_uri": "https://localhost:8080/"
        }
      },
      "outputs": [
        {
          "output_type": "stream",
          "name": "stderr",
          "text": [
            "Installing package into ‘/usr/local/lib/R/site-library’\n",
            "(as ‘lib’ is unspecified)\n",
            "\n",
            "also installing the dependencies ‘libcoin’, ‘mvtnorm’, ‘Formula’, ‘inum’\n",
            "\n",
            "\n",
            "Loading required package: grid\n",
            "\n",
            "Loading required package: libcoin\n",
            "\n",
            "Loading required package: mvtnorm\n",
            "\n",
            "\n",
            "Attaching package: ‘dplyr’\n",
            "\n",
            "\n",
            "The following objects are masked from ‘package:stats’:\n",
            "\n",
            "    filter, lag\n",
            "\n",
            "\n",
            "The following objects are masked from ‘package:base’:\n",
            "\n",
            "    intersect, setdiff, setequal, union\n",
            "\n",
            "\n"
          ]
        }
      ],
      "source": [
        "install.packages(\"partykit\")\n",
        "library(partykit)\n",
        "library(dplyr)\n",
        "#library(tidytext)\n",
        "library(ggplot2)\n",
        "\n"
      ]
    },
    {
      "cell_type": "markdown",
      "metadata": {
        "id": "RR-Ftit_a-1w"
      },
      "source": [
        "\n"
      ]
    },
    {
      "cell_type": "code",
      "execution_count": null,
      "metadata": {
        "id": "Npukqigma-1x",
        "outputId": "d89cb6a0-b041-4b65-b6eb-d9a0b630c8c1",
        "colab": {
          "base_uri": "https://localhost:8080/"
        }
      },
      "outputs": [
        {
          "output_type": "stream",
          "name": "stderr",
          "text": [
            "Warning message in RNGkind(sample.kind = \"Rounding\"):\n",
            "“non-uniform 'Rounding' sampler used”\n"
          ]
        }
      ],
      "source": [
        "RNGkind(sample.kind=\"Rounding\")  #issue with latest R installation\n",
        "set.seed(9999) #so random number sequence is the same every time we run code\n"
      ]
    },
    {
      "cell_type": "markdown",
      "metadata": {
        "id": "YC8NKv6ba-1z"
      },
      "source": [
        "\n"
      ]
    },
    {
      "cell_type": "code",
      "execution_count": null,
      "metadata": {
        "colab": {
          "base_uri": "https://localhost:8080/",
          "height": 1000
        },
        "id": "73yX_IDva-10",
        "outputId": "2006a72e-c44d-4d58-dc1d-96073f092fd2"
      },
      "outputs": [
        {
          "output_type": "display_data",
          "data": {
            "text/html": [
              "<table class=\"dataframe\">\n",
              "<caption>A data.frame: 236 × 9</caption>\n",
              "<thead>\n",
              "\t<tr><th scope=col>X</th><th scope=col>country</th><th scope=col>pop</th><th scope=col>area</th><th scope=col>oil_prod</th><th scope=col>gdp</th><th scope=col>educ</th><th scope=col>roadways</th><th scope=col>net_users</th></tr>\n",
              "\t<tr><th scope=col>&lt;int&gt;</th><th scope=col>&lt;fct&gt;</th><th scope=col>&lt;int&gt;</th><th scope=col>&lt;dbl&gt;</th><th scope=col>&lt;int&gt;</th><th scope=col>&lt;int&gt;</th><th scope=col>&lt;dbl&gt;</th><th scope=col>&lt;dbl&gt;</th><th scope=col>&lt;fct&gt;</th></tr>\n",
              "</thead>\n",
              "<tbody>\n",
              "\t<tr><td> 1</td><td><span style=white-space:pre-wrap>Afghanistan           </span></td><td> 32564342</td><td> 652230</td><td><span style=white-space:pre-wrap>      0</span></td><td> 1900</td><td> NA</td><td>0.06462444</td><td>&gt;5% </td></tr>\n",
              "\t<tr><td> 2</td><td><span style=white-space:pre-wrap>Albania               </span></td><td><span style=white-space:pre-wrap>  3029278</span></td><td><span style=white-space:pre-wrap>  28748</span></td><td><span style=white-space:pre-wrap>  20510</span></td><td>11900</td><td>3.3</td><td>0.62613051</td><td>&gt;35%</td></tr>\n",
              "\t<tr><td> 3</td><td><span style=white-space:pre-wrap>Algeria               </span></td><td> 39542166</td><td>2381741</td><td>1420000</td><td>14500</td><td>4.3</td><td>0.04771929</td><td>&gt;15%</td></tr>\n",
              "\t<tr><td> 4</td><td>American Samoa        </td><td>    54343</td><td>    199</td><td>      0</td><td>13000</td><td> NA</td><td>1.21105528</td><td>NA  </td></tr>\n",
              "\t<tr><td> 5</td><td><span style=white-space:pre-wrap>Andorra               </span></td><td><span style=white-space:pre-wrap>    85580</span></td><td><span style=white-space:pre-wrap>    468</span></td><td><span style=white-space:pre-wrap>     NA</span></td><td>37200</td><td> NA</td><td>0.68376068</td><td>&gt;60%</td></tr>\n",
              "\t<tr><td> 6</td><td><span style=white-space:pre-wrap>Angola                </span></td><td> 19625353</td><td>1246700</td><td>1742000</td><td> 7300</td><td>3.5</td><td>0.04125211</td><td>&gt;15%</td></tr>\n",
              "\t<tr><td> 7</td><td><span style=white-space:pre-wrap>Anguilla              </span></td><td><span style=white-space:pre-wrap>    16418</span></td><td><span style=white-space:pre-wrap>     91</span></td><td><span style=white-space:pre-wrap>     NA</span></td><td>12200</td><td>2.8</td><td>1.92307692</td><td>&gt;15%</td></tr>\n",
              "\t<tr><td> 8</td><td><span style=white-space:pre-wrap>Antigua and Barbuda   </span></td><td><span style=white-space:pre-wrap>    92436</span></td><td><span style=white-space:pre-wrap>    443</span></td><td><span style=white-space:pre-wrap>      0</span></td><td>23600</td><td>2.4</td><td>2.64108352</td><td>&gt;60%</td></tr>\n",
              "\t<tr><td> 9</td><td><span style=white-space:pre-wrap>Argentina             </span></td><td> 43431886</td><td>2780400</td><td> 532100</td><td>22600</td><td>6.3</td><td>0.08321608</td><td>&gt;35%</td></tr>\n",
              "\t<tr><td>10</td><td><span style=white-space:pre-wrap>Armenia               </span></td><td><span style=white-space:pre-wrap>  3056382</span></td><td><span style=white-space:pre-wrap>  29743</span></td><td><span style=white-space:pre-wrap>      0</span></td><td> 8500</td><td>3.3</td><td>0.25905255</td><td>&gt;35%</td></tr>\n",
              "\t<tr><td>11</td><td><span style=white-space:pre-wrap>Aruba                 </span></td><td><span style=white-space:pre-wrap>   112162</span></td><td><span style=white-space:pre-wrap>    180</span></td><td><span style=white-space:pre-wrap>      0</span></td><td>25300</td><td>6.0</td><td><span style=white-space:pre-wrap>        NA</span></td><td>&gt;60%</td></tr>\n",
              "\t<tr><td>12</td><td><span style=white-space:pre-wrap>Australia             </span></td><td> 22751014</td><td>7741220</td><td> 354300</td><td>65400</td><td>5.6</td><td>0.10634202</td><td>&gt;60%</td></tr>\n",
              "\t<tr><td>13</td><td><span style=white-space:pre-wrap>Austria               </span></td><td><span style=white-space:pre-wrap>  8665550</span></td><td><span style=white-space:pre-wrap>  83871</span></td><td><span style=white-space:pre-wrap>  21760</span></td><td>47300</td><td>5.9</td><td>1.48451789</td><td>&gt;60%</td></tr>\n",
              "\t<tr><td>14</td><td><span style=white-space:pre-wrap>Azerbaijan            </span></td><td><span style=white-space:pre-wrap>  9780780</span></td><td><span style=white-space:pre-wrap>  86600</span></td><td> 845900</td><td>18000</td><td>2.4</td><td>0.61133949</td><td>&gt;35%</td></tr>\n",
              "\t<tr><td>15</td><td><span style=white-space:pre-wrap>Bahamas, The          </span></td><td><span style=white-space:pre-wrap>   324597</span></td><td><span style=white-space:pre-wrap>  13880</span></td><td><span style=white-space:pre-wrap>      0</span></td><td>25200</td><td> NA</td><td>0.19452450</td><td>&gt;60%</td></tr>\n",
              "\t<tr><td>16</td><td><span style=white-space:pre-wrap>Bahrain               </span></td><td><span style=white-space:pre-wrap>  1346613</span></td><td><span style=white-space:pre-wrap>    760</span></td><td><span style=white-space:pre-wrap>  49500</span></td><td>50100</td><td>2.6</td><td>5.42368421</td><td>&gt;60%</td></tr>\n",
              "\t<tr><td>17</td><td><span style=white-space:pre-wrap>Bangladesh            </span></td><td>168957745</td><td> 143998</td><td><span style=white-space:pre-wrap>   4000</span></td><td> 3600</td><td>2.2</td><td>0.14770344</td><td>&gt;5% </td></tr>\n",
              "\t<tr><td>18</td><td><span style=white-space:pre-wrap>Barbados              </span></td><td><span style=white-space:pre-wrap>   290604</span></td><td><span style=white-space:pre-wrap>    430</span></td><td><span style=white-space:pre-wrap>   1000</span></td><td>16600</td><td>5.6</td><td>3.72093023</td><td>&gt;60%</td></tr>\n",
              "\t<tr><td>19</td><td><span style=white-space:pre-wrap>Belarus               </span></td><td><span style=white-space:pre-wrap>  9589689</span></td><td> 207600</td><td><span style=white-space:pre-wrap>  30000</span></td><td>17700</td><td>5.1</td><td>0.41614643</td><td>&gt;35%</td></tr>\n",
              "\t<tr><td>20</td><td><span style=white-space:pre-wrap>Belgium               </span></td><td> 11323973</td><td><span style=white-space:pre-wrap>  30528</span></td><td><span style=white-space:pre-wrap>      0</span></td><td>43600</td><td>6.6</td><td>5.04494235</td><td>&gt;60%</td></tr>\n",
              "\t<tr><td>21</td><td><span style=white-space:pre-wrap>Belize                </span></td><td><span style=white-space:pre-wrap>   347369</span></td><td><span style=white-space:pre-wrap>  22966</span></td><td><span style=white-space:pre-wrap>   1818</span></td><td> 8400</td><td>6.6</td><td>0.12496734</td><td>&gt;15%</td></tr>\n",
              "\t<tr><td>22</td><td><span style=white-space:pre-wrap>Benin                 </span></td><td> 10448647</td><td> 112622</td><td><span style=white-space:pre-wrap>      0</span></td><td> 2100</td><td>5.3</td><td>0.14206816</td><td>&gt;0% </td></tr>\n",
              "\t<tr><td>23</td><td><span style=white-space:pre-wrap>Bermuda               </span></td><td><span style=white-space:pre-wrap>    70196</span></td><td><span style=white-space:pre-wrap>     54</span></td><td><span style=white-space:pre-wrap>      0</span></td><td>85700</td><td>2.6</td><td>8.27777778</td><td>&gt;60%</td></tr>\n",
              "\t<tr><td>24</td><td><span style=white-space:pre-wrap>Bhutan                </span></td><td><span style=white-space:pre-wrap>   741919</span></td><td><span style=white-space:pre-wrap>  38394</span></td><td><span style=white-space:pre-wrap>      0</span></td><td> 8200</td><td>4.7</td><td>0.27551180</td><td>&gt;15%</td></tr>\n",
              "\t<tr><td>25</td><td><span style=white-space:pre-wrap>Bolivia               </span></td><td> 10800882</td><td>1098581</td><td><span style=white-space:pre-wrap>  51130</span></td><td> 6500</td><td>6.9</td><td>0.07326542</td><td>&gt;35%</td></tr>\n",
              "\t<tr><td>26</td><td>Bosnia and Herzegovina</td><td><span style=white-space:pre-wrap>  3867055</span></td><td><span style=white-space:pre-wrap>  51197</span></td><td><span style=white-space:pre-wrap>      0</span></td><td>10500</td><td> NA</td><td>0.44779968</td><td>&gt;60%</td></tr>\n",
              "\t<tr><td>27</td><td><span style=white-space:pre-wrap>Botswana              </span></td><td><span style=white-space:pre-wrap>  2182719</span></td><td> 581730</td><td><span style=white-space:pre-wrap>      0</span></td><td>16400</td><td>9.5</td><td>0.03079779</td><td>&gt;5% </td></tr>\n",
              "\t<tr><td>28</td><td><span style=white-space:pre-wrap>Brazil                </span></td><td>204259812</td><td>8514877</td><td>2255000</td><td>15600</td><td>5.8</td><td>0.18567080</td><td>&gt;35%</td></tr>\n",
              "\t<tr><td>29</td><td>British Virgin Islands</td><td><span style=white-space:pre-wrap>    33454</span></td><td><span style=white-space:pre-wrap>    151</span></td><td><span style=white-space:pre-wrap>      0</span></td><td>42300</td><td>4.4</td><td>1.32450331</td><td>&gt;5% </td></tr>\n",
              "\t<tr><td>30</td><td><span style=white-space:pre-wrap>Brunei                </span></td><td><span style=white-space:pre-wrap>   429646</span></td><td><span style=white-space:pre-wrap>   5765</span></td><td> 126500</td><td>79700</td><td>3.5</td><td>0.52541197</td><td>&gt;60%</td></tr>\n",
              "\t<tr><td>⋮</td><td>⋮</td><td>⋮</td><td>⋮</td><td>⋮</td><td>⋮</td><td>⋮</td><td>⋮</td><td>⋮</td></tr>\n",
              "\t<tr><td>207</td><td><span style=white-space:pre-wrap>Tajikistan              </span></td><td><span style=white-space:pre-wrap>  8191958</span></td><td> 143100</td><td><span style=white-space:pre-wrap>    206</span></td><td> 2700</td><td>3.9</td><td>0.19403913</td><td>&gt;15%</td></tr>\n",
              "\t<tr><td>208</td><td><span style=white-space:pre-wrap>Tanzania                </span></td><td> 51045882</td><td> 947300</td><td><span style=white-space:pre-wrap>      0</span></td><td> 2900</td><td>6.2</td><td>0.09128259</td><td>&gt;5% </td></tr>\n",
              "\t<tr><td>209</td><td><span style=white-space:pre-wrap>Thailand                </span></td><td> 67976405</td><td> 513120</td><td> 232900</td><td>16100</td><td>5.8</td><td>0.35089843</td><td>&gt;15%</td></tr>\n",
              "\t<tr><td>210</td><td><span style=white-space:pre-wrap>Timor-Leste             </span></td><td><span style=white-space:pre-wrap>  1231116</span></td><td><span style=white-space:pre-wrap>  14874</span></td><td><span style=white-space:pre-wrap>  76490</span></td><td> 5600</td><td>9.4</td><td>0.40607772</td><td>&gt;0% </td></tr>\n",
              "\t<tr><td>211</td><td><span style=white-space:pre-wrap>Togo                    </span></td><td><span style=white-space:pre-wrap>  7552318</span></td><td><span style=white-space:pre-wrap>  56785</span></td><td><span style=white-space:pre-wrap>      0</span></td><td> 1500</td><td>4.5</td><td>0.20519503</td><td>&gt;0% </td></tr>\n",
              "\t<tr><td>212</td><td><span style=white-space:pre-wrap>Tokelau                 </span></td><td><span style=white-space:pre-wrap>     1337</span></td><td><span style=white-space:pre-wrap>     12</span></td><td><span style=white-space:pre-wrap>     NA</span></td><td> 1000</td><td> NA</td><td><span style=white-space:pre-wrap>        NA</span></td><td>&gt;35%</td></tr>\n",
              "\t<tr><td>213</td><td><span style=white-space:pre-wrap>Tonga                   </span></td><td><span style=white-space:pre-wrap>   106501</span></td><td><span style=white-space:pre-wrap>    747</span></td><td><span style=white-space:pre-wrap>      0</span></td><td> 5100</td><td>3.9</td><td>0.91030790</td><td>&gt;35%</td></tr>\n",
              "\t<tr><td>214</td><td><span style=white-space:pre-wrap>Trinidad and Tobago     </span></td><td><span style=white-space:pre-wrap>  1222363</span></td><td><span style=white-space:pre-wrap>   5128</span></td><td><span style=white-space:pre-wrap>  81260</span></td><td>32600</td><td>3.2</td><td>1.62246490</td><td>&gt;60%</td></tr>\n",
              "\t<tr><td>215</td><td><span style=white-space:pre-wrap>Tunisia                 </span></td><td> 11037225</td><td> 163610</td><td><span style=white-space:pre-wrap>  55050</span></td><td>11400</td><td>6.2</td><td>0.11868468</td><td>&gt;35%</td></tr>\n",
              "\t<tr><td>216</td><td><span style=white-space:pre-wrap>Turkey                  </span></td><td> 79414269</td><td> 783562</td><td><span style=white-space:pre-wrap>  47670</span></td><td>20400</td><td>2.9</td><td>0.49230054</td><td>&gt;35%</td></tr>\n",
              "\t<tr><td>217</td><td><span style=white-space:pre-wrap>Turkmenistan            </span></td><td><span style=white-space:pre-wrap>  5231422</span></td><td> 488100</td><td> 242900</td><td>16400</td><td> NA</td><td>0.12004097</td><td>&gt;5% </td></tr>\n",
              "\t<tr><td>218</td><td>Turks and Caicos Islands</td><td>    50280</td><td>    948</td><td>      0</td><td>29100</td><td> NA</td><td>0.12763713</td><td>NA  </td></tr>\n",
              "\t<tr><td>219</td><td><span style=white-space:pre-wrap>Tuvalu                  </span></td><td><span style=white-space:pre-wrap>    10869</span></td><td><span style=white-space:pre-wrap>     26</span></td><td><span style=white-space:pre-wrap>      0</span></td><td> 3400</td><td> NA</td><td>0.30769231</td><td>&gt;35%</td></tr>\n",
              "\t<tr><td>220</td><td><span style=white-space:pre-wrap>Uganda                  </span></td><td> 37101745</td><td> 241038</td><td><span style=white-space:pre-wrap>      0</span></td><td> 2000</td><td>3.3</td><td>0.08297447</td><td>&gt;15%</td></tr>\n",
              "\t<tr><td>221</td><td><span style=white-space:pre-wrap>Ukraine                 </span></td><td> 44429471</td><td> 603550</td><td><span style=white-space:pre-wrap>  40490</span></td><td> 7500</td><td>6.2</td><td>0.28115980</td><td>&gt;35%</td></tr>\n",
              "\t<tr><td>222</td><td><span style=white-space:pre-wrap>United Arab Emirates    </span></td><td><span style=white-space:pre-wrap>  5779760</span></td><td><span style=white-space:pre-wrap>  83600</span></td><td>2820000</td><td>67600</td><td> NA</td><td>0.04880383</td><td>&gt;60%</td></tr>\n",
              "\t<tr><td>223</td><td><span style=white-space:pre-wrap>United Kingdom          </span></td><td> 64088222</td><td> 243610</td><td> 787200</td><td>41200</td><td>6.2</td><td>1.61909610</td><td>&gt;60%</td></tr>\n",
              "\t<tr><td>224</td><td><span style=white-space:pre-wrap>United States           </span></td><td>321368864</td><td>9826675</td><td>8653000</td><td>55800</td><td>5.4</td><td>0.67027860</td><td>&gt;60%</td></tr>\n",
              "\t<tr><td>225</td><td><span style=white-space:pre-wrap>Uruguay                 </span></td><td><span style=white-space:pre-wrap>  3341893</span></td><td> 176215</td><td><span style=white-space:pre-wrap>      0</span></td><td>21500</td><td>4.5</td><td>0.44112022</td><td>&gt;35%</td></tr>\n",
              "\t<tr><td>226</td><td><span style=white-space:pre-wrap>Uzbekistan              </span></td><td> 29199942</td><td> 447400</td><td><span style=white-space:pre-wrap>  64810</span></td><td> 6100</td><td> NA</td><td>0.19333035</td><td>&gt;35%</td></tr>\n",
              "\t<tr><td>227</td><td><span style=white-space:pre-wrap>Vanuatu                 </span></td><td><span style=white-space:pre-wrap>   272264</span></td><td><span style=white-space:pre-wrap>  12189</span></td><td><span style=white-space:pre-wrap>      0</span></td><td> 2500</td><td>5.0</td><td>0.08778407</td><td>&gt;5% </td></tr>\n",
              "\t<tr><td>228</td><td><span style=white-space:pre-wrap>Venezuela               </span></td><td> 29275460</td><td> 912050</td><td>2500000</td><td>16700</td><td>6.9</td><td>0.10542733</td><td>&gt;35%</td></tr>\n",
              "\t<tr><td>229</td><td><span style=white-space:pre-wrap>Vietnam                 </span></td><td> 94348835</td><td> 331210</td><td> 298400</td><td> 6000</td><td>6.3</td><td>0.62387307</td><td>&gt;35%</td></tr>\n",
              "\t<tr><td>230</td><td><span style=white-space:pre-wrap>Virgin Islands          </span></td><td><span style=white-space:pre-wrap>   103574</span></td><td><span style=white-space:pre-wrap>   1910</span></td><td><span style=white-space:pre-wrap>      0</span></td><td>36100</td><td> NA</td><td>0.65968586</td><td>&gt;15%</td></tr>\n",
              "\t<tr><td>231</td><td><span style=white-space:pre-wrap>Wallis and Futuna       </span></td><td><span style=white-space:pre-wrap>    15613</span></td><td><span style=white-space:pre-wrap>    142</span></td><td><span style=white-space:pre-wrap>     NA</span></td><td> 3800</td><td> NA</td><td><span style=white-space:pre-wrap>        NA</span></td><td>&gt;5% </td></tr>\n",
              "\t<tr><td>232</td><td><span style=white-space:pre-wrap>West Bank               </span></td><td><span style=white-space:pre-wrap>  2785366</span></td><td><span style=white-space:pre-wrap>   5860</span></td><td><span style=white-space:pre-wrap>      0</span></td><td> 4300</td><td> NA</td><td>0.79965870</td><td>&gt;35%</td></tr>\n",
              "\t<tr><td>233</td><td>Western Sahara          </td><td>   570866</td><td> 266000</td><td>      0</td><td> 2500</td><td> NA</td><td>        NA</td><td>NA  </td></tr>\n",
              "\t<tr><td>234</td><td><span style=white-space:pre-wrap>Yemen                   </span></td><td> 26737317</td><td> 527968</td><td> 125100</td><td> 2700</td><td>5.2</td><td>0.13504606</td><td>&gt;15%</td></tr>\n",
              "\t<tr><td>235</td><td><span style=white-space:pre-wrap>Zambia                  </span></td><td> 15066266</td><td> 752618</td><td><span style=white-space:pre-wrap>      0</span></td><td> 3900</td><td>1.3</td><td>0.05375104</td><td>&gt;15%</td></tr>\n",
              "\t<tr><td>236</td><td><span style=white-space:pre-wrap>Zimbabwe                </span></td><td> 14229541</td><td> 390757</td><td><span style=white-space:pre-wrap>      0</span></td><td> 2100</td><td>2.5</td><td>0.24891941</td><td>&gt;15%</td></tr>\n",
              "</tbody>\n",
              "</table>\n"
            ],
            "text/markdown": "\nA data.frame: 236 × 9\n\n| X &lt;int&gt; | country &lt;fct&gt; | pop &lt;int&gt; | area &lt;dbl&gt; | oil_prod &lt;int&gt; | gdp &lt;int&gt; | educ &lt;dbl&gt; | roadways &lt;dbl&gt; | net_users &lt;fct&gt; |\n|---|---|---|---|---|---|---|---|---|\n|  1 | Afghanistan            |  32564342 |  652230 |       0 |  1900 |  NA | 0.06462444 | &gt;5%  |\n|  2 | Albania                |   3029278 |   28748 |   20510 | 11900 | 3.3 | 0.62613051 | &gt;35% |\n|  3 | Algeria                |  39542166 | 2381741 | 1420000 | 14500 | 4.3 | 0.04771929 | &gt;15% |\n|  4 | American Samoa         |     54343 |     199 |       0 | 13000 |  NA | 1.21105528 | NA   |\n|  5 | Andorra                |     85580 |     468 |      NA | 37200 |  NA | 0.68376068 | &gt;60% |\n|  6 | Angola                 |  19625353 | 1246700 | 1742000 |  7300 | 3.5 | 0.04125211 | &gt;15% |\n|  7 | Anguilla               |     16418 |      91 |      NA | 12200 | 2.8 | 1.92307692 | &gt;15% |\n|  8 | Antigua and Barbuda    |     92436 |     443 |       0 | 23600 | 2.4 | 2.64108352 | &gt;60% |\n|  9 | Argentina              |  43431886 | 2780400 |  532100 | 22600 | 6.3 | 0.08321608 | &gt;35% |\n| 10 | Armenia                |   3056382 |   29743 |       0 |  8500 | 3.3 | 0.25905255 | &gt;35% |\n| 11 | Aruba                  |    112162 |     180 |       0 | 25300 | 6.0 |         NA | &gt;60% |\n| 12 | Australia              |  22751014 | 7741220 |  354300 | 65400 | 5.6 | 0.10634202 | &gt;60% |\n| 13 | Austria                |   8665550 |   83871 |   21760 | 47300 | 5.9 | 1.48451789 | &gt;60% |\n| 14 | Azerbaijan             |   9780780 |   86600 |  845900 | 18000 | 2.4 | 0.61133949 | &gt;35% |\n| 15 | Bahamas, The           |    324597 |   13880 |       0 | 25200 |  NA | 0.19452450 | &gt;60% |\n| 16 | Bahrain                |   1346613 |     760 |   49500 | 50100 | 2.6 | 5.42368421 | &gt;60% |\n| 17 | Bangladesh             | 168957745 |  143998 |    4000 |  3600 | 2.2 | 0.14770344 | &gt;5%  |\n| 18 | Barbados               |    290604 |     430 |    1000 | 16600 | 5.6 | 3.72093023 | &gt;60% |\n| 19 | Belarus                |   9589689 |  207600 |   30000 | 17700 | 5.1 | 0.41614643 | &gt;35% |\n| 20 | Belgium                |  11323973 |   30528 |       0 | 43600 | 6.6 | 5.04494235 | &gt;60% |\n| 21 | Belize                 |    347369 |   22966 |    1818 |  8400 | 6.6 | 0.12496734 | &gt;15% |\n| 22 | Benin                  |  10448647 |  112622 |       0 |  2100 | 5.3 | 0.14206816 | &gt;0%  |\n| 23 | Bermuda                |     70196 |      54 |       0 | 85700 | 2.6 | 8.27777778 | &gt;60% |\n| 24 | Bhutan                 |    741919 |   38394 |       0 |  8200 | 4.7 | 0.27551180 | &gt;15% |\n| 25 | Bolivia                |  10800882 | 1098581 |   51130 |  6500 | 6.9 | 0.07326542 | &gt;35% |\n| 26 | Bosnia and Herzegovina |   3867055 |   51197 |       0 | 10500 |  NA | 0.44779968 | &gt;60% |\n| 27 | Botswana               |   2182719 |  581730 |       0 | 16400 | 9.5 | 0.03079779 | &gt;5%  |\n| 28 | Brazil                 | 204259812 | 8514877 | 2255000 | 15600 | 5.8 | 0.18567080 | &gt;35% |\n| 29 | British Virgin Islands |     33454 |     151 |       0 | 42300 | 4.4 | 1.32450331 | &gt;5%  |\n| 30 | Brunei                 |    429646 |    5765 |  126500 | 79700 | 3.5 | 0.52541197 | &gt;60% |\n| ⋮ | ⋮ | ⋮ | ⋮ | ⋮ | ⋮ | ⋮ | ⋮ | ⋮ |\n| 207 | Tajikistan               |   8191958 |  143100 |     206 |  2700 | 3.9 | 0.19403913 | &gt;15% |\n| 208 | Tanzania                 |  51045882 |  947300 |       0 |  2900 | 6.2 | 0.09128259 | &gt;5%  |\n| 209 | Thailand                 |  67976405 |  513120 |  232900 | 16100 | 5.8 | 0.35089843 | &gt;15% |\n| 210 | Timor-Leste              |   1231116 |   14874 |   76490 |  5600 | 9.4 | 0.40607772 | &gt;0%  |\n| 211 | Togo                     |   7552318 |   56785 |       0 |  1500 | 4.5 | 0.20519503 | &gt;0%  |\n| 212 | Tokelau                  |      1337 |      12 |      NA |  1000 |  NA |         NA | &gt;35% |\n| 213 | Tonga                    |    106501 |     747 |       0 |  5100 | 3.9 | 0.91030790 | &gt;35% |\n| 214 | Trinidad and Tobago      |   1222363 |    5128 |   81260 | 32600 | 3.2 | 1.62246490 | &gt;60% |\n| 215 | Tunisia                  |  11037225 |  163610 |   55050 | 11400 | 6.2 | 0.11868468 | &gt;35% |\n| 216 | Turkey                   |  79414269 |  783562 |   47670 | 20400 | 2.9 | 0.49230054 | &gt;35% |\n| 217 | Turkmenistan             |   5231422 |  488100 |  242900 | 16400 |  NA | 0.12004097 | &gt;5%  |\n| 218 | Turks and Caicos Islands |     50280 |     948 |       0 | 29100 |  NA | 0.12763713 | NA   |\n| 219 | Tuvalu                   |     10869 |      26 |       0 |  3400 |  NA | 0.30769231 | &gt;35% |\n| 220 | Uganda                   |  37101745 |  241038 |       0 |  2000 | 3.3 | 0.08297447 | &gt;15% |\n| 221 | Ukraine                  |  44429471 |  603550 |   40490 |  7500 | 6.2 | 0.28115980 | &gt;35% |\n| 222 | United Arab Emirates     |   5779760 |   83600 | 2820000 | 67600 |  NA | 0.04880383 | &gt;60% |\n| 223 | United Kingdom           |  64088222 |  243610 |  787200 | 41200 | 6.2 | 1.61909610 | &gt;60% |\n| 224 | United States            | 321368864 | 9826675 | 8653000 | 55800 | 5.4 | 0.67027860 | &gt;60% |\n| 225 | Uruguay                  |   3341893 |  176215 |       0 | 21500 | 4.5 | 0.44112022 | &gt;35% |\n| 226 | Uzbekistan               |  29199942 |  447400 |   64810 |  6100 |  NA | 0.19333035 | &gt;35% |\n| 227 | Vanuatu                  |    272264 |   12189 |       0 |  2500 | 5.0 | 0.08778407 | &gt;5%  |\n| 228 | Venezuela                |  29275460 |  912050 | 2500000 | 16700 | 6.9 | 0.10542733 | &gt;35% |\n| 229 | Vietnam                  |  94348835 |  331210 |  298400 |  6000 | 6.3 | 0.62387307 | &gt;35% |\n| 230 | Virgin Islands           |    103574 |    1910 |       0 | 36100 |  NA | 0.65968586 | &gt;15% |\n| 231 | Wallis and Futuna        |     15613 |     142 |      NA |  3800 |  NA |         NA | &gt;5%  |\n| 232 | West Bank                |   2785366 |    5860 |       0 |  4300 |  NA | 0.79965870 | &gt;35% |\n| 233 | Western Sahara           |    570866 |  266000 |       0 |  2500 |  NA |         NA | NA   |\n| 234 | Yemen                    |  26737317 |  527968 |  125100 |  2700 | 5.2 | 0.13504606 | &gt;15% |\n| 235 | Zambia                   |  15066266 |  752618 |       0 |  3900 | 1.3 | 0.05375104 | &gt;15% |\n| 236 | Zimbabwe                 |  14229541 |  390757 |       0 |  2100 | 2.5 | 0.24891941 | &gt;15% |\n\n",
            "text/latex": "A data.frame: 236 × 9\n\\begin{tabular}{lllllllll}\n X & country & pop & area & oil\\_prod & gdp & educ & roadways & net\\_users\\\\\n <int> & <fct> & <int> & <dbl> & <int> & <int> & <dbl> & <dbl> & <fct>\\\\\n\\hline\n\t  1 & Afghanistan            &  32564342 &  652230 &       0 &  1900 &  NA & 0.06462444 & >5\\% \\\\\n\t  2 & Albania                &   3029278 &   28748 &   20510 & 11900 & 3.3 & 0.62613051 & >35\\%\\\\\n\t  3 & Algeria                &  39542166 & 2381741 & 1420000 & 14500 & 4.3 & 0.04771929 & >15\\%\\\\\n\t  4 & American Samoa         &     54343 &     199 &       0 & 13000 &  NA & 1.21105528 & NA  \\\\\n\t  5 & Andorra                &     85580 &     468 &      NA & 37200 &  NA & 0.68376068 & >60\\%\\\\\n\t  6 & Angola                 &  19625353 & 1246700 & 1742000 &  7300 & 3.5 & 0.04125211 & >15\\%\\\\\n\t  7 & Anguilla               &     16418 &      91 &      NA & 12200 & 2.8 & 1.92307692 & >15\\%\\\\\n\t  8 & Antigua and Barbuda    &     92436 &     443 &       0 & 23600 & 2.4 & 2.64108352 & >60\\%\\\\\n\t  9 & Argentina              &  43431886 & 2780400 &  532100 & 22600 & 6.3 & 0.08321608 & >35\\%\\\\\n\t 10 & Armenia                &   3056382 &   29743 &       0 &  8500 & 3.3 & 0.25905255 & >35\\%\\\\\n\t 11 & Aruba                  &    112162 &     180 &       0 & 25300 & 6.0 &         NA & >60\\%\\\\\n\t 12 & Australia              &  22751014 & 7741220 &  354300 & 65400 & 5.6 & 0.10634202 & >60\\%\\\\\n\t 13 & Austria                &   8665550 &   83871 &   21760 & 47300 & 5.9 & 1.48451789 & >60\\%\\\\\n\t 14 & Azerbaijan             &   9780780 &   86600 &  845900 & 18000 & 2.4 & 0.61133949 & >35\\%\\\\\n\t 15 & Bahamas, The           &    324597 &   13880 &       0 & 25200 &  NA & 0.19452450 & >60\\%\\\\\n\t 16 & Bahrain                &   1346613 &     760 &   49500 & 50100 & 2.6 & 5.42368421 & >60\\%\\\\\n\t 17 & Bangladesh             & 168957745 &  143998 &    4000 &  3600 & 2.2 & 0.14770344 & >5\\% \\\\\n\t 18 & Barbados               &    290604 &     430 &    1000 & 16600 & 5.6 & 3.72093023 & >60\\%\\\\\n\t 19 & Belarus                &   9589689 &  207600 &   30000 & 17700 & 5.1 & 0.41614643 & >35\\%\\\\\n\t 20 & Belgium                &  11323973 &   30528 &       0 & 43600 & 6.6 & 5.04494235 & >60\\%\\\\\n\t 21 & Belize                 &    347369 &   22966 &    1818 &  8400 & 6.6 & 0.12496734 & >15\\%\\\\\n\t 22 & Benin                  &  10448647 &  112622 &       0 &  2100 & 5.3 & 0.14206816 & >0\\% \\\\\n\t 23 & Bermuda                &     70196 &      54 &       0 & 85700 & 2.6 & 8.27777778 & >60\\%\\\\\n\t 24 & Bhutan                 &    741919 &   38394 &       0 &  8200 & 4.7 & 0.27551180 & >15\\%\\\\\n\t 25 & Bolivia                &  10800882 & 1098581 &   51130 &  6500 & 6.9 & 0.07326542 & >35\\%\\\\\n\t 26 & Bosnia and Herzegovina &   3867055 &   51197 &       0 & 10500 &  NA & 0.44779968 & >60\\%\\\\\n\t 27 & Botswana               &   2182719 &  581730 &       0 & 16400 & 9.5 & 0.03079779 & >5\\% \\\\\n\t 28 & Brazil                 & 204259812 & 8514877 & 2255000 & 15600 & 5.8 & 0.18567080 & >35\\%\\\\\n\t 29 & British Virgin Islands &     33454 &     151 &       0 & 42300 & 4.4 & 1.32450331 & >5\\% \\\\\n\t 30 & Brunei                 &    429646 &    5765 &  126500 & 79700 & 3.5 & 0.52541197 & >60\\%\\\\\n\t ⋮ & ⋮ & ⋮ & ⋮ & ⋮ & ⋮ & ⋮ & ⋮ & ⋮\\\\\n\t 207 & Tajikistan               &   8191958 &  143100 &     206 &  2700 & 3.9 & 0.19403913 & >15\\%\\\\\n\t 208 & Tanzania                 &  51045882 &  947300 &       0 &  2900 & 6.2 & 0.09128259 & >5\\% \\\\\n\t 209 & Thailand                 &  67976405 &  513120 &  232900 & 16100 & 5.8 & 0.35089843 & >15\\%\\\\\n\t 210 & Timor-Leste              &   1231116 &   14874 &   76490 &  5600 & 9.4 & 0.40607772 & >0\\% \\\\\n\t 211 & Togo                     &   7552318 &   56785 &       0 &  1500 & 4.5 & 0.20519503 & >0\\% \\\\\n\t 212 & Tokelau                  &      1337 &      12 &      NA &  1000 &  NA &         NA & >35\\%\\\\\n\t 213 & Tonga                    &    106501 &     747 &       0 &  5100 & 3.9 & 0.91030790 & >35\\%\\\\\n\t 214 & Trinidad and Tobago      &   1222363 &    5128 &   81260 & 32600 & 3.2 & 1.62246490 & >60\\%\\\\\n\t 215 & Tunisia                  &  11037225 &  163610 &   55050 & 11400 & 6.2 & 0.11868468 & >35\\%\\\\\n\t 216 & Turkey                   &  79414269 &  783562 &   47670 & 20400 & 2.9 & 0.49230054 & >35\\%\\\\\n\t 217 & Turkmenistan             &   5231422 &  488100 &  242900 & 16400 &  NA & 0.12004097 & >5\\% \\\\\n\t 218 & Turks and Caicos Islands &     50280 &     948 &       0 & 29100 &  NA & 0.12763713 & NA  \\\\\n\t 219 & Tuvalu                   &     10869 &      26 &       0 &  3400 &  NA & 0.30769231 & >35\\%\\\\\n\t 220 & Uganda                   &  37101745 &  241038 &       0 &  2000 & 3.3 & 0.08297447 & >15\\%\\\\\n\t 221 & Ukraine                  &  44429471 &  603550 &   40490 &  7500 & 6.2 & 0.28115980 & >35\\%\\\\\n\t 222 & United Arab Emirates     &   5779760 &   83600 & 2820000 & 67600 &  NA & 0.04880383 & >60\\%\\\\\n\t 223 & United Kingdom           &  64088222 &  243610 &  787200 & 41200 & 6.2 & 1.61909610 & >60\\%\\\\\n\t 224 & United States            & 321368864 & 9826675 & 8653000 & 55800 & 5.4 & 0.67027860 & >60\\%\\\\\n\t 225 & Uruguay                  &   3341893 &  176215 &       0 & 21500 & 4.5 & 0.44112022 & >35\\%\\\\\n\t 226 & Uzbekistan               &  29199942 &  447400 &   64810 &  6100 &  NA & 0.19333035 & >35\\%\\\\\n\t 227 & Vanuatu                  &    272264 &   12189 &       0 &  2500 & 5.0 & 0.08778407 & >5\\% \\\\\n\t 228 & Venezuela                &  29275460 &  912050 & 2500000 & 16700 & 6.9 & 0.10542733 & >35\\%\\\\\n\t 229 & Vietnam                  &  94348835 &  331210 &  298400 &  6000 & 6.3 & 0.62387307 & >35\\%\\\\\n\t 230 & Virgin Islands           &    103574 &    1910 &       0 & 36100 &  NA & 0.65968586 & >15\\%\\\\\n\t 231 & Wallis and Futuna        &     15613 &     142 &      NA &  3800 &  NA &         NA & >5\\% \\\\\n\t 232 & West Bank                &   2785366 &    5860 &       0 &  4300 &  NA & 0.79965870 & >35\\%\\\\\n\t 233 & Western Sahara           &    570866 &  266000 &       0 &  2500 &  NA &         NA & NA  \\\\\n\t 234 & Yemen                    &  26737317 &  527968 &  125100 &  2700 & 5.2 & 0.13504606 & >15\\%\\\\\n\t 235 & Zambia                   &  15066266 &  752618 &       0 &  3900 & 1.3 & 0.05375104 & >15\\%\\\\\n\t 236 & Zimbabwe                 &  14229541 &  390757 &       0 &  2100 & 2.5 & 0.24891941 & >15\\%\\\\\n\\end{tabular}\n",
            "text/plain": [
              "    X   country                  pop       area    oil_prod gdp   educ\n",
              "1    1  Afghanistan               32564342  652230       0   1900  NA \n",
              "2    2  Albania                    3029278   28748   20510  11900 3.3 \n",
              "3    3  Algeria                   39542166 2381741 1420000  14500 4.3 \n",
              "4    4  American Samoa               54343     199       0  13000  NA \n",
              "5    5  Andorra                      85580     468      NA  37200  NA \n",
              "6    6  Angola                    19625353 1246700 1742000   7300 3.5 \n",
              "7    7  Anguilla                     16418      91      NA  12200 2.8 \n",
              "8    8  Antigua and Barbuda          92436     443       0  23600 2.4 \n",
              "9    9  Argentina                 43431886 2780400  532100  22600 6.3 \n",
              "10  10  Armenia                    3056382   29743       0   8500 3.3 \n",
              "11  11  Aruba                       112162     180       0  25300 6.0 \n",
              "12  12  Australia                 22751014 7741220  354300  65400 5.6 \n",
              "13  13  Austria                    8665550   83871   21760  47300 5.9 \n",
              "14  14  Azerbaijan                 9780780   86600  845900  18000 2.4 \n",
              "15  15  Bahamas, The                324597   13880       0  25200  NA \n",
              "16  16  Bahrain                    1346613     760   49500  50100 2.6 \n",
              "17  17  Bangladesh               168957745  143998    4000   3600 2.2 \n",
              "18  18  Barbados                    290604     430    1000  16600 5.6 \n",
              "19  19  Belarus                    9589689  207600   30000  17700 5.1 \n",
              "20  20  Belgium                   11323973   30528       0  43600 6.6 \n",
              "21  21  Belize                      347369   22966    1818   8400 6.6 \n",
              "22  22  Benin                     10448647  112622       0   2100 5.3 \n",
              "23  23  Bermuda                      70196      54       0  85700 2.6 \n",
              "24  24  Bhutan                      741919   38394       0   8200 4.7 \n",
              "25  25  Bolivia                   10800882 1098581   51130   6500 6.9 \n",
              "26  26  Bosnia and Herzegovina     3867055   51197       0  10500  NA \n",
              "27  27  Botswana                   2182719  581730       0  16400 9.5 \n",
              "28  28  Brazil                   204259812 8514877 2255000  15600 5.8 \n",
              "29  29  British Virgin Islands       33454     151       0  42300 4.4 \n",
              "30  30  Brunei                      429646    5765  126500  79700 3.5 \n",
              "⋮   ⋮   ⋮                        ⋮         ⋮       ⋮        ⋮     ⋮   \n",
              "207 207 Tajikistan                 8191958  143100     206   2700 3.9 \n",
              "208 208 Tanzania                  51045882  947300       0   2900 6.2 \n",
              "209 209 Thailand                  67976405  513120  232900  16100 5.8 \n",
              "210 210 Timor-Leste                1231116   14874   76490   5600 9.4 \n",
              "211 211 Togo                       7552318   56785       0   1500 4.5 \n",
              "212 212 Tokelau                       1337      12      NA   1000  NA \n",
              "213 213 Tonga                       106501     747       0   5100 3.9 \n",
              "214 214 Trinidad and Tobago        1222363    5128   81260  32600 3.2 \n",
              "215 215 Tunisia                   11037225  163610   55050  11400 6.2 \n",
              "216 216 Turkey                    79414269  783562   47670  20400 2.9 \n",
              "217 217 Turkmenistan               5231422  488100  242900  16400  NA \n",
              "218 218 Turks and Caicos Islands     50280     948       0  29100  NA \n",
              "219 219 Tuvalu                       10869      26       0   3400  NA \n",
              "220 220 Uganda                    37101745  241038       0   2000 3.3 \n",
              "221 221 Ukraine                   44429471  603550   40490   7500 6.2 \n",
              "222 222 United Arab Emirates       5779760   83600 2820000  67600  NA \n",
              "223 223 United Kingdom            64088222  243610  787200  41200 6.2 \n",
              "224 224 United States            321368864 9826675 8653000  55800 5.4 \n",
              "225 225 Uruguay                    3341893  176215       0  21500 4.5 \n",
              "226 226 Uzbekistan                29199942  447400   64810   6100  NA \n",
              "227 227 Vanuatu                     272264   12189       0   2500 5.0 \n",
              "228 228 Venezuela                 29275460  912050 2500000  16700 6.9 \n",
              "229 229 Vietnam                   94348835  331210  298400   6000 6.3 \n",
              "230 230 Virgin Islands              103574    1910       0  36100  NA \n",
              "231 231 Wallis and Futuna            15613     142      NA   3800  NA \n",
              "232 232 West Bank                  2785366    5860       0   4300  NA \n",
              "233 233 Western Sahara              570866  266000       0   2500  NA \n",
              "234 234 Yemen                     26737317  527968  125100   2700 5.2 \n",
              "235 235 Zambia                    15066266  752618       0   3900 1.3 \n",
              "236 236 Zimbabwe                  14229541  390757       0   2100 2.5 \n",
              "    roadways   net_users\n",
              "1   0.06462444 >5%      \n",
              "2   0.62613051 >35%     \n",
              "3   0.04771929 >15%     \n",
              "4   1.21105528 NA       \n",
              "5   0.68376068 >60%     \n",
              "6   0.04125211 >15%     \n",
              "7   1.92307692 >15%     \n",
              "8   2.64108352 >60%     \n",
              "9   0.08321608 >35%     \n",
              "10  0.25905255 >35%     \n",
              "11          NA >60%     \n",
              "12  0.10634202 >60%     \n",
              "13  1.48451789 >60%     \n",
              "14  0.61133949 >35%     \n",
              "15  0.19452450 >60%     \n",
              "16  5.42368421 >60%     \n",
              "17  0.14770344 >5%      \n",
              "18  3.72093023 >60%     \n",
              "19  0.41614643 >35%     \n",
              "20  5.04494235 >60%     \n",
              "21  0.12496734 >15%     \n",
              "22  0.14206816 >0%      \n",
              "23  8.27777778 >60%     \n",
              "24  0.27551180 >15%     \n",
              "25  0.07326542 >35%     \n",
              "26  0.44779968 >60%     \n",
              "27  0.03079779 >5%      \n",
              "28  0.18567080 >35%     \n",
              "29  1.32450331 >5%      \n",
              "30  0.52541197 >60%     \n",
              "⋮   ⋮          ⋮        \n",
              "207 0.19403913 >15%     \n",
              "208 0.09128259 >5%      \n",
              "209 0.35089843 >15%     \n",
              "210 0.40607772 >0%      \n",
              "211 0.20519503 >0%      \n",
              "212         NA >35%     \n",
              "213 0.91030790 >35%     \n",
              "214 1.62246490 >60%     \n",
              "215 0.11868468 >35%     \n",
              "216 0.49230054 >35%     \n",
              "217 0.12004097 >5%      \n",
              "218 0.12763713 NA       \n",
              "219 0.30769231 >35%     \n",
              "220 0.08297447 >15%     \n",
              "221 0.28115980 >35%     \n",
              "222 0.04880383 >60%     \n",
              "223 1.61909610 >60%     \n",
              "224 0.67027860 >60%     \n",
              "225 0.44112022 >35%     \n",
              "226 0.19333035 >35%     \n",
              "227 0.08778407 >5%      \n",
              "228 0.10542733 >35%     \n",
              "229 0.62387307 >35%     \n",
              "230 0.65968586 >15%     \n",
              "231         NA >5%      \n",
              "232 0.79965870 >35%     \n",
              "233         NA NA       \n",
              "234 0.13504606 >15%     \n",
              "235 0.05375104 >15%     \n",
              "236 0.24891941 >15%     "
            ]
          },
          "metadata": {}
        }
      ],
      "source": [
        "ciacountries <- read.csv(\"https://docs.google.com/spreadsheets/d/1-VY5o4FDbU1JSUMnpBnkCWxB8ASii-kL9WyJqq8JJ-o/export?format=csv\", header = TRUE, stringsAsFactors = TRUE)\n",
        "ciacountries\n"
      ]
    },
    {
      "cell_type": "markdown",
      "metadata": {
        "id": "2ZnAXGgka-11"
      },
      "source": [
        "Clean missing data in the response variable (net_users), otherwise it won't work\n",
        "\n"
      ]
    },
    {
      "cell_type": "code",
      "execution_count": null,
      "metadata": {
        "id": "sqOhm-MNa-12"
      },
      "outputs": [],
      "source": [
        "cleanedCIA <-\n",
        "ciacountries %>%\n",
        "  filter(!is.na(net_users))\n",
        "\n"
      ]
    },
    {
      "cell_type": "markdown",
      "metadata": {
        "id": "L5tHukKya-14"
      },
      "source": [
        "\n",
        "Run a conditional inference tree to predict net_users with the cleaned data (use all predictor variables) and plot the results.\n"
      ]
    },
    {
      "cell_type": "code",
      "execution_count": null,
      "metadata": {
        "id": "-NVGMuzEa-15",
        "colab": {
          "base_uri": "https://localhost:8080/",
          "height": 715
        },
        "outputId": "a6b85324-f5ec-415b-ad9c-e6db53396b4c"
      },
      "outputs": [
        {
          "output_type": "display_data",
          "data": {
            "text/plain": [
              "\n",
              "Model formula:\n",
              "net_users ~ X + country + pop + area + oil_prod + gdp + educ + \n",
              "    roadways\n",
              "\n",
              "Fitted party:\n",
              "[1] root\n",
              "|   [2] gdp <= 21500\n",
              "|   |   [3] gdp <= 5600\n",
              "|   |   |   [4] X <= 211: >0% (n = 54, err = 59.3%)\n",
              "|   |   |   [5] X > 211: >15% (n = 10, err = 60.0%)\n",
              "|   |   [6] gdp > 5600: >35% (n = 73, err = 46.6%)\n",
              "|   [7] gdp > 21500: >60% (n = 79, err = 25.3%)\n",
              "\n",
              "Number of inner nodes:    3\n",
              "Number of terminal nodes: 4"
            ]
          },
          "metadata": {}
        },
        {
          "output_type": "display_data",
          "data": {
            "text/plain": [
              "plot without title"
            ],
            "image/png": "[encoded data removed]"
          },
          "metadata": {
            "image/png": {
              "width": 420,
              "height": 420
            }
          }
        }
      ],
      "source": [
        "\n",
        "net_users_tree <- ctree(net_users ~ ., data = cleanedCIA)\n",
        "net_users_tree\n",
        "plot(net_users_tree)"
      ]
    },
    {
      "cell_type": "markdown",
      "metadata": {
        "id": "ecAaOH-ha-16"
      },
      "source": [
        "Divide the dataset into training and test data sets (70% in training data set)\n",
        "\n"
      ]
    },
    {
      "cell_type": "code",
      "execution_count": null,
      "metadata": {
        "id": "ri-PdWYCa-17"
      },
      "outputs": [],
      "source": [
        "\n",
        "cleanedCIA <-\n",
        "  ciacountries %>%\n",
        "    \n",
        "    filter(!is.na(net_users))\n"
      ]
    },
    {
      "cell_type": "code",
      "source": [
        "cleanedCIA <- cleanedCIA %>%\n",
        "  select(-X) \n"
      ],
      "metadata": {
        "id": "upJgA0Ju7UWD"
      },
      "execution_count": null,
      "outputs": []
    },
    {
      "cell_type": "code",
      "source": [
        "training_index <- sample(nrow(cleanedCIA), nrow(cleanedCIA)*.7)\n",
        "sample_training_data <- cleanedCIA[training_index,]\n",
        "sample_training_data\n"
      ],
      "metadata": {
        "colab": {
          "base_uri": "https://localhost:8080/",
          "height": 1000
        },
        "id": "zwZiolXX8fPH",
        "outputId": "9d7814d1-0b87-471d-d7d6-bc78d9c1eb06"
      },
      "execution_count": null,
      "outputs": [
        {
          "output_type": "display_data",
          "data": {
            "text/html": [
              "<table class=\"dataframe\">\n",
              "<caption>A data.frame: 151 × 8</caption>\n",
              "<thead>\n",
              "\t<tr><th></th><th scope=col>country</th><th scope=col>pop</th><th scope=col>area</th><th scope=col>oil_prod</th><th scope=col>gdp</th><th scope=col>educ</th><th scope=col>roadways</th><th scope=col>net_users</th></tr>\n",
              "\t<tr><th></th><th scope=col>&lt;fct&gt;</th><th scope=col>&lt;int&gt;</th><th scope=col>&lt;dbl&gt;</th><th scope=col>&lt;int&gt;</th><th scope=col>&lt;int&gt;</th><th scope=col>&lt;dbl&gt;</th><th scope=col>&lt;dbl&gt;</th><th scope=col>&lt;fct&gt;</th></tr>\n",
              "</thead>\n",
              "<tbody>\n",
              "\t<tr><th scope=row>173</th><td><span style=white-space:pre-wrap>Sierra Leone                     </span></td><td><span style=white-space:pre-wrap>  5879098</span></td><td><span style=white-space:pre-wrap>  71740</span></td><td><span style=white-space:pre-wrap>      0</span></td><td> 1600</td><td>2.9</td><td>0.15751324</td><td>&gt;0% </td></tr>\n",
              "\t<tr><th scope=row>45</th><td><span style=white-space:pre-wrap>Comoros                          </span></td><td><span style=white-space:pre-wrap>   780971</span></td><td><span style=white-space:pre-wrap>   2235</span></td><td><span style=white-space:pre-wrap>      0</span></td><td> 1500</td><td>7.6</td><td>0.39373602</td><td>&gt;5% </td></tr>\n",
              "\t<tr><th scope=row>148</th><td><span style=white-space:pre-wrap>Oman                             </span></td><td><span style=white-space:pre-wrap>  3286936</span></td><td> 309500</td><td> 943500</td><td>44600</td><td>4.3</td><td>0.19463651</td><td>&gt;60%</td></tr>\n",
              "\t<tr><th scope=row>180</th><td><span style=white-space:pre-wrap>Spain                            </span></td><td> 48146134</td><td> 505370</td><td><span style=white-space:pre-wrap>   6419</span></td><td>34800</td><td>5.0</td><td>1.35183133</td><td>&gt;60%</td></tr>\n",
              "\t<tr><th scope=row>47</th><td><span style=white-space:pre-wrap>Congo, Republic of the           </span></td><td><span style=white-space:pre-wrap>  4755097</span></td><td> 342000</td><td> 250000</td><td> 6700</td><td>6.2</td><td>0.05055263</td><td>&gt;0% </td></tr>\n",
              "\t<tr><th scope=row>216</th><td><span style=white-space:pre-wrap>Zimbabwe                         </span></td><td> 14229541</td><td> 390757</td><td><span style=white-space:pre-wrap>      0</span></td><td> 2100</td><td>2.5</td><td>0.24891941</td><td>&gt;15%</td></tr>\n",
              "\t<tr><th scope=row>210</th><td><span style=white-space:pre-wrap>Vietnam                          </span></td><td> 94348835</td><td> 331210</td><td> 298400</td><td> 6000</td><td>6.3</td><td>0.62387307</td><td>&gt;35%</td></tr>\n",
              "\t<tr><th scope=row>155</th><td><span style=white-space:pre-wrap>Poland                           </span></td><td> 38562189</td><td> 312685</td><td><span style=white-space:pre-wrap>  19260</span></td><td>26500</td><td>5.2</td><td>1.31773190</td><td>&gt;60%</td></tr>\n",
              "\t<tr><th scope=row>171</th><td><span style=white-space:pre-wrap>Serbia                           </span></td><td><span style=white-space:pre-wrap>  7176794</span></td><td><span style=white-space:pre-wrap>  77474</span></td><td><span style=white-space:pre-wrap>  16840</span></td><td>13700</td><td>4.8</td><td>0.57113354</td><td>&gt;35%</td></tr>\n",
              "\t<tr><th scope=row>6</th><td><span style=white-space:pre-wrap>Anguilla                         </span></td><td><span style=white-space:pre-wrap>    16418</span></td><td><span style=white-space:pre-wrap>     91</span></td><td><span style=white-space:pre-wrap>     NA</span></td><td>12200</td><td>2.8</td><td>1.92307692</td><td>&gt;15%</td></tr>\n",
              "\t<tr><th scope=row>35</th><td><span style=white-space:pre-wrap>Cambodia                         </span></td><td> 15708756</td><td> 181035</td><td><span style=white-space:pre-wrap>      0</span></td><td> 3500</td><td>2.6</td><td>0.21884166</td><td>&gt;5% </td></tr>\n",
              "\t<tr><th scope=row>157</th><td><span style=white-space:pre-wrap>Puerto Rico                      </span></td><td><span style=white-space:pre-wrap>  3598357</span></td><td><span style=white-space:pre-wrap>  13790</span></td><td><span style=white-space:pre-wrap>      0</span></td><td>38000</td><td> NA</td><td>1.94793328</td><td>&gt;35%</td></tr>\n",
              "\t<tr><th scope=row>87</th><td><span style=white-space:pre-wrap>Haiti                            </span></td><td> 10110019</td><td><span style=white-space:pre-wrap>  27750</span></td><td><span style=white-space:pre-wrap>      0</span></td><td> 1800</td><td> NA</td><td>0.15372973</td><td>&gt;5% </td></tr>\n",
              "\t<tr><th scope=row>190</th><td><span style=white-space:pre-wrap>Tanzania                         </span></td><td> 51045882</td><td> 947300</td><td><span style=white-space:pre-wrap>      0</span></td><td> 2900</td><td>6.2</td><td>0.09128259</td><td>&gt;5% </td></tr>\n",
              "\t<tr><th scope=row>187</th><td><span style=white-space:pre-wrap>Syria                            </span></td><td> 17064854</td><td> 185180</td><td><span style=white-space:pre-wrap>  22660</span></td><td> 5100</td><td>5.1</td><td>0.37732477</td><td>&gt;15%</td></tr>\n",
              "\t<tr><th scope=row>16</th><td><span style=white-space:pre-wrap>Bangladesh                       </span></td><td>168957745</td><td> 143998</td><td><span style=white-space:pre-wrap>   4000</span></td><td> 3600</td><td>2.2</td><td>0.14770344</td><td>&gt;5% </td></tr>\n",
              "\t<tr><th scope=row>168</th><td><span style=white-space:pre-wrap>Sao Tome and Principe            </span></td><td><span style=white-space:pre-wrap>   194006</span></td><td><span style=white-space:pre-wrap>    964</span></td><td><span style=white-space:pre-wrap>      0</span></td><td> 3200</td><td>9.5</td><td>0.33195021</td><td>&gt;15%</td></tr>\n",
              "\t<tr><th scope=row>29</th><td><span style=white-space:pre-wrap>Brunei                           </span></td><td><span style=white-space:pre-wrap>   429646</span></td><td><span style=white-space:pre-wrap>   5765</span></td><td> 126500</td><td>79700</td><td>3.5</td><td>0.52541197</td><td>&gt;60%</td></tr>\n",
              "\t<tr><th scope=row>65</th><td><span style=white-space:pre-wrap>Ethiopia                         </span></td><td> 99465819</td><td>1104300</td><td><span style=white-space:pre-wrap>      0</span></td><td> 1800</td><td>4.7</td><td>0.04016934</td><td>&gt;0% </td></tr>\n",
              "\t<tr><th scope=row>194</th><td><span style=white-space:pre-wrap>Tokelau                          </span></td><td><span style=white-space:pre-wrap>     1337</span></td><td><span style=white-space:pre-wrap>     12</span></td><td><span style=white-space:pre-wrap>     NA</span></td><td> 1000</td><td> NA</td><td><span style=white-space:pre-wrap>        NA</span></td><td>&gt;35%</td></tr>\n",
              "\t<tr><th scope=row>169</th><td><span style=white-space:pre-wrap>Saudi Arabia                     </span></td><td> 27752316</td><td>2149690</td><td>9735000</td><td>53600</td><td>5.1</td><td>0.10297857</td><td>&gt;35%</td></tr>\n",
              "\t<tr><th scope=row>107</th><td><span style=white-space:pre-wrap>Kuwait                           </span></td><td><span style=white-space:pre-wrap>  2788534</span></td><td><span style=white-space:pre-wrap>  17818</span></td><td>2619000</td><td>70200</td><td>3.8</td><td>0.37086093</td><td>&gt;60%</td></tr>\n",
              "\t<tr><th scope=row>66</th><td>Falkland Islands (Islas Malvinas)</td><td><span style=white-space:pre-wrap>     3361</span></td><td><span style=white-space:pre-wrap>  12173</span></td><td><span style=white-space:pre-wrap>      0</span></td><td>55400</td><td> NA</td><td>0.03614557</td><td>&gt;60%</td></tr>\n",
              "\t<tr><th scope=row>76</th><td><span style=white-space:pre-wrap>Ghana                            </span></td><td> 26327649</td><td> 238533</td><td> 105000</td><td> 4300</td><td>8.1</td><td>0.45911886</td><td>&gt;15%</td></tr>\n",
              "\t<tr><th scope=row>198</th><td><span style=white-space:pre-wrap>Turkey                           </span></td><td> 79414269</td><td> 783562</td><td><span style=white-space:pre-wrap>  47670</span></td><td>20400</td><td>2.9</td><td>0.49230054</td><td>&gt;35%</td></tr>\n",
              "\t<tr><th scope=row>13</th><td><span style=white-space:pre-wrap>Azerbaijan                       </span></td><td><span style=white-space:pre-wrap>  9780780</span></td><td><span style=white-space:pre-wrap>  86600</span></td><td> 845900</td><td>18000</td><td>2.4</td><td>0.61133949</td><td>&gt;35%</td></tr>\n",
              "\t<tr><th scope=row>204</th><td><span style=white-space:pre-wrap>United Kingdom                   </span></td><td> 64088222</td><td> 243610</td><td> 787200</td><td>41200</td><td>6.2</td><td>1.61909610</td><td>&gt;60%</td></tr>\n",
              "\t<tr><th scope=row>192</th><td><span style=white-space:pre-wrap>Timor-Leste                      </span></td><td><span style=white-space:pre-wrap>  1231116</span></td><td><span style=white-space:pre-wrap>  14874</span></td><td><span style=white-space:pre-wrap>  76490</span></td><td> 5600</td><td>9.4</td><td>0.40607772</td><td>&gt;0% </td></tr>\n",
              "\t<tr><th scope=row>72</th><td><span style=white-space:pre-wrap>Gabon                            </span></td><td><span style=white-space:pre-wrap>  1705336</span></td><td> 267667</td><td> 240000</td><td>18600</td><td> NA</td><td>0.03425899</td><td>&gt;5% </td></tr>\n",
              "\t<tr><th scope=row>114</th><td><span style=white-space:pre-wrap>Libya                            </span></td><td><span style=white-space:pre-wrap>  6411776</span></td><td>1759540</td><td> 470000</td><td>14600</td><td> NA</td><td>0.05684668</td><td>&gt;15%</td></tr>\n",
              "\t<tr><th scope=row>⋮</th><td>⋮</td><td>⋮</td><td>⋮</td><td>⋮</td><td>⋮</td><td>⋮</td><td>⋮</td><td>⋮</td></tr>\n",
              "\t<tr><th scope=row>14</th><td><span style=white-space:pre-wrap>Bahamas, The          </span></td><td><span style=white-space:pre-wrap>   324597</span></td><td><span style=white-space:pre-wrap>  13880</span></td><td><span style=white-space:pre-wrap>      0</span></td><td> 25200</td><td> NA</td><td>0.19452450</td><td>&gt;60%</td></tr>\n",
              "\t<tr><th scope=row>156</th><td><span style=white-space:pre-wrap>Portugal              </span></td><td> 10825309</td><td><span style=white-space:pre-wrap>  92090</span></td><td><span style=white-space:pre-wrap>      0</span></td><td> 27800</td><td>5.6</td><td>0.90020632</td><td>&gt;60%</td></tr>\n",
              "\t<tr><th scope=row>142</th><td><span style=white-space:pre-wrap>New Zealand           </span></td><td><span style=white-space:pre-wrap>  4438393</span></td><td> 267710</td><td><span style=white-space:pre-wrap>  39860</span></td><td> 36200</td><td>7.4</td><td>0.35172388</td><td>&gt;60%</td></tr>\n",
              "\t<tr><th scope=row>102</th><td><span style=white-space:pre-wrap>Jordan                </span></td><td><span style=white-space:pre-wrap>  8117564</span></td><td><span style=white-space:pre-wrap>  89342</span></td><td><span style=white-space:pre-wrap>     22</span></td><td> 12100</td><td> NA</td><td>0.08062277</td><td>&gt;35%</td></tr>\n",
              "\t<tr><th scope=row>195</th><td><span style=white-space:pre-wrap>Tonga                 </span></td><td><span style=white-space:pre-wrap>   106501</span></td><td><span style=white-space:pre-wrap>    747</span></td><td><span style=white-space:pre-wrap>      0</span></td><td><span style=white-space:pre-wrap>  5100</span></td><td>3.9</td><td>0.91030790</td><td>&gt;35%</td></tr>\n",
              "\t<tr><th scope=row>103</th><td><span style=white-space:pre-wrap>Kazakhstan            </span></td><td> 18157122</td><td>2724900</td><td>1632000</td><td> 24300</td><td>3.1</td><td>0.03575104</td><td>&gt;35%</td></tr>\n",
              "\t<tr><th scope=row>32</th><td><span style=white-space:pre-wrap>Burma                 </span></td><td> 56320206</td><td> 676578</td><td><span style=white-space:pre-wrap>  20000</span></td><td><span style=white-space:pre-wrap>  5500</span></td><td>0.8</td><td>0.05081011</td><td>&gt;0% </td></tr>\n",
              "\t<tr><th scope=row>147</th><td><span style=white-space:pre-wrap>Norway                </span></td><td><span style=white-space:pre-wrap>  5207689</span></td><td> 323802</td><td>1568000</td><td> 68400</td><td>6.9</td><td>0.28989938</td><td>&gt;60%</td></tr>\n",
              "\t<tr><th scope=row>125</th><td><span style=white-space:pre-wrap>Malta                 </span></td><td><span style=white-space:pre-wrap>   413965</span></td><td><span style=white-space:pre-wrap>    316</span></td><td><span style=white-space:pre-wrap>      0</span></td><td> 35900</td><td>6.9</td><td>9.79746835</td><td>&gt;35%</td></tr>\n",
              "\t<tr><th scope=row>1</th><td><span style=white-space:pre-wrap>Afghanistan           </span></td><td> 32564342</td><td> 652230</td><td><span style=white-space:pre-wrap>      0</span></td><td><span style=white-space:pre-wrap>  1900</span></td><td> NA</td><td>0.06462444</td><td>&gt;5% </td></tr>\n",
              "\t<tr><th scope=row>25</th><td>Bosnia and Herzegovina</td><td><span style=white-space:pre-wrap>  3867055</span></td><td><span style=white-space:pre-wrap>  51197</span></td><td><span style=white-space:pre-wrap>      0</span></td><td> 10500</td><td> NA</td><td>0.44779968</td><td>&gt;60%</td></tr>\n",
              "\t<tr><th scope=row>11</th><td><span style=white-space:pre-wrap>Australia             </span></td><td> 22751014</td><td>7741220</td><td> 354300</td><td> 65400</td><td>5.6</td><td>0.10634202</td><td>&gt;60%</td></tr>\n",
              "\t<tr><th scope=row>23</th><td><span style=white-space:pre-wrap>Bhutan                </span></td><td><span style=white-space:pre-wrap>   741919</span></td><td><span style=white-space:pre-wrap>  38394</span></td><td><span style=white-space:pre-wrap>      0</span></td><td><span style=white-space:pre-wrap>  8200</span></td><td>4.7</td><td>0.27551180</td><td>&gt;15%</td></tr>\n",
              "\t<tr><th scope=row>15</th><td><span style=white-space:pre-wrap>Bahrain               </span></td><td><span style=white-space:pre-wrap>  1346613</span></td><td><span style=white-space:pre-wrap>    760</span></td><td><span style=white-space:pre-wrap>  49500</span></td><td> 50100</td><td>2.6</td><td>5.42368421</td><td>&gt;60%</td></tr>\n",
              "\t<tr><th scope=row>100</th><td><span style=white-space:pre-wrap>Japan                 </span></td><td>126919659</td><td> 377915</td><td><span style=white-space:pre-wrap>   4666</span></td><td> 38100</td><td>3.8</td><td>3.20244235</td><td>&gt;60%</td></tr>\n",
              "\t<tr><th scope=row>50</th><td><span style=white-space:pre-wrap>Cote d'Ivoire         </span></td><td> 23295302</td><td> 322463</td><td><span style=white-space:pre-wrap>  36000</span></td><td><span style=white-space:pre-wrap>  3300</span></td><td>4.6</td><td>0.25428034</td><td>&gt;0% </td></tr>\n",
              "\t<tr><th scope=row>133</th><td><span style=white-space:pre-wrap>Mongolia              </span></td><td><span style=white-space:pre-wrap>  2992908</span></td><td>1564116</td><td><span style=white-space:pre-wrap>  20850</span></td><td> 12100</td><td>5.5</td><td>0.03148679</td><td>&gt;15%</td></tr>\n",
              "\t<tr><th scope=row>140</th><td><span style=white-space:pre-wrap>Netherlands           </span></td><td> 16947904</td><td><span style=white-space:pre-wrap>  41543</span></td><td><span style=white-space:pre-wrap>  28120</span></td><td> 49200</td><td>5.9</td><td>3.35303180</td><td>&gt;60%</td></tr>\n",
              "\t<tr><th scope=row>26</th><td><span style=white-space:pre-wrap>Botswana              </span></td><td><span style=white-space:pre-wrap>  2182719</span></td><td> 581730</td><td><span style=white-space:pre-wrap>      0</span></td><td> 16400</td><td>9.5</td><td>0.03079779</td><td>&gt;5% </td></tr>\n",
              "\t<tr><th scope=row>181</th><td><span style=white-space:pre-wrap>Sri Lanka             </span></td><td> 22053488</td><td><span style=white-space:pre-wrap>  65610</span></td><td><span style=white-space:pre-wrap>      0</span></td><td> 10600</td><td>1.7</td><td>1.73895748</td><td>&gt;15%</td></tr>\n",
              "\t<tr><th scope=row>109</th><td><span style=white-space:pre-wrap>Laos                  </span></td><td><span style=white-space:pre-wrap>  6911544</span></td><td> 236800</td><td><span style=white-space:pre-wrap>      0</span></td><td><span style=white-space:pre-wrap>  5300</span></td><td>2.8</td><td>0.16709460</td><td>&gt;0% </td></tr>\n",
              "\t<tr><th scope=row>158</th><td><span style=white-space:pre-wrap>Qatar                 </span></td><td><span style=white-space:pre-wrap>  2194817</span></td><td><span style=white-space:pre-wrap>  11586</span></td><td>1540000</td><td>132100</td><td>2.5</td><td>0.84843777</td><td>&gt;60%</td></tr>\n",
              "\t<tr><th scope=row>184</th><td><span style=white-space:pre-wrap>Swaziland             </span></td><td><span style=white-space:pre-wrap>  1435613</span></td><td><span style=white-space:pre-wrap>  17364</span></td><td><span style=white-space:pre-wrap>      0</span></td><td><span style=white-space:pre-wrap>  8500</span></td><td>8.3</td><td>0.20697996</td><td>&gt;15%</td></tr>\n",
              "\t<tr><th scope=row>71</th><td><span style=white-space:pre-wrap>French Polynesia      </span></td><td><span style=white-space:pre-wrap>   282703</span></td><td><span style=white-space:pre-wrap>   4167</span></td><td><span style=white-space:pre-wrap>      0</span></td><td> 26100</td><td> NA</td><td>0.62155028</td><td>&gt;35%</td></tr>\n",
              "\t<tr><th scope=row>62</th><td><span style=white-space:pre-wrap>Equatorial Guinea     </span></td><td><span style=white-space:pre-wrap>   740743</span></td><td><span style=white-space:pre-wrap>  28051</span></td><td> 248000</td><td> 31800</td><td>0.6</td><td>0.10267014</td><td>&gt;15%</td></tr>\n",
              "\t<tr><th scope=row>154</th><td><span style=white-space:pre-wrap>Philippines           </span></td><td>100998376</td><td> 300000</td><td><span style=white-space:pre-wrap>  21000</span></td><td><span style=white-space:pre-wrap>  7300</span></td><td>2.7</td><td>0.71050333</td><td>&gt;35%</td></tr>\n",
              "\t<tr><th scope=row>135</th><td><span style=white-space:pre-wrap>Montserrat            </span></td><td><span style=white-space:pre-wrap>     5241</span></td><td><span style=white-space:pre-wrap>    102</span></td><td><span style=white-space:pre-wrap>      0</span></td><td><span style=white-space:pre-wrap>  8500</span></td><td> NA</td><td><span style=white-space:pre-wrap>        NA</span></td><td>&gt;15%</td></tr>\n",
              "\t<tr><th scope=row>69</th><td><span style=white-space:pre-wrap>Finland               </span></td><td><span style=white-space:pre-wrap>  5476922</span></td><td> 338145</td><td><span style=white-space:pre-wrap>      0</span></td><td> 41100</td><td>6.8</td><td>0.23067028</td><td>&gt;60%</td></tr>\n",
              "\t<tr><th scope=row>74</th><td><span style=white-space:pre-wrap>Georgia               </span></td><td><span style=white-space:pre-wrap>  4931226</span></td><td><span style=white-space:pre-wrap>  69700</span></td><td><span style=white-space:pre-wrap>   1000</span></td><td><span style=white-space:pre-wrap>  9600</span></td><td>2.0</td><td>0.27416069</td><td>&gt;35%</td></tr>\n",
              "\t<tr><th scope=row>117</th><td><span style=white-space:pre-wrap>Luxembourg            </span></td><td><span style=white-space:pre-wrap>   570252</span></td><td><span style=white-space:pre-wrap>   2586</span></td><td><span style=white-space:pre-wrap>      0</span></td><td> 99000</td><td>3.7</td><td>1.12103635</td><td>&gt;60%</td></tr>\n",
              "</tbody>\n",
              "</table>\n"
            ],
            "text/markdown": "\nA data.frame: 151 × 8\n\n| <!--/--> | country &lt;fct&gt; | pop &lt;int&gt; | area &lt;dbl&gt; | oil_prod &lt;int&gt; | gdp &lt;int&gt; | educ &lt;dbl&gt; | roadways &lt;dbl&gt; | net_users &lt;fct&gt; |\n|---|---|---|---|---|---|---|---|---|\n| 173 | Sierra Leone                      |   5879098 |   71740 |       0 |  1600 | 2.9 | 0.15751324 | &gt;0%  |\n| 45 | Comoros                           |    780971 |    2235 |       0 |  1500 | 7.6 | 0.39373602 | &gt;5%  |\n| 148 | Oman                              |   3286936 |  309500 |  943500 | 44600 | 4.3 | 0.19463651 | &gt;60% |\n| 180 | Spain                             |  48146134 |  505370 |    6419 | 34800 | 5.0 | 1.35183133 | &gt;60% |\n| 47 | Congo, Republic of the            |   4755097 |  342000 |  250000 |  6700 | 6.2 | 0.05055263 | &gt;0%  |\n| 216 | Zimbabwe                          |  14229541 |  390757 |       0 |  2100 | 2.5 | 0.24891941 | &gt;15% |\n| 210 | Vietnam                           |  94348835 |  331210 |  298400 |  6000 | 6.3 | 0.62387307 | &gt;35% |\n| 155 | Poland                            |  38562189 |  312685 |   19260 | 26500 | 5.2 | 1.31773190 | &gt;60% |\n| 171 | Serbia                            |   7176794 |   77474 |   16840 | 13700 | 4.8 | 0.57113354 | &gt;35% |\n| 6 | Anguilla                          |     16418 |      91 |      NA | 12200 | 2.8 | 1.92307692 | &gt;15% |\n| 35 | Cambodia                          |  15708756 |  181035 |       0 |  3500 | 2.6 | 0.21884166 | &gt;5%  |\n| 157 | Puerto Rico                       |   3598357 |   13790 |       0 | 38000 |  NA | 1.94793328 | &gt;35% |\n| 87 | Haiti                             |  10110019 |   27750 |       0 |  1800 |  NA | 0.15372973 | &gt;5%  |\n| 190 | Tanzania                          |  51045882 |  947300 |       0 |  2900 | 6.2 | 0.09128259 | &gt;5%  |\n| 187 | Syria                             |  17064854 |  185180 |   22660 |  5100 | 5.1 | 0.37732477 | &gt;15% |\n| 16 | Bangladesh                        | 168957745 |  143998 |    4000 |  3600 | 2.2 | 0.14770344 | &gt;5%  |\n| 168 | Sao Tome and Principe             |    194006 |     964 |       0 |  3200 | 9.5 | 0.33195021 | &gt;15% |\n| 29 | Brunei                            |    429646 |    5765 |  126500 | 79700 | 3.5 | 0.52541197 | &gt;60% |\n| 65 | Ethiopia                          |  99465819 | 1104300 |       0 |  1800 | 4.7 | 0.04016934 | &gt;0%  |\n| 194 | Tokelau                           |      1337 |      12 |      NA |  1000 |  NA |         NA | &gt;35% |\n| 169 | Saudi Arabia                      |  27752316 | 2149690 | 9735000 | 53600 | 5.1 | 0.10297857 | &gt;35% |\n| 107 | Kuwait                            |   2788534 |   17818 | 2619000 | 70200 | 3.8 | 0.37086093 | &gt;60% |\n| 66 | Falkland Islands (Islas Malvinas) |      3361 |   12173 |       0 | 55400 |  NA | 0.03614557 | &gt;60% |\n| 76 | Ghana                             |  26327649 |  238533 |  105000 |  4300 | 8.1 | 0.45911886 | &gt;15% |\n| 198 | Turkey                            |  79414269 |  783562 |   47670 | 20400 | 2.9 | 0.49230054 | &gt;35% |\n| 13 | Azerbaijan                        |   9780780 |   86600 |  845900 | 18000 | 2.4 | 0.61133949 | &gt;35% |\n| 204 | United Kingdom                    |  64088222 |  243610 |  787200 | 41200 | 6.2 | 1.61909610 | &gt;60% |\n| 192 | Timor-Leste                       |   1231116 |   14874 |   76490 |  5600 | 9.4 | 0.40607772 | &gt;0%  |\n| 72 | Gabon                             |   1705336 |  267667 |  240000 | 18600 |  NA | 0.03425899 | &gt;5%  |\n| 114 | Libya                             |   6411776 | 1759540 |  470000 | 14600 |  NA | 0.05684668 | &gt;15% |\n| ⋮ | ⋮ | ⋮ | ⋮ | ⋮ | ⋮ | ⋮ | ⋮ | ⋮ |\n| 14 | Bahamas, The           |    324597 |   13880 |       0 |  25200 |  NA | 0.19452450 | &gt;60% |\n| 156 | Portugal               |  10825309 |   92090 |       0 |  27800 | 5.6 | 0.90020632 | &gt;60% |\n| 142 | New Zealand            |   4438393 |  267710 |   39860 |  36200 | 7.4 | 0.35172388 | &gt;60% |\n| 102 | Jordan                 |   8117564 |   89342 |      22 |  12100 |  NA | 0.08062277 | &gt;35% |\n| 195 | Tonga                  |    106501 |     747 |       0 |   5100 | 3.9 | 0.91030790 | &gt;35% |\n| 103 | Kazakhstan             |  18157122 | 2724900 | 1632000 |  24300 | 3.1 | 0.03575104 | &gt;35% |\n| 32 | Burma                  |  56320206 |  676578 |   20000 |   5500 | 0.8 | 0.05081011 | &gt;0%  |\n| 147 | Norway                 |   5207689 |  323802 | 1568000 |  68400 | 6.9 | 0.28989938 | &gt;60% |\n| 125 | Malta                  |    413965 |     316 |       0 |  35900 | 6.9 | 9.79746835 | &gt;35% |\n| 1 | Afghanistan            |  32564342 |  652230 |       0 |   1900 |  NA | 0.06462444 | &gt;5%  |\n| 25 | Bosnia and Herzegovina |   3867055 |   51197 |       0 |  10500 |  NA | 0.44779968 | &gt;60% |\n| 11 | Australia              |  22751014 | 7741220 |  354300 |  65400 | 5.6 | 0.10634202 | &gt;60% |\n| 23 | Bhutan                 |    741919 |   38394 |       0 |   8200 | 4.7 | 0.27551180 | &gt;15% |\n| 15 | Bahrain                |   1346613 |     760 |   49500 |  50100 | 2.6 | 5.42368421 | &gt;60% |\n| 100 | Japan                  | 126919659 |  377915 |    4666 |  38100 | 3.8 | 3.20244235 | &gt;60% |\n| 50 | Cote d'Ivoire          |  23295302 |  322463 |   36000 |   3300 | 4.6 | 0.25428034 | &gt;0%  |\n| 133 | Mongolia               |   2992908 | 1564116 |   20850 |  12100 | 5.5 | 0.03148679 | &gt;15% |\n| 140 | Netherlands            |  16947904 |   41543 |   28120 |  49200 | 5.9 | 3.35303180 | &gt;60% |\n| 26 | Botswana               |   2182719 |  581730 |       0 |  16400 | 9.5 | 0.03079779 | &gt;5%  |\n| 181 | Sri Lanka              |  22053488 |   65610 |       0 |  10600 | 1.7 | 1.73895748 | &gt;15% |\n| 109 | Laos                   |   6911544 |  236800 |       0 |   5300 | 2.8 | 0.16709460 | &gt;0%  |\n| 158 | Qatar                  |   2194817 |   11586 | 1540000 | 132100 | 2.5 | 0.84843777 | &gt;60% |\n| 184 | Swaziland              |   1435613 |   17364 |       0 |   8500 | 8.3 | 0.20697996 | &gt;15% |\n| 71 | French Polynesia       |    282703 |    4167 |       0 |  26100 |  NA | 0.62155028 | &gt;35% |\n| 62 | Equatorial Guinea      |    740743 |   28051 |  248000 |  31800 | 0.6 | 0.10267014 | &gt;15% |\n| 154 | Philippines            | 100998376 |  300000 |   21000 |   7300 | 2.7 | 0.71050333 | &gt;35% |\n| 135 | Montserrat             |      5241 |     102 |       0 |   8500 |  NA |         NA | &gt;15% |\n| 69 | Finland                |   5476922 |  338145 |       0 |  41100 | 6.8 | 0.23067028 | &gt;60% |\n| 74 | Georgia                |   4931226 |   69700 |    1000 |   9600 | 2.0 | 0.27416069 | &gt;35% |\n| 117 | Luxembourg             |    570252 |    2586 |       0 |  99000 | 3.7 | 1.12103635 | &gt;60% |\n\n",
            "text/latex": "A data.frame: 151 × 8\n\\begin{tabular}{r|llllllll}\n  & country & pop & area & oil\\_prod & gdp & educ & roadways & net\\_users\\\\\n  & <fct> & <int> & <dbl> & <int> & <int> & <dbl> & <dbl> & <fct>\\\\\n\\hline\n\t173 & Sierra Leone                      &   5879098 &   71740 &       0 &  1600 & 2.9 & 0.15751324 & >0\\% \\\\\n\t45 & Comoros                           &    780971 &    2235 &       0 &  1500 & 7.6 & 0.39373602 & >5\\% \\\\\n\t148 & Oman                              &   3286936 &  309500 &  943500 & 44600 & 4.3 & 0.19463651 & >60\\%\\\\\n\t180 & Spain                             &  48146134 &  505370 &    6419 & 34800 & 5.0 & 1.35183133 & >60\\%\\\\\n\t47 & Congo, Republic of the            &   4755097 &  342000 &  250000 &  6700 & 6.2 & 0.05055263 & >0\\% \\\\\n\t216 & Zimbabwe                          &  14229541 &  390757 &       0 &  2100 & 2.5 & 0.24891941 & >15\\%\\\\\n\t210 & Vietnam                           &  94348835 &  331210 &  298400 &  6000 & 6.3 & 0.62387307 & >35\\%\\\\\n\t155 & Poland                            &  38562189 &  312685 &   19260 & 26500 & 5.2 & 1.31773190 & >60\\%\\\\\n\t171 & Serbia                            &   7176794 &   77474 &   16840 & 13700 & 4.8 & 0.57113354 & >35\\%\\\\\n\t6 & Anguilla                          &     16418 &      91 &      NA & 12200 & 2.8 & 1.92307692 & >15\\%\\\\\n\t35 & Cambodia                          &  15708756 &  181035 &       0 &  3500 & 2.6 & 0.21884166 & >5\\% \\\\\n\t157 & Puerto Rico                       &   3598357 &   13790 &       0 & 38000 &  NA & 1.94793328 & >35\\%\\\\\n\t87 & Haiti                             &  10110019 &   27750 &       0 &  1800 &  NA & 0.15372973 & >5\\% \\\\\n\t190 & Tanzania                          &  51045882 &  947300 &       0 &  2900 & 6.2 & 0.09128259 & >5\\% \\\\\n\t187 & Syria                             &  17064854 &  185180 &   22660 &  5100 & 5.1 & 0.37732477 & >15\\%\\\\\n\t16 & Bangladesh                        & 168957745 &  143998 &    4000 &  3600 & 2.2 & 0.14770344 & >5\\% \\\\\n\t168 & Sao Tome and Principe             &    194006 &     964 &       0 &  3200 & 9.5 & 0.33195021 & >15\\%\\\\\n\t29 & Brunei                            &    429646 &    5765 &  126500 & 79700 & 3.5 & 0.52541197 & >60\\%\\\\\n\t65 & Ethiopia                          &  99465819 & 1104300 &       0 &  1800 & 4.7 & 0.04016934 & >0\\% \\\\\n\t194 & Tokelau                           &      1337 &      12 &      NA &  1000 &  NA &         NA & >35\\%\\\\\n\t169 & Saudi Arabia                      &  27752316 & 2149690 & 9735000 & 53600 & 5.1 & 0.10297857 & >35\\%\\\\\n\t107 & Kuwait                            &   2788534 &   17818 & 2619000 & 70200 & 3.8 & 0.37086093 & >60\\%\\\\\n\t66 & Falkland Islands (Islas Malvinas) &      3361 &   12173 &       0 & 55400 &  NA & 0.03614557 & >60\\%\\\\\n\t76 & Ghana                             &  26327649 &  238533 &  105000 &  4300 & 8.1 & 0.45911886 & >15\\%\\\\\n\t198 & Turkey                            &  79414269 &  783562 &   47670 & 20400 & 2.9 & 0.49230054 & >35\\%\\\\\n\t13 & Azerbaijan                        &   9780780 &   86600 &  845900 & 18000 & 2.4 & 0.61133949 & >35\\%\\\\\n\t204 & United Kingdom                    &  64088222 &  243610 &  787200 & 41200 & 6.2 & 1.61909610 & >60\\%\\\\\n\t192 & Timor-Leste                       &   1231116 &   14874 &   76490 &  5600 & 9.4 & 0.40607772 & >0\\% \\\\\n\t72 & Gabon                             &   1705336 &  267667 &  240000 & 18600 &  NA & 0.03425899 & >5\\% \\\\\n\t114 & Libya                             &   6411776 & 1759540 &  470000 & 14600 &  NA & 0.05684668 & >15\\%\\\\\n\t⋮ & ⋮ & ⋮ & ⋮ & ⋮ & ⋮ & ⋮ & ⋮ & ⋮\\\\\n\t14 & Bahamas, The           &    324597 &   13880 &       0 &  25200 &  NA & 0.19452450 & >60\\%\\\\\n\t156 & Portugal               &  10825309 &   92090 &       0 &  27800 & 5.6 & 0.90020632 & >60\\%\\\\\n\t142 & New Zealand            &   4438393 &  267710 &   39860 &  36200 & 7.4 & 0.35172388 & >60\\%\\\\\n\t102 & Jordan                 &   8117564 &   89342 &      22 &  12100 &  NA & 0.08062277 & >35\\%\\\\\n\t195 & Tonga                  &    106501 &     747 &       0 &   5100 & 3.9 & 0.91030790 & >35\\%\\\\\n\t103 & Kazakhstan             &  18157122 & 2724900 & 1632000 &  24300 & 3.1 & 0.03575104 & >35\\%\\\\\n\t32 & Burma                  &  56320206 &  676578 &   20000 &   5500 & 0.8 & 0.05081011 & >0\\% \\\\\n\t147 & Norway                 &   5207689 &  323802 & 1568000 &  68400 & 6.9 & 0.28989938 & >60\\%\\\\\n\t125 & Malta                  &    413965 &     316 &       0 &  35900 & 6.9 & 9.79746835 & >35\\%\\\\\n\t1 & Afghanistan            &  32564342 &  652230 &       0 &   1900 &  NA & 0.06462444 & >5\\% \\\\\n\t25 & Bosnia and Herzegovina &   3867055 &   51197 &       0 &  10500 &  NA & 0.44779968 & >60\\%\\\\\n\t11 & Australia              &  22751014 & 7741220 &  354300 &  65400 & 5.6 & 0.10634202 & >60\\%\\\\\n\t23 & Bhutan                 &    741919 &   38394 &       0 &   8200 & 4.7 & 0.27551180 & >15\\%\\\\\n\t15 & Bahrain                &   1346613 &     760 &   49500 &  50100 & 2.6 & 5.42368421 & >60\\%\\\\\n\t100 & Japan                  & 126919659 &  377915 &    4666 &  38100 & 3.8 & 3.20244235 & >60\\%\\\\\n\t50 & Cote d'Ivoire          &  23295302 &  322463 &   36000 &   3300 & 4.6 & 0.25428034 & >0\\% \\\\\n\t133 & Mongolia               &   2992908 & 1564116 &   20850 &  12100 & 5.5 & 0.03148679 & >15\\%\\\\\n\t140 & Netherlands            &  16947904 &   41543 &   28120 &  49200 & 5.9 & 3.35303180 & >60\\%\\\\\n\t26 & Botswana               &   2182719 &  581730 &       0 &  16400 & 9.5 & 0.03079779 & >5\\% \\\\\n\t181 & Sri Lanka              &  22053488 &   65610 &       0 &  10600 & 1.7 & 1.73895748 & >15\\%\\\\\n\t109 & Laos                   &   6911544 &  236800 &       0 &   5300 & 2.8 & 0.16709460 & >0\\% \\\\\n\t158 & Qatar                  &   2194817 &   11586 & 1540000 & 132100 & 2.5 & 0.84843777 & >60\\%\\\\\n\t184 & Swaziland              &   1435613 &   17364 &       0 &   8500 & 8.3 & 0.20697996 & >15\\%\\\\\n\t71 & French Polynesia       &    282703 &    4167 &       0 &  26100 &  NA & 0.62155028 & >35\\%\\\\\n\t62 & Equatorial Guinea      &    740743 &   28051 &  248000 &  31800 & 0.6 & 0.10267014 & >15\\%\\\\\n\t154 & Philippines            & 100998376 &  300000 &   21000 &   7300 & 2.7 & 0.71050333 & >35\\%\\\\\n\t135 & Montserrat             &      5241 &     102 &       0 &   8500 &  NA &         NA & >15\\%\\\\\n\t69 & Finland                &   5476922 &  338145 &       0 &  41100 & 6.8 & 0.23067028 & >60\\%\\\\\n\t74 & Georgia                &   4931226 &   69700 &    1000 &   9600 & 2.0 & 0.27416069 & >35\\%\\\\\n\t117 & Luxembourg             &    570252 &    2586 &       0 &  99000 & 3.7 & 1.12103635 & >60\\%\\\\\n\\end{tabular}\n",
            "text/plain": [
              "    country                           pop       area    oil_prod gdp    educ\n",
              "173 Sierra Leone                        5879098   71740       0   1600  2.9 \n",
              "45  Comoros                              780971    2235       0   1500  7.6 \n",
              "148 Oman                                3286936  309500  943500  44600  4.3 \n",
              "180 Spain                              48146134  505370    6419  34800  5.0 \n",
              "47  Congo, Republic of the              4755097  342000  250000   6700  6.2 \n",
              "216 Zimbabwe                           14229541  390757       0   2100  2.5 \n",
              "210 Vietnam                            94348835  331210  298400   6000  6.3 \n",
              "155 Poland                             38562189  312685   19260  26500  5.2 \n",
              "171 Serbia                              7176794   77474   16840  13700  4.8 \n",
              "6   Anguilla                              16418      91      NA  12200  2.8 \n",
              "35  Cambodia                           15708756  181035       0   3500  2.6 \n",
              "157 Puerto Rico                         3598357   13790       0  38000   NA \n",
              "87  Haiti                              10110019   27750       0   1800   NA \n",
              "190 Tanzania                           51045882  947300       0   2900  6.2 \n",
              "187 Syria                              17064854  185180   22660   5100  5.1 \n",
              "16  Bangladesh                        168957745  143998    4000   3600  2.2 \n",
              "168 Sao Tome and Principe                194006     964       0   3200  9.5 \n",
              "29  Brunei                               429646    5765  126500  79700  3.5 \n",
              "65  Ethiopia                           99465819 1104300       0   1800  4.7 \n",
              "194 Tokelau                                1337      12      NA   1000   NA \n",
              "169 Saudi Arabia                       27752316 2149690 9735000  53600  5.1 \n",
              "107 Kuwait                              2788534   17818 2619000  70200  3.8 \n",
              "66  Falkland Islands (Islas Malvinas)      3361   12173       0  55400   NA \n",
              "76  Ghana                              26327649  238533  105000   4300  8.1 \n",
              "198 Turkey                             79414269  783562   47670  20400  2.9 \n",
              "13  Azerbaijan                          9780780   86600  845900  18000  2.4 \n",
              "204 United Kingdom                     64088222  243610  787200  41200  6.2 \n",
              "192 Timor-Leste                         1231116   14874   76490   5600  9.4 \n",
              "72  Gabon                               1705336  267667  240000  18600   NA \n",
              "114 Libya                               6411776 1759540  470000  14600   NA \n",
              "⋮   ⋮                                 ⋮         ⋮       ⋮        ⋮      ⋮   \n",
              "14  Bahamas, The                         324597   13880       0   25200  NA \n",
              "156 Portugal                           10825309   92090       0   27800 5.6 \n",
              "142 New Zealand                         4438393  267710   39860   36200 7.4 \n",
              "102 Jordan                              8117564   89342      22   12100  NA \n",
              "195 Tonga                                106501     747       0    5100 3.9 \n",
              "103 Kazakhstan                         18157122 2724900 1632000   24300 3.1 \n",
              "32  Burma                              56320206  676578   20000    5500 0.8 \n",
              "147 Norway                              5207689  323802 1568000   68400 6.9 \n",
              "125 Malta                                413965     316       0   35900 6.9 \n",
              "1   Afghanistan                        32564342  652230       0    1900  NA \n",
              "25  Bosnia and Herzegovina              3867055   51197       0   10500  NA \n",
              "11  Australia                          22751014 7741220  354300   65400 5.6 \n",
              "23  Bhutan                               741919   38394       0    8200 4.7 \n",
              "15  Bahrain                             1346613     760   49500   50100 2.6 \n",
              "100 Japan                             126919659  377915    4666   38100 3.8 \n",
              "50  Cote d'Ivoire                      23295302  322463   36000    3300 4.6 \n",
              "133 Mongolia                            2992908 1564116   20850   12100 5.5 \n",
              "140 Netherlands                        16947904   41543   28120   49200 5.9 \n",
              "26  Botswana                            2182719  581730       0   16400 9.5 \n",
              "181 Sri Lanka                          22053488   65610       0   10600 1.7 \n",
              "109 Laos                                6911544  236800       0    5300 2.8 \n",
              "158 Qatar                               2194817   11586 1540000  132100 2.5 \n",
              "184 Swaziland                           1435613   17364       0    8500 8.3 \n",
              "71  French Polynesia                     282703    4167       0   26100  NA \n",
              "62  Equatorial Guinea                    740743   28051  248000   31800 0.6 \n",
              "154 Philippines                       100998376  300000   21000    7300 2.7 \n",
              "135 Montserrat                             5241     102       0    8500  NA \n",
              "69  Finland                             5476922  338145       0   41100 6.8 \n",
              "74  Georgia                             4931226   69700    1000    9600 2.0 \n",
              "117 Luxembourg                           570252    2586       0   99000 3.7 \n",
              "    roadways   net_users\n",
              "173 0.15751324 >0%      \n",
              "45  0.39373602 >5%      \n",
              "148 0.19463651 >60%     \n",
              "180 1.35183133 >60%     \n",
              "47  0.05055263 >0%      \n",
              "216 0.24891941 >15%     \n",
              "210 0.62387307 >35%     \n",
              "155 1.31773190 >60%     \n",
              "171 0.57113354 >35%     \n",
              "6   1.92307692 >15%     \n",
              "35  0.21884166 >5%      \n",
              "157 1.94793328 >35%     \n",
              "87  0.15372973 >5%      \n",
              "190 0.09128259 >5%      \n",
              "187 0.37732477 >15%     \n",
              "16  0.14770344 >5%      \n",
              "168 0.33195021 >15%     \n",
              "29  0.52541197 >60%     \n",
              "65  0.04016934 >0%      \n",
              "194         NA >35%     \n",
              "169 0.10297857 >35%     \n",
              "107 0.37086093 >60%     \n",
              "66  0.03614557 >60%     \n",
              "76  0.45911886 >15%     \n",
              "198 0.49230054 >35%     \n",
              "13  0.61133949 >35%     \n",
              "204 1.61909610 >60%     \n",
              "192 0.40607772 >0%      \n",
              "72  0.03425899 >5%      \n",
              "114 0.05684668 >15%     \n",
              "⋮   ⋮          ⋮        \n",
              "14  0.19452450 >60%     \n",
              "156 0.90020632 >60%     \n",
              "142 0.35172388 >60%     \n",
              "102 0.08062277 >35%     \n",
              "195 0.91030790 >35%     \n",
              "103 0.03575104 >35%     \n",
              "32  0.05081011 >0%      \n",
              "147 0.28989938 >60%     \n",
              "125 9.79746835 >35%     \n",
              "1   0.06462444 >5%      \n",
              "25  0.44779968 >60%     \n",
              "11  0.10634202 >60%     \n",
              "23  0.27551180 >15%     \n",
              "15  5.42368421 >60%     \n",
              "100 3.20244235 >60%     \n",
              "50  0.25428034 >0%      \n",
              "133 0.03148679 >15%     \n",
              "140 3.35303180 >60%     \n",
              "26  0.03079779 >5%      \n",
              "181 1.73895748 >15%     \n",
              "109 0.16709460 >0%      \n",
              "158 0.84843777 >60%     \n",
              "184 0.20697996 >15%     \n",
              "71  0.62155028 >35%     \n",
              "62  0.10267014 >15%     \n",
              "154 0.71050333 >35%     \n",
              "135         NA >15%     \n",
              "69  0.23067028 >60%     \n",
              "74  0.27416069 >35%     \n",
              "117 1.12103635 >60%     "
            ]
          },
          "metadata": {}
        }
      ]
    },
    {
      "cell_type": "markdown",
      "metadata": {
        "id": "tQucenHBa-17"
      },
      "source": [
        "Create the test set by selecting every observation that is NOT in the training set  (-training_index).  NOTE the comma indicates we want every column for the selected rows.\n",
        "\n"
      ]
    },
    {
      "cell_type": "code",
      "execution_count": null,
      "metadata": {
        "id": "pad4QIAwa-18",
        "colab": {
          "base_uri": "https://localhost:8080/",
          "height": 1000
        },
        "outputId": "deea1b8c-7f29-4a6b-f423-0376fad96c61"
      },
      "outputs": [
        {
          "output_type": "display_data",
          "data": {
            "text/html": [
              "<table class=\"dataframe\">\n",
              "<caption>A data.frame: 65 × 8</caption>\n",
              "<thead>\n",
              "\t<tr><th></th><th scope=col>country</th><th scope=col>pop</th><th scope=col>area</th><th scope=col>oil_prod</th><th scope=col>gdp</th><th scope=col>educ</th><th scope=col>roadways</th><th scope=col>net_users</th></tr>\n",
              "\t<tr><th></th><th scope=col>&lt;fct&gt;</th><th scope=col>&lt;int&gt;</th><th scope=col>&lt;dbl&gt;</th><th scope=col>&lt;int&gt;</th><th scope=col>&lt;int&gt;</th><th scope=col>&lt;dbl&gt;</th><th scope=col>&lt;dbl&gt;</th><th scope=col>&lt;fct&gt;</th></tr>\n",
              "</thead>\n",
              "<tbody>\n",
              "\t<tr><th scope=row>4</th><td><span style=white-space:pre-wrap>Andorra                          </span></td><td><span style=white-space:pre-wrap>   85580</span></td><td><span style=white-space:pre-wrap>    468</span></td><td><span style=white-space:pre-wrap>     NA</span></td><td>37200</td><td><span style=white-space:pre-wrap>  NA</span></td><td>0.68376068</td><td>&gt;60%</td></tr>\n",
              "\t<tr><th scope=row>5</th><td><span style=white-space:pre-wrap>Angola                           </span></td><td>19625353</td><td>1246700</td><td>1742000</td><td> 7300</td><td> 3.5</td><td>0.04125211</td><td>&gt;15%</td></tr>\n",
              "\t<tr><th scope=row>7</th><td><span style=white-space:pre-wrap>Antigua and Barbuda              </span></td><td><span style=white-space:pre-wrap>   92436</span></td><td><span style=white-space:pre-wrap>    443</span></td><td><span style=white-space:pre-wrap>      0</span></td><td>23600</td><td> 2.4</td><td>2.64108352</td><td>&gt;60%</td></tr>\n",
              "\t<tr><th scope=row>9</th><td><span style=white-space:pre-wrap>Armenia                          </span></td><td> 3056382</td><td><span style=white-space:pre-wrap>  29743</span></td><td><span style=white-space:pre-wrap>      0</span></td><td> 8500</td><td> 3.3</td><td>0.25905255</td><td>&gt;35%</td></tr>\n",
              "\t<tr><th scope=row>10</th><td><span style=white-space:pre-wrap>Aruba                            </span></td><td><span style=white-space:pre-wrap>  112162</span></td><td><span style=white-space:pre-wrap>    180</span></td><td><span style=white-space:pre-wrap>      0</span></td><td>25300</td><td> 6.0</td><td><span style=white-space:pre-wrap>        NA</span></td><td>&gt;60%</td></tr>\n",
              "\t<tr><th scope=row>18</th><td><span style=white-space:pre-wrap>Belarus                          </span></td><td> 9589689</td><td> 207600</td><td><span style=white-space:pre-wrap>  30000</span></td><td>17700</td><td> 5.1</td><td>0.41614643</td><td>&gt;35%</td></tr>\n",
              "\t<tr><th scope=row>19</th><td><span style=white-space:pre-wrap>Belgium                          </span></td><td>11323973</td><td><span style=white-space:pre-wrap>  30528</span></td><td><span style=white-space:pre-wrap>      0</span></td><td>43600</td><td> 6.6</td><td>5.04494235</td><td>&gt;60%</td></tr>\n",
              "\t<tr><th scope=row>20</th><td><span style=white-space:pre-wrap>Belize                           </span></td><td><span style=white-space:pre-wrap>  347369</span></td><td><span style=white-space:pre-wrap>  22966</span></td><td><span style=white-space:pre-wrap>   1818</span></td><td> 8400</td><td> 6.6</td><td>0.12496734</td><td>&gt;15%</td></tr>\n",
              "\t<tr><th scope=row>28</th><td><span style=white-space:pre-wrap>British Virgin Islands           </span></td><td><span style=white-space:pre-wrap>   33454</span></td><td><span style=white-space:pre-wrap>    151</span></td><td><span style=white-space:pre-wrap>      0</span></td><td>42300</td><td> 4.4</td><td>1.32450331</td><td>&gt;5% </td></tr>\n",
              "\t<tr><th scope=row>31</th><td><span style=white-space:pre-wrap>Burkina Faso                     </span></td><td>18931686</td><td> 274200</td><td><span style=white-space:pre-wrap>      0</span></td><td> 1700</td><td> 3.4</td><td>0.05569657</td><td>&gt;0% </td></tr>\n",
              "\t<tr><th scope=row>33</th><td><span style=white-space:pre-wrap>Burundi                          </span></td><td>10742276</td><td><span style=white-space:pre-wrap>  27830</span></td><td><span style=white-space:pre-wrap>      0</span></td><td><span style=white-space:pre-wrap>  800</span></td><td> 5.8</td><td>0.44275961</td><td>&gt;0% </td></tr>\n",
              "\t<tr><th scope=row>34</th><td><span style=white-space:pre-wrap>Cabo Verde                       </span></td><td><span style=white-space:pre-wrap>  545993</span></td><td><span style=white-space:pre-wrap>   4033</span></td><td><span style=white-space:pre-wrap>      0</span></td><td> 6500</td><td> 5.0</td><td>0.33473841</td><td>&gt;35%</td></tr>\n",
              "\t<tr><th scope=row>37</th><td><span style=white-space:pre-wrap>Canada                           </span></td><td>35099836</td><td>9984670</td><td>3890000</td><td>45600</td><td> 5.4</td><td>0.10439003</td><td>&gt;60%</td></tr>\n",
              "\t<tr><th scope=row>40</th><td><span style=white-space:pre-wrap>Chad                             </span></td><td>11631456</td><td>1284000</td><td> 103400</td><td> 2600</td><td> 2.3</td><td>0.03115265</td><td>&gt;0% </td></tr>\n",
              "\t<tr><th scope=row>44</th><td><span style=white-space:pre-wrap>Colombia                         </span></td><td>46736728</td><td>1138910</td><td> 989900</td><td>13800</td><td> 4.4</td><td>0.12413097</td><td>&gt;35%</td></tr>\n",
              "\t<tr><th scope=row>46</th><td>Congo, Democratic Republic of the</td><td>79375136</td><td>2344858</td><td><span style=white-space:pre-wrap>  20000</span></td><td><span style=white-space:pre-wrap>  800</span></td><td> 2.5</td><td>0.06546111</td><td>&gt;0% </td></tr>\n",
              "\t<tr><th scope=row>48</th><td><span style=white-space:pre-wrap>Cook Islands                     </span></td><td><span style=white-space:pre-wrap>    9838</span></td><td><span style=white-space:pre-wrap>    236</span></td><td><span style=white-space:pre-wrap>      0</span></td><td>12300</td><td> 3.1</td><td>1.35593220</td><td>&gt;5% </td></tr>\n",
              "\t<tr><th scope=row>49</th><td><span style=white-space:pre-wrap>Costa Rica                       </span></td><td> 4814144</td><td><span style=white-space:pre-wrap>  51100</span></td><td><span style=white-space:pre-wrap>      0</span></td><td>15500</td><td> 6.3</td><td>0.76356164</td><td>&gt;35%</td></tr>\n",
              "\t<tr><th scope=row>52</th><td><span style=white-space:pre-wrap>Cuba                             </span></td><td>11031433</td><td> 110860</td><td><span style=white-space:pre-wrap>  50000</span></td><td>10200</td><td>12.8</td><td>0.54896266</td><td>&gt;15%</td></tr>\n",
              "\t<tr><th scope=row>55</th><td><span style=white-space:pre-wrap>Denmark                          </span></td><td> 5581503</td><td><span style=white-space:pre-wrap>  43094</span></td><td> 165200</td><td>45700</td><td> 8.7</td><td>1.71552884</td><td>&gt;60%</td></tr>\n",
              "\t<tr><th scope=row>57</th><td><span style=white-space:pre-wrap>Dominica                         </span></td><td><span style=white-space:pre-wrap>   73607</span></td><td><span style=white-space:pre-wrap>    751</span></td><td><span style=white-space:pre-wrap>      0</span></td><td>10700</td><td> 3.5</td><td>2.01331558</td><td>&gt;35%</td></tr>\n",
              "\t<tr><th scope=row>58</th><td><span style=white-space:pre-wrap>Dominican Republic               </span></td><td>10478756</td><td><span style=white-space:pre-wrap>  48670</span></td><td><span style=white-space:pre-wrap>      0</span></td><td>15000</td><td> 2.2</td><td>0.40486953</td><td>&gt;35%</td></tr>\n",
              "\t<tr><th scope=row>59</th><td><span style=white-space:pre-wrap>Ecuador                          </span></td><td>15868396</td><td> 283561</td><td> 556400</td><td>11300</td><td> 4.4</td><td>0.15400566</td><td>&gt;35%</td></tr>\n",
              "\t<tr><th scope=row>60</th><td><span style=white-space:pre-wrap>Egypt                            </span></td><td>88487396</td><td>1001450</td><td> 478400</td><td>11800</td><td> 3.8</td><td>0.13723102</td><td>&gt;35%</td></tr>\n",
              "\t<tr><th scope=row>61</th><td><span style=white-space:pre-wrap>El Salvador                      </span></td><td> 6141350</td><td><span style=white-space:pre-wrap>  21041</span></td><td><span style=white-space:pre-wrap>      0</span></td><td> 8300</td><td> 3.4</td><td>0.32878665</td><td>&gt;15%</td></tr>\n",
              "\t<tr><th scope=row>63</th><td><span style=white-space:pre-wrap>Eritrea                          </span></td><td> 6527689</td><td> 117600</td><td><span style=white-space:pre-wrap>      0</span></td><td> 1300</td><td> 2.1</td><td>0.03409864</td><td>&gt;0% </td></tr>\n",
              "\t<tr><th scope=row>73</th><td><span style=white-space:pre-wrap>Gambia, The                      </span></td><td> 1967709</td><td><span style=white-space:pre-wrap>  11295</span></td><td><span style=white-space:pre-wrap>      0</span></td><td> 1600</td><td> 4.1</td><td>0.33111997</td><td>&gt;5% </td></tr>\n",
              "\t<tr><th scope=row>78</th><td><span style=white-space:pre-wrap>Greece                           </span></td><td>10775643</td><td> 131957</td><td><span style=white-space:pre-wrap>   1162</span></td><td>26400</td><td> 4.1</td><td>0.88634934</td><td>&gt;35%</td></tr>\n",
              "\t<tr><th scope=row>82</th><td><span style=white-space:pre-wrap>Guatemala                        </span></td><td>14918999</td><td> 108889</td><td><span style=white-space:pre-wrap>  10040</span></td><td> 7700</td><td> 3.0</td><td>0.10562132</td><td>&gt;15%</td></tr>\n",
              "\t<tr><th scope=row>86</th><td><span style=white-space:pre-wrap>Guyana                           </span></td><td><span style=white-space:pre-wrap>  735222</span></td><td> 214969</td><td><span style=white-space:pre-wrap>      0</span></td><td> 7500</td><td> 3.2</td><td>0.03707511</td><td>&gt;35%</td></tr>\n",
              "\t<tr><th scope=row>⋮</th><td>⋮</td><td>⋮</td><td>⋮</td><td>⋮</td><td>⋮</td><td>⋮</td><td>⋮</td><td>⋮</td></tr>\n",
              "\t<tr><th scope=row>105</th><td><span style=white-space:pre-wrap>Kiribati                                     </span></td><td><span style=white-space:pre-wrap>   105711</span></td><td><span style=white-space:pre-wrap>     811</span></td><td><span style=white-space:pre-wrap>       0</span></td><td> 1800</td><td>12.0</td><td> 0.82614057</td><td>&gt;5% </td></tr>\n",
              "\t<tr><th scope=row>106</th><td><span style=white-space:pre-wrap>Korea, South                                 </span></td><td> 49115196</td><td><span style=white-space:pre-wrap>   99720</span></td><td><span style=white-space:pre-wrap>       0</span></td><td>36500</td><td> 5.0</td><td> 1.05277778</td><td>&gt;60%</td></tr>\n",
              "\t<tr><th scope=row>111</th><td><span style=white-space:pre-wrap>Lebanon                                      </span></td><td><span style=white-space:pre-wrap>  6184701</span></td><td><span style=white-space:pre-wrap>   10400</span></td><td><span style=white-space:pre-wrap>       0</span></td><td>18200</td><td> 2.2</td><td> 0.67019231</td><td>&gt;60%</td></tr>\n",
              "\t<tr><th scope=row>115</th><td><span style=white-space:pre-wrap>Liechtenstein                                </span></td><td><span style=white-space:pre-wrap>    37624</span></td><td><span style=white-space:pre-wrap>     160</span></td><td><span style=white-space:pre-wrap>      NA</span></td><td>89400</td><td> 2.1</td><td> 2.37500000</td><td>&gt;60%</td></tr>\n",
              "\t<tr><th scope=row>118</th><td><span style=white-space:pre-wrap>Macau                                        </span></td><td><span style=white-space:pre-wrap>   592731</span></td><td><span style=white-space:pre-wrap>      28</span></td><td><span style=white-space:pre-wrap>       0</span></td><td>98200</td><td> 2.7</td><td>14.75000000</td><td>&gt;35%</td></tr>\n",
              "\t<tr><th scope=row>119</th><td><span style=white-space:pre-wrap>Macedonia                                    </span></td><td><span style=white-space:pre-wrap>  2096015</span></td><td><span style=white-space:pre-wrap>   25713</span></td><td><span style=white-space:pre-wrap>       0</span></td><td>14000</td><td><span style=white-space:pre-wrap>  NA</span></td><td> 0.54594952</td><td>&gt;35%</td></tr>\n",
              "\t<tr><th scope=row>120</th><td><span style=white-space:pre-wrap>Madagascar                                   </span></td><td> 23812681</td><td><span style=white-space:pre-wrap>  587041</span></td><td><span style=white-space:pre-wrap>       0</span></td><td> 1500</td><td> 2.7</td><td> 0.05872844</td><td>&gt;60%</td></tr>\n",
              "\t<tr><th scope=row>121</th><td><span style=white-space:pre-wrap>Malawi                                       </span></td><td> 17964697</td><td><span style=white-space:pre-wrap>  118484</span></td><td><span style=white-space:pre-wrap>       0</span></td><td> 1100</td><td> 5.4</td><td> 0.13039735</td><td>&gt;0% </td></tr>\n",
              "\t<tr><th scope=row>122</th><td><span style=white-space:pre-wrap>Malaysia                                     </span></td><td> 30513848</td><td><span style=white-space:pre-wrap>  329847</span></td><td><span style=white-space:pre-wrap>  597500</span></td><td>26300</td><td> 5.9</td><td> 0.43778782</td><td>&gt;35%</td></tr>\n",
              "\t<tr><th scope=row>128</th><td><span style=white-space:pre-wrap>Mauritius                                    </span></td><td><span style=white-space:pre-wrap>  1339827</span></td><td><span style=white-space:pre-wrap>    2040</span></td><td><span style=white-space:pre-wrap>       0</span></td><td>19500</td><td> 3.5</td><td> 1.05343137</td><td>&gt;5% </td></tr>\n",
              "\t<tr><th scope=row>129</th><td><span style=white-space:pre-wrap>Mexico                                       </span></td><td>121736809</td><td> 1964375</td><td> 2459000</td><td>17500</td><td> 5.1</td><td> 0.19225453</td><td>&gt;35%</td></tr>\n",
              "\t<tr><th scope=row>131</th><td><span style=white-space:pre-wrap>Moldova                                      </span></td><td><span style=white-space:pre-wrap>  3546847</span></td><td><span style=white-space:pre-wrap>   33851</span></td><td><span style=white-space:pre-wrap>       0</span></td><td> 5000</td><td> 8.4</td><td> 0.27626953</td><td>&gt;35%</td></tr>\n",
              "\t<tr><th scope=row>132</th><td><span style=white-space:pre-wrap>Monaco                                       </span></td><td><span style=white-space:pre-wrap>    30535</span></td><td><span style=white-space:pre-wrap>       2</span></td><td><span style=white-space:pre-wrap>      NA</span></td><td>78700</td><td> 1.6</td><td>38.50000000</td><td>&gt;60%</td></tr>\n",
              "\t<tr><th scope=row>137</th><td><span style=white-space:pre-wrap>Mozambique                                   </span></td><td> 25303113</td><td><span style=white-space:pre-wrap>  799380</span></td><td><span style=white-space:pre-wrap>       0</span></td><td> 1200</td><td> 5.0</td><td> 0.03794316</td><td>&gt;5% </td></tr>\n",
              "\t<tr><th scope=row>139</th><td><span style=white-space:pre-wrap>Nepal                                        </span></td><td> 31551305</td><td><span style=white-space:pre-wrap>  147181</span></td><td><span style=white-space:pre-wrap>       0</span></td><td> 2500</td><td> 4.7</td><td> 0.07367799</td><td>&gt;5% </td></tr>\n",
              "\t<tr><th scope=row>141</th><td><span style=white-space:pre-wrap>New Caledonia                                </span></td><td><span style=white-space:pre-wrap>   271615</span></td><td><span style=white-space:pre-wrap>   18575</span></td><td><span style=white-space:pre-wrap>       0</span></td><td>38800</td><td><span style=white-space:pre-wrap>  NA</span></td><td> 0.30266487</td><td>&gt;60%</td></tr>\n",
              "\t<tr><th scope=row>150</th><td><span style=white-space:pre-wrap>Panama                                       </span></td><td><span style=white-space:pre-wrap>  3657024</span></td><td><span style=white-space:pre-wrap>   75420</span></td><td><span style=white-space:pre-wrap>       0</span></td><td>21800</td><td> 3.5</td><td> 0.20070273</td><td>&gt;35%</td></tr>\n",
              "\t<tr><th scope=row>152</th><td><span style=white-space:pre-wrap>Paraguay                                     </span></td><td><span style=white-space:pre-wrap>  6783272</span></td><td><span style=white-space:pre-wrap>  406752</span></td><td><span style=white-space:pre-wrap>       0</span></td><td> 8700</td><td> 4.8</td><td> 0.07881707</td><td>&gt;15%</td></tr>\n",
              "\t<tr><th scope=row>153</th><td><span style=white-space:pre-wrap>Peru                                         </span></td><td> 30444999</td><td> 1285216</td><td><span style=white-space:pre-wrap>   69300</span></td><td>12200</td><td> 2.8</td><td> 0.10945397</td><td>&gt;35%</td></tr>\n",
              "\t<tr><th scope=row>160</th><td><span style=white-space:pre-wrap>Russia                                       </span></td><td>142423773</td><td>17098242</td><td>10840000</td><td>25400</td><td> 4.1</td><td> 0.07505959</td><td>&gt;35%</td></tr>\n",
              "\t<tr><th scope=row>162</th><td>Saint Helena, Ascension, and Tristan da Cunha</td><td><span style=white-space:pre-wrap>     7795</span></td><td><span style=white-space:pre-wrap>     308</span></td><td><span style=white-space:pre-wrap>       0</span></td><td> 7800</td><td><span style=white-space:pre-wrap>  NA</span></td><td> 0.64285714</td><td>&gt;5% </td></tr>\n",
              "\t<tr><th scope=row>165</th><td><span style=white-space:pre-wrap>Saint Vincent and the Grenadines             </span></td><td><span style=white-space:pre-wrap>   102627</span></td><td><span style=white-space:pre-wrap>     389</span></td><td><span style=white-space:pre-wrap>       0</span></td><td>11000</td><td> 5.1</td><td> 2.13110540</td><td>&gt;60%</td></tr>\n",
              "\t<tr><th scope=row>166</th><td><span style=white-space:pre-wrap>Samoa                                        </span></td><td><span style=white-space:pre-wrap>   197773</span></td><td><span style=white-space:pre-wrap>    2831</span></td><td><span style=white-space:pre-wrap>       0</span></td><td> 5200</td><td> 5.8</td><td> 0.82550336</td><td>&gt;5% </td></tr>\n",
              "\t<tr><th scope=row>170</th><td><span style=white-space:pre-wrap>Senegal                                      </span></td><td> 13975834</td><td><span style=white-space:pre-wrap>  196722</span></td><td><span style=white-space:pre-wrap>       0</span></td><td> 2500</td><td> 5.6</td><td> 0.07120708</td><td>&gt;15%</td></tr>\n",
              "\t<tr><th scope=row>177</th><td><span style=white-space:pre-wrap>Solomon Islands                              </span></td><td><span style=white-space:pre-wrap>   622469</span></td><td><span style=white-space:pre-wrap>   28896</span></td><td><span style=white-space:pre-wrap>       0</span></td><td> 1900</td><td> 7.3</td><td> 0.04810354</td><td>&gt;5% </td></tr>\n",
              "\t<tr><th scope=row>188</th><td><span style=white-space:pre-wrap>Taiwan                                       </span></td><td> 23415126</td><td><span style=white-space:pre-wrap>   35980</span></td><td><span style=white-space:pre-wrap>     159</span></td><td>46800</td><td><span style=white-space:pre-wrap>  NA</span></td><td> 1.15272373</td><td>&gt;60%</td></tr>\n",
              "\t<tr><th scope=row>197</th><td><span style=white-space:pre-wrap>Tunisia                                      </span></td><td> 11037225</td><td><span style=white-space:pre-wrap>  163610</span></td><td><span style=white-space:pre-wrap>   55050</span></td><td>11400</td><td> 6.2</td><td> 0.11868468</td><td>&gt;35%</td></tr>\n",
              "\t<tr><th scope=row>206</th><td><span style=white-space:pre-wrap>Uruguay                                      </span></td><td><span style=white-space:pre-wrap>  3341893</span></td><td><span style=white-space:pre-wrap>  176215</span></td><td><span style=white-space:pre-wrap>       0</span></td><td>21500</td><td> 4.5</td><td> 0.44112022</td><td>&gt;35%</td></tr>\n",
              "\t<tr><th scope=row>208</th><td><span style=white-space:pre-wrap>Vanuatu                                      </span></td><td><span style=white-space:pre-wrap>   272264</span></td><td><span style=white-space:pre-wrap>   12189</span></td><td><span style=white-space:pre-wrap>       0</span></td><td> 2500</td><td> 5.0</td><td> 0.08778407</td><td>&gt;5% </td></tr>\n",
              "\t<tr><th scope=row>212</th><td><span style=white-space:pre-wrap>Wallis and Futuna                            </span></td><td><span style=white-space:pre-wrap>    15613</span></td><td><span style=white-space:pre-wrap>     142</span></td><td><span style=white-space:pre-wrap>      NA</span></td><td> 3800</td><td><span style=white-space:pre-wrap>  NA</span></td><td><span style=white-space:pre-wrap>         NA</span></td><td>&gt;5% </td></tr>\n",
              "</tbody>\n",
              "</table>\n"
            ],
            "text/markdown": "\nA data.frame: 65 × 8\n\n| <!--/--> | country &lt;fct&gt; | pop &lt;int&gt; | area &lt;dbl&gt; | oil_prod &lt;int&gt; | gdp &lt;int&gt; | educ &lt;dbl&gt; | roadways &lt;dbl&gt; | net_users &lt;fct&gt; |\n|---|---|---|---|---|---|---|---|---|\n| 4 | Andorra                           |    85580 |     468 |      NA | 37200 |   NA | 0.68376068 | &gt;60% |\n| 5 | Angola                            | 19625353 | 1246700 | 1742000 |  7300 |  3.5 | 0.04125211 | &gt;15% |\n| 7 | Antigua and Barbuda               |    92436 |     443 |       0 | 23600 |  2.4 | 2.64108352 | &gt;60% |\n| 9 | Armenia                           |  3056382 |   29743 |       0 |  8500 |  3.3 | 0.25905255 | &gt;35% |\n| 10 | Aruba                             |   112162 |     180 |       0 | 25300 |  6.0 |         NA | &gt;60% |\n| 18 | Belarus                           |  9589689 |  207600 |   30000 | 17700 |  5.1 | 0.41614643 | &gt;35% |\n| 19 | Belgium                           | 11323973 |   30528 |       0 | 43600 |  6.6 | 5.04494235 | &gt;60% |\n| 20 | Belize                            |   347369 |   22966 |    1818 |  8400 |  6.6 | 0.12496734 | &gt;15% |\n| 28 | British Virgin Islands            |    33454 |     151 |       0 | 42300 |  4.4 | 1.32450331 | &gt;5%  |\n| 31 | Burkina Faso                      | 18931686 |  274200 |       0 |  1700 |  3.4 | 0.05569657 | &gt;0%  |\n| 33 | Burundi                           | 10742276 |   27830 |       0 |   800 |  5.8 | 0.44275961 | &gt;0%  |\n| 34 | Cabo Verde                        |   545993 |    4033 |       0 |  6500 |  5.0 | 0.33473841 | &gt;35% |\n| 37 | Canada                            | 35099836 | 9984670 | 3890000 | 45600 |  5.4 | 0.10439003 | &gt;60% |\n| 40 | Chad                              | 11631456 | 1284000 |  103400 |  2600 |  2.3 | 0.03115265 | &gt;0%  |\n| 44 | Colombia                          | 46736728 | 1138910 |  989900 | 13800 |  4.4 | 0.12413097 | &gt;35% |\n| 46 | Congo, Democratic Republic of the | 79375136 | 2344858 |   20000 |   800 |  2.5 | 0.06546111 | &gt;0%  |\n| 48 | Cook Islands                      |     9838 |     236 |       0 | 12300 |  3.1 | 1.35593220 | &gt;5%  |\n| 49 | Costa Rica                        |  4814144 |   51100 |       0 | 15500 |  6.3 | 0.76356164 | &gt;35% |\n| 52 | Cuba                              | 11031433 |  110860 |   50000 | 10200 | 12.8 | 0.54896266 | &gt;15% |\n| 55 | Denmark                           |  5581503 |   43094 |  165200 | 45700 |  8.7 | 1.71552884 | &gt;60% |\n| 57 | Dominica                          |    73607 |     751 |       0 | 10700 |  3.5 | 2.01331558 | &gt;35% |\n| 58 | Dominican Republic                | 10478756 |   48670 |       0 | 15000 |  2.2 | 0.40486953 | &gt;35% |\n| 59 | Ecuador                           | 15868396 |  283561 |  556400 | 11300 |  4.4 | 0.15400566 | &gt;35% |\n| 60 | Egypt                             | 88487396 | 1001450 |  478400 | 11800 |  3.8 | 0.13723102 | &gt;35% |\n| 61 | El Salvador                       |  6141350 |   21041 |       0 |  8300 |  3.4 | 0.32878665 | &gt;15% |\n| 63 | Eritrea                           |  6527689 |  117600 |       0 |  1300 |  2.1 | 0.03409864 | &gt;0%  |\n| 73 | Gambia, The                       |  1967709 |   11295 |       0 |  1600 |  4.1 | 0.33111997 | &gt;5%  |\n| 78 | Greece                            | 10775643 |  131957 |    1162 | 26400 |  4.1 | 0.88634934 | &gt;35% |\n| 82 | Guatemala                         | 14918999 |  108889 |   10040 |  7700 |  3.0 | 0.10562132 | &gt;15% |\n| 86 | Guyana                            |   735222 |  214969 |       0 |  7500 |  3.2 | 0.03707511 | &gt;35% |\n| ⋮ | ⋮ | ⋮ | ⋮ | ⋮ | ⋮ | ⋮ | ⋮ | ⋮ |\n| 105 | Kiribati                                      |    105711 |      811 |        0 |  1800 | 12.0 |  0.82614057 | &gt;5%  |\n| 106 | Korea, South                                  |  49115196 |    99720 |        0 | 36500 |  5.0 |  1.05277778 | &gt;60% |\n| 111 | Lebanon                                       |   6184701 |    10400 |        0 | 18200 |  2.2 |  0.67019231 | &gt;60% |\n| 115 | Liechtenstein                                 |     37624 |      160 |       NA | 89400 |  2.1 |  2.37500000 | &gt;60% |\n| 118 | Macau                                         |    592731 |       28 |        0 | 98200 |  2.7 | 14.75000000 | &gt;35% |\n| 119 | Macedonia                                     |   2096015 |    25713 |        0 | 14000 |   NA |  0.54594952 | &gt;35% |\n| 120 | Madagascar                                    |  23812681 |   587041 |        0 |  1500 |  2.7 |  0.05872844 | &gt;60% |\n| 121 | Malawi                                        |  17964697 |   118484 |        0 |  1100 |  5.4 |  0.13039735 | &gt;0%  |\n| 122 | Malaysia                                      |  30513848 |   329847 |   597500 | 26300 |  5.9 |  0.43778782 | &gt;35% |\n| 128 | Mauritius                                     |   1339827 |     2040 |        0 | 19500 |  3.5 |  1.05343137 | &gt;5%  |\n| 129 | Mexico                                        | 121736809 |  1964375 |  2459000 | 17500 |  5.1 |  0.19225453 | &gt;35% |\n| 131 | Moldova                                       |   3546847 |    33851 |        0 |  5000 |  8.4 |  0.27626953 | &gt;35% |\n| 132 | Monaco                                        |     30535 |        2 |       NA | 78700 |  1.6 | 38.50000000 | &gt;60% |\n| 137 | Mozambique                                    |  25303113 |   799380 |        0 |  1200 |  5.0 |  0.03794316 | &gt;5%  |\n| 139 | Nepal                                         |  31551305 |   147181 |        0 |  2500 |  4.7 |  0.07367799 | &gt;5%  |\n| 141 | New Caledonia                                 |    271615 |    18575 |        0 | 38800 |   NA |  0.30266487 | &gt;60% |\n| 150 | Panama                                        |   3657024 |    75420 |        0 | 21800 |  3.5 |  0.20070273 | &gt;35% |\n| 152 | Paraguay                                      |   6783272 |   406752 |        0 |  8700 |  4.8 |  0.07881707 | &gt;15% |\n| 153 | Peru                                          |  30444999 |  1285216 |    69300 | 12200 |  2.8 |  0.10945397 | &gt;35% |\n| 160 | Russia                                        | 142423773 | 17098242 | 10840000 | 25400 |  4.1 |  0.07505959 | &gt;35% |\n| 162 | Saint Helena, Ascension, and Tristan da Cunha |      7795 |      308 |        0 |  7800 |   NA |  0.64285714 | &gt;5%  |\n| 165 | Saint Vincent and the Grenadines              |    102627 |      389 |        0 | 11000 |  5.1 |  2.13110540 | &gt;60% |\n| 166 | Samoa                                         |    197773 |     2831 |        0 |  5200 |  5.8 |  0.82550336 | &gt;5%  |\n| 170 | Senegal                                       |  13975834 |   196722 |        0 |  2500 |  5.6 |  0.07120708 | &gt;15% |\n| 177 | Solomon Islands                               |    622469 |    28896 |        0 |  1900 |  7.3 |  0.04810354 | &gt;5%  |\n| 188 | Taiwan                                        |  23415126 |    35980 |      159 | 46800 |   NA |  1.15272373 | &gt;60% |\n| 197 | Tunisia                                       |  11037225 |   163610 |    55050 | 11400 |  6.2 |  0.11868468 | &gt;35% |\n| 206 | Uruguay                                       |   3341893 |   176215 |        0 | 21500 |  4.5 |  0.44112022 | &gt;35% |\n| 208 | Vanuatu                                       |    272264 |    12189 |        0 |  2500 |  5.0 |  0.08778407 | &gt;5%  |\n| 212 | Wallis and Futuna                             |     15613 |      142 |       NA |  3800 |   NA |          NA | &gt;5%  |\n\n",
            "text/latex": "A data.frame: 65 × 8\n\\begin{tabular}{r|llllllll}\n  & country & pop & area & oil\\_prod & gdp & educ & roadways & net\\_users\\\\\n  & <fct> & <int> & <dbl> & <int> & <int> & <dbl> & <dbl> & <fct>\\\\\n\\hline\n\t4 & Andorra                           &    85580 &     468 &      NA & 37200 &   NA & 0.68376068 & >60\\%\\\\\n\t5 & Angola                            & 19625353 & 1246700 & 1742000 &  7300 &  3.5 & 0.04125211 & >15\\%\\\\\n\t7 & Antigua and Barbuda               &    92436 &     443 &       0 & 23600 &  2.4 & 2.64108352 & >60\\%\\\\\n\t9 & Armenia                           &  3056382 &   29743 &       0 &  8500 &  3.3 & 0.25905255 & >35\\%\\\\\n\t10 & Aruba                             &   112162 &     180 &       0 & 25300 &  6.0 &         NA & >60\\%\\\\\n\t18 & Belarus                           &  9589689 &  207600 &   30000 & 17700 &  5.1 & 0.41614643 & >35\\%\\\\\n\t19 & Belgium                           & 11323973 &   30528 &       0 & 43600 &  6.6 & 5.04494235 & >60\\%\\\\\n\t20 & Belize                            &   347369 &   22966 &    1818 &  8400 &  6.6 & 0.12496734 & >15\\%\\\\\n\t28 & British Virgin Islands            &    33454 &     151 &       0 & 42300 &  4.4 & 1.32450331 & >5\\% \\\\\n\t31 & Burkina Faso                      & 18931686 &  274200 &       0 &  1700 &  3.4 & 0.05569657 & >0\\% \\\\\n\t33 & Burundi                           & 10742276 &   27830 &       0 &   800 &  5.8 & 0.44275961 & >0\\% \\\\\n\t34 & Cabo Verde                        &   545993 &    4033 &       0 &  6500 &  5.0 & 0.33473841 & >35\\%\\\\\n\t37 & Canada                            & 35099836 & 9984670 & 3890000 & 45600 &  5.4 & 0.10439003 & >60\\%\\\\\n\t40 & Chad                              & 11631456 & 1284000 &  103400 &  2600 &  2.3 & 0.03115265 & >0\\% \\\\\n\t44 & Colombia                          & 46736728 & 1138910 &  989900 & 13800 &  4.4 & 0.12413097 & >35\\%\\\\\n\t46 & Congo, Democratic Republic of the & 79375136 & 2344858 &   20000 &   800 &  2.5 & 0.06546111 & >0\\% \\\\\n\t48 & Cook Islands                      &     9838 &     236 &       0 & 12300 &  3.1 & 1.35593220 & >5\\% \\\\\n\t49 & Costa Rica                        &  4814144 &   51100 &       0 & 15500 &  6.3 & 0.76356164 & >35\\%\\\\\n\t52 & Cuba                              & 11031433 &  110860 &   50000 & 10200 & 12.8 & 0.54896266 & >15\\%\\\\\n\t55 & Denmark                           &  5581503 &   43094 &  165200 & 45700 &  8.7 & 1.71552884 & >60\\%\\\\\n\t57 & Dominica                          &    73607 &     751 &       0 & 10700 &  3.5 & 2.01331558 & >35\\%\\\\\n\t58 & Dominican Republic                & 10478756 &   48670 &       0 & 15000 &  2.2 & 0.40486953 & >35\\%\\\\\n\t59 & Ecuador                           & 15868396 &  283561 &  556400 & 11300 &  4.4 & 0.15400566 & >35\\%\\\\\n\t60 & Egypt                             & 88487396 & 1001450 &  478400 & 11800 &  3.8 & 0.13723102 & >35\\%\\\\\n\t61 & El Salvador                       &  6141350 &   21041 &       0 &  8300 &  3.4 & 0.32878665 & >15\\%\\\\\n\t63 & Eritrea                           &  6527689 &  117600 &       0 &  1300 &  2.1 & 0.03409864 & >0\\% \\\\\n\t73 & Gambia, The                       &  1967709 &   11295 &       0 &  1600 &  4.1 & 0.33111997 & >5\\% \\\\\n\t78 & Greece                            & 10775643 &  131957 &    1162 & 26400 &  4.1 & 0.88634934 & >35\\%\\\\\n\t82 & Guatemala                         & 14918999 &  108889 &   10040 &  7700 &  3.0 & 0.10562132 & >15\\%\\\\\n\t86 & Guyana                            &   735222 &  214969 &       0 &  7500 &  3.2 & 0.03707511 & >35\\%\\\\\n\t⋮ & ⋮ & ⋮ & ⋮ & ⋮ & ⋮ & ⋮ & ⋮ & ⋮\\\\\n\t105 & Kiribati                                      &    105711 &      811 &        0 &  1800 & 12.0 &  0.82614057 & >5\\% \\\\\n\t106 & Korea, South                                  &  49115196 &    99720 &        0 & 36500 &  5.0 &  1.05277778 & >60\\%\\\\\n\t111 & Lebanon                                       &   6184701 &    10400 &        0 & 18200 &  2.2 &  0.67019231 & >60\\%\\\\\n\t115 & Liechtenstein                                 &     37624 &      160 &       NA & 89400 &  2.1 &  2.37500000 & >60\\%\\\\\n\t118 & Macau                                         &    592731 &       28 &        0 & 98200 &  2.7 & 14.75000000 & >35\\%\\\\\n\t119 & Macedonia                                     &   2096015 &    25713 &        0 & 14000 &   NA &  0.54594952 & >35\\%\\\\\n\t120 & Madagascar                                    &  23812681 &   587041 &        0 &  1500 &  2.7 &  0.05872844 & >60\\%\\\\\n\t121 & Malawi                                        &  17964697 &   118484 &        0 &  1100 &  5.4 &  0.13039735 & >0\\% \\\\\n\t122 & Malaysia                                      &  30513848 &   329847 &   597500 & 26300 &  5.9 &  0.43778782 & >35\\%\\\\\n\t128 & Mauritius                                     &   1339827 &     2040 &        0 & 19500 &  3.5 &  1.05343137 & >5\\% \\\\\n\t129 & Mexico                                        & 121736809 &  1964375 &  2459000 & 17500 &  5.1 &  0.19225453 & >35\\%\\\\\n\t131 & Moldova                                       &   3546847 &    33851 &        0 &  5000 &  8.4 &  0.27626953 & >35\\%\\\\\n\t132 & Monaco                                        &     30535 &        2 &       NA & 78700 &  1.6 & 38.50000000 & >60\\%\\\\\n\t137 & Mozambique                                    &  25303113 &   799380 &        0 &  1200 &  5.0 &  0.03794316 & >5\\% \\\\\n\t139 & Nepal                                         &  31551305 &   147181 &        0 &  2500 &  4.7 &  0.07367799 & >5\\% \\\\\n\t141 & New Caledonia                                 &    271615 &    18575 &        0 & 38800 &   NA &  0.30266487 & >60\\%\\\\\n\t150 & Panama                                        &   3657024 &    75420 &        0 & 21800 &  3.5 &  0.20070273 & >35\\%\\\\\n\t152 & Paraguay                                      &   6783272 &   406752 &        0 &  8700 &  4.8 &  0.07881707 & >15\\%\\\\\n\t153 & Peru                                          &  30444999 &  1285216 &    69300 & 12200 &  2.8 &  0.10945397 & >35\\%\\\\\n\t160 & Russia                                        & 142423773 & 17098242 & 10840000 & 25400 &  4.1 &  0.07505959 & >35\\%\\\\\n\t162 & Saint Helena, Ascension, and Tristan da Cunha &      7795 &      308 &        0 &  7800 &   NA &  0.64285714 & >5\\% \\\\\n\t165 & Saint Vincent and the Grenadines              &    102627 &      389 &        0 & 11000 &  5.1 &  2.13110540 & >60\\%\\\\\n\t166 & Samoa                                         &    197773 &     2831 &        0 &  5200 &  5.8 &  0.82550336 & >5\\% \\\\\n\t170 & Senegal                                       &  13975834 &   196722 &        0 &  2500 &  5.6 &  0.07120708 & >15\\%\\\\\n\t177 & Solomon Islands                               &    622469 &    28896 &        0 &  1900 &  7.3 &  0.04810354 & >5\\% \\\\\n\t188 & Taiwan                                        &  23415126 &    35980 &      159 & 46800 &   NA &  1.15272373 & >60\\%\\\\\n\t197 & Tunisia                                       &  11037225 &   163610 &    55050 & 11400 &  6.2 &  0.11868468 & >35\\%\\\\\n\t206 & Uruguay                                       &   3341893 &   176215 &        0 & 21500 &  4.5 &  0.44112022 & >35\\%\\\\\n\t208 & Vanuatu                                       &    272264 &    12189 &        0 &  2500 &  5.0 &  0.08778407 & >5\\% \\\\\n\t212 & Wallis and Futuna                             &     15613 &      142 &       NA &  3800 &   NA &          NA & >5\\% \\\\\n\\end{tabular}\n",
            "text/plain": [
              "    country                                       pop       area     oil_prod\n",
              "4   Andorra                                          85580      468       NA \n",
              "5   Angola                                        19625353  1246700  1742000 \n",
              "7   Antigua and Barbuda                              92436      443        0 \n",
              "9   Armenia                                        3056382    29743        0 \n",
              "10  Aruba                                           112162      180        0 \n",
              "18  Belarus                                        9589689   207600    30000 \n",
              "19  Belgium                                       11323973    30528        0 \n",
              "20  Belize                                          347369    22966     1818 \n",
              "28  British Virgin Islands                           33454      151        0 \n",
              "31  Burkina Faso                                  18931686   274200        0 \n",
              "33  Burundi                                       10742276    27830        0 \n",
              "34  Cabo Verde                                      545993     4033        0 \n",
              "37  Canada                                        35099836  9984670  3890000 \n",
              "40  Chad                                          11631456  1284000   103400 \n",
              "44  Colombia                                      46736728  1138910   989900 \n",
              "46  Congo, Democratic Republic of the             79375136  2344858    20000 \n",
              "48  Cook Islands                                      9838      236        0 \n",
              "49  Costa Rica                                     4814144    51100        0 \n",
              "52  Cuba                                          11031433   110860    50000 \n",
              "55  Denmark                                        5581503    43094   165200 \n",
              "57  Dominica                                         73607      751        0 \n",
              "58  Dominican Republic                            10478756    48670        0 \n",
              "59  Ecuador                                       15868396   283561   556400 \n",
              "60  Egypt                                         88487396  1001450   478400 \n",
              "61  El Salvador                                    6141350    21041        0 \n",
              "63  Eritrea                                        6527689   117600        0 \n",
              "73  Gambia, The                                    1967709    11295        0 \n",
              "78  Greece                                        10775643   131957     1162 \n",
              "82  Guatemala                                     14918999   108889    10040 \n",
              "86  Guyana                                          735222   214969        0 \n",
              "⋮   ⋮                                             ⋮         ⋮        ⋮       \n",
              "105 Kiribati                                         105711      811        0\n",
              "106 Korea, South                                   49115196    99720        0\n",
              "111 Lebanon                                         6184701    10400        0\n",
              "115 Liechtenstein                                     37624      160       NA\n",
              "118 Macau                                            592731       28        0\n",
              "119 Macedonia                                       2096015    25713        0\n",
              "120 Madagascar                                     23812681   587041        0\n",
              "121 Malawi                                         17964697   118484        0\n",
              "122 Malaysia                                       30513848   329847   597500\n",
              "128 Mauritius                                       1339827     2040        0\n",
              "129 Mexico                                        121736809  1964375  2459000\n",
              "131 Moldova                                         3546847    33851        0\n",
              "132 Monaco                                            30535        2       NA\n",
              "137 Mozambique                                     25303113   799380        0\n",
              "139 Nepal                                          31551305   147181        0\n",
              "141 New Caledonia                                    271615    18575        0\n",
              "150 Panama                                          3657024    75420        0\n",
              "152 Paraguay                                        6783272   406752        0\n",
              "153 Peru                                           30444999  1285216    69300\n",
              "160 Russia                                        142423773 17098242 10840000\n",
              "162 Saint Helena, Ascension, and Tristan da Cunha      7795      308        0\n",
              "165 Saint Vincent and the Grenadines                 102627      389        0\n",
              "166 Samoa                                            197773     2831        0\n",
              "170 Senegal                                        13975834   196722        0\n",
              "177 Solomon Islands                                  622469    28896        0\n",
              "188 Taiwan                                         23415126    35980      159\n",
              "197 Tunisia                                        11037225   163610    55050\n",
              "206 Uruguay                                         3341893   176215        0\n",
              "208 Vanuatu                                          272264    12189        0\n",
              "212 Wallis and Futuna                                 15613      142       NA\n",
              "    gdp   educ roadways    net_users\n",
              "4   37200   NA 0.68376068  >60%     \n",
              "5    7300  3.5 0.04125211  >15%     \n",
              "7   23600  2.4 2.64108352  >60%     \n",
              "9    8500  3.3 0.25905255  >35%     \n",
              "10  25300  6.0         NA  >60%     \n",
              "18  17700  5.1 0.41614643  >35%     \n",
              "19  43600  6.6 5.04494235  >60%     \n",
              "20   8400  6.6 0.12496734  >15%     \n",
              "28  42300  4.4 1.32450331  >5%      \n",
              "31   1700  3.4 0.05569657  >0%      \n",
              "33    800  5.8 0.44275961  >0%      \n",
              "34   6500  5.0 0.33473841  >35%     \n",
              "37  45600  5.4 0.10439003  >60%     \n",
              "40   2600  2.3 0.03115265  >0%      \n",
              "44  13800  4.4 0.12413097  >35%     \n",
              "46    800  2.5 0.06546111  >0%      \n",
              "48  12300  3.1 1.35593220  >5%      \n",
              "49  15500  6.3 0.76356164  >35%     \n",
              "52  10200 12.8 0.54896266  >15%     \n",
              "55  45700  8.7 1.71552884  >60%     \n",
              "57  10700  3.5 2.01331558  >35%     \n",
              "58  15000  2.2 0.40486953  >35%     \n",
              "59  11300  4.4 0.15400566  >35%     \n",
              "60  11800  3.8 0.13723102  >35%     \n",
              "61   8300  3.4 0.32878665  >15%     \n",
              "63   1300  2.1 0.03409864  >0%      \n",
              "73   1600  4.1 0.33111997  >5%      \n",
              "78  26400  4.1 0.88634934  >35%     \n",
              "82   7700  3.0 0.10562132  >15%     \n",
              "86   7500  3.2 0.03707511  >35%     \n",
              "⋮   ⋮     ⋮    ⋮           ⋮        \n",
              "105  1800 12.0  0.82614057 >5%      \n",
              "106 36500  5.0  1.05277778 >60%     \n",
              "111 18200  2.2  0.67019231 >60%     \n",
              "115 89400  2.1  2.37500000 >60%     \n",
              "118 98200  2.7 14.75000000 >35%     \n",
              "119 14000   NA  0.54594952 >35%     \n",
              "120  1500  2.7  0.05872844 >60%     \n",
              "121  1100  5.4  0.13039735 >0%      \n",
              "122 26300  5.9  0.43778782 >35%     \n",
              "128 19500  3.5  1.05343137 >5%      \n",
              "129 17500  5.1  0.19225453 >35%     \n",
              "131  5000  8.4  0.27626953 >35%     \n",
              "132 78700  1.6 38.50000000 >60%     \n",
              "137  1200  5.0  0.03794316 >5%      \n",
              "139  2500  4.7  0.07367799 >5%      \n",
              "141 38800   NA  0.30266487 >60%     \n",
              "150 21800  3.5  0.20070273 >35%     \n",
              "152  8700  4.8  0.07881707 >15%     \n",
              "153 12200  2.8  0.10945397 >35%     \n",
              "160 25400  4.1  0.07505959 >35%     \n",
              "162  7800   NA  0.64285714 >5%      \n",
              "165 11000  5.1  2.13110540 >60%     \n",
              "166  5200  5.8  0.82550336 >5%      \n",
              "170  2500  5.6  0.07120708 >15%     \n",
              "177  1900  7.3  0.04810354 >5%      \n",
              "188 46800   NA  1.15272373 >60%     \n",
              "197 11400  6.2  0.11868468 >35%     \n",
              "206 21500  4.5  0.44112022 >35%     \n",
              "208  2500  5.0  0.08778407 >5%      \n",
              "212  3800   NA          NA >5%      "
            ]
          },
          "metadata": {}
        }
      ],
      "source": [
        "\n",
        "sample_test_data <- cleanedCIA[-training_index, ]\n",
        "sample_test_data\n",
        "\n"
      ]
    },
    {
      "cell_type": "markdown",
      "metadata": {
        "id": "4qkmrMxva-19"
      },
      "source": [
        "Now train and test the model using the random training and test sets, using all of the variables. First create a new training tree.\n",
        "\n"
      ]
    },
    {
      "cell_type": "code",
      "execution_count": null,
      "metadata": {
        "id": "javWu1Kma-19",
        "colab": {
          "base_uri": "https://localhost:8080/",
          "height": 1000
        },
        "outputId": "ad023864-4196-4fec-91d2-d12bfbfa15c0"
      },
      "outputs": [
        {
          "output_type": "display_data",
          "data": {
            "text/plain": [
              "\n",
              "Model formula:\n",
              "net_users ~ country + pop + area + oil_prod + gdp + educ + roadways\n",
              "\n",
              "Fitted party:\n",
              "[1] root\n",
              "|   [2] gdp <= 20800\n",
              "|   |   [3] gdp <= 5600: >0% (n = 45, err = 64.4%)\n",
              "|   |   [4] gdp > 5600: >35% (n = 48, err = 50.0%)\n",
              "|   [5] gdp > 20800: >60% (n = 58, err = 22.4%)\n",
              "\n",
              "Number of inner nodes:    2\n",
              "Number of terminal nodes: 3"
            ]
          },
          "metadata": {}
        },
        {
          "output_type": "display_data",
          "data": {
            "text/plain": [
              "\n",
              "Model formula:\n",
              "net_users ~ country + pop + area + oil_prod + gdp + educ + roadways\n",
              "\n",
              "Fitted party:\n",
              "[1] root\n",
              "|   [2] gdp <= 20800\n",
              "|   |   [3] gdp <= 5600: >0% (n = 46, err = 65.2%)\n",
              "|   |   [4] gdp > 5600: >35% (n = 47, err = 48.9%)\n",
              "|   [5] gdp > 20800: >60% (n = 58, err = 22.4%)\n",
              "\n",
              "Number of inner nodes:    2\n",
              "Number of terminal nodes: 3"
            ]
          },
          "metadata": {}
        },
        {
          "output_type": "display_data",
          "data": {
            "text/plain": [
              "plot without title"
            ],
            "image/png": "[encoded data removed]"
          },
          "metadata": {
            "image/png": {
              "width": 420,
              "height": 420
            }
          }
        },
        {
          "output_type": "display_data",
          "data": {
            "text/plain": [
              "plot without title"
            ],
            "image/png": "[encoded data removed]"
          },
          "metadata": {
            "image/png": {
              "width": 420,
              "height": 420
            }
          }
        }
      ],
      "source": [
        "\n",
        "training_tree <- ctree(net_users ~., data = sample_training_data)\n",
        "training_tree\n",
        "plot(training_tree)\n",
        "\n",
        "training_tree <- ctree(net_users ~ ., data = sample_training_data)\n",
        "training_tree\n",
        "plot(training_tree)\n"
      ]
    },
    {
      "cell_type": "markdown",
      "metadata": {
        "id": "z2IHiDYMa-1-"
      },
      "source": [
        "TASK : Now use the test_data on the training tree to see how well it predicts the outcome.\n",
        "\n"
      ]
    },
    {
      "cell_type": "code",
      "execution_count": null,
      "metadata": {
        "id": "Y8WGJVVUa-1-",
        "colab": {
          "base_uri": "https://localhost:8080/",
          "height": 104
        },
        "outputId": "3a063c6e-23a6-49d5-cd51-9038c3631b74"
      },
      "outputs": [
        {
          "output_type": "display_data",
          "data": {
            "text/html": [
              "<style>\n",
              ".dl-inline {width: auto; margin:0; padding: 0}\n",
              ".dl-inline>dt, .dl-inline>dd {float: none; width: auto; display: inline-block}\n",
              ".dl-inline>dt::after {content: \":\\0020\"; padding-right: .5ex}\n",
              ".dl-inline>dt:not(:first-of-type) {padding-left: .5ex}\n",
              "</style><dl class=dl-inline><dt>4</dt><dd>&gt;60%</dd><dt>5</dt><dd>&gt;35%</dd><dt>7</dt><dd>&gt;60%</dd><dt>9</dt><dd>&gt;35%</dd><dt>10</dt><dd>&gt;60%</dd><dt>18</dt><dd>&gt;35%</dd><dt>19</dt><dd>&gt;60%</dd><dt>20</dt><dd>&gt;35%</dd><dt>28</dt><dd>&gt;60%</dd><dt>31</dt><dd>&gt;0%</dd><dt>33</dt><dd>&gt;0%</dd><dt>34</dt><dd>&gt;35%</dd><dt>37</dt><dd>&gt;60%</dd><dt>40</dt><dd>&gt;0%</dd><dt>44</dt><dd>&gt;35%</dd><dt>46</dt><dd>&gt;0%</dd><dt>48</dt><dd>&gt;35%</dd><dt>49</dt><dd>&gt;35%</dd><dt>52</dt><dd>&gt;35%</dd><dt>55</dt><dd>&gt;60%</dd><dt>57</dt><dd>&gt;35%</dd><dt>58</dt><dd>&gt;35%</dd><dt>59</dt><dd>&gt;35%</dd><dt>60</dt><dd>&gt;35%</dd><dt>61</dt><dd>&gt;35%</dd><dt>63</dt><dd>&gt;0%</dd><dt>73</dt><dd>&gt;0%</dd><dt>78</dt><dd>&gt;60%</dd><dt>82</dt><dd>&gt;35%</dd><dt>86</dt><dd>&gt;35%</dd><dt>88</dt><dd>&gt;0%</dd><dt>89</dt><dd>&gt;60%</dd><dt>91</dt><dd>&gt;60%</dd><dt>96</dt><dd>&gt;60%</dd><dt>104</dt><dd>&gt;0%</dd><dt>105</dt><dd>&gt;0%</dd><dt>106</dt><dd>&gt;60%</dd><dt>111</dt><dd>&gt;35%</dd><dt>115</dt><dd>&gt;60%</dd><dt>118</dt><dd>&gt;60%</dd><dt>119</dt><dd>&gt;35%</dd><dt>120</dt><dd>&gt;0%</dd><dt>121</dt><dd>&gt;0%</dd><dt>122</dt><dd>&gt;60%</dd><dt>128</dt><dd>&gt;35%</dd><dt>129</dt><dd>&gt;35%</dd><dt>131</dt><dd>&gt;0%</dd><dt>132</dt><dd>&gt;60%</dd><dt>137</dt><dd>&gt;0%</dd><dt>139</dt><dd>&gt;0%</dd><dt>141</dt><dd>&gt;60%</dd><dt>150</dt><dd>&gt;60%</dd><dt>152</dt><dd>&gt;35%</dd><dt>153</dt><dd>&gt;35%</dd><dt>160</dt><dd>&gt;60%</dd><dt>162</dt><dd>&gt;35%</dd><dt>165</dt><dd>&gt;35%</dd><dt>166</dt><dd>&gt;0%</dd><dt>170</dt><dd>&gt;0%</dd><dt>177</dt><dd>&gt;0%</dd><dt>188</dt><dd>&gt;60%</dd><dt>197</dt><dd>&gt;35%</dd><dt>206</dt><dd>&gt;60%</dd><dt>208</dt><dd>&gt;0%</dd><dt>212</dt><dd>&gt;0%</dd></dl>\n",
              "\n",
              "<details>\n",
              "\t<summary style=display:list-item;cursor:pointer>\n",
              "\t\t<strong>Levels</strong>:\n",
              "\t</summary>\n",
              "\t<style>\n",
              "\t.list-inline {list-style: none; margin:0; padding: 0}\n",
              "\t.list-inline>li {display: inline-block}\n",
              "\t.list-inline>li:not(:last-child)::after {content: \"\\00b7\"; padding: 0 .5ex}\n",
              "\t</style>\n",
              "\t<ol class=list-inline><li>'&gt;0%'</li><li>'&gt;15%'</li><li>'&gt;35%'</li><li>'&gt;5%'</li><li>'&gt;60%'</li></ol>\n",
              "</details>"
            ],
            "text/markdown": "4\n:   &gt;60%5\n:   &gt;35%7\n:   &gt;60%9\n:   &gt;35%10\n:   &gt;60%18\n:   &gt;35%19\n:   &gt;60%20\n:   &gt;35%28\n:   &gt;60%31\n:   &gt;0%33\n:   &gt;0%34\n:   &gt;35%37\n:   &gt;60%40\n:   &gt;0%44\n:   &gt;35%46\n:   &gt;0%48\n:   &gt;35%49\n:   &gt;35%52\n:   &gt;35%55\n:   &gt;60%57\n:   &gt;35%58\n:   &gt;35%59\n:   &gt;35%60\n:   &gt;35%61\n:   &gt;35%63\n:   &gt;0%73\n:   &gt;0%78\n:   &gt;60%82\n:   &gt;35%86\n:   &gt;35%88\n:   &gt;0%89\n:   &gt;60%91\n:   &gt;60%96\n:   &gt;60%104\n:   &gt;0%105\n:   &gt;0%106\n:   &gt;60%111\n:   &gt;35%115\n:   &gt;60%118\n:   &gt;60%119\n:   &gt;35%120\n:   &gt;0%121\n:   &gt;0%122\n:   &gt;60%128\n:   &gt;35%129\n:   &gt;35%131\n:   &gt;0%132\n:   &gt;60%137\n:   &gt;0%139\n:   &gt;0%141\n:   &gt;60%150\n:   &gt;60%152\n:   &gt;35%153\n:   &gt;35%160\n:   &gt;60%162\n:   &gt;35%165\n:   &gt;35%166\n:   &gt;0%170\n:   &gt;0%177\n:   &gt;0%188\n:   &gt;60%197\n:   &gt;35%206\n:   &gt;60%208\n:   &gt;0%212\n:   &gt;0%\n\n\n**Levels**: 1. '&gt;0%'\n2. '&gt;15%'\n3. '&gt;35%'\n4. '&gt;5%'\n5. '&gt;60%'\n\n\n",
            "text/latex": "\\begin{description*}\n\\item[4] >60\\%\n\\item[5] >35\\%\n\\item[7] >60\\%\n\\item[9] >35\\%\n\\item[10] >60\\%\n\\item[18] >35\\%\n\\item[19] >60\\%\n\\item[20] >35\\%\n\\item[28] >60\\%\n\\item[31] >0\\%\n\\item[33] >0\\%\n\\item[34] >35\\%\n\\item[37] >60\\%\n\\item[40] >0\\%\n\\item[44] >35\\%\n\\item[46] >0\\%\n\\item[48] >35\\%\n\\item[49] >35\\%\n\\item[52] >35\\%\n\\item[55] >60\\%\n\\item[57] >35\\%\n\\item[58] >35\\%\n\\item[59] >35\\%\n\\item[60] >35\\%\n\\item[61] >35\\%\n\\item[63] >0\\%\n\\item[73] >0\\%\n\\item[78] >60\\%\n\\item[82] >35\\%\n\\item[86] >35\\%\n\\item[88] >0\\%\n\\item[89] >60\\%\n\\item[91] >60\\%\n\\item[96] >60\\%\n\\item[104] >0\\%\n\\item[105] >0\\%\n\\item[106] >60\\%\n\\item[111] >35\\%\n\\item[115] >60\\%\n\\item[118] >60\\%\n\\item[119] >35\\%\n\\item[120] >0\\%\n\\item[121] >0\\%\n\\item[122] >60\\%\n\\item[128] >35\\%\n\\item[129] >35\\%\n\\item[131] >0\\%\n\\item[132] >60\\%\n\\item[137] >0\\%\n\\item[139] >0\\%\n\\item[141] >60\\%\n\\item[150] >60\\%\n\\item[152] >35\\%\n\\item[153] >35\\%\n\\item[160] >60\\%\n\\item[162] >35\\%\n\\item[165] >35\\%\n\\item[166] >0\\%\n\\item[170] >0\\%\n\\item[177] >0\\%\n\\item[188] >60\\%\n\\item[197] >35\\%\n\\item[206] >60\\%\n\\item[208] >0\\%\n\\item[212] >0\\%\n\\end{description*}\n\n\\emph{Levels}: \\begin{enumerate*}\n\\item '>0\\%'\n\\item '>15\\%'\n\\item '>35\\%'\n\\item '>5\\%'\n\\item '>60\\%'\n\\end{enumerate*}\n",
            "text/plain": [
              "   4    5    7    9   10   18   19   20   28   31   33   34   37   40   44   46 \n",
              ">60% >35% >60% >35% >60% >35% >60% >35% >60%  >0%  >0% >35% >60%  >0% >35%  >0% \n",
              "  48   49   52   55   57   58   59   60   61   63   73   78   82   86   88   89 \n",
              ">35% >35% >35% >60% >35% >35% >35% >35% >35%  >0%  >0% >60% >35% >35%  >0% >60% \n",
              "  91   96  104  105  106  111  115  118  119  120  121  122  128  129  131  132 \n",
              ">60% >60%  >0%  >0% >60% >35% >60% >60% >35%  >0%  >0% >60% >35% >35%  >0% >60% \n",
              " 137  139  141  150  152  153  160  162  165  166  170  177  188  197  206  208 \n",
              " >0%  >0% >60% >60% >35% >35% >60% >35% >35%  >0%  >0%  >0% >60% >35% >60%  >0% \n",
              " 212 \n",
              " >0% \n",
              "Levels: >0% >15% >35% >5% >60%"
            ]
          },
          "metadata": {}
        }
      ],
      "source": [
        "#predict using the test data\n",
        "\n",
        "predict_data <- predict(training_tree, newdata = sample_test_data)\n",
        "predict_data"
      ]
    },
    {
      "cell_type": "markdown",
      "metadata": {
        "id": "_3umD0hOa-1-"
      },
      "source": [
        "TASK: Create the confusion matrix to compare predicted values with actual values.\n",
        "\n"
      ]
    },
    {
      "cell_type": "code",
      "execution_count": null,
      "metadata": {
        "id": "nOwZpgZ7a-1_",
        "colab": {
          "base_uri": "https://localhost:8080/",
          "height": 139
        },
        "outputId": "72b22b22-0d61-4253-c8b0-4d750b0cf0ce"
      },
      "outputs": [
        {
          "output_type": "display_data",
          "data": {
            "text/plain": [
              "         Actual\n",
              "Predicted >0% >15% >35% >5% >60%\n",
              "     >0%    6    2    2   8    1\n",
              "     >15%   0    0    0   0    0\n",
              "     >35%   0    6   14   3    2\n",
              "     >5%    0    0    0   0    0\n",
              "     >60%   0    0    6   1   14"
            ]
          },
          "metadata": {}
        }
      ],
      "source": [
        "\n",
        "prediction_table <- table(\"Predicted\" = predict_data, \"Actual\" = sample_test_data$net_users)\n",
        "prediction_table\n"
      ]
    },
    {
      "cell_type": "markdown",
      "metadata": {
        "id": "pMu0Ttpca-1_"
      },
      "source": [
        "\n",
        "TASK: Create the  proportion table\n"
      ]
    },
    {
      "cell_type": "code",
      "execution_count": null,
      "metadata": {
        "id": "w6z0w3dfa-1_",
        "colab": {
          "base_uri": "https://localhost:8080/",
          "height": 139
        },
        "outputId": "37b0d9a0-9274-47ed-bf9d-f65e1bdd9eae"
      },
      "outputs": [
        {
          "output_type": "display_data",
          "data": {
            "text/plain": [
              "         Actual\n",
              "Predicted        >0%       >15%       >35%        >5%       >60%\n",
              "     >0%  0.09230769 0.03076923 0.03076923 0.12307692 0.01538462\n",
              "     >15% 0.00000000 0.00000000 0.00000000 0.00000000 0.00000000\n",
              "     >35% 0.00000000 0.09230769 0.21538462 0.04615385 0.03076923\n",
              "     >5%  0.00000000 0.00000000 0.00000000 0.00000000 0.00000000\n",
              "     >60% 0.00000000 0.00000000 0.09230769 0.01538462 0.21538462"
            ]
          },
          "metadata": {}
        }
      ],
      "source": [
        " \n",
        "pred_prop <- prop.table(prediction_table)\n",
        "pred_prop\n"
      ]
    },
    {
      "cell_type": "markdown",
      "metadata": {
        "id": "5o8Nr_z8a-2A"
      },
      "source": [
        "With the tennis example, we had 2 response categories \"yes\" and \"no.\"  So we could calculate accuracy by adding predict yes/actual yes plus predict no/actual no.  With this, we add the proportions along the diagonal (predicted value=actual value in other words the rows and columns have the same label or position).\n",
        "\n",
        "\n",
        "**Try the next challenge and then stop.  We'll walk through the rest together.**\n",
        "\n",
        "CHALLENGE: What is the accuracy of model (% of net_users predicted is same as actual)\n"
      ]
    },
    {
      "cell_type": "code",
      "execution_count": null,
      "metadata": {
        "id": "npNewwAba-2B",
        "colab": {
          "base_uri": "https://localhost:8080/",
          "height": 34
        },
        "outputId": "dbc32f8f-95d5-4370-91cc-6e4be2021cee"
      },
      "outputs": [
        {
          "output_type": "display_data",
          "data": {
            "text/html": [
              "0.538461538461539"
            ],
            "text/markdown": "0.538461538461539",
            "text/latex": "0.538461538461539",
            "text/plain": [
              "[1] 0.5384615"
            ]
          },
          "metadata": {}
        }
      ],
      "source": [
        "\n",
        "pred_prop[\">0%\", \">0%\"] + pred_prop [\">15%\", \">15%\"] + pred_prop[\">35%\", \">35%\"] + pred_prop[\">5%\", \">5%\"] + pred_prop[\">60%\", \">60%\"]\n"
      ]
    },
    {
      "cell_type": "markdown",
      "metadata": {
        "id": "XHJO3pI-a-2B"
      },
      "source": [
        "Do the same thing using row and column indexing\n",
        "\n"
      ]
    },
    {
      "cell_type": "code",
      "execution_count": null,
      "metadata": {
        "id": "gnpIrCv0a-2B",
        "colab": {
          "base_uri": "https://localhost:8080/",
          "height": 34
        },
        "outputId": "139f7353-1afd-4e8b-ce04-4d0364799c9a"
      },
      "outputs": [
        {
          "output_type": "display_data",
          "data": {
            "text/html": [
              "0.523076923076923"
            ],
            "text/markdown": "0.523076923076923",
            "text/latex": "0.523076923076923",
            "text/plain": [
              "[1] 0.5230769"
            ]
          },
          "metadata": {}
        }
      ],
      "source": [
        " \n",
        "pred_prop[1,1] + pred_prop[2,2] + pred_prop[3,3] + pred_prop[4,4] + pred_prop[5,5]\n"
      ]
    },
    {
      "cell_type": "markdown",
      "metadata": {
        "id": "G67SxarIa-2C"
      },
      "source": [
        "We want each entry where the row equals the column.  This is the diagonal.  Then we sum the values of diagonal to compute the accuracy of the predictions.\n",
        "\n"
      ]
    },
    {
      "cell_type": "code",
      "execution_count": null,
      "metadata": {
        "id": "57ICgZQna-2C",
        "colab": {
          "base_uri": "https://localhost:8080/",
          "height": 34
        },
        "outputId": "18c5ad2e-2b6c-4b63-919a-e70049f17978"
      },
      "outputs": [
        {
          "output_type": "display_data",
          "data": {
            "text/html": [
              "0.523076923076923"
            ],
            "text/markdown": "0.523076923076923",
            "text/latex": "0.523076923076923",
            "text/plain": [
              "[1] 0.5230769"
            ]
          },
          "metadata": {}
        }
      ],
      "source": [
        "\n",
        "pred_prop[col(pred_prop)==row(pred_prop)] %>%\n",
        "  sum()\n"
      ]
    },
    {
      "cell_type": "markdown",
      "metadata": {
        "id": "nng25rWja-2C"
      },
      "source": [
        "In the example with tennis, we could calculate false positives and false negatives.  Here, we have more than two categories. But we could calculate over-estimation (predicted is greater than actual) and under-estimation (predicted is less than the actual).   If the columns were ordered by increasing % of net-users, then over-estimation would be everything below the diagonal in the predicted probabilities table.  Conversely, under-estimation would be everything above the diagonal.  \n",
        "\n",
        "Alas, they are not ordered numerically because they're factors that use a default alphabetic order (the 3 in >35% comes before the 5 in >5%). \n",
        "\n",
        "\n",
        "So let's order net_users.  More wrangling!  We're keeping the values as factors but imposing an order.\n"
      ]
    },
    {
      "cell_type": "code",
      "execution_count": null,
      "metadata": {
        "id": "seCDf74ua-2D"
      },
      "outputs": [],
      "source": [
        "\n",
        "cleanedCIA <- cleanedCIA %>%\n",
        "  mutate(net_users = factor(net_users, levels = c(\">0%\",\">5%\",\">15%\",\">35%\",\">60%\")))\n"
      ]
    },
    {
      "cell_type": "markdown",
      "metadata": {
        "id": "GDsdu3f0a-2D"
      },
      "source": [
        "Redo everything with properly ordered response variable starting with the same seed to produce the same random numbers.\n",
        "\n",
        "\n",
        "Reset the seed to get the same set of random numbers\n"
      ]
    },
    {
      "cell_type": "code",
      "execution_count": null,
      "metadata": {
        "id": "ihWgg5isa-2D",
        "colab": {
          "base_uri": "https://localhost:8080/"
        },
        "outputId": "ba6ca535-669a-44cb-b447-916693abd71c"
      },
      "outputs": [
        {
          "output_type": "stream",
          "name": "stderr",
          "text": [
            "Warning message in RNGkind(sample.kind = \"Rounding\"):\n",
            "“non-uniform 'Rounding' sampler used”\n"
          ]
        }
      ],
      "source": [
        "\n",
        "RNGkind(sample.kind=\"Rounding\")\n",
        "set.seed(9999)\n"
      ]
    },
    {
      "cell_type": "markdown",
      "metadata": {
        "id": "OIDzJ1QDa-2E"
      },
      "source": [
        "Divide the dataset into training and test data sets\n",
        "\n"
      ]
    },
    {
      "cell_type": "code",
      "execution_count": null,
      "metadata": {
        "id": "nVJZGsMJa-2E",
        "colab": {
          "base_uri": "https://localhost:8080/",
          "height": 1000
        },
        "outputId": "31bc4e42-694a-4937-92b5-a6bdcf794643"
      },
      "outputs": [
        {
          "output_type": "display_data",
          "data": {
            "text/html": [
              "<table class=\"dataframe\">\n",
              "<caption>A data.frame: 151 × 8</caption>\n",
              "<thead>\n",
              "\t<tr><th></th><th scope=col>country</th><th scope=col>pop</th><th scope=col>area</th><th scope=col>oil_prod</th><th scope=col>gdp</th><th scope=col>educ</th><th scope=col>roadways</th><th scope=col>net_users</th></tr>\n",
              "\t<tr><th></th><th scope=col>&lt;fct&gt;</th><th scope=col>&lt;int&gt;</th><th scope=col>&lt;dbl&gt;</th><th scope=col>&lt;int&gt;</th><th scope=col>&lt;int&gt;</th><th scope=col>&lt;dbl&gt;</th><th scope=col>&lt;dbl&gt;</th><th scope=col>&lt;fct&gt;</th></tr>\n",
              "</thead>\n",
              "<tbody>\n",
              "\t<tr><th scope=row>186</th><td><span style=white-space:pre-wrap>Switzerland           </span></td><td><span style=white-space:pre-wrap>  8121830</span></td><td><span style=white-space:pre-wrap>  41277</span></td><td><span style=white-space:pre-wrap>      0</span></td><td>58600</td><td>5.2</td><td>1.73132737</td><td>&gt;60%</td></tr>\n",
              "\t<tr><th scope=row>142</th><td><span style=white-space:pre-wrap>New Zealand           </span></td><td><span style=white-space:pre-wrap>  4438393</span></td><td> 267710</td><td><span style=white-space:pre-wrap>  39860</span></td><td>36200</td><td>7.4</td><td>0.35172388</td><td>&gt;60%</td></tr>\n",
              "\t<tr><th scope=row>172</th><td><span style=white-space:pre-wrap>Seychelles            </span></td><td><span style=white-space:pre-wrap>    92430</span></td><td><span style=white-space:pre-wrap>    455</span></td><td><span style=white-space:pre-wrap>      0</span></td><td>26300</td><td>3.6</td><td>1.11648352</td><td>&gt;35%</td></tr>\n",
              "\t<tr><th scope=row>45</th><td><span style=white-space:pre-wrap>Comoros               </span></td><td><span style=white-space:pre-wrap>   780971</span></td><td><span style=white-space:pre-wrap>   2235</span></td><td><span style=white-space:pre-wrap>      0</span></td><td> 1500</td><td>7.6</td><td>0.39373602</td><td>&gt;5% </td></tr>\n",
              "\t<tr><th scope=row>147</th><td><span style=white-space:pre-wrap>Norway                </span></td><td><span style=white-space:pre-wrap>  5207689</span></td><td> 323802</td><td>1568000</td><td>68400</td><td>6.9</td><td>0.28989938</td><td>&gt;60%</td></tr>\n",
              "\t<tr><th scope=row>179</th><td><span style=white-space:pre-wrap>South Africa          </span></td><td> 53675563</td><td>1219090</td><td><span style=white-space:pre-wrap>   3000</span></td><td>13200</td><td>6.0</td><td>0.61276362</td><td>&gt;35%</td></tr>\n",
              "\t<tr><th scope=row>47</th><td>Congo, Republic of the</td><td><span style=white-space:pre-wrap>  4755097</span></td><td> 342000</td><td> 250000</td><td> 6700</td><td>6.2</td><td>0.05055263</td><td>&gt;0% </td></tr>\n",
              "\t<tr><th scope=row>214</th><td><span style=white-space:pre-wrap>Yemen                 </span></td><td> 26737317</td><td> 527968</td><td> 125100</td><td> 2700</td><td>5.2</td><td>0.13504606</td><td>&gt;15%</td></tr>\n",
              "\t<tr><th scope=row>208</th><td><span style=white-space:pre-wrap>Vanuatu               </span></td><td><span style=white-space:pre-wrap>   272264</span></td><td><span style=white-space:pre-wrap>  12189</span></td><td><span style=white-space:pre-wrap>      0</span></td><td> 2500</td><td>5.0</td><td>0.08778407</td><td>&gt;5% </td></tr>\n",
              "\t<tr><th scope=row>154</th><td><span style=white-space:pre-wrap>Philippines           </span></td><td>100998376</td><td> 300000</td><td><span style=white-space:pre-wrap>  21000</span></td><td> 7300</td><td>2.7</td><td>0.71050333</td><td>&gt;35%</td></tr>\n",
              "\t<tr><th scope=row>169</th><td><span style=white-space:pre-wrap>Saudi Arabia          </span></td><td> 27752316</td><td>2149690</td><td>9735000</td><td>53600</td><td>5.1</td><td>0.10297857</td><td>&gt;35%</td></tr>\n",
              "\t<tr><th scope=row>6</th><td><span style=white-space:pre-wrap>Anguilla              </span></td><td><span style=white-space:pre-wrap>    16418</span></td><td><span style=white-space:pre-wrap>     91</span></td><td><span style=white-space:pre-wrap>     NA</span></td><td>12200</td><td>2.8</td><td>1.92307692</td><td>&gt;15%</td></tr>\n",
              "\t<tr><th scope=row>35</th><td><span style=white-space:pre-wrap>Cambodia              </span></td><td> 15708756</td><td> 181035</td><td><span style=white-space:pre-wrap>      0</span></td><td> 3500</td><td>2.6</td><td>0.21884166</td><td>&gt;5% </td></tr>\n",
              "\t<tr><th scope=row>156</th><td><span style=white-space:pre-wrap>Portugal              </span></td><td> 10825309</td><td><span style=white-space:pre-wrap>  92090</span></td><td><span style=white-space:pre-wrap>      0</span></td><td>27800</td><td>5.6</td><td>0.90020632</td><td>&gt;60%</td></tr>\n",
              "\t<tr><th scope=row>86</th><td><span style=white-space:pre-wrap>Guyana                </span></td><td><span style=white-space:pre-wrap>   735222</span></td><td> 214969</td><td><span style=white-space:pre-wrap>      0</span></td><td> 7500</td><td>3.2</td><td>0.03707511</td><td>&gt;35%</td></tr>\n",
              "\t<tr><th scope=row>188</th><td><span style=white-space:pre-wrap>Taiwan                </span></td><td> 23415126</td><td><span style=white-space:pre-wrap>  35980</span></td><td><span style=white-space:pre-wrap>    159</span></td><td>46800</td><td> NA</td><td>1.15272373</td><td>&gt;60%</td></tr>\n",
              "\t<tr><th scope=row>185</th><td><span style=white-space:pre-wrap>Sweden                </span></td><td><span style=white-space:pre-wrap>  9801616</span></td><td> 450295</td><td><span style=white-space:pre-wrap>      0</span></td><td>47900</td><td>7.0</td><td>1.28707625</td><td>&gt;60%</td></tr>\n",
              "\t<tr><th scope=row>16</th><td><span style=white-space:pre-wrap>Bangladesh            </span></td><td>168957745</td><td> 143998</td><td><span style=white-space:pre-wrap>   4000</span></td><td> 3600</td><td>2.2</td><td>0.14770344</td><td>&gt;5% </td></tr>\n",
              "\t<tr><th scope=row>166</th><td><span style=white-space:pre-wrap>Samoa                 </span></td><td><span style=white-space:pre-wrap>   197773</span></td><td><span style=white-space:pre-wrap>   2831</span></td><td><span style=white-space:pre-wrap>      0</span></td><td> 5200</td><td>5.8</td><td>0.82550336</td><td>&gt;5% </td></tr>\n",
              "\t<tr><th scope=row>28</th><td>British Virgin Islands</td><td><span style=white-space:pre-wrap>    33454</span></td><td><span style=white-space:pre-wrap>    151</span></td><td><span style=white-space:pre-wrap>      0</span></td><td>42300</td><td>4.4</td><td>1.32450331</td><td>&gt;5% </td></tr>\n",
              "\t<tr><th scope=row>64</th><td><span style=white-space:pre-wrap>Estonia               </span></td><td><span style=white-space:pre-wrap>  1265420</span></td><td><span style=white-space:pre-wrap>  45228</span></td><td><span style=white-space:pre-wrap>      0</span></td><td>28600</td><td>5.7</td><td>1.29150084</td><td>&gt;60%</td></tr>\n",
              "\t<tr><th scope=row>193</th><td><span style=white-space:pre-wrap>Togo                  </span></td><td><span style=white-space:pre-wrap>  7552318</span></td><td><span style=white-space:pre-wrap>  56785</span></td><td><span style=white-space:pre-wrap>      0</span></td><td> 1500</td><td>4.5</td><td>0.20519503</td><td>&gt;0% </td></tr>\n",
              "\t<tr><th scope=row>167</th><td><span style=white-space:pre-wrap>San Marino            </span></td><td><span style=white-space:pre-wrap>    33020</span></td><td><span style=white-space:pre-wrap>     61</span></td><td><span style=white-space:pre-wrap>     NA</span></td><td>63900</td><td> NA</td><td>4.78688525</td><td>&gt;35%</td></tr>\n",
              "\t<tr><th scope=row>106</th><td><span style=white-space:pre-wrap>Korea, South          </span></td><td> 49115196</td><td><span style=white-space:pre-wrap>  99720</span></td><td><span style=white-space:pre-wrap>      0</span></td><td>36500</td><td>5.0</td><td>1.05277778</td><td>&gt;60%</td></tr>\n",
              "\t<tr><th scope=row>65</th><td><span style=white-space:pre-wrap>Ethiopia              </span></td><td> 99465819</td><td>1104300</td><td><span style=white-space:pre-wrap>      0</span></td><td> 1800</td><td>4.7</td><td>0.04016934</td><td>&gt;0% </td></tr>\n",
              "\t<tr><th scope=row>76</th><td><span style=white-space:pre-wrap>Ghana                 </span></td><td> 26327649</td><td> 238533</td><td> 105000</td><td> 4300</td><td>8.1</td><td>0.45911886</td><td>&gt;15%</td></tr>\n",
              "\t<tr><th scope=row>196</th><td><span style=white-space:pre-wrap>Trinidad and Tobago   </span></td><td><span style=white-space:pre-wrap>  1222363</span></td><td><span style=white-space:pre-wrap>   5128</span></td><td><span style=white-space:pre-wrap>  81260</span></td><td>32600</td><td>3.2</td><td>1.62246490</td><td>&gt;60%</td></tr>\n",
              "\t<tr><th scope=row>13</th><td><span style=white-space:pre-wrap>Azerbaijan            </span></td><td><span style=white-space:pre-wrap>  9780780</span></td><td><span style=white-space:pre-wrap>  86600</span></td><td> 845900</td><td>18000</td><td>2.4</td><td>0.61133949</td><td>&gt;35%</td></tr>\n",
              "\t<tr><th scope=row>202</th><td><span style=white-space:pre-wrap>Ukraine               </span></td><td> 44429471</td><td> 603550</td><td><span style=white-space:pre-wrap>  40490</span></td><td> 7500</td><td>6.2</td><td>0.28115980</td><td>&gt;35%</td></tr>\n",
              "\t<tr><th scope=row>192</th><td><span style=white-space:pre-wrap>Timor-Leste           </span></td><td><span style=white-space:pre-wrap>  1231116</span></td><td><span style=white-space:pre-wrap>  14874</span></td><td><span style=white-space:pre-wrap>  76490</span></td><td> 5600</td><td>9.4</td><td>0.40607772</td><td>&gt;0% </td></tr>\n",
              "\t<tr><th scope=row>⋮</th><td>⋮</td><td>⋮</td><td>⋮</td><td>⋮</td><td>⋮</td><td>⋮</td><td>⋮</td><td>⋮</td></tr>\n",
              "\t<tr><th scope=row>195</th><td><span style=white-space:pre-wrap>Tonga                 </span></td><td><span style=white-space:pre-wrap>   106501</span></td><td><span style=white-space:pre-wrap>    747</span></td><td><span style=white-space:pre-wrap>      0</span></td><td> 5100</td><td> 3.9</td><td> 0.91030790</td><td>&gt;35%</td></tr>\n",
              "\t<tr><th scope=row>85</th><td><span style=white-space:pre-wrap>Guinea-Bissau         </span></td><td><span style=white-space:pre-wrap>  1726170</span></td><td><span style=white-space:pre-wrap>  36125</span></td><td><span style=white-space:pre-wrap>      0</span></td><td> 1500</td><td><span style=white-space:pre-wrap>  NA</span></td><td> 0.09564014</td><td>&gt;0% </td></tr>\n",
              "\t<tr><th scope=row>164</th><td><span style=white-space:pre-wrap>Saint Lucia           </span></td><td><span style=white-space:pre-wrap>   163922</span></td><td><span style=white-space:pre-wrap>    616</span></td><td><span style=white-space:pre-wrap>      0</span></td><td>11700</td><td> 4.1</td><td> 1.96428571</td><td>&gt;60%</td></tr>\n",
              "\t<tr><th scope=row>116</th><td><span style=white-space:pre-wrap>Lithuania             </span></td><td><span style=white-space:pre-wrap>  2884433</span></td><td><span style=white-space:pre-wrap>  65300</span></td><td><span style=white-space:pre-wrap>   2000</span></td><td>28400</td><td> 5.4</td><td> 1.28891271</td><td>&gt;60%</td></tr>\n",
              "\t<tr><th scope=row>140</th><td><span style=white-space:pre-wrap>Netherlands           </span></td><td> 16947904</td><td><span style=white-space:pre-wrap>  41543</span></td><td><span style=white-space:pre-wrap>  28120</span></td><td>49200</td><td> 5.9</td><td> 3.35303180</td><td>&gt;60%</td></tr>\n",
              "\t<tr><th scope=row>100</th><td><span style=white-space:pre-wrap>Japan                 </span></td><td>126919659</td><td> 377915</td><td><span style=white-space:pre-wrap>   4666</span></td><td>38100</td><td> 3.8</td><td> 3.20244235</td><td>&gt;60%</td></tr>\n",
              "\t<tr><th scope=row>105</th><td><span style=white-space:pre-wrap>Kiribati              </span></td><td><span style=white-space:pre-wrap>   105711</span></td><td><span style=white-space:pre-wrap>    811</span></td><td><span style=white-space:pre-wrap>      0</span></td><td> 1800</td><td>12.0</td><td> 0.82614057</td><td>&gt;5% </td></tr>\n",
              "\t<tr><th scope=row>101</th><td><span style=white-space:pre-wrap>Jersey                </span></td><td><span style=white-space:pre-wrap>    97294</span></td><td><span style=white-space:pre-wrap>    116</span></td><td><span style=white-space:pre-wrap>     NA</span></td><td>57000</td><td><span style=white-space:pre-wrap>  NA</span></td><td> 4.96551724</td><td>&gt;15%</td></tr>\n",
              "\t<tr><th scope=row>31</th><td><span style=white-space:pre-wrap>Burkina Faso          </span></td><td> 18931686</td><td> 274200</td><td><span style=white-space:pre-wrap>      0</span></td><td> 1700</td><td> 3.4</td><td> 0.05569657</td><td>&gt;0% </td></tr>\n",
              "\t<tr><th scope=row>41</th><td><span style=white-space:pre-wrap>Chile                 </span></td><td> 17508260</td><td> 756102</td><td><span style=white-space:pre-wrap>   6666</span></td><td>23500</td><td> 4.5</td><td> 0.10284856</td><td>&gt;60%</td></tr>\n",
              "\t<tr><th scope=row>123</th><td><span style=white-space:pre-wrap>Maldives              </span></td><td><span style=white-space:pre-wrap>   393253</span></td><td><span style=white-space:pre-wrap>    298</span></td><td><span style=white-space:pre-wrap>      0</span></td><td>14900</td><td> 6.8</td><td> 0.29530201</td><td>&gt;0% </td></tr>\n",
              "\t<tr><th scope=row>1</th><td><span style=white-space:pre-wrap>Afghanistan           </span></td><td> 32564342</td><td> 652230</td><td><span style=white-space:pre-wrap>      0</span></td><td> 1900</td><td><span style=white-space:pre-wrap>  NA</span></td><td> 0.06462444</td><td>&gt;5% </td></tr>\n",
              "\t<tr><th scope=row>118</th><td><span style=white-space:pre-wrap>Macau                 </span></td><td><span style=white-space:pre-wrap>   592731</span></td><td><span style=white-space:pre-wrap>     28</span></td><td><span style=white-space:pre-wrap>      0</span></td><td>98200</td><td> 2.7</td><td>14.75000000</td><td>&gt;35%</td></tr>\n",
              "\t<tr><th scope=row>11</th><td><span style=white-space:pre-wrap>Australia             </span></td><td> 22751014</td><td>7741220</td><td> 354300</td><td>65400</td><td> 5.6</td><td> 0.10634202</td><td>&gt;60%</td></tr>\n",
              "\t<tr><th scope=row>102</th><td><span style=white-space:pre-wrap>Jordan                </span></td><td><span style=white-space:pre-wrap>  8117564</span></td><td><span style=white-space:pre-wrap>  89342</span></td><td><span style=white-space:pre-wrap>     22</span></td><td>12100</td><td><span style=white-space:pre-wrap>  NA</span></td><td> 0.08062277</td><td>&gt;35%</td></tr>\n",
              "\t<tr><th scope=row>14</th><td><span style=white-space:pre-wrap>Bahamas, The          </span></td><td><span style=white-space:pre-wrap>   324597</span></td><td><span style=white-space:pre-wrap>  13880</span></td><td><span style=white-space:pre-wrap>      0</span></td><td>25200</td><td><span style=white-space:pre-wrap>  NA</span></td><td> 0.19452450</td><td>&gt;60%</td></tr>\n",
              "\t<tr><th scope=row>150</th><td><span style=white-space:pre-wrap>Panama                </span></td><td><span style=white-space:pre-wrap>  3657024</span></td><td><span style=white-space:pre-wrap>  75420</span></td><td><span style=white-space:pre-wrap>      0</span></td><td>21800</td><td> 3.5</td><td> 0.20070273</td><td>&gt;35%</td></tr>\n",
              "\t<tr><th scope=row>49</th><td><span style=white-space:pre-wrap>Costa Rica            </span></td><td><span style=white-space:pre-wrap>  4814144</span></td><td><span style=white-space:pre-wrap>  51100</span></td><td><span style=white-space:pre-wrap>      0</span></td><td>15500</td><td> 6.3</td><td> 0.76356164</td><td>&gt;35%</td></tr>\n",
              "\t<tr><th scope=row>163</th><td>Saint Kitts and Nevis </td><td><span style=white-space:pre-wrap>    51936</span></td><td><span style=white-space:pre-wrap>    261</span></td><td><span style=white-space:pre-wrap>      0</span></td><td>24600</td><td> 4.2</td><td> 1.46743295</td><td>&gt;15%</td></tr>\n",
              "\t<tr><th scope=row>30</th><td><span style=white-space:pre-wrap>Bulgaria              </span></td><td><span style=white-space:pre-wrap>  7186893</span></td><td> 110879</td><td><span style=white-space:pre-wrap>   1000</span></td><td>19100</td><td> 4.1</td><td> 0.17597561</td><td>&gt;35%</td></tr>\n",
              "\t<tr><th scope=row>25</th><td>Bosnia and Herzegovina</td><td><span style=white-space:pre-wrap>  3867055</span></td><td><span style=white-space:pre-wrap>  51197</span></td><td><span style=white-space:pre-wrap>      0</span></td><td>10500</td><td><span style=white-space:pre-wrap>  NA</span></td><td> 0.44779968</td><td>&gt;60%</td></tr>\n",
              "\t<tr><th scope=row>115</th><td><span style=white-space:pre-wrap>Liechtenstein         </span></td><td><span style=white-space:pre-wrap>    37624</span></td><td><span style=white-space:pre-wrap>    160</span></td><td><span style=white-space:pre-wrap>     NA</span></td><td>89400</td><td> 2.1</td><td> 2.37500000</td><td>&gt;60%</td></tr>\n",
              "\t<tr><th scope=row>108</th><td><span style=white-space:pre-wrap>Kyrgyzstan            </span></td><td><span style=white-space:pre-wrap>  5664939</span></td><td> 199951</td><td><span style=white-space:pre-wrap>   1000</span></td><td> 3400</td><td> 6.8</td><td> 0.17004166</td><td>&gt;15%</td></tr>\n",
              "\t<tr><th scope=row>37</th><td><span style=white-space:pre-wrap>Canada                </span></td><td> 35099836</td><td>9984670</td><td>3890000</td><td>45600</td><td> 5.4</td><td> 0.10439003</td><td>&gt;60%</td></tr>\n",
              "\t<tr><th scope=row>128</th><td><span style=white-space:pre-wrap>Mauritius             </span></td><td><span style=white-space:pre-wrap>  1339827</span></td><td><span style=white-space:pre-wrap>   2040</span></td><td><span style=white-space:pre-wrap>      0</span></td><td>19500</td><td> 3.5</td><td> 1.05343137</td><td>&gt;5% </td></tr>\n",
              "\t<tr><th scope=row>200</th><td><span style=white-space:pre-wrap>Tuvalu                </span></td><td><span style=white-space:pre-wrap>    10869</span></td><td><span style=white-space:pre-wrap>     26</span></td><td><span style=white-space:pre-wrap>      0</span></td><td> 3400</td><td><span style=white-space:pre-wrap>  NA</span></td><td> 0.30769231</td><td>&gt;35%</td></tr>\n",
              "\t<tr><th scope=row>61</th><td><span style=white-space:pre-wrap>El Salvador           </span></td><td><span style=white-space:pre-wrap>  6141350</span></td><td><span style=white-space:pre-wrap>  21041</span></td><td><span style=white-space:pre-wrap>      0</span></td><td> 8300</td><td> 3.4</td><td> 0.32878665</td><td>&gt;15%</td></tr>\n",
              "\t<tr><th scope=row>51</th><td><span style=white-space:pre-wrap>Croatia               </span></td><td><span style=white-space:pre-wrap>  4464844</span></td><td><span style=white-space:pre-wrap>  56594</span></td><td><span style=white-space:pre-wrap>  10070</span></td><td>21600</td><td> 4.3</td><td> 0.51966640</td><td>&gt;60%</td></tr>\n",
              "\t<tr><th scope=row>27</th><td><span style=white-space:pre-wrap>Brazil                </span></td><td>204259812</td><td>8514877</td><td>2255000</td><td>15600</td><td> 5.8</td><td> 0.18567080</td><td>&gt;35%</td></tr>\n",
              "\t<tr><th scope=row>104</th><td><span style=white-space:pre-wrap>Kenya                 </span></td><td> 45925301</td><td> 580367</td><td><span style=white-space:pre-wrap>      0</span></td><td> 3200</td><td> 6.7</td><td> 0.27720046</td><td>&gt;35%</td></tr>\n",
              "</tbody>\n",
              "</table>\n"
            ],
            "text/markdown": "\nA data.frame: 151 × 8\n\n| <!--/--> | country &lt;fct&gt; | pop &lt;int&gt; | area &lt;dbl&gt; | oil_prod &lt;int&gt; | gdp &lt;int&gt; | educ &lt;dbl&gt; | roadways &lt;dbl&gt; | net_users &lt;fct&gt; |\n|---|---|---|---|---|---|---|---|---|\n| 186 | Switzerland            |   8121830 |   41277 |       0 | 58600 | 5.2 | 1.73132737 | &gt;60% |\n| 142 | New Zealand            |   4438393 |  267710 |   39860 | 36200 | 7.4 | 0.35172388 | &gt;60% |\n| 172 | Seychelles             |     92430 |     455 |       0 | 26300 | 3.6 | 1.11648352 | &gt;35% |\n| 45 | Comoros                |    780971 |    2235 |       0 |  1500 | 7.6 | 0.39373602 | &gt;5%  |\n| 147 | Norway                 |   5207689 |  323802 | 1568000 | 68400 | 6.9 | 0.28989938 | &gt;60% |\n| 179 | South Africa           |  53675563 | 1219090 |    3000 | 13200 | 6.0 | 0.61276362 | &gt;35% |\n| 47 | Congo, Republic of the |   4755097 |  342000 |  250000 |  6700 | 6.2 | 0.05055263 | &gt;0%  |\n| 214 | Yemen                  |  26737317 |  527968 |  125100 |  2700 | 5.2 | 0.13504606 | &gt;15% |\n| 208 | Vanuatu                |    272264 |   12189 |       0 |  2500 | 5.0 | 0.08778407 | &gt;5%  |\n| 154 | Philippines            | 100998376 |  300000 |   21000 |  7300 | 2.7 | 0.71050333 | &gt;35% |\n| 169 | Saudi Arabia           |  27752316 | 2149690 | 9735000 | 53600 | 5.1 | 0.10297857 | &gt;35% |\n| 6 | Anguilla               |     16418 |      91 |      NA | 12200 | 2.8 | 1.92307692 | &gt;15% |\n| 35 | Cambodia               |  15708756 |  181035 |       0 |  3500 | 2.6 | 0.21884166 | &gt;5%  |\n| 156 | Portugal               |  10825309 |   92090 |       0 | 27800 | 5.6 | 0.90020632 | &gt;60% |\n| 86 | Guyana                 |    735222 |  214969 |       0 |  7500 | 3.2 | 0.03707511 | &gt;35% |\n| 188 | Taiwan                 |  23415126 |   35980 |     159 | 46800 |  NA | 1.15272373 | &gt;60% |\n| 185 | Sweden                 |   9801616 |  450295 |       0 | 47900 | 7.0 | 1.28707625 | &gt;60% |\n| 16 | Bangladesh             | 168957745 |  143998 |    4000 |  3600 | 2.2 | 0.14770344 | &gt;5%  |\n| 166 | Samoa                  |    197773 |    2831 |       0 |  5200 | 5.8 | 0.82550336 | &gt;5%  |\n| 28 | British Virgin Islands |     33454 |     151 |       0 | 42300 | 4.4 | 1.32450331 | &gt;5%  |\n| 64 | Estonia                |   1265420 |   45228 |       0 | 28600 | 5.7 | 1.29150084 | &gt;60% |\n| 193 | Togo                   |   7552318 |   56785 |       0 |  1500 | 4.5 | 0.20519503 | &gt;0%  |\n| 167 | San Marino             |     33020 |      61 |      NA | 63900 |  NA | 4.78688525 | &gt;35% |\n| 106 | Korea, South           |  49115196 |   99720 |       0 | 36500 | 5.0 | 1.05277778 | &gt;60% |\n| 65 | Ethiopia               |  99465819 | 1104300 |       0 |  1800 | 4.7 | 0.04016934 | &gt;0%  |\n| 76 | Ghana                  |  26327649 |  238533 |  105000 |  4300 | 8.1 | 0.45911886 | &gt;15% |\n| 196 | Trinidad and Tobago    |   1222363 |    5128 |   81260 | 32600 | 3.2 | 1.62246490 | &gt;60% |\n| 13 | Azerbaijan             |   9780780 |   86600 |  845900 | 18000 | 2.4 | 0.61133949 | &gt;35% |\n| 202 | Ukraine                |  44429471 |  603550 |   40490 |  7500 | 6.2 | 0.28115980 | &gt;35% |\n| 192 | Timor-Leste            |   1231116 |   14874 |   76490 |  5600 | 9.4 | 0.40607772 | &gt;0%  |\n| ⋮ | ⋮ | ⋮ | ⋮ | ⋮ | ⋮ | ⋮ | ⋮ | ⋮ |\n| 195 | Tonga                  |    106501 |     747 |       0 |  5100 |  3.9 |  0.91030790 | &gt;35% |\n| 85 | Guinea-Bissau          |   1726170 |   36125 |       0 |  1500 |   NA |  0.09564014 | &gt;0%  |\n| 164 | Saint Lucia            |    163922 |     616 |       0 | 11700 |  4.1 |  1.96428571 | &gt;60% |\n| 116 | Lithuania              |   2884433 |   65300 |    2000 | 28400 |  5.4 |  1.28891271 | &gt;60% |\n| 140 | Netherlands            |  16947904 |   41543 |   28120 | 49200 |  5.9 |  3.35303180 | &gt;60% |\n| 100 | Japan                  | 126919659 |  377915 |    4666 | 38100 |  3.8 |  3.20244235 | &gt;60% |\n| 105 | Kiribati               |    105711 |     811 |       0 |  1800 | 12.0 |  0.82614057 | &gt;5%  |\n| 101 | Jersey                 |     97294 |     116 |      NA | 57000 |   NA |  4.96551724 | &gt;15% |\n| 31 | Burkina Faso           |  18931686 |  274200 |       0 |  1700 |  3.4 |  0.05569657 | &gt;0%  |\n| 41 | Chile                  |  17508260 |  756102 |    6666 | 23500 |  4.5 |  0.10284856 | &gt;60% |\n| 123 | Maldives               |    393253 |     298 |       0 | 14900 |  6.8 |  0.29530201 | &gt;0%  |\n| 1 | Afghanistan            |  32564342 |  652230 |       0 |  1900 |   NA |  0.06462444 | &gt;5%  |\n| 118 | Macau                  |    592731 |      28 |       0 | 98200 |  2.7 | 14.75000000 | &gt;35% |\n| 11 | Australia              |  22751014 | 7741220 |  354300 | 65400 |  5.6 |  0.10634202 | &gt;60% |\n| 102 | Jordan                 |   8117564 |   89342 |      22 | 12100 |   NA |  0.08062277 | &gt;35% |\n| 14 | Bahamas, The           |    324597 |   13880 |       0 | 25200 |   NA |  0.19452450 | &gt;60% |\n| 150 | Panama                 |   3657024 |   75420 |       0 | 21800 |  3.5 |  0.20070273 | &gt;35% |\n| 49 | Costa Rica             |   4814144 |   51100 |       0 | 15500 |  6.3 |  0.76356164 | &gt;35% |\n| 163 | Saint Kitts and Nevis  |     51936 |     261 |       0 | 24600 |  4.2 |  1.46743295 | &gt;15% |\n| 30 | Bulgaria               |   7186893 |  110879 |    1000 | 19100 |  4.1 |  0.17597561 | &gt;35% |\n| 25 | Bosnia and Herzegovina |   3867055 |   51197 |       0 | 10500 |   NA |  0.44779968 | &gt;60% |\n| 115 | Liechtenstein          |     37624 |     160 |      NA | 89400 |  2.1 |  2.37500000 | &gt;60% |\n| 108 | Kyrgyzstan             |   5664939 |  199951 |    1000 |  3400 |  6.8 |  0.17004166 | &gt;15% |\n| 37 | Canada                 |  35099836 | 9984670 | 3890000 | 45600 |  5.4 |  0.10439003 | &gt;60% |\n| 128 | Mauritius              |   1339827 |    2040 |       0 | 19500 |  3.5 |  1.05343137 | &gt;5%  |\n| 200 | Tuvalu                 |     10869 |      26 |       0 |  3400 |   NA |  0.30769231 | &gt;35% |\n| 61 | El Salvador            |   6141350 |   21041 |       0 |  8300 |  3.4 |  0.32878665 | &gt;15% |\n| 51 | Croatia                |   4464844 |   56594 |   10070 | 21600 |  4.3 |  0.51966640 | &gt;60% |\n| 27 | Brazil                 | 204259812 | 8514877 | 2255000 | 15600 |  5.8 |  0.18567080 | &gt;35% |\n| 104 | Kenya                  |  45925301 |  580367 |       0 |  3200 |  6.7 |  0.27720046 | &gt;35% |\n\n",
            "text/latex": "A data.frame: 151 × 8\n\\begin{tabular}{r|llllllll}\n  & country & pop & area & oil\\_prod & gdp & educ & roadways & net\\_users\\\\\n  & <fct> & <int> & <dbl> & <int> & <int> & <dbl> & <dbl> & <fct>\\\\\n\\hline\n\t186 & Switzerland            &   8121830 &   41277 &       0 & 58600 & 5.2 & 1.73132737 & >60\\%\\\\\n\t142 & New Zealand            &   4438393 &  267710 &   39860 & 36200 & 7.4 & 0.35172388 & >60\\%\\\\\n\t172 & Seychelles             &     92430 &     455 &       0 & 26300 & 3.6 & 1.11648352 & >35\\%\\\\\n\t45 & Comoros                &    780971 &    2235 &       0 &  1500 & 7.6 & 0.39373602 & >5\\% \\\\\n\t147 & Norway                 &   5207689 &  323802 & 1568000 & 68400 & 6.9 & 0.28989938 & >60\\%\\\\\n\t179 & South Africa           &  53675563 & 1219090 &    3000 & 13200 & 6.0 & 0.61276362 & >35\\%\\\\\n\t47 & Congo, Republic of the &   4755097 &  342000 &  250000 &  6700 & 6.2 & 0.05055263 & >0\\% \\\\\n\t214 & Yemen                  &  26737317 &  527968 &  125100 &  2700 & 5.2 & 0.13504606 & >15\\%\\\\\n\t208 & Vanuatu                &    272264 &   12189 &       0 &  2500 & 5.0 & 0.08778407 & >5\\% \\\\\n\t154 & Philippines            & 100998376 &  300000 &   21000 &  7300 & 2.7 & 0.71050333 & >35\\%\\\\\n\t169 & Saudi Arabia           &  27752316 & 2149690 & 9735000 & 53600 & 5.1 & 0.10297857 & >35\\%\\\\\n\t6 & Anguilla               &     16418 &      91 &      NA & 12200 & 2.8 & 1.92307692 & >15\\%\\\\\n\t35 & Cambodia               &  15708756 &  181035 &       0 &  3500 & 2.6 & 0.21884166 & >5\\% \\\\\n\t156 & Portugal               &  10825309 &   92090 &       0 & 27800 & 5.6 & 0.90020632 & >60\\%\\\\\n\t86 & Guyana                 &    735222 &  214969 &       0 &  7500 & 3.2 & 0.03707511 & >35\\%\\\\\n\t188 & Taiwan                 &  23415126 &   35980 &     159 & 46800 &  NA & 1.15272373 & >60\\%\\\\\n\t185 & Sweden                 &   9801616 &  450295 &       0 & 47900 & 7.0 & 1.28707625 & >60\\%\\\\\n\t16 & Bangladesh             & 168957745 &  143998 &    4000 &  3600 & 2.2 & 0.14770344 & >5\\% \\\\\n\t166 & Samoa                  &    197773 &    2831 &       0 &  5200 & 5.8 & 0.82550336 & >5\\% \\\\\n\t28 & British Virgin Islands &     33454 &     151 &       0 & 42300 & 4.4 & 1.32450331 & >5\\% \\\\\n\t64 & Estonia                &   1265420 &   45228 &       0 & 28600 & 5.7 & 1.29150084 & >60\\%\\\\\n\t193 & Togo                   &   7552318 &   56785 &       0 &  1500 & 4.5 & 0.20519503 & >0\\% \\\\\n\t167 & San Marino             &     33020 &      61 &      NA & 63900 &  NA & 4.78688525 & >35\\%\\\\\n\t106 & Korea, South           &  49115196 &   99720 &       0 & 36500 & 5.0 & 1.05277778 & >60\\%\\\\\n\t65 & Ethiopia               &  99465819 & 1104300 &       0 &  1800 & 4.7 & 0.04016934 & >0\\% \\\\\n\t76 & Ghana                  &  26327649 &  238533 &  105000 &  4300 & 8.1 & 0.45911886 & >15\\%\\\\\n\t196 & Trinidad and Tobago    &   1222363 &    5128 &   81260 & 32600 & 3.2 & 1.62246490 & >60\\%\\\\\n\t13 & Azerbaijan             &   9780780 &   86600 &  845900 & 18000 & 2.4 & 0.61133949 & >35\\%\\\\\n\t202 & Ukraine                &  44429471 &  603550 &   40490 &  7500 & 6.2 & 0.28115980 & >35\\%\\\\\n\t192 & Timor-Leste            &   1231116 &   14874 &   76490 &  5600 & 9.4 & 0.40607772 & >0\\% \\\\\n\t⋮ & ⋮ & ⋮ & ⋮ & ⋮ & ⋮ & ⋮ & ⋮ & ⋮\\\\\n\t195 & Tonga                  &    106501 &     747 &       0 &  5100 &  3.9 &  0.91030790 & >35\\%\\\\\n\t85 & Guinea-Bissau          &   1726170 &   36125 &       0 &  1500 &   NA &  0.09564014 & >0\\% \\\\\n\t164 & Saint Lucia            &    163922 &     616 &       0 & 11700 &  4.1 &  1.96428571 & >60\\%\\\\\n\t116 & Lithuania              &   2884433 &   65300 &    2000 & 28400 &  5.4 &  1.28891271 & >60\\%\\\\\n\t140 & Netherlands            &  16947904 &   41543 &   28120 & 49200 &  5.9 &  3.35303180 & >60\\%\\\\\n\t100 & Japan                  & 126919659 &  377915 &    4666 & 38100 &  3.8 &  3.20244235 & >60\\%\\\\\n\t105 & Kiribati               &    105711 &     811 &       0 &  1800 & 12.0 &  0.82614057 & >5\\% \\\\\n\t101 & Jersey                 &     97294 &     116 &      NA & 57000 &   NA &  4.96551724 & >15\\%\\\\\n\t31 & Burkina Faso           &  18931686 &  274200 &       0 &  1700 &  3.4 &  0.05569657 & >0\\% \\\\\n\t41 & Chile                  &  17508260 &  756102 &    6666 & 23500 &  4.5 &  0.10284856 & >60\\%\\\\\n\t123 & Maldives               &    393253 &     298 &       0 & 14900 &  6.8 &  0.29530201 & >0\\% \\\\\n\t1 & Afghanistan            &  32564342 &  652230 &       0 &  1900 &   NA &  0.06462444 & >5\\% \\\\\n\t118 & Macau                  &    592731 &      28 &       0 & 98200 &  2.7 & 14.75000000 & >35\\%\\\\\n\t11 & Australia              &  22751014 & 7741220 &  354300 & 65400 &  5.6 &  0.10634202 & >60\\%\\\\\n\t102 & Jordan                 &   8117564 &   89342 &      22 & 12100 &   NA &  0.08062277 & >35\\%\\\\\n\t14 & Bahamas, The           &    324597 &   13880 &       0 & 25200 &   NA &  0.19452450 & >60\\%\\\\\n\t150 & Panama                 &   3657024 &   75420 &       0 & 21800 &  3.5 &  0.20070273 & >35\\%\\\\\n\t49 & Costa Rica             &   4814144 &   51100 &       0 & 15500 &  6.3 &  0.76356164 & >35\\%\\\\\n\t163 & Saint Kitts and Nevis  &     51936 &     261 &       0 & 24600 &  4.2 &  1.46743295 & >15\\%\\\\\n\t30 & Bulgaria               &   7186893 &  110879 &    1000 & 19100 &  4.1 &  0.17597561 & >35\\%\\\\\n\t25 & Bosnia and Herzegovina &   3867055 &   51197 &       0 & 10500 &   NA &  0.44779968 & >60\\%\\\\\n\t115 & Liechtenstein          &     37624 &     160 &      NA & 89400 &  2.1 &  2.37500000 & >60\\%\\\\\n\t108 & Kyrgyzstan             &   5664939 &  199951 &    1000 &  3400 &  6.8 &  0.17004166 & >15\\%\\\\\n\t37 & Canada                 &  35099836 & 9984670 & 3890000 & 45600 &  5.4 &  0.10439003 & >60\\%\\\\\n\t128 & Mauritius              &   1339827 &    2040 &       0 & 19500 &  3.5 &  1.05343137 & >5\\% \\\\\n\t200 & Tuvalu                 &     10869 &      26 &       0 &  3400 &   NA &  0.30769231 & >35\\%\\\\\n\t61 & El Salvador            &   6141350 &   21041 &       0 &  8300 &  3.4 &  0.32878665 & >15\\%\\\\\n\t51 & Croatia                &   4464844 &   56594 &   10070 & 21600 &  4.3 &  0.51966640 & >60\\%\\\\\n\t27 & Brazil                 & 204259812 & 8514877 & 2255000 & 15600 &  5.8 &  0.18567080 & >35\\%\\\\\n\t104 & Kenya                  &  45925301 &  580367 &       0 &  3200 &  6.7 &  0.27720046 & >35\\%\\\\\n\\end{tabular}\n",
            "text/plain": [
              "    country                pop       area    oil_prod gdp   educ roadways   \n",
              "186 Switzerland              8121830   41277       0  58600 5.2  1.73132737 \n",
              "142 New Zealand              4438393  267710   39860  36200 7.4  0.35172388 \n",
              "172 Seychelles                 92430     455       0  26300 3.6  1.11648352 \n",
              "45  Comoros                   780971    2235       0   1500 7.6  0.39373602 \n",
              "147 Norway                   5207689  323802 1568000  68400 6.9  0.28989938 \n",
              "179 South Africa            53675563 1219090    3000  13200 6.0  0.61276362 \n",
              "47  Congo, Republic of the   4755097  342000  250000   6700 6.2  0.05055263 \n",
              "214 Yemen                   26737317  527968  125100   2700 5.2  0.13504606 \n",
              "208 Vanuatu                   272264   12189       0   2500 5.0  0.08778407 \n",
              "154 Philippines            100998376  300000   21000   7300 2.7  0.71050333 \n",
              "169 Saudi Arabia            27752316 2149690 9735000  53600 5.1  0.10297857 \n",
              "6   Anguilla                   16418      91      NA  12200 2.8  1.92307692 \n",
              "35  Cambodia                15708756  181035       0   3500 2.6  0.21884166 \n",
              "156 Portugal                10825309   92090       0  27800 5.6  0.90020632 \n",
              "86  Guyana                    735222  214969       0   7500 3.2  0.03707511 \n",
              "188 Taiwan                  23415126   35980     159  46800  NA  1.15272373 \n",
              "185 Sweden                   9801616  450295       0  47900 7.0  1.28707625 \n",
              "16  Bangladesh             168957745  143998    4000   3600 2.2  0.14770344 \n",
              "166 Samoa                     197773    2831       0   5200 5.8  0.82550336 \n",
              "28  British Virgin Islands     33454     151       0  42300 4.4  1.32450331 \n",
              "64  Estonia                  1265420   45228       0  28600 5.7  1.29150084 \n",
              "193 Togo                     7552318   56785       0   1500 4.5  0.20519503 \n",
              "167 San Marino                 33020      61      NA  63900  NA  4.78688525 \n",
              "106 Korea, South            49115196   99720       0  36500 5.0  1.05277778 \n",
              "65  Ethiopia                99465819 1104300       0   1800 4.7  0.04016934 \n",
              "76  Ghana                   26327649  238533  105000   4300 8.1  0.45911886 \n",
              "196 Trinidad and Tobago      1222363    5128   81260  32600 3.2  1.62246490 \n",
              "13  Azerbaijan               9780780   86600  845900  18000 2.4  0.61133949 \n",
              "202 Ukraine                 44429471  603550   40490   7500 6.2  0.28115980 \n",
              "192 Timor-Leste              1231116   14874   76490   5600 9.4  0.40607772 \n",
              "⋮   ⋮                      ⋮         ⋮       ⋮        ⋮     ⋮    ⋮          \n",
              "195 Tonga                     106501     747       0   5100  3.9  0.91030790\n",
              "85  Guinea-Bissau            1726170   36125       0   1500   NA  0.09564014\n",
              "164 Saint Lucia               163922     616       0  11700  4.1  1.96428571\n",
              "116 Lithuania                2884433   65300    2000  28400  5.4  1.28891271\n",
              "140 Netherlands             16947904   41543   28120  49200  5.9  3.35303180\n",
              "100 Japan                  126919659  377915    4666  38100  3.8  3.20244235\n",
              "105 Kiribati                  105711     811       0   1800 12.0  0.82614057\n",
              "101 Jersey                     97294     116      NA  57000   NA  4.96551724\n",
              "31  Burkina Faso            18931686  274200       0   1700  3.4  0.05569657\n",
              "41  Chile                   17508260  756102    6666  23500  4.5  0.10284856\n",
              "123 Maldives                  393253     298       0  14900  6.8  0.29530201\n",
              "1   Afghanistan             32564342  652230       0   1900   NA  0.06462444\n",
              "118 Macau                     592731      28       0  98200  2.7 14.75000000\n",
              "11  Australia               22751014 7741220  354300  65400  5.6  0.10634202\n",
              "102 Jordan                   8117564   89342      22  12100   NA  0.08062277\n",
              "14  Bahamas, The              324597   13880       0  25200   NA  0.19452450\n",
              "150 Panama                   3657024   75420       0  21800  3.5  0.20070273\n",
              "49  Costa Rica               4814144   51100       0  15500  6.3  0.76356164\n",
              "163 Saint Kitts and Nevis      51936     261       0  24600  4.2  1.46743295\n",
              "30  Bulgaria                 7186893  110879    1000  19100  4.1  0.17597561\n",
              "25  Bosnia and Herzegovina   3867055   51197       0  10500   NA  0.44779968\n",
              "115 Liechtenstein              37624     160      NA  89400  2.1  2.37500000\n",
              "108 Kyrgyzstan               5664939  199951    1000   3400  6.8  0.17004166\n",
              "37  Canada                  35099836 9984670 3890000  45600  5.4  0.10439003\n",
              "128 Mauritius                1339827    2040       0  19500  3.5  1.05343137\n",
              "200 Tuvalu                     10869      26       0   3400   NA  0.30769231\n",
              "61  El Salvador              6141350   21041       0   8300  3.4  0.32878665\n",
              "51  Croatia                  4464844   56594   10070  21600  4.3  0.51966640\n",
              "27  Brazil                 204259812 8514877 2255000  15600  5.8  0.18567080\n",
              "104 Kenya                   45925301  580367       0   3200  6.7  0.27720046\n",
              "    net_users\n",
              "186 >60%     \n",
              "142 >60%     \n",
              "172 >35%     \n",
              "45  >5%      \n",
              "147 >60%     \n",
              "179 >35%     \n",
              "47  >0%      \n",
              "214 >15%     \n",
              "208 >5%      \n",
              "154 >35%     \n",
              "169 >35%     \n",
              "6   >15%     \n",
              "35  >5%      \n",
              "156 >60%     \n",
              "86  >35%     \n",
              "188 >60%     \n",
              "185 >60%     \n",
              "16  >5%      \n",
              "166 >5%      \n",
              "28  >5%      \n",
              "64  >60%     \n",
              "193 >0%      \n",
              "167 >35%     \n",
              "106 >60%     \n",
              "65  >0%      \n",
              "76  >15%     \n",
              "196 >60%     \n",
              "13  >35%     \n",
              "202 >35%     \n",
              "192 >0%      \n",
              "⋮   ⋮        \n",
              "195 >35%     \n",
              "85  >0%      \n",
              "164 >60%     \n",
              "116 >60%     \n",
              "140 >60%     \n",
              "100 >60%     \n",
              "105 >5%      \n",
              "101 >15%     \n",
              "31  >0%      \n",
              "41  >60%     \n",
              "123 >0%      \n",
              "1   >5%      \n",
              "118 >35%     \n",
              "11  >60%     \n",
              "102 >35%     \n",
              "14  >60%     \n",
              "150 >35%     \n",
              "49  >35%     \n",
              "163 >15%     \n",
              "30  >35%     \n",
              "25  >60%     \n",
              "115 >60%     \n",
              "108 >15%     \n",
              "37  >60%     \n",
              "128 >5%      \n",
              "200 >35%     \n",
              "61  >15%     \n",
              "51  >60%     \n",
              "27  >35%     \n",
              "104 >35%     "
            ]
          },
          "metadata": {}
        }
      ],
      "source": [
        "###################################################################\n",
        "training_index <- sample(nrow(cleanedCIA), nrow(cleanedCIA)*.7)\n",
        "sample_training_data <- cleanedCIA[training_index,]\n",
        "sample_training_data\n"
      ]
    },
    {
      "cell_type": "markdown",
      "metadata": {
        "id": "ICu9svkYa-2E"
      },
      "source": [
        "\n",
        "Create the test set by selecting every observation that is NOT in the training set  (-training_index).  NOTE the comma indicates we want every column for the selected rows.\n"
      ]
    },
    {
      "cell_type": "code",
      "execution_count": null,
      "metadata": {
        "id": "ofE1pyJga-2F",
        "colab": {
          "base_uri": "https://localhost:8080/",
          "height": 1000
        },
        "outputId": "29353953-5ba8-4fe9-f232-34c376613883"
      },
      "outputs": [
        {
          "output_type": "display_data",
          "data": {
            "text/html": [
              "<table class=\"dataframe\">\n",
              "<caption>A data.frame: 65 × 8</caption>\n",
              "<thead>\n",
              "\t<tr><th></th><th scope=col>country</th><th scope=col>pop</th><th scope=col>area</th><th scope=col>oil_prod</th><th scope=col>gdp</th><th scope=col>educ</th><th scope=col>roadways</th><th scope=col>net_users</th></tr>\n",
              "\t<tr><th></th><th scope=col>&lt;fct&gt;</th><th scope=col>&lt;int&gt;</th><th scope=col>&lt;dbl&gt;</th><th scope=col>&lt;int&gt;</th><th scope=col>&lt;int&gt;</th><th scope=col>&lt;dbl&gt;</th><th scope=col>&lt;dbl&gt;</th><th scope=col>&lt;fct&gt;</th></tr>\n",
              "</thead>\n",
              "<tbody>\n",
              "\t<tr><th scope=row>4</th><td><span style=white-space:pre-wrap>Andorra                          </span></td><td><span style=white-space:pre-wrap>   85580</span></td><td><span style=white-space:pre-wrap>    468</span></td><td><span style=white-space:pre-wrap>     NA</span></td><td>37200</td><td> NA</td><td>0.68376068</td><td>&gt;60%</td></tr>\n",
              "\t<tr><th scope=row>5</th><td><span style=white-space:pre-wrap>Angola                           </span></td><td>19625353</td><td>1246700</td><td>1742000</td><td> 7300</td><td>3.5</td><td>0.04125211</td><td>&gt;15%</td></tr>\n",
              "\t<tr><th scope=row>7</th><td><span style=white-space:pre-wrap>Antigua and Barbuda              </span></td><td><span style=white-space:pre-wrap>   92436</span></td><td><span style=white-space:pre-wrap>    443</span></td><td><span style=white-space:pre-wrap>      0</span></td><td>23600</td><td>2.4</td><td>2.64108352</td><td>&gt;60%</td></tr>\n",
              "\t<tr><th scope=row>9</th><td><span style=white-space:pre-wrap>Armenia                          </span></td><td> 3056382</td><td><span style=white-space:pre-wrap>  29743</span></td><td><span style=white-space:pre-wrap>      0</span></td><td> 8500</td><td>3.3</td><td>0.25905255</td><td>&gt;35%</td></tr>\n",
              "\t<tr><th scope=row>10</th><td><span style=white-space:pre-wrap>Aruba                            </span></td><td><span style=white-space:pre-wrap>  112162</span></td><td><span style=white-space:pre-wrap>    180</span></td><td><span style=white-space:pre-wrap>      0</span></td><td>25300</td><td>6.0</td><td><span style=white-space:pre-wrap>        NA</span></td><td>&gt;60%</td></tr>\n",
              "\t<tr><th scope=row>15</th><td><span style=white-space:pre-wrap>Bahrain                          </span></td><td> 1346613</td><td><span style=white-space:pre-wrap>    760</span></td><td><span style=white-space:pre-wrap>  49500</span></td><td>50100</td><td>2.6</td><td>5.42368421</td><td>&gt;60%</td></tr>\n",
              "\t<tr><th scope=row>18</th><td><span style=white-space:pre-wrap>Belarus                          </span></td><td> 9589689</td><td> 207600</td><td><span style=white-space:pre-wrap>  30000</span></td><td>17700</td><td>5.1</td><td>0.41614643</td><td>&gt;35%</td></tr>\n",
              "\t<tr><th scope=row>19</th><td><span style=white-space:pre-wrap>Belgium                          </span></td><td>11323973</td><td><span style=white-space:pre-wrap>  30528</span></td><td><span style=white-space:pre-wrap>      0</span></td><td>43600</td><td>6.6</td><td>5.04494235</td><td>&gt;60%</td></tr>\n",
              "\t<tr><th scope=row>20</th><td><span style=white-space:pre-wrap>Belize                           </span></td><td><span style=white-space:pre-wrap>  347369</span></td><td><span style=white-space:pre-wrap>  22966</span></td><td><span style=white-space:pre-wrap>   1818</span></td><td> 8400</td><td>6.6</td><td>0.12496734</td><td>&gt;15%</td></tr>\n",
              "\t<tr><th scope=row>23</th><td><span style=white-space:pre-wrap>Bhutan                           </span></td><td><span style=white-space:pre-wrap>  741919</span></td><td><span style=white-space:pre-wrap>  38394</span></td><td><span style=white-space:pre-wrap>      0</span></td><td> 8200</td><td>4.7</td><td>0.27551180</td><td>&gt;15%</td></tr>\n",
              "\t<tr><th scope=row>32</th><td><span style=white-space:pre-wrap>Burma                            </span></td><td>56320206</td><td> 676578</td><td><span style=white-space:pre-wrap>  20000</span></td><td> 5500</td><td>0.8</td><td>0.05081011</td><td>&gt;0% </td></tr>\n",
              "\t<tr><th scope=row>33</th><td><span style=white-space:pre-wrap>Burundi                          </span></td><td>10742276</td><td><span style=white-space:pre-wrap>  27830</span></td><td><span style=white-space:pre-wrap>      0</span></td><td><span style=white-space:pre-wrap>  800</span></td><td>5.8</td><td>0.44275961</td><td>&gt;0% </td></tr>\n",
              "\t<tr><th scope=row>34</th><td><span style=white-space:pre-wrap>Cabo Verde                       </span></td><td><span style=white-space:pre-wrap>  545993</span></td><td><span style=white-space:pre-wrap>   4033</span></td><td><span style=white-space:pre-wrap>      0</span></td><td> 6500</td><td>5.0</td><td>0.33473841</td><td>&gt;35%</td></tr>\n",
              "\t<tr><th scope=row>36</th><td><span style=white-space:pre-wrap>Cameroon                         </span></td><td>23739218</td><td> 475440</td><td><span style=white-space:pre-wrap>  80830</span></td><td> 3100</td><td>3.2</td><td>0.10800522</td><td>&gt;5% </td></tr>\n",
              "\t<tr><th scope=row>43</th><td><span style=white-space:pre-wrap>Christmas Island                 </span></td><td><span style=white-space:pre-wrap>    1530</span></td><td><span style=white-space:pre-wrap>    135</span></td><td><span style=white-space:pre-wrap>     NA</span></td><td><span style=white-space:pre-wrap>   NA</span></td><td> NA</td><td>1.03703704</td><td>&gt;15%</td></tr>\n",
              "\t<tr><th scope=row>46</th><td>Congo, Democratic Republic of the</td><td>79375136</td><td>2344858</td><td><span style=white-space:pre-wrap>  20000</span></td><td><span style=white-space:pre-wrap>  800</span></td><td>2.5</td><td>0.06546111</td><td>&gt;0% </td></tr>\n",
              "\t<tr><th scope=row>48</th><td><span style=white-space:pre-wrap>Cook Islands                     </span></td><td><span style=white-space:pre-wrap>    9838</span></td><td><span style=white-space:pre-wrap>    236</span></td><td><span style=white-space:pre-wrap>      0</span></td><td>12300</td><td>3.1</td><td>1.35593220</td><td>&gt;5% </td></tr>\n",
              "\t<tr><th scope=row>54</th><td><span style=white-space:pre-wrap>Czechia                          </span></td><td>10644842</td><td><span style=white-space:pre-wrap>  78867</span></td><td><span style=white-space:pre-wrap>   3000</span></td><td>31600</td><td>4.2</td><td>1.65685268</td><td>&gt;60%</td></tr>\n",
              "\t<tr><th scope=row>56</th><td><span style=white-space:pre-wrap>Djibouti                         </span></td><td><span style=white-space:pre-wrap>  828324</span></td><td><span style=white-space:pre-wrap>  23200</span></td><td><span style=white-space:pre-wrap>      0</span></td><td> 3200</td><td>8.4</td><td>0.13211207</td><td>&gt;5% </td></tr>\n",
              "\t<tr><th scope=row>57</th><td><span style=white-space:pre-wrap>Dominica                         </span></td><td><span style=white-space:pre-wrap>   73607</span></td><td><span style=white-space:pre-wrap>    751</span></td><td><span style=white-space:pre-wrap>      0</span></td><td>10700</td><td>3.5</td><td>2.01331558</td><td>&gt;35%</td></tr>\n",
              "\t<tr><th scope=row>58</th><td><span style=white-space:pre-wrap>Dominican Republic               </span></td><td>10478756</td><td><span style=white-space:pre-wrap>  48670</span></td><td><span style=white-space:pre-wrap>      0</span></td><td>15000</td><td>2.2</td><td>0.40486953</td><td>&gt;35%</td></tr>\n",
              "\t<tr><th scope=row>59</th><td><span style=white-space:pre-wrap>Ecuador                          </span></td><td>15868396</td><td> 283561</td><td> 556400</td><td>11300</td><td>4.4</td><td>0.15400566</td><td>&gt;35%</td></tr>\n",
              "\t<tr><th scope=row>60</th><td><span style=white-space:pre-wrap>Egypt                            </span></td><td>88487396</td><td>1001450</td><td> 478400</td><td>11800</td><td>3.8</td><td>0.13723102</td><td>&gt;35%</td></tr>\n",
              "\t<tr><th scope=row>63</th><td><span style=white-space:pre-wrap>Eritrea                          </span></td><td> 6527689</td><td> 117600</td><td><span style=white-space:pre-wrap>      0</span></td><td> 1300</td><td>2.1</td><td>0.03409864</td><td>&gt;0% </td></tr>\n",
              "\t<tr><th scope=row>68</th><td><span style=white-space:pre-wrap>Fiji                             </span></td><td><span style=white-space:pre-wrap>  909389</span></td><td><span style=white-space:pre-wrap>  18274</span></td><td><span style=white-space:pre-wrap>      0</span></td><td> 9000</td><td>4.2</td><td>0.18824559</td><td>&gt;35%</td></tr>\n",
              "\t<tr><th scope=row>70</th><td><span style=white-space:pre-wrap>France                           </span></td><td>66553766</td><td> 643801</td><td><span style=white-space:pre-wrap>  15340</span></td><td>41200</td><td>5.9</td><td>1.59745946</td><td>&gt;60%</td></tr>\n",
              "\t<tr><th scope=row>71</th><td><span style=white-space:pre-wrap>French Polynesia                 </span></td><td><span style=white-space:pre-wrap>  282703</span></td><td><span style=white-space:pre-wrap>   4167</span></td><td><span style=white-space:pre-wrap>      0</span></td><td>26100</td><td> NA</td><td>0.62155028</td><td>&gt;35%</td></tr>\n",
              "\t<tr><th scope=row>73</th><td><span style=white-space:pre-wrap>Gambia, The                      </span></td><td> 1967709</td><td><span style=white-space:pre-wrap>  11295</span></td><td><span style=white-space:pre-wrap>      0</span></td><td> 1600</td><td>4.1</td><td>0.33111997</td><td>&gt;5% </td></tr>\n",
              "\t<tr><th scope=row>77</th><td><span style=white-space:pre-wrap>Gibraltar                        </span></td><td><span style=white-space:pre-wrap>   29258</span></td><td><span style=white-space:pre-wrap>      7</span></td><td><span style=white-space:pre-wrap>      0</span></td><td>43000</td><td> NA</td><td>4.14285714</td><td>&gt;60%</td></tr>\n",
              "\t<tr><th scope=row>81</th><td><span style=white-space:pre-wrap>Guam                             </span></td><td><span style=white-space:pre-wrap>  161785</span></td><td><span style=white-space:pre-wrap>    544</span></td><td><span style=white-space:pre-wrap>      0</span></td><td>30500</td><td> NA</td><td>1.92095588</td><td>&gt;60%</td></tr>\n",
              "\t<tr><th scope=row>⋮</th><td>⋮</td><td>⋮</td><td>⋮</td><td>⋮</td><td>⋮</td><td>⋮</td><td>⋮</td><td>⋮</td></tr>\n",
              "\t<tr><th scope=row>109</th><td><span style=white-space:pre-wrap>Laos                           </span></td><td><span style=white-space:pre-wrap>  6911544</span></td><td><span style=white-space:pre-wrap>  236800</span></td><td><span style=white-space:pre-wrap>       0</span></td><td> 5300</td><td> 2.8</td><td> 0.16709460</td><td>&gt;0% </td></tr>\n",
              "\t<tr><th scope=row>117</th><td><span style=white-space:pre-wrap>Luxembourg                     </span></td><td><span style=white-space:pre-wrap>   570252</span></td><td><span style=white-space:pre-wrap>    2586</span></td><td><span style=white-space:pre-wrap>       0</span></td><td>99000</td><td> 3.7</td><td> 1.12103635</td><td>&gt;60%</td></tr>\n",
              "\t<tr><th scope=row>119</th><td><span style=white-space:pre-wrap>Macedonia                      </span></td><td><span style=white-space:pre-wrap>  2096015</span></td><td><span style=white-space:pre-wrap>   25713</span></td><td><span style=white-space:pre-wrap>       0</span></td><td>14000</td><td><span style=white-space:pre-wrap>  NA</span></td><td> 0.54594952</td><td>&gt;35%</td></tr>\n",
              "\t<tr><th scope=row>120</th><td><span style=white-space:pre-wrap>Madagascar                     </span></td><td> 23812681</td><td><span style=white-space:pre-wrap>  587041</span></td><td><span style=white-space:pre-wrap>       0</span></td><td> 1500</td><td> 2.7</td><td> 0.05872844</td><td>&gt;60%</td></tr>\n",
              "\t<tr><th scope=row>121</th><td><span style=white-space:pre-wrap>Malawi                         </span></td><td> 17964697</td><td><span style=white-space:pre-wrap>  118484</span></td><td><span style=white-space:pre-wrap>       0</span></td><td> 1100</td><td> 5.4</td><td> 0.13039735</td><td>&gt;0% </td></tr>\n",
              "\t<tr><th scope=row>126</th><td><span style=white-space:pre-wrap>Marshall Islands               </span></td><td><span style=white-space:pre-wrap>    72191</span></td><td><span style=white-space:pre-wrap>     181</span></td><td><span style=white-space:pre-wrap>      NA</span></td><td> 3200</td><td>12.2</td><td>11.20441989</td><td>&gt;0% </td></tr>\n",
              "\t<tr><th scope=row>127</th><td><span style=white-space:pre-wrap>Mauritania                     </span></td><td><span style=white-space:pre-wrap>  3596702</span></td><td> 1030700</td><td><span style=white-space:pre-wrap>    6003</span></td><td> 4400</td><td> 3.7</td><td> 0.01031144</td><td>&gt;5% </td></tr>\n",
              "\t<tr><th scope=row>129</th><td><span style=white-space:pre-wrap>Mexico                         </span></td><td>121736809</td><td> 1964375</td><td> 2459000</td><td>17500</td><td> 5.1</td><td> 0.19225453</td><td>&gt;35%</td></tr>\n",
              "\t<tr><th scope=row>130</th><td>Micronesia, Federated States of</td><td><span style=white-space:pre-wrap>   105216</span></td><td><span style=white-space:pre-wrap>     702</span></td><td><span style=white-space:pre-wrap>       0</span></td><td> 3000</td><td><span style=white-space:pre-wrap>  NA</span></td><td> 0.34188034</td><td>&gt;15%</td></tr>\n",
              "\t<tr><th scope=row>131</th><td><span style=white-space:pre-wrap>Moldova                        </span></td><td><span style=white-space:pre-wrap>  3546847</span></td><td><span style=white-space:pre-wrap>   33851</span></td><td><span style=white-space:pre-wrap>       0</span></td><td> 5000</td><td> 8.4</td><td> 0.27626953</td><td>&gt;35%</td></tr>\n",
              "\t<tr><th scope=row>132</th><td><span style=white-space:pre-wrap>Monaco                         </span></td><td><span style=white-space:pre-wrap>    30535</span></td><td><span style=white-space:pre-wrap>       2</span></td><td><span style=white-space:pre-wrap>      NA</span></td><td>78700</td><td> 1.6</td><td>38.50000000</td><td>&gt;60%</td></tr>\n",
              "\t<tr><th scope=row>135</th><td><span style=white-space:pre-wrap>Montserrat                     </span></td><td><span style=white-space:pre-wrap>     5241</span></td><td><span style=white-space:pre-wrap>     102</span></td><td><span style=white-space:pre-wrap>       0</span></td><td> 8500</td><td><span style=white-space:pre-wrap>  NA</span></td><td><span style=white-space:pre-wrap>         NA</span></td><td>&gt;15%</td></tr>\n",
              "\t<tr><th scope=row>145</th><td><span style=white-space:pre-wrap>Nigeria                        </span></td><td>181562056</td><td><span style=white-space:pre-wrap>  923768</span></td><td> 2423000</td><td> 6100</td><td><span style=white-space:pre-wrap>  NA</span></td><td> 0.20914342</td><td>&gt;35%</td></tr>\n",
              "\t<tr><th scope=row>146</th><td><span style=white-space:pre-wrap>Niue                           </span></td><td><span style=white-space:pre-wrap>     1190</span></td><td><span style=white-space:pre-wrap>     260</span></td><td><span style=white-space:pre-wrap>       0</span></td><td> 5800</td><td><span style=white-space:pre-wrap>  NA</span></td><td> 0.46153846</td><td>&gt;60%</td></tr>\n",
              "\t<tr><th scope=row>148</th><td><span style=white-space:pre-wrap>Oman                           </span></td><td><span style=white-space:pre-wrap>  3286936</span></td><td><span style=white-space:pre-wrap>  309500</span></td><td><span style=white-space:pre-wrap>  943500</span></td><td>44600</td><td> 4.3</td><td> 0.19463651</td><td>&gt;60%</td></tr>\n",
              "\t<tr><th scope=row>151</th><td><span style=white-space:pre-wrap>Papua New Guinea               </span></td><td><span style=white-space:pre-wrap>  6672429</span></td><td><span style=white-space:pre-wrap>  462840</span></td><td><span style=white-space:pre-wrap>   34210</span></td><td> 2700</td><td><span style=white-space:pre-wrap>  NA</span></td><td> 0.02019921</td><td>&gt;0% </td></tr>\n",
              "\t<tr><th scope=row>152</th><td><span style=white-space:pre-wrap>Paraguay                       </span></td><td><span style=white-space:pre-wrap>  6783272</span></td><td><span style=white-space:pre-wrap>  406752</span></td><td><span style=white-space:pre-wrap>       0</span></td><td> 8700</td><td> 4.8</td><td> 0.07881707</td><td>&gt;15%</td></tr>\n",
              "\t<tr><th scope=row>160</th><td><span style=white-space:pre-wrap>Russia                         </span></td><td>142423773</td><td>17098242</td><td>10840000</td><td>25400</td><td> 4.1</td><td> 0.07505959</td><td>&gt;35%</td></tr>\n",
              "\t<tr><th scope=row>168</th><td><span style=white-space:pre-wrap>Sao Tome and Principe          </span></td><td><span style=white-space:pre-wrap>   194006</span></td><td><span style=white-space:pre-wrap>     964</span></td><td><span style=white-space:pre-wrap>       0</span></td><td> 3200</td><td> 9.5</td><td> 0.33195021</td><td>&gt;15%</td></tr>\n",
              "\t<tr><th scope=row>175</th><td><span style=white-space:pre-wrap>Slovakia                       </span></td><td><span style=white-space:pre-wrap>  5445027</span></td><td><span style=white-space:pre-wrap>   49035</span></td><td><span style=white-space:pre-wrap>     200</span></td><td>29700</td><td> 4.2</td><td> 0.89560518</td><td>&gt;60%</td></tr>\n",
              "\t<tr><th scope=row>177</th><td><span style=white-space:pre-wrap>Solomon Islands                </span></td><td><span style=white-space:pre-wrap>   622469</span></td><td><span style=white-space:pre-wrap>   28896</span></td><td><span style=white-space:pre-wrap>       0</span></td><td> 1900</td><td> 7.3</td><td> 0.04810354</td><td>&gt;5% </td></tr>\n",
              "\t<tr><th scope=row>187</th><td><span style=white-space:pre-wrap>Syria                          </span></td><td> 17064854</td><td><span style=white-space:pre-wrap>  185180</span></td><td><span style=white-space:pre-wrap>   22660</span></td><td> 5100</td><td> 5.1</td><td> 0.37732477</td><td>&gt;15%</td></tr>\n",
              "\t<tr><th scope=row>197</th><td><span style=white-space:pre-wrap>Tunisia                        </span></td><td> 11037225</td><td><span style=white-space:pre-wrap>  163610</span></td><td><span style=white-space:pre-wrap>   55050</span></td><td>11400</td><td> 6.2</td><td> 0.11868468</td><td>&gt;35%</td></tr>\n",
              "\t<tr><th scope=row>201</th><td><span style=white-space:pre-wrap>Uganda                         </span></td><td> 37101745</td><td><span style=white-space:pre-wrap>  241038</span></td><td><span style=white-space:pre-wrap>       0</span></td><td> 2000</td><td> 3.3</td><td> 0.08297447</td><td>&gt;15%</td></tr>\n",
              "\t<tr><th scope=row>206</th><td><span style=white-space:pre-wrap>Uruguay                        </span></td><td><span style=white-space:pre-wrap>  3341893</span></td><td><span style=white-space:pre-wrap>  176215</span></td><td><span style=white-space:pre-wrap>       0</span></td><td>21500</td><td> 4.5</td><td> 0.44112022</td><td>&gt;35%</td></tr>\n",
              "\t<tr><th scope=row>207</th><td><span style=white-space:pre-wrap>Uzbekistan                     </span></td><td> 29199942</td><td><span style=white-space:pre-wrap>  447400</span></td><td><span style=white-space:pre-wrap>   64810</span></td><td> 6100</td><td><span style=white-space:pre-wrap>  NA</span></td><td> 0.19333035</td><td>&gt;35%</td></tr>\n",
              "\t<tr><th scope=row>209</th><td><span style=white-space:pre-wrap>Venezuela                      </span></td><td> 29275460</td><td><span style=white-space:pre-wrap>  912050</span></td><td> 2500000</td><td>16700</td><td> 6.9</td><td> 0.10542733</td><td>&gt;35%</td></tr>\n",
              "\t<tr><th scope=row>210</th><td><span style=white-space:pre-wrap>Vietnam                        </span></td><td> 94348835</td><td><span style=white-space:pre-wrap>  331210</span></td><td><span style=white-space:pre-wrap>  298400</span></td><td> 6000</td><td> 6.3</td><td> 0.62387307</td><td>&gt;35%</td></tr>\n",
              "\t<tr><th scope=row>213</th><td><span style=white-space:pre-wrap>West Bank                      </span></td><td><span style=white-space:pre-wrap>  2785366</span></td><td><span style=white-space:pre-wrap>    5860</span></td><td><span style=white-space:pre-wrap>       0</span></td><td> 4300</td><td><span style=white-space:pre-wrap>  NA</span></td><td> 0.79965870</td><td>&gt;35%</td></tr>\n",
              "\t<tr><th scope=row>216</th><td><span style=white-space:pre-wrap>Zimbabwe                       </span></td><td> 14229541</td><td><span style=white-space:pre-wrap>  390757</span></td><td><span style=white-space:pre-wrap>       0</span></td><td> 2100</td><td> 2.5</td><td> 0.24891941</td><td>&gt;15%</td></tr>\n",
              "</tbody>\n",
              "</table>\n"
            ],
            "text/markdown": "\nA data.frame: 65 × 8\n\n| <!--/--> | country &lt;fct&gt; | pop &lt;int&gt; | area &lt;dbl&gt; | oil_prod &lt;int&gt; | gdp &lt;int&gt; | educ &lt;dbl&gt; | roadways &lt;dbl&gt; | net_users &lt;fct&gt; |\n|---|---|---|---|---|---|---|---|---|\n| 4 | Andorra                           |    85580 |     468 |      NA | 37200 |  NA | 0.68376068 | &gt;60% |\n| 5 | Angola                            | 19625353 | 1246700 | 1742000 |  7300 | 3.5 | 0.04125211 | &gt;15% |\n| 7 | Antigua and Barbuda               |    92436 |     443 |       0 | 23600 | 2.4 | 2.64108352 | &gt;60% |\n| 9 | Armenia                           |  3056382 |   29743 |       0 |  8500 | 3.3 | 0.25905255 | &gt;35% |\n| 10 | Aruba                             |   112162 |     180 |       0 | 25300 | 6.0 |         NA | &gt;60% |\n| 15 | Bahrain                           |  1346613 |     760 |   49500 | 50100 | 2.6 | 5.42368421 | &gt;60% |\n| 18 | Belarus                           |  9589689 |  207600 |   30000 | 17700 | 5.1 | 0.41614643 | &gt;35% |\n| 19 | Belgium                           | 11323973 |   30528 |       0 | 43600 | 6.6 | 5.04494235 | &gt;60% |\n| 20 | Belize                            |   347369 |   22966 |    1818 |  8400 | 6.6 | 0.12496734 | &gt;15% |\n| 23 | Bhutan                            |   741919 |   38394 |       0 |  8200 | 4.7 | 0.27551180 | &gt;15% |\n| 32 | Burma                             | 56320206 |  676578 |   20000 |  5500 | 0.8 | 0.05081011 | &gt;0%  |\n| 33 | Burundi                           | 10742276 |   27830 |       0 |   800 | 5.8 | 0.44275961 | &gt;0%  |\n| 34 | Cabo Verde                        |   545993 |    4033 |       0 |  6500 | 5.0 | 0.33473841 | &gt;35% |\n| 36 | Cameroon                          | 23739218 |  475440 |   80830 |  3100 | 3.2 | 0.10800522 | &gt;5%  |\n| 43 | Christmas Island                  |     1530 |     135 |      NA |    NA |  NA | 1.03703704 | &gt;15% |\n| 46 | Congo, Democratic Republic of the | 79375136 | 2344858 |   20000 |   800 | 2.5 | 0.06546111 | &gt;0%  |\n| 48 | Cook Islands                      |     9838 |     236 |       0 | 12300 | 3.1 | 1.35593220 | &gt;5%  |\n| 54 | Czechia                           | 10644842 |   78867 |    3000 | 31600 | 4.2 | 1.65685268 | &gt;60% |\n| 56 | Djibouti                          |   828324 |   23200 |       0 |  3200 | 8.4 | 0.13211207 | &gt;5%  |\n| 57 | Dominica                          |    73607 |     751 |       0 | 10700 | 3.5 | 2.01331558 | &gt;35% |\n| 58 | Dominican Republic                | 10478756 |   48670 |       0 | 15000 | 2.2 | 0.40486953 | &gt;35% |\n| 59 | Ecuador                           | 15868396 |  283561 |  556400 | 11300 | 4.4 | 0.15400566 | &gt;35% |\n| 60 | Egypt                             | 88487396 | 1001450 |  478400 | 11800 | 3.8 | 0.13723102 | &gt;35% |\n| 63 | Eritrea                           |  6527689 |  117600 |       0 |  1300 | 2.1 | 0.03409864 | &gt;0%  |\n| 68 | Fiji                              |   909389 |   18274 |       0 |  9000 | 4.2 | 0.18824559 | &gt;35% |\n| 70 | France                            | 66553766 |  643801 |   15340 | 41200 | 5.9 | 1.59745946 | &gt;60% |\n| 71 | French Polynesia                  |   282703 |    4167 |       0 | 26100 |  NA | 0.62155028 | &gt;35% |\n| 73 | Gambia, The                       |  1967709 |   11295 |       0 |  1600 | 4.1 | 0.33111997 | &gt;5%  |\n| 77 | Gibraltar                         |    29258 |       7 |       0 | 43000 |  NA | 4.14285714 | &gt;60% |\n| 81 | Guam                              |   161785 |     544 |       0 | 30500 |  NA | 1.92095588 | &gt;60% |\n| ⋮ | ⋮ | ⋮ | ⋮ | ⋮ | ⋮ | ⋮ | ⋮ | ⋮ |\n| 109 | Laos                            |   6911544 |   236800 |        0 |  5300 |  2.8 |  0.16709460 | &gt;0%  |\n| 117 | Luxembourg                      |    570252 |     2586 |        0 | 99000 |  3.7 |  1.12103635 | &gt;60% |\n| 119 | Macedonia                       |   2096015 |    25713 |        0 | 14000 |   NA |  0.54594952 | &gt;35% |\n| 120 | Madagascar                      |  23812681 |   587041 |        0 |  1500 |  2.7 |  0.05872844 | &gt;60% |\n| 121 | Malawi                          |  17964697 |   118484 |        0 |  1100 |  5.4 |  0.13039735 | &gt;0%  |\n| 126 | Marshall Islands                |     72191 |      181 |       NA |  3200 | 12.2 | 11.20441989 | &gt;0%  |\n| 127 | Mauritania                      |   3596702 |  1030700 |     6003 |  4400 |  3.7 |  0.01031144 | &gt;5%  |\n| 129 | Mexico                          | 121736809 |  1964375 |  2459000 | 17500 |  5.1 |  0.19225453 | &gt;35% |\n| 130 | Micronesia, Federated States of |    105216 |      702 |        0 |  3000 |   NA |  0.34188034 | &gt;15% |\n| 131 | Moldova                         |   3546847 |    33851 |        0 |  5000 |  8.4 |  0.27626953 | &gt;35% |\n| 132 | Monaco                          |     30535 |        2 |       NA | 78700 |  1.6 | 38.50000000 | &gt;60% |\n| 135 | Montserrat                      |      5241 |      102 |        0 |  8500 |   NA |          NA | &gt;15% |\n| 145 | Nigeria                         | 181562056 |   923768 |  2423000 |  6100 |   NA |  0.20914342 | &gt;35% |\n| 146 | Niue                            |      1190 |      260 |        0 |  5800 |   NA |  0.46153846 | &gt;60% |\n| 148 | Oman                            |   3286936 |   309500 |   943500 | 44600 |  4.3 |  0.19463651 | &gt;60% |\n| 151 | Papua New Guinea                |   6672429 |   462840 |    34210 |  2700 |   NA |  0.02019921 | &gt;0%  |\n| 152 | Paraguay                        |   6783272 |   406752 |        0 |  8700 |  4.8 |  0.07881707 | &gt;15% |\n| 160 | Russia                          | 142423773 | 17098242 | 10840000 | 25400 |  4.1 |  0.07505959 | &gt;35% |\n| 168 | Sao Tome and Principe           |    194006 |      964 |        0 |  3200 |  9.5 |  0.33195021 | &gt;15% |\n| 175 | Slovakia                        |   5445027 |    49035 |      200 | 29700 |  4.2 |  0.89560518 | &gt;60% |\n| 177 | Solomon Islands                 |    622469 |    28896 |        0 |  1900 |  7.3 |  0.04810354 | &gt;5%  |\n| 187 | Syria                           |  17064854 |   185180 |    22660 |  5100 |  5.1 |  0.37732477 | &gt;15% |\n| 197 | Tunisia                         |  11037225 |   163610 |    55050 | 11400 |  6.2 |  0.11868468 | &gt;35% |\n| 201 | Uganda                          |  37101745 |   241038 |        0 |  2000 |  3.3 |  0.08297447 | &gt;15% |\n| 206 | Uruguay                         |   3341893 |   176215 |        0 | 21500 |  4.5 |  0.44112022 | &gt;35% |\n| 207 | Uzbekistan                      |  29199942 |   447400 |    64810 |  6100 |   NA |  0.19333035 | &gt;35% |\n| 209 | Venezuela                       |  29275460 |   912050 |  2500000 | 16700 |  6.9 |  0.10542733 | &gt;35% |\n| 210 | Vietnam                         |  94348835 |   331210 |   298400 |  6000 |  6.3 |  0.62387307 | &gt;35% |\n| 213 | West Bank                       |   2785366 |     5860 |        0 |  4300 |   NA |  0.79965870 | &gt;35% |\n| 216 | Zimbabwe                        |  14229541 |   390757 |        0 |  2100 |  2.5 |  0.24891941 | &gt;15% |\n\n",
            "text/latex": "A data.frame: 65 × 8\n\\begin{tabular}{r|llllllll}\n  & country & pop & area & oil\\_prod & gdp & educ & roadways & net\\_users\\\\\n  & <fct> & <int> & <dbl> & <int> & <int> & <dbl> & <dbl> & <fct>\\\\\n\\hline\n\t4 & Andorra                           &    85580 &     468 &      NA & 37200 &  NA & 0.68376068 & >60\\%\\\\\n\t5 & Angola                            & 19625353 & 1246700 & 1742000 &  7300 & 3.5 & 0.04125211 & >15\\%\\\\\n\t7 & Antigua and Barbuda               &    92436 &     443 &       0 & 23600 & 2.4 & 2.64108352 & >60\\%\\\\\n\t9 & Armenia                           &  3056382 &   29743 &       0 &  8500 & 3.3 & 0.25905255 & >35\\%\\\\\n\t10 & Aruba                             &   112162 &     180 &       0 & 25300 & 6.0 &         NA & >60\\%\\\\\n\t15 & Bahrain                           &  1346613 &     760 &   49500 & 50100 & 2.6 & 5.42368421 & >60\\%\\\\\n\t18 & Belarus                           &  9589689 &  207600 &   30000 & 17700 & 5.1 & 0.41614643 & >35\\%\\\\\n\t19 & Belgium                           & 11323973 &   30528 &       0 & 43600 & 6.6 & 5.04494235 & >60\\%\\\\\n\t20 & Belize                            &   347369 &   22966 &    1818 &  8400 & 6.6 & 0.12496734 & >15\\%\\\\\n\t23 & Bhutan                            &   741919 &   38394 &       0 &  8200 & 4.7 & 0.27551180 & >15\\%\\\\\n\t32 & Burma                             & 56320206 &  676578 &   20000 &  5500 & 0.8 & 0.05081011 & >0\\% \\\\\n\t33 & Burundi                           & 10742276 &   27830 &       0 &   800 & 5.8 & 0.44275961 & >0\\% \\\\\n\t34 & Cabo Verde                        &   545993 &    4033 &       0 &  6500 & 5.0 & 0.33473841 & >35\\%\\\\\n\t36 & Cameroon                          & 23739218 &  475440 &   80830 &  3100 & 3.2 & 0.10800522 & >5\\% \\\\\n\t43 & Christmas Island                  &     1530 &     135 &      NA &    NA &  NA & 1.03703704 & >15\\%\\\\\n\t46 & Congo, Democratic Republic of the & 79375136 & 2344858 &   20000 &   800 & 2.5 & 0.06546111 & >0\\% \\\\\n\t48 & Cook Islands                      &     9838 &     236 &       0 & 12300 & 3.1 & 1.35593220 & >5\\% \\\\\n\t54 & Czechia                           & 10644842 &   78867 &    3000 & 31600 & 4.2 & 1.65685268 & >60\\%\\\\\n\t56 & Djibouti                          &   828324 &   23200 &       0 &  3200 & 8.4 & 0.13211207 & >5\\% \\\\\n\t57 & Dominica                          &    73607 &     751 &       0 & 10700 & 3.5 & 2.01331558 & >35\\%\\\\\n\t58 & Dominican Republic                & 10478756 &   48670 &       0 & 15000 & 2.2 & 0.40486953 & >35\\%\\\\\n\t59 & Ecuador                           & 15868396 &  283561 &  556400 & 11300 & 4.4 & 0.15400566 & >35\\%\\\\\n\t60 & Egypt                             & 88487396 & 1001450 &  478400 & 11800 & 3.8 & 0.13723102 & >35\\%\\\\\n\t63 & Eritrea                           &  6527689 &  117600 &       0 &  1300 & 2.1 & 0.03409864 & >0\\% \\\\\n\t68 & Fiji                              &   909389 &   18274 &       0 &  9000 & 4.2 & 0.18824559 & >35\\%\\\\\n\t70 & France                            & 66553766 &  643801 &   15340 & 41200 & 5.9 & 1.59745946 & >60\\%\\\\\n\t71 & French Polynesia                  &   282703 &    4167 &       0 & 26100 &  NA & 0.62155028 & >35\\%\\\\\n\t73 & Gambia, The                       &  1967709 &   11295 &       0 &  1600 & 4.1 & 0.33111997 & >5\\% \\\\\n\t77 & Gibraltar                         &    29258 &       7 &       0 & 43000 &  NA & 4.14285714 & >60\\%\\\\\n\t81 & Guam                              &   161785 &     544 &       0 & 30500 &  NA & 1.92095588 & >60\\%\\\\\n\t⋮ & ⋮ & ⋮ & ⋮ & ⋮ & ⋮ & ⋮ & ⋮ & ⋮\\\\\n\t109 & Laos                            &   6911544 &   236800 &        0 &  5300 &  2.8 &  0.16709460 & >0\\% \\\\\n\t117 & Luxembourg                      &    570252 &     2586 &        0 & 99000 &  3.7 &  1.12103635 & >60\\%\\\\\n\t119 & Macedonia                       &   2096015 &    25713 &        0 & 14000 &   NA &  0.54594952 & >35\\%\\\\\n\t120 & Madagascar                      &  23812681 &   587041 &        0 &  1500 &  2.7 &  0.05872844 & >60\\%\\\\\n\t121 & Malawi                          &  17964697 &   118484 &        0 &  1100 &  5.4 &  0.13039735 & >0\\% \\\\\n\t126 & Marshall Islands                &     72191 &      181 &       NA &  3200 & 12.2 & 11.20441989 & >0\\% \\\\\n\t127 & Mauritania                      &   3596702 &  1030700 &     6003 &  4400 &  3.7 &  0.01031144 & >5\\% \\\\\n\t129 & Mexico                          & 121736809 &  1964375 &  2459000 & 17500 &  5.1 &  0.19225453 & >35\\%\\\\\n\t130 & Micronesia, Federated States of &    105216 &      702 &        0 &  3000 &   NA &  0.34188034 & >15\\%\\\\\n\t131 & Moldova                         &   3546847 &    33851 &        0 &  5000 &  8.4 &  0.27626953 & >35\\%\\\\\n\t132 & Monaco                          &     30535 &        2 &       NA & 78700 &  1.6 & 38.50000000 & >60\\%\\\\\n\t135 & Montserrat                      &      5241 &      102 &        0 &  8500 &   NA &          NA & >15\\%\\\\\n\t145 & Nigeria                         & 181562056 &   923768 &  2423000 &  6100 &   NA &  0.20914342 & >35\\%\\\\\n\t146 & Niue                            &      1190 &      260 &        0 &  5800 &   NA &  0.46153846 & >60\\%\\\\\n\t148 & Oman                            &   3286936 &   309500 &   943500 & 44600 &  4.3 &  0.19463651 & >60\\%\\\\\n\t151 & Papua New Guinea                &   6672429 &   462840 &    34210 &  2700 &   NA &  0.02019921 & >0\\% \\\\\n\t152 & Paraguay                        &   6783272 &   406752 &        0 &  8700 &  4.8 &  0.07881707 & >15\\%\\\\\n\t160 & Russia                          & 142423773 & 17098242 & 10840000 & 25400 &  4.1 &  0.07505959 & >35\\%\\\\\n\t168 & Sao Tome and Principe           &    194006 &      964 &        0 &  3200 &  9.5 &  0.33195021 & >15\\%\\\\\n\t175 & Slovakia                        &   5445027 &    49035 &      200 & 29700 &  4.2 &  0.89560518 & >60\\%\\\\\n\t177 & Solomon Islands                 &    622469 &    28896 &        0 &  1900 &  7.3 &  0.04810354 & >5\\% \\\\\n\t187 & Syria                           &  17064854 &   185180 &    22660 &  5100 &  5.1 &  0.37732477 & >15\\%\\\\\n\t197 & Tunisia                         &  11037225 &   163610 &    55050 & 11400 &  6.2 &  0.11868468 & >35\\%\\\\\n\t201 & Uganda                          &  37101745 &   241038 &        0 &  2000 &  3.3 &  0.08297447 & >15\\%\\\\\n\t206 & Uruguay                         &   3341893 &   176215 &        0 & 21500 &  4.5 &  0.44112022 & >35\\%\\\\\n\t207 & Uzbekistan                      &  29199942 &   447400 &    64810 &  6100 &   NA &  0.19333035 & >35\\%\\\\\n\t209 & Venezuela                       &  29275460 &   912050 &  2500000 & 16700 &  6.9 &  0.10542733 & >35\\%\\\\\n\t210 & Vietnam                         &  94348835 &   331210 &   298400 &  6000 &  6.3 &  0.62387307 & >35\\%\\\\\n\t213 & West Bank                       &   2785366 &     5860 &        0 &  4300 &   NA &  0.79965870 & >35\\%\\\\\n\t216 & Zimbabwe                        &  14229541 &   390757 &        0 &  2100 &  2.5 &  0.24891941 & >15\\%\\\\\n\\end{tabular}\n",
            "text/plain": [
              "    country                           pop       area     oil_prod gdp   educ\n",
              "4   Andorra                              85580      468       NA  37200  NA \n",
              "5   Angola                            19625353  1246700  1742000   7300 3.5 \n",
              "7   Antigua and Barbuda                  92436      443        0  23600 2.4 \n",
              "9   Armenia                            3056382    29743        0   8500 3.3 \n",
              "10  Aruba                               112162      180        0  25300 6.0 \n",
              "15  Bahrain                            1346613      760    49500  50100 2.6 \n",
              "18  Belarus                            9589689   207600    30000  17700 5.1 \n",
              "19  Belgium                           11323973    30528        0  43600 6.6 \n",
              "20  Belize                              347369    22966     1818   8400 6.6 \n",
              "23  Bhutan                              741919    38394        0   8200 4.7 \n",
              "32  Burma                             56320206   676578    20000   5500 0.8 \n",
              "33  Burundi                           10742276    27830        0    800 5.8 \n",
              "34  Cabo Verde                          545993     4033        0   6500 5.0 \n",
              "36  Cameroon                          23739218   475440    80830   3100 3.2 \n",
              "43  Christmas Island                      1530      135       NA     NA  NA \n",
              "46  Congo, Democratic Republic of the 79375136  2344858    20000    800 2.5 \n",
              "48  Cook Islands                          9838      236        0  12300 3.1 \n",
              "54  Czechia                           10644842    78867     3000  31600 4.2 \n",
              "56  Djibouti                            828324    23200        0   3200 8.4 \n",
              "57  Dominica                             73607      751        0  10700 3.5 \n",
              "58  Dominican Republic                10478756    48670        0  15000 2.2 \n",
              "59  Ecuador                           15868396   283561   556400  11300 4.4 \n",
              "60  Egypt                             88487396  1001450   478400  11800 3.8 \n",
              "63  Eritrea                            6527689   117600        0   1300 2.1 \n",
              "68  Fiji                                909389    18274        0   9000 4.2 \n",
              "70  France                            66553766   643801    15340  41200 5.9 \n",
              "71  French Polynesia                    282703     4167        0  26100  NA \n",
              "73  Gambia, The                        1967709    11295        0   1600 4.1 \n",
              "77  Gibraltar                            29258        7        0  43000  NA \n",
              "81  Guam                                161785      544        0  30500  NA \n",
              "⋮   ⋮                                 ⋮         ⋮        ⋮        ⋮     ⋮   \n",
              "109 Laos                                6911544   236800        0  5300  2.8\n",
              "117 Luxembourg                           570252     2586        0 99000  3.7\n",
              "119 Macedonia                           2096015    25713        0 14000   NA\n",
              "120 Madagascar                         23812681   587041        0  1500  2.7\n",
              "121 Malawi                             17964697   118484        0  1100  5.4\n",
              "126 Marshall Islands                      72191      181       NA  3200 12.2\n",
              "127 Mauritania                          3596702  1030700     6003  4400  3.7\n",
              "129 Mexico                            121736809  1964375  2459000 17500  5.1\n",
              "130 Micronesia, Federated States of      105216      702        0  3000   NA\n",
              "131 Moldova                             3546847    33851        0  5000  8.4\n",
              "132 Monaco                                30535        2       NA 78700  1.6\n",
              "135 Montserrat                             5241      102        0  8500   NA\n",
              "145 Nigeria                           181562056   923768  2423000  6100   NA\n",
              "146 Niue                                   1190      260        0  5800   NA\n",
              "148 Oman                                3286936   309500   943500 44600  4.3\n",
              "151 Papua New Guinea                    6672429   462840    34210  2700   NA\n",
              "152 Paraguay                            6783272   406752        0  8700  4.8\n",
              "160 Russia                            142423773 17098242 10840000 25400  4.1\n",
              "168 Sao Tome and Principe                194006      964        0  3200  9.5\n",
              "175 Slovakia                            5445027    49035      200 29700  4.2\n",
              "177 Solomon Islands                      622469    28896        0  1900  7.3\n",
              "187 Syria                              17064854   185180    22660  5100  5.1\n",
              "197 Tunisia                            11037225   163610    55050 11400  6.2\n",
              "201 Uganda                             37101745   241038        0  2000  3.3\n",
              "206 Uruguay                             3341893   176215        0 21500  4.5\n",
              "207 Uzbekistan                         29199942   447400    64810  6100   NA\n",
              "209 Venezuela                          29275460   912050  2500000 16700  6.9\n",
              "210 Vietnam                            94348835   331210   298400  6000  6.3\n",
              "213 West Bank                           2785366     5860        0  4300   NA\n",
              "216 Zimbabwe                           14229541   390757        0  2100  2.5\n",
              "    roadways    net_users\n",
              "4   0.68376068  >60%     \n",
              "5   0.04125211  >15%     \n",
              "7   2.64108352  >60%     \n",
              "9   0.25905255  >35%     \n",
              "10          NA  >60%     \n",
              "15  5.42368421  >60%     \n",
              "18  0.41614643  >35%     \n",
              "19  5.04494235  >60%     \n",
              "20  0.12496734  >15%     \n",
              "23  0.27551180  >15%     \n",
              "32  0.05081011  >0%      \n",
              "33  0.44275961  >0%      \n",
              "34  0.33473841  >35%     \n",
              "36  0.10800522  >5%      \n",
              "43  1.03703704  >15%     \n",
              "46  0.06546111  >0%      \n",
              "48  1.35593220  >5%      \n",
              "54  1.65685268  >60%     \n",
              "56  0.13211207  >5%      \n",
              "57  2.01331558  >35%     \n",
              "58  0.40486953  >35%     \n",
              "59  0.15400566  >35%     \n",
              "60  0.13723102  >35%     \n",
              "63  0.03409864  >0%      \n",
              "68  0.18824559  >35%     \n",
              "70  1.59745946  >60%     \n",
              "71  0.62155028  >35%     \n",
              "73  0.33111997  >5%      \n",
              "77  4.14285714  >60%     \n",
              "81  1.92095588  >60%     \n",
              "⋮   ⋮           ⋮        \n",
              "109  0.16709460 >0%      \n",
              "117  1.12103635 >60%     \n",
              "119  0.54594952 >35%     \n",
              "120  0.05872844 >60%     \n",
              "121  0.13039735 >0%      \n",
              "126 11.20441989 >0%      \n",
              "127  0.01031144 >5%      \n",
              "129  0.19225453 >35%     \n",
              "130  0.34188034 >15%     \n",
              "131  0.27626953 >35%     \n",
              "132 38.50000000 >60%     \n",
              "135          NA >15%     \n",
              "145  0.20914342 >35%     \n",
              "146  0.46153846 >60%     \n",
              "148  0.19463651 >60%     \n",
              "151  0.02019921 >0%      \n",
              "152  0.07881707 >15%     \n",
              "160  0.07505959 >35%     \n",
              "168  0.33195021 >15%     \n",
              "175  0.89560518 >60%     \n",
              "177  0.04810354 >5%      \n",
              "187  0.37732477 >15%     \n",
              "197  0.11868468 >35%     \n",
              "201  0.08297447 >15%     \n",
              "206  0.44112022 >35%     \n",
              "207  0.19333035 >35%     \n",
              "209  0.10542733 >35%     \n",
              "210  0.62387307 >35%     \n",
              "213  0.79965870 >35%     \n",
              "216  0.24891941 >15%     "
            ]
          },
          "metadata": {}
        }
      ],
      "source": [
        "\n",
        "sample_test_data <- cleanedCIA[-training_index,]\n",
        "sample_test_data\n"
      ]
    },
    {
      "cell_type": "markdown",
      "metadata": {
        "id": "3UDQccvia-2F"
      },
      "source": [
        "\n",
        "Now we will train and test the model using the random training and test sets, using all of the variables. First we create a new training tree.\n"
      ]
    },
    {
      "cell_type": "code",
      "execution_count": null,
      "metadata": {
        "id": "vOtciDJFa-2F",
        "colab": {
          "base_uri": "https://localhost:8080/",
          "height": 697
        },
        "outputId": "a3993925-fc7b-48a7-f3b5-070b4fe5350d"
      },
      "outputs": [
        {
          "output_type": "display_data",
          "data": {
            "text/plain": [
              "\n",
              "Model formula:\n",
              "net_users ~ country + pop + area + oil_prod + gdp + educ + roadways\n",
              "\n",
              "Fitted party:\n",
              "[1] root\n",
              "|   [2] gdp <= 20800\n",
              "|   |   [3] gdp <= 2100: >0% (n = 16, err = 37.5%)\n",
              "|   |   [4] gdp > 2100\n",
              "|   |   |   [5] roadways <= 1.42667: >35% (n = 67, err = 64.2%)\n",
              "|   |   |   [6] roadways > 1.42667: >60% (n = 7, err = 57.1%)\n",
              "|   [7] gdp > 20800: >60% (n = 61, err = 26.2%)\n",
              "\n",
              "Number of inner nodes:    3\n",
              "Number of terminal nodes: 4"
            ]
          },
          "metadata": {}
        },
        {
          "output_type": "display_data",
          "data": {
            "text/plain": [
              "plot without title"
            ],
            "image/png": "[encoded data removed]"
          },
          "metadata": {
            "image/png": {
              "width": 420,
              "height": 420
            }
          }
        }
      ],
      "source": [
        "\n",
        "training_tree <- ctree(net_users ~., data=sample_training_data)\n",
        "training_tree\n",
        "plot(training_tree)\n",
        "\n"
      ]
    },
    {
      "cell_type": "markdown",
      "metadata": {
        "id": "EVwGEb1Ba-2G"
      },
      "source": [
        "\n",
        "TASK : Now use the test_data on the training tree to see how well it predicts the outcome.\n"
      ]
    },
    {
      "cell_type": "code",
      "execution_count": null,
      "metadata": {
        "id": "P8-MKLv1a-2G",
        "colab": {
          "base_uri": "https://localhost:8080/",
          "height": 225
        },
        "outputId": "47801c21-d0d2-4a83-bd8e-e73404d69074"
      },
      "outputs": [
        {
          "output_type": "display_data",
          "data": {
            "text/html": [
              "<style>\n",
              ".dl-inline {width: auto; margin:0; padding: 0}\n",
              ".dl-inline>dt, .dl-inline>dd {float: none; width: auto; display: inline-block}\n",
              ".dl-inline>dt::after {content: \":\\0020\"; padding-right: .5ex}\n",
              ".dl-inline>dt:not(:first-of-type) {padding-left: .5ex}\n",
              "</style><dl class=dl-inline><dt>4</dt><dd>&gt;60%</dd><dt>5</dt><dd>&gt;35%</dd><dt>7</dt><dd>&gt;60%</dd><dt>9</dt><dd>&gt;35%</dd><dt>10</dt><dd>&gt;60%</dd><dt>15</dt><dd>&gt;60%</dd><dt>18</dt><dd>&gt;35%</dd><dt>19</dt><dd>&gt;60%</dd><dt>20</dt><dd>&gt;35%</dd><dt>23</dt><dd>&gt;35%</dd><dt>32</dt><dd>&gt;35%</dd><dt>33</dt><dd>&gt;0%</dd><dt>34</dt><dd>&gt;35%</dd><dt>36</dt><dd>&gt;35%</dd><dt>43</dt><dd>&gt;35%</dd><dt>46</dt><dd>&gt;0%</dd><dt>48</dt><dd>&gt;35%</dd><dt>54</dt><dd>&gt;60%</dd><dt>56</dt><dd>&gt;35%</dd><dt>57</dt><dd>&gt;60%</dd><dt>58</dt><dd>&gt;35%</dd><dt>59</dt><dd>&gt;35%</dd><dt>60</dt><dd>&gt;35%</dd><dt>63</dt><dd>&gt;0%</dd><dt>68</dt><dd>&gt;35%</dd><dt>70</dt><dd>&gt;60%</dd><dt>71</dt><dd>&gt;60%</dd><dt>73</dt><dd>&gt;0%</dd><dt>77</dt><dd>&gt;60%</dd><dt>81</dt><dd>&gt;60%</dd><dt>84</dt><dd>&gt;0%</dd><dt>87</dt><dd>&gt;0%</dd><dt>88</dt><dd>&gt;35%</dd><dt>91</dt><dd>&gt;60%</dd><dt>103</dt><dd>&gt;60%</dd><dt>109</dt><dd>&gt;35%</dd><dt>117</dt><dd>&gt;60%</dd><dt>119</dt><dd>&gt;35%</dd><dt>120</dt><dd>&gt;0%</dd><dt>121</dt><dd>&gt;0%</dd><dt>126</dt><dd>&gt;60%</dd><dt>127</dt><dd>&gt;35%</dd><dt>129</dt><dd>&gt;35%</dd><dt>130</dt><dd>&gt;35%</dd><dt>131</dt><dd>&gt;35%</dd><dt>132</dt><dd>&gt;60%</dd><dt>135</dt><dd>&gt;35%</dd><dt>145</dt><dd>&gt;35%</dd><dt>146</dt><dd>&gt;35%</dd><dt>148</dt><dd>&gt;60%</dd><dt>151</dt><dd>&gt;35%</dd><dt>152</dt><dd>&gt;35%</dd><dt>160</dt><dd>&gt;60%</dd><dt>168</dt><dd>&gt;35%</dd><dt>175</dt><dd>&gt;60%</dd><dt>177</dt><dd>&gt;0%</dd><dt>187</dt><dd>&gt;35%</dd><dt>197</dt><dd>&gt;35%</dd><dt>201</dt><dd>&gt;0%</dd><dt>206</dt><dd>&gt;60%</dd><dt>207</dt><dd>&gt;35%</dd><dt>209</dt><dd>&gt;35%</dd><dt>210</dt><dd>&gt;35%</dd><dt>213</dt><dd>&gt;35%</dd><dt>216</dt><dd>&gt;0%</dd></dl>\n",
              "\n",
              "<details>\n",
              "\t<summary style=display:list-item;cursor:pointer>\n",
              "\t\t<strong>Levels</strong>:\n",
              "\t</summary>\n",
              "\t<style>\n",
              "\t.list-inline {list-style: none; margin:0; padding: 0}\n",
              "\t.list-inline>li {display: inline-block}\n",
              "\t.list-inline>li:not(:last-child)::after {content: \"\\00b7\"; padding: 0 .5ex}\n",
              "\t</style>\n",
              "\t<ol class=list-inline><li>'&gt;0%'</li><li>'&gt;5%'</li><li>'&gt;15%'</li><li>'&gt;35%'</li><li>'&gt;60%'</li></ol>\n",
              "</details>"
            ],
            "text/markdown": "4\n:   &gt;60%5\n:   &gt;35%7\n:   &gt;60%9\n:   &gt;35%10\n:   &gt;60%15\n:   &gt;60%18\n:   &gt;35%19\n:   &gt;60%20\n:   &gt;35%23\n:   &gt;35%32\n:   &gt;35%33\n:   &gt;0%34\n:   &gt;35%36\n:   &gt;35%43\n:   &gt;35%46\n:   &gt;0%48\n:   &gt;35%54\n:   &gt;60%56\n:   &gt;35%57\n:   &gt;60%58\n:   &gt;35%59\n:   &gt;35%60\n:   &gt;35%63\n:   &gt;0%68\n:   &gt;35%70\n:   &gt;60%71\n:   &gt;60%73\n:   &gt;0%77\n:   &gt;60%81\n:   &gt;60%84\n:   &gt;0%87\n:   &gt;0%88\n:   &gt;35%91\n:   &gt;60%103\n:   &gt;60%109\n:   &gt;35%117\n:   &gt;60%119\n:   &gt;35%120\n:   &gt;0%121\n:   &gt;0%126\n:   &gt;60%127\n:   &gt;35%129\n:   &gt;35%130\n:   &gt;35%131\n:   &gt;35%132\n:   &gt;60%135\n:   &gt;35%145\n:   &gt;35%146\n:   &gt;35%148\n:   &gt;60%151\n:   &gt;35%152\n:   &gt;35%160\n:   &gt;60%168\n:   &gt;35%175\n:   &gt;60%177\n:   &gt;0%187\n:   &gt;35%197\n:   &gt;35%201\n:   &gt;0%206\n:   &gt;60%207\n:   &gt;35%209\n:   &gt;35%210\n:   &gt;35%213\n:   &gt;35%216\n:   &gt;0%\n\n\n**Levels**: 1. '&gt;0%'\n2. '&gt;5%'\n3. '&gt;15%'\n4. '&gt;35%'\n5. '&gt;60%'\n\n\n",
            "text/latex": "\\begin{description*}\n\\item[4] >60\\%\n\\item[5] >35\\%\n\\item[7] >60\\%\n\\item[9] >35\\%\n\\item[10] >60\\%\n\\item[15] >60\\%\n\\item[18] >35\\%\n\\item[19] >60\\%\n\\item[20] >35\\%\n\\item[23] >35\\%\n\\item[32] >35\\%\n\\item[33] >0\\%\n\\item[34] >35\\%\n\\item[36] >35\\%\n\\item[43] >35\\%\n\\item[46] >0\\%\n\\item[48] >35\\%\n\\item[54] >60\\%\n\\item[56] >35\\%\n\\item[57] >60\\%\n\\item[58] >35\\%\n\\item[59] >35\\%\n\\item[60] >35\\%\n\\item[63] >0\\%\n\\item[68] >35\\%\n\\item[70] >60\\%\n\\item[71] >60\\%\n\\item[73] >0\\%\n\\item[77] >60\\%\n\\item[81] >60\\%\n\\item[84] >0\\%\n\\item[87] >0\\%\n\\item[88] >35\\%\n\\item[91] >60\\%\n\\item[103] >60\\%\n\\item[109] >35\\%\n\\item[117] >60\\%\n\\item[119] >35\\%\n\\item[120] >0\\%\n\\item[121] >0\\%\n\\item[126] >60\\%\n\\item[127] >35\\%\n\\item[129] >35\\%\n\\item[130] >35\\%\n\\item[131] >35\\%\n\\item[132] >60\\%\n\\item[135] >35\\%\n\\item[145] >35\\%\n\\item[146] >35\\%\n\\item[148] >60\\%\n\\item[151] >35\\%\n\\item[152] >35\\%\n\\item[160] >60\\%\n\\item[168] >35\\%\n\\item[175] >60\\%\n\\item[177] >0\\%\n\\item[187] >35\\%\n\\item[197] >35\\%\n\\item[201] >0\\%\n\\item[206] >60\\%\n\\item[207] >35\\%\n\\item[209] >35\\%\n\\item[210] >35\\%\n\\item[213] >35\\%\n\\item[216] >0\\%\n\\end{description*}\n\n\\emph{Levels}: \\begin{enumerate*}\n\\item '>0\\%'\n\\item '>5\\%'\n\\item '>15\\%'\n\\item '>35\\%'\n\\item '>60\\%'\n\\end{enumerate*}\n",
            "text/plain": [
              "   4    5    7    9   10   15   18   19   20   23   32   33   34   36   43   46 \n",
              ">60% >35% >60% >35% >60% >60% >35% >60% >35% >35% >35%  >0% >35% >35% >35%  >0% \n",
              "  48   54   56   57   58   59   60   63   68   70   71   73   77   81   84   87 \n",
              ">35% >60% >35% >60% >35% >35% >35%  >0% >35% >60% >60%  >0% >60% >60%  >0%  >0% \n",
              "  88   91  103  109  117  119  120  121  126  127  129  130  131  132  135  145 \n",
              ">35% >60% >60% >35% >60% >35%  >0%  >0% >60% >35% >35% >35% >35% >60% >35% >35% \n",
              " 146  148  151  152  160  168  175  177  187  197  201  206  207  209  210  213 \n",
              ">35% >60% >35% >35% >60% >35% >60%  >0% >35% >35%  >0% >60% >35% >35% >35% >35% \n",
              " 216 \n",
              " >0% \n",
              "Levels: >0% >5% >15% >35% >60%"
            ]
          },
          "metadata": {}
        },
        {
          "output_type": "display_data",
          "data": {
            "text/plain": [
              "         Actual\n",
              "Predicted >0% >5% >15% >35% >60%\n",
              "     >0%    5   3    3    0    1\n",
              "     >5%    0   0    0    0    0\n",
              "     >15%   0   0    0    0    0\n",
              "     >35%   3   4    9   16    1\n",
              "     >60%   1   0    0    5   14"
            ]
          },
          "metadata": {}
        }
      ],
      "source": [
        "#predict using the test data\n",
        "predict_data <- predict(training_tree, newdata=sample_test_data)\n",
        "predict_data\n",
        "prediction_table\n"
      ]
    },
    {
      "cell_type": "markdown",
      "metadata": {
        "id": "_ANAF2xxa-2G"
      },
      "source": [
        "\n",
        "TASK: Recalculate the confusion matrix and check the accuracy of the model using the random training set of size 70%\n"
      ]
    },
    {
      "cell_type": "code",
      "execution_count": null,
      "metadata": {
        "id": "9oXwY9Dla-2G",
        "colab": {
          "base_uri": "https://localhost:8080/",
          "height": 139
        },
        "outputId": "9ee0e649-c984-4cc2-b766-387c422a8d7b"
      },
      "outputs": [
        {
          "output_type": "display_data",
          "data": {
            "text/plain": [
              "         Actual\n",
              "Predicted >0% >5% >15% >35% >60%\n",
              "     >0%    5   3    3    0    1\n",
              "     >5%    0   0    0    0    0\n",
              "     >15%   0   0    0    0    0\n",
              "     >35%   3   4    9   16    1\n",
              "     >60%   1   0    0    5   14"
            ]
          },
          "metadata": {}
        }
      ],
      "source": [
        "\n",
        "prediction_table <- table(\"Predicted\"= predict_data, \"Actual\" = sample_test_data$net_users)\n",
        "prediction_table\n",
        "\n"
      ]
    },
    {
      "cell_type": "markdown",
      "metadata": {
        "id": "8BxX9JlWa-2H"
      },
      "source": [
        "\n",
        "TASK: Create the  proportion table\n"
      ]
    },
    {
      "cell_type": "code",
      "execution_count": null,
      "metadata": {
        "id": "w1Oio2EKa-2H",
        "colab": {
          "base_uri": "https://localhost:8080/",
          "height": 139
        },
        "outputId": "434fb377-742f-442f-bbad-e1dafbb7ed11"
      },
      "outputs": [
        {
          "output_type": "display_data",
          "data": {
            "text/plain": [
              "         Actual\n",
              "Predicted        >0%        >5%       >15%       >35%       >60%\n",
              "     >0%  0.07692308 0.04615385 0.04615385 0.00000000 0.01538462\n",
              "     >5%  0.00000000 0.00000000 0.00000000 0.00000000 0.00000000\n",
              "     >15% 0.00000000 0.00000000 0.00000000 0.00000000 0.00000000\n",
              "     >35% 0.04615385 0.06153846 0.13846154 0.24615385 0.01538462\n",
              "     >60% 0.01538462 0.00000000 0.00000000 0.07692308 0.21538462"
            ]
          },
          "metadata": {}
        }
      ],
      "source": [
        "\n",
        "pred_prop <- prop.table(prediction_table)\n",
        "pred_prop\n"
      ]
    },
    {
      "cell_type": "markdown",
      "metadata": {
        "id": "7J77Qm7la-2I"
      },
      "source": [
        "Voila!  The table is ordered.  Now we can calculate over- and under-predictions.\n",
        "\n",
        "TASK: Do again--What is the accuracy of model (% of net_users predicted is same as actual)\n"
      ]
    },
    {
      "cell_type": "code",
      "execution_count": null,
      "metadata": {
        "id": "Gs2sac_Xa-2I",
        "colab": {
          "base_uri": "https://localhost:8080/",
          "height": 34
        },
        "outputId": "a4e71930-9443-4a54-e917-7ea2297bb29a"
      },
      "outputs": [
        {
          "output_type": "display_data",
          "data": {
            "text/html": [
              "0.538461538461539"
            ],
            "text/markdown": "0.538461538461539",
            "text/latex": "0.538461538461539",
            "text/plain": [
              "[1] 0.5384615"
            ]
          },
          "metadata": {}
        }
      ],
      "source": [
        "\n",
        "pred_prop[col(pred_prop)==row(pred_prop)] %>%\n",
        "  sum()\n",
        "\n"
      ]
    },
    {
      "cell_type": "markdown",
      "metadata": {
        "id": "SdZlZf4aa-2I"
      },
      "source": [
        "\n",
        "Calculate underpredictions: predicted is less than actual when the column is greater than than the row\n"
      ]
    },
    {
      "cell_type": "code",
      "execution_count": null,
      "metadata": {
        "id": "3F4Cs4Vba-2I",
        "colab": {
          "base_uri": "https://localhost:8080/",
          "height": 34
        },
        "outputId": "84d4365b-358d-4dbd-e048-31e21b864de8"
      },
      "outputs": [
        {
          "output_type": "display_data",
          "data": {
            "text/html": [
              "0.123076923076923"
            ],
            "text/markdown": "0.123076923076923",
            "text/latex": "0.123076923076923",
            "text/plain": [
              "[1] 0.1230769"
            ]
          },
          "metadata": {}
        }
      ],
      "source": [
        "\n",
        "pred_prop[col(pred_prop)>row(pred_prop)] %>%\n",
        "  sum()"
      ]
    },
    {
      "cell_type": "markdown",
      "metadata": {
        "id": "6KRXvDcTa-2J"
      },
      "source": [
        "\n",
        "Calculate overpredictions:  when column is less than the row\n"
      ]
    },
    {
      "cell_type": "code",
      "execution_count": null,
      "metadata": {
        "id": "bDMRnpX1a-2J",
        "colab": {
          "base_uri": "https://localhost:8080/",
          "height": 34
        },
        "outputId": "3b714536-10b8-4f36-c241-33a869dea1f2"
      },
      "outputs": [
        {
          "output_type": "display_data",
          "data": {
            "text/html": [
              "0.338461538461538"
            ],
            "text/markdown": "0.338461538461538",
            "text/latex": "0.338461538461538",
            "text/plain": [
              "[1] 0.3384615"
            ]
          },
          "metadata": {}
        }
      ],
      "source": [
        "\n",
        "pred_prop[col(pred_prop)<row(pred_prop)] %>%\n",
        "  sum()\n"
      ]
    },
    {
      "cell_type": "markdown",
      "metadata": {
        "id": "DdMv4M2Na-2J"
      },
      "source": [
        "\n"
      ]
    }
  ],
  "metadata": {
    "anaconda-cloud": "",
    "kernelspec": {
      "display_name": "R",
      "language": "R",
      "name": "ir"
    },
    "language_info": {
      "codemirror_mode": "r",
      "file_extension": ".r",
      "mimetype": "text/x-r-source",
      "name": "R",
      "pygments_lexer": "r",
      "version": "4.1.0"
    },
    "colab": {
      "provenance": [],
      "include_colab_link": true
    }
  },
  "nbformat": 4,
  "nbformat_minor": 0
}