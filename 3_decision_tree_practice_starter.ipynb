{
  "cells": [
    {
      "cell_type": "markdown",
      "metadata": {
        "id": "view-in-github",
        "colab_type": "text"
      },
      "source": [
        "<a href=\"https://colab.research.google.com/github/mikehviz/R_Data_Analysis_HW-s/blob/main/3_decision_tree_practice_starter.ipynb\" target=\"_parent\"><img src=\"https://colab.research.google.com/assets/colab-badge.svg\" alt=\"Open In Colab\"/></a>"
      ]
    },
    {
      "cell_type": "markdown",
      "metadata": {
        "id": "2k3yqthgXO3Q"
      },
      "source": [
        "\n"
      ]
    },
    {
      "cell_type": "markdown",
      "metadata": {
        "id": "8qEzLc_cXO3T"
      },
      "source": [
        "\n",
        "\n"
      ]
    },
    {
      "cell_type": "code",
      "execution_count": null,
      "metadata": {
        "id": "_SB2voC-XO3T",
        "outputId": "825b61bb-adc0-4194-d2a6-58c3c95c31cb",
        "colab": {
          "base_uri": "https://localhost:8080/"
        }
      },
      "outputs": [
        {
          "output_type": "stream",
          "name": "stderr",
          "text": [
            "Installing package into ‘/usr/local/lib/R/site-library’\n",
            "(as ‘lib’ is unspecified)\n",
            "\n",
            "also installing the dependencies ‘libcoin’, ‘mvtnorm’, ‘Formula’, ‘inum’\n",
            "\n",
            "\n",
            "Installing package into ‘/usr/local/lib/R/site-library’\n",
            "(as ‘lib’ is unspecified)\n",
            "\n",
            "also installing the dependencies ‘Rcpp’, ‘SnowballC’, ‘hunspell’, ‘janeaustenr’, ‘tokenizers’\n",
            "\n",
            "\n",
            "Loading required package: grid\n",
            "\n",
            "Loading required package: libcoin\n",
            "\n",
            "Loading required package: mvtnorm\n",
            "\n",
            "\n",
            "Attaching package: ‘dplyr’\n",
            "\n",
            "\n",
            "The following objects are masked from ‘package:stats’:\n",
            "\n",
            "    filter, lag\n",
            "\n",
            "\n",
            "The following objects are masked from ‘package:base’:\n",
            "\n",
            "    intersect, setdiff, setequal, union\n",
            "\n",
            "\n"
          ]
        }
      ],
      "source": [
        "install.packages(\"partykit\")\n",
        "install.packages(\"tidytext\")\n",
        "library(partykit)\n",
        "library(dplyr)\n",
        "library(tidytext)\n",
        "library(ggplot2)"
      ]
    },
    {
      "cell_type": "markdown",
      "metadata": {
        "id": "44Lq5bVxXO3W"
      },
      "source": [
        "The Fiats dataset has information on the purchase of used Fiats.  \n",
        "\n"
      ]
    },
    {
      "cell_type": "code",
      "execution_count": null,
      "metadata": {
        "id": "r9eS7aqPXO3W",
        "outputId": "51c3d8ae-574d-405e-8acc-a115c5511f82",
        "colab": {
          "base_uri": "https://localhost:8080/",
          "height": 1000
        }
      },
      "outputs": [
        {
          "output_type": "display_data",
          "data": {
            "text/html": [
              "<table class=\"dataframe\">\n",
              "<caption>A data.frame: 380 × 9</caption>\n",
              "<thead>\n",
              "\t<tr><th scope=col>model</th><th scope=col>engine_power</th><th scope=col>transmission</th><th scope=col>age_in_days</th><th scope=col>km</th><th scope=col>previous_owners</th><th scope=col>lat</th><th scope=col>lon</th><th scope=col>price</th></tr>\n",
              "\t<tr><th scope=col>&lt;fct&gt;</th><th scope=col>&lt;int&gt;</th><th scope=col>&lt;fct&gt;</th><th scope=col>&lt;int&gt;</th><th scope=col>&lt;int&gt;</th><th scope=col>&lt;int&gt;</th><th scope=col>&lt;dbl&gt;</th><th scope=col>&lt;dbl&gt;</th><th scope=col>&lt;int&gt;</th></tr>\n",
              "</thead>\n",
              "<tbody>\n",
              "\t<tr><td>pop   </td><td>69</td><td>manual   </td><td>4474</td><td> 56779</td><td>2</td><td>45.07108</td><td> 7.46403</td><td>4490</td></tr>\n",
              "\t<tr><td>lounge</td><td>69</td><td>manual   </td><td>2708</td><td>160000</td><td>1</td><td>45.06968</td><td> 7.70492</td><td>4500</td></tr>\n",
              "\t<tr><td>lounge</td><td>69</td><td>automatic</td><td>3470</td><td>170000</td><td>2</td><td>45.51460</td><td> 9.28434</td><td>4500</td></tr>\n",
              "\t<tr><td>sport </td><td>69</td><td>manual   </td><td>3288</td><td>132000</td><td>2</td><td>41.90322</td><td>12.49565</td><td>4700</td></tr>\n",
              "\t<tr><td>sport </td><td>69</td><td>manual   </td><td>3712</td><td>124490</td><td>2</td><td>45.53266</td><td> 9.03892</td><td>4790</td></tr>\n",
              "\t<tr><td>lounge</td><td>69</td><td>manual   </td><td>3684</td><td> 91000</td><td>1</td><td>40.77478</td><td>14.59192</td><td>4900</td></tr>\n",
              "\t<tr><td>lounge</td><td>69</td><td>automatic</td><td>4353</td><td> 90068</td><td>1</td><td>41.72670</td><td>13.00980</td><td>4950</td></tr>\n",
              "\t<tr><td>pop   </td><td>69</td><td>manual   </td><td>4414</td><td> 69000</td><td>2</td><td>45.05660</td><td> 9.70176</td><td>5290</td></tr>\n",
              "\t<tr><td>lounge</td><td>69</td><td>automatic</td><td>4322</td><td>117000</td><td>1</td><td>45.32980</td><td>10.12680</td><td>5399</td></tr>\n",
              "\t<tr><td>lounge</td><td>99</td><td>manual   </td><td>4566</td><td> 78000</td><td>1</td><td>45.46796</td><td> 9.18178</td><td>5800</td></tr>\n",
              "\t<tr><td>lounge</td><td>69</td><td>manual   </td><td>3500</td><td>121000</td><td>2</td><td>45.75736</td><td> 9.79584</td><td>5850</td></tr>\n",
              "\t<tr><td>lounge</td><td>69</td><td>manual   </td><td>3197</td><td> 51083</td><td>2</td><td>45.57122</td><td> 9.15914</td><td>5880</td></tr>\n",
              "\t<tr><td>lounge</td><td>69</td><td>manual   </td><td>2251</td><td> 87000</td><td>2</td><td>45.06968</td><td> 7.70492</td><td>5990</td></tr>\n",
              "\t<tr><td>pop   </td><td>69</td><td>manual   </td><td>3774</td><td> 79000</td><td>1</td><td>41.45072</td><td>12.62502</td><td>6300</td></tr>\n",
              "\t<tr><td>lounge</td><td>69</td><td>manual   </td><td>4018</td><td>101156</td><td>1</td><td>45.35080</td><td>11.46609</td><td>6499</td></tr>\n",
              "\t<tr><td>pop   </td><td>69</td><td>manual   </td><td>2922</td><td> 31350</td><td>1</td><td>43.78451</td><td>10.92466</td><td>6500</td></tr>\n",
              "\t<tr><td>sport </td><td>69</td><td>manual   </td><td>2588</td><td> 71553</td><td>1</td><td>41.90322</td><td>12.49565</td><td>6700</td></tr>\n",
              "\t<tr><td>lounge</td><td>69</td><td>manual   </td><td>2647</td><td> 50000</td><td>2</td><td>43.78237</td><td>11.25499</td><td>6900</td></tr>\n",
              "\t<tr><td>lounge</td><td>99</td><td>automatic</td><td>3592</td><td> 74903</td><td>1</td><td>45.62813</td><td> 9.04546</td><td>6900</td></tr>\n",
              "\t<tr><td>lounge</td><td>69</td><td>automatic</td><td>2922</td><td> 87000</td><td>2</td><td>45.55844</td><td>12.23460</td><td>6900</td></tr>\n",
              "\t<tr><td>lounge</td><td>69</td><td>manual   </td><td>2070</td><td>114000</td><td>1</td><td>45.53659</td><td>10.23204</td><td>7000</td></tr>\n",
              "\t<tr><td>lounge</td><td>69</td><td>manual   </td><td>1096</td><td> 61197</td><td>2</td><td>41.90322</td><td>12.49565</td><td>7100</td></tr>\n",
              "\t<tr><td>lounge</td><td>69</td><td>manual   </td><td>1096</td><td> 62214</td><td>2</td><td>41.90322</td><td>12.49565</td><td>7100</td></tr>\n",
              "\t<tr><td>lounge</td><td>69</td><td>manual   </td><td>2527</td><td> 48000</td><td>1</td><td>45.49802</td><td> 9.67333</td><td>7200</td></tr>\n",
              "\t<tr><td>lounge</td><td>69</td><td>manual   </td><td>2251</td><td> 73453</td><td>4</td><td>45.06313</td><td> 7.57680</td><td>7300</td></tr>\n",
              "\t<tr><td>lounge</td><td>69</td><td>manual   </td><td>1066</td><td> 59961</td><td>2</td><td>41.90322</td><td>12.49565</td><td>7480</td></tr>\n",
              "\t<tr><td>lounge</td><td>69</td><td>manual   </td><td>1066</td><td> 59961</td><td>2</td><td>45.57122</td><td> 9.15914</td><td>7480</td></tr>\n",
              "\t<tr><td>sport </td><td>69</td><td>manual   </td><td>2739</td><td> 77149</td><td>3</td><td>44.75489</td><td> 8.03190</td><td>7800</td></tr>\n",
              "\t<tr><td>lounge</td><td>69</td><td>manual   </td><td>1096</td><td> 57000</td><td>2</td><td>45.46796</td><td> 9.18178</td><td>7900</td></tr>\n",
              "\t<tr><td>lounge</td><td>69</td><td>manual   </td><td> 762</td><td> 16000</td><td>1</td><td>40.84014</td><td>14.25226</td><td>7990</td></tr>\n",
              "\t<tr><td>⋮</td><td>⋮</td><td>⋮</td><td>⋮</td><td>⋮</td><td>⋮</td><td>⋮</td><td>⋮</td><td>⋮</td></tr>\n",
              "\t<tr><td>lounge</td><td> 69</td><td>manual   </td><td>3319</td><td>161674</td><td>1</td><td>45.73374</td><td>11.52471</td><td>5400</td></tr>\n",
              "\t<tr><td>lounge</td><td> 69</td><td>manual   </td><td>3166</td><td> 98000</td><td>1</td><td>45.49063</td><td> 9.29473</td><td>5400</td></tr>\n",
              "\t<tr><td>lounge</td><td> 69</td><td>manual   </td><td>4292</td><td> 97000</td><td>1</td><td>44.68560</td><td> 8.88961</td><td>5400</td></tr>\n",
              "\t<tr><td>lounge</td><td> 69</td><td>manual   </td><td>2982</td><td>124900</td><td>1</td><td>45.51205</td><td>10.42701</td><td>5450</td></tr>\n",
              "\t<tr><td>lounge</td><td> 69</td><td>manual   </td><td>4627</td><td>158222</td><td>1</td><td>42.32232</td><td>12.05377</td><td>5450</td></tr>\n",
              "\t<tr><td>pop   </td><td> 69</td><td>manual   </td><td>4566</td><td> 86000</td><td>2</td><td>45.06968</td><td> 7.70492</td><td>5450</td></tr>\n",
              "\t<tr><td>sport </td><td> 69</td><td>manual   </td><td>3743</td><td> 68833</td><td>2</td><td>44.92488</td><td> 7.33099</td><td>5490</td></tr>\n",
              "\t<tr><td>sport </td><td> 69</td><td>manual   </td><td>3957</td><td> 38000</td><td>1</td><td>45.58409</td><td> 9.27096</td><td>5490</td></tr>\n",
              "\t<tr><td>lounge</td><td> 69</td><td>manual   </td><td>4018</td><td> 83000</td><td>2</td><td>45.83069</td><td>12.03334</td><td>5490</td></tr>\n",
              "\t<tr><td>sport </td><td> 69</td><td>manual   </td><td>4353</td><td>140100</td><td>1</td><td>46.16937</td><td> 9.75165</td><td>5490</td></tr>\n",
              "\t<tr><td>pop   </td><td> 69</td><td>manual   </td><td>3500</td><td>105026</td><td>2</td><td>40.35795</td><td>18.16801</td><td>5490</td></tr>\n",
              "\t<tr><td>lounge</td><td> 69</td><td>manual   </td><td>4049</td><td>135000</td><td>2</td><td>41.90322</td><td>12.49565</td><td>5490</td></tr>\n",
              "\t<tr><td>sport </td><td> 84</td><td>manual   </td><td>3074</td><td> 79000</td><td>2</td><td>43.86867</td><td>10.81321</td><td>5499</td></tr>\n",
              "\t<tr><td>lounge</td><td> 69</td><td>automatic</td><td>4230</td><td>149000</td><td>2</td><td>45.78367</td><td> 8.96724</td><td>5499</td></tr>\n",
              "\t<tr><td>lounge</td><td> 69</td><td>manual   </td><td>4443</td><td>154000</td><td>1</td><td>40.54891</td><td>16.22886</td><td>5500</td></tr>\n",
              "\t<tr><td>lounge</td><td> 69</td><td>manual   </td><td>3865</td><td> 95350</td><td>1</td><td>41.90322</td><td>12.49565</td><td>5500</td></tr>\n",
              "\t<tr><td>sport </td><td>101</td><td>manual   </td><td>4049</td><td>137142</td><td>1</td><td>45.46796</td><td> 9.18178</td><td>5500</td></tr>\n",
              "\t<tr><td>lounge</td><td> 69</td><td>manual   </td><td>4169</td><td>231873</td><td>2</td><td>41.22255</td><td>16.06596</td><td>5500</td></tr>\n",
              "\t<tr><td>pop   </td><td> 69</td><td>manual   </td><td>2588</td><td> 88000</td><td>2</td><td>43.88207</td><td>11.10035</td><td>5500</td></tr>\n",
              "\t<tr><td>lounge</td><td> 69</td><td>manual   </td><td>3562</td><td> 96490</td><td>1</td><td>41.21628</td><td>14.52664</td><td>5500</td></tr>\n",
              "\t<tr><td>sport </td><td> 69</td><td>manual   </td><td>4474</td><td> 90000</td><td>1</td><td>43.92198</td><td> 8.10363</td><td>5500</td></tr>\n",
              "\t<tr><td>lounge</td><td> 69</td><td>manual   </td><td>3957</td><td>145000</td><td>2</td><td>40.01385</td><td>18.15865</td><td>5500</td></tr>\n",
              "\t<tr><td>lounge</td><td>101</td><td>manual   </td><td>4596</td><td>121000</td><td>2</td><td>43.06753</td><td>12.55155</td><td>5500</td></tr>\n",
              "\t<tr><td>lounge</td><td> 69</td><td>manual   </td><td>3684</td><td>110000</td><td>2</td><td>45.59650</td><td>10.10875</td><td>5500</td></tr>\n",
              "\t<tr><td>lounge</td><td> 69</td><td>manual   </td><td>3409</td><td> 99556</td><td>1</td><td>45.59972</td><td> 8.75362</td><td>5500</td></tr>\n",
              "\t<tr><td>lounge</td><td> 69</td><td>manual   </td><td>4474</td><td> 55976</td><td>2</td><td>45.61005</td><td> 9.24234</td><td>5500</td></tr>\n",
              "\t<tr><td>lounge</td><td> 69</td><td>manual   </td><td>4200</td><td>134717</td><td>1</td><td>44.10202</td><td> 9.82024</td><td>5500</td></tr>\n",
              "\t<tr><td>lounge</td><td> 69</td><td>manual   </td><td>3470</td><td>113344</td><td>1</td><td>41.00380</td><td>16.87294</td><td>5500</td></tr>\n",
              "\t<tr><td>pop   </td><td> 69</td><td>automatic</td><td>3712</td><td>130000</td><td>1</td><td>45.81050</td><td> 8.96474</td><td>5500</td></tr>\n",
              "\t<tr><td>lounge</td><td> 99</td><td>manual   </td><td>4566</td><td> 96000</td><td>1</td><td>44.32589</td><td>10.83756</td><td>5500</td></tr>\n",
              "</tbody>\n",
              "</table>\n"
            ],
            "text/markdown": "\nA data.frame: 380 × 9\n\n| model &lt;fct&gt; | engine_power &lt;int&gt; | transmission &lt;fct&gt; | age_in_days &lt;int&gt; | km &lt;int&gt; | previous_owners &lt;int&gt; | lat &lt;dbl&gt; | lon &lt;dbl&gt; | price &lt;int&gt; |\n|---|---|---|---|---|---|---|---|---|\n| pop    | 69 | manual    | 4474 |  56779 | 2 | 45.07108 |  7.46403 | 4490 |\n| lounge | 69 | manual    | 2708 | 160000 | 1 | 45.06968 |  7.70492 | 4500 |\n| lounge | 69 | automatic | 3470 | 170000 | 2 | 45.51460 |  9.28434 | 4500 |\n| sport  | 69 | manual    | 3288 | 132000 | 2 | 41.90322 | 12.49565 | 4700 |\n| sport  | 69 | manual    | 3712 | 124490 | 2 | 45.53266 |  9.03892 | 4790 |\n| lounge | 69 | manual    | 3684 |  91000 | 1 | 40.77478 | 14.59192 | 4900 |\n| lounge | 69 | automatic | 4353 |  90068 | 1 | 41.72670 | 13.00980 | 4950 |\n| pop    | 69 | manual    | 4414 |  69000 | 2 | 45.05660 |  9.70176 | 5290 |\n| lounge | 69 | automatic | 4322 | 117000 | 1 | 45.32980 | 10.12680 | 5399 |\n| lounge | 99 | manual    | 4566 |  78000 | 1 | 45.46796 |  9.18178 | 5800 |\n| lounge | 69 | manual    | 3500 | 121000 | 2 | 45.75736 |  9.79584 | 5850 |\n| lounge | 69 | manual    | 3197 |  51083 | 2 | 45.57122 |  9.15914 | 5880 |\n| lounge | 69 | manual    | 2251 |  87000 | 2 | 45.06968 |  7.70492 | 5990 |\n| pop    | 69 | manual    | 3774 |  79000 | 1 | 41.45072 | 12.62502 | 6300 |\n| lounge | 69 | manual    | 4018 | 101156 | 1 | 45.35080 | 11.46609 | 6499 |\n| pop    | 69 | manual    | 2922 |  31350 | 1 | 43.78451 | 10.92466 | 6500 |\n| sport  | 69 | manual    | 2588 |  71553 | 1 | 41.90322 | 12.49565 | 6700 |\n| lounge | 69 | manual    | 2647 |  50000 | 2 | 43.78237 | 11.25499 | 6900 |\n| lounge | 99 | automatic | 3592 |  74903 | 1 | 45.62813 |  9.04546 | 6900 |\n| lounge | 69 | automatic | 2922 |  87000 | 2 | 45.55844 | 12.23460 | 6900 |\n| lounge | 69 | manual    | 2070 | 114000 | 1 | 45.53659 | 10.23204 | 7000 |\n| lounge | 69 | manual    | 1096 |  61197 | 2 | 41.90322 | 12.49565 | 7100 |\n| lounge | 69 | manual    | 1096 |  62214 | 2 | 41.90322 | 12.49565 | 7100 |\n| lounge | 69 | manual    | 2527 |  48000 | 1 | 45.49802 |  9.67333 | 7200 |\n| lounge | 69 | manual    | 2251 |  73453 | 4 | 45.06313 |  7.57680 | 7300 |\n| lounge | 69 | manual    | 1066 |  59961 | 2 | 41.90322 | 12.49565 | 7480 |\n| lounge | 69 | manual    | 1066 |  59961 | 2 | 45.57122 |  9.15914 | 7480 |\n| sport  | 69 | manual    | 2739 |  77149 | 3 | 44.75489 |  8.03190 | 7800 |\n| lounge | 69 | manual    | 1096 |  57000 | 2 | 45.46796 |  9.18178 | 7900 |\n| lounge | 69 | manual    |  762 |  16000 | 1 | 40.84014 | 14.25226 | 7990 |\n| ⋮ | ⋮ | ⋮ | ⋮ | ⋮ | ⋮ | ⋮ | ⋮ | ⋮ |\n| lounge |  69 | manual    | 3319 | 161674 | 1 | 45.73374 | 11.52471 | 5400 |\n| lounge |  69 | manual    | 3166 |  98000 | 1 | 45.49063 |  9.29473 | 5400 |\n| lounge |  69 | manual    | 4292 |  97000 | 1 | 44.68560 |  8.88961 | 5400 |\n| lounge |  69 | manual    | 2982 | 124900 | 1 | 45.51205 | 10.42701 | 5450 |\n| lounge |  69 | manual    | 4627 | 158222 | 1 | 42.32232 | 12.05377 | 5450 |\n| pop    |  69 | manual    | 4566 |  86000 | 2 | 45.06968 |  7.70492 | 5450 |\n| sport  |  69 | manual    | 3743 |  68833 | 2 | 44.92488 |  7.33099 | 5490 |\n| sport  |  69 | manual    | 3957 |  38000 | 1 | 45.58409 |  9.27096 | 5490 |\n| lounge |  69 | manual    | 4018 |  83000 | 2 | 45.83069 | 12.03334 | 5490 |\n| sport  |  69 | manual    | 4353 | 140100 | 1 | 46.16937 |  9.75165 | 5490 |\n| pop    |  69 | manual    | 3500 | 105026 | 2 | 40.35795 | 18.16801 | 5490 |\n| lounge |  69 | manual    | 4049 | 135000 | 2 | 41.90322 | 12.49565 | 5490 |\n| sport  |  84 | manual    | 3074 |  79000 | 2 | 43.86867 | 10.81321 | 5499 |\n| lounge |  69 | automatic | 4230 | 149000 | 2 | 45.78367 |  8.96724 | 5499 |\n| lounge |  69 | manual    | 4443 | 154000 | 1 | 40.54891 | 16.22886 | 5500 |\n| lounge |  69 | manual    | 3865 |  95350 | 1 | 41.90322 | 12.49565 | 5500 |\n| sport  | 101 | manual    | 4049 | 137142 | 1 | 45.46796 |  9.18178 | 5500 |\n| lounge |  69 | manual    | 4169 | 231873 | 2 | 41.22255 | 16.06596 | 5500 |\n| pop    |  69 | manual    | 2588 |  88000 | 2 | 43.88207 | 11.10035 | 5500 |\n| lounge |  69 | manual    | 3562 |  96490 | 1 | 41.21628 | 14.52664 | 5500 |\n| sport  |  69 | manual    | 4474 |  90000 | 1 | 43.92198 |  8.10363 | 5500 |\n| lounge |  69 | manual    | 3957 | 145000 | 2 | 40.01385 | 18.15865 | 5500 |\n| lounge | 101 | manual    | 4596 | 121000 | 2 | 43.06753 | 12.55155 | 5500 |\n| lounge |  69 | manual    | 3684 | 110000 | 2 | 45.59650 | 10.10875 | 5500 |\n| lounge |  69 | manual    | 3409 |  99556 | 1 | 45.59972 |  8.75362 | 5500 |\n| lounge |  69 | manual    | 4474 |  55976 | 2 | 45.61005 |  9.24234 | 5500 |\n| lounge |  69 | manual    | 4200 | 134717 | 1 | 44.10202 |  9.82024 | 5500 |\n| lounge |  69 | manual    | 3470 | 113344 | 1 | 41.00380 | 16.87294 | 5500 |\n| pop    |  69 | automatic | 3712 | 130000 | 1 | 45.81050 |  8.96474 | 5500 |\n| lounge |  99 | manual    | 4566 |  96000 | 1 | 44.32589 | 10.83756 | 5500 |\n\n",
            "text/latex": "A data.frame: 380 × 9\n\\begin{tabular}{lllllllll}\n model & engine\\_power & transmission & age\\_in\\_days & km & previous\\_owners & lat & lon & price\\\\\n <fct> & <int> & <fct> & <int> & <int> & <int> & <dbl> & <dbl> & <int>\\\\\n\\hline\n\t pop    & 69 & manual    & 4474 &  56779 & 2 & 45.07108 &  7.46403 & 4490\\\\\n\t lounge & 69 & manual    & 2708 & 160000 & 1 & 45.06968 &  7.70492 & 4500\\\\\n\t lounge & 69 & automatic & 3470 & 170000 & 2 & 45.51460 &  9.28434 & 4500\\\\\n\t sport  & 69 & manual    & 3288 & 132000 & 2 & 41.90322 & 12.49565 & 4700\\\\\n\t sport  & 69 & manual    & 3712 & 124490 & 2 & 45.53266 &  9.03892 & 4790\\\\\n\t lounge & 69 & manual    & 3684 &  91000 & 1 & 40.77478 & 14.59192 & 4900\\\\\n\t lounge & 69 & automatic & 4353 &  90068 & 1 & 41.72670 & 13.00980 & 4950\\\\\n\t pop    & 69 & manual    & 4414 &  69000 & 2 & 45.05660 &  9.70176 & 5290\\\\\n\t lounge & 69 & automatic & 4322 & 117000 & 1 & 45.32980 & 10.12680 & 5399\\\\\n\t lounge & 99 & manual    & 4566 &  78000 & 1 & 45.46796 &  9.18178 & 5800\\\\\n\t lounge & 69 & manual    & 3500 & 121000 & 2 & 45.75736 &  9.79584 & 5850\\\\\n\t lounge & 69 & manual    & 3197 &  51083 & 2 & 45.57122 &  9.15914 & 5880\\\\\n\t lounge & 69 & manual    & 2251 &  87000 & 2 & 45.06968 &  7.70492 & 5990\\\\\n\t pop    & 69 & manual    & 3774 &  79000 & 1 & 41.45072 & 12.62502 & 6300\\\\\n\t lounge & 69 & manual    & 4018 & 101156 & 1 & 45.35080 & 11.46609 & 6499\\\\\n\t pop    & 69 & manual    & 2922 &  31350 & 1 & 43.78451 & 10.92466 & 6500\\\\\n\t sport  & 69 & manual    & 2588 &  71553 & 1 & 41.90322 & 12.49565 & 6700\\\\\n\t lounge & 69 & manual    & 2647 &  50000 & 2 & 43.78237 & 11.25499 & 6900\\\\\n\t lounge & 99 & automatic & 3592 &  74903 & 1 & 45.62813 &  9.04546 & 6900\\\\\n\t lounge & 69 & automatic & 2922 &  87000 & 2 & 45.55844 & 12.23460 & 6900\\\\\n\t lounge & 69 & manual    & 2070 & 114000 & 1 & 45.53659 & 10.23204 & 7000\\\\\n\t lounge & 69 & manual    & 1096 &  61197 & 2 & 41.90322 & 12.49565 & 7100\\\\\n\t lounge & 69 & manual    & 1096 &  62214 & 2 & 41.90322 & 12.49565 & 7100\\\\\n\t lounge & 69 & manual    & 2527 &  48000 & 1 & 45.49802 &  9.67333 & 7200\\\\\n\t lounge & 69 & manual    & 2251 &  73453 & 4 & 45.06313 &  7.57680 & 7300\\\\\n\t lounge & 69 & manual    & 1066 &  59961 & 2 & 41.90322 & 12.49565 & 7480\\\\\n\t lounge & 69 & manual    & 1066 &  59961 & 2 & 45.57122 &  9.15914 & 7480\\\\\n\t sport  & 69 & manual    & 2739 &  77149 & 3 & 44.75489 &  8.03190 & 7800\\\\\n\t lounge & 69 & manual    & 1096 &  57000 & 2 & 45.46796 &  9.18178 & 7900\\\\\n\t lounge & 69 & manual    &  762 &  16000 & 1 & 40.84014 & 14.25226 & 7990\\\\\n\t ⋮ & ⋮ & ⋮ & ⋮ & ⋮ & ⋮ & ⋮ & ⋮ & ⋮\\\\\n\t lounge &  69 & manual    & 3319 & 161674 & 1 & 45.73374 & 11.52471 & 5400\\\\\n\t lounge &  69 & manual    & 3166 &  98000 & 1 & 45.49063 &  9.29473 & 5400\\\\\n\t lounge &  69 & manual    & 4292 &  97000 & 1 & 44.68560 &  8.88961 & 5400\\\\\n\t lounge &  69 & manual    & 2982 & 124900 & 1 & 45.51205 & 10.42701 & 5450\\\\\n\t lounge &  69 & manual    & 4627 & 158222 & 1 & 42.32232 & 12.05377 & 5450\\\\\n\t pop    &  69 & manual    & 4566 &  86000 & 2 & 45.06968 &  7.70492 & 5450\\\\\n\t sport  &  69 & manual    & 3743 &  68833 & 2 & 44.92488 &  7.33099 & 5490\\\\\n\t sport  &  69 & manual    & 3957 &  38000 & 1 & 45.58409 &  9.27096 & 5490\\\\\n\t lounge &  69 & manual    & 4018 &  83000 & 2 & 45.83069 & 12.03334 & 5490\\\\\n\t sport  &  69 & manual    & 4353 & 140100 & 1 & 46.16937 &  9.75165 & 5490\\\\\n\t pop    &  69 & manual    & 3500 & 105026 & 2 & 40.35795 & 18.16801 & 5490\\\\\n\t lounge &  69 & manual    & 4049 & 135000 & 2 & 41.90322 & 12.49565 & 5490\\\\\n\t sport  &  84 & manual    & 3074 &  79000 & 2 & 43.86867 & 10.81321 & 5499\\\\\n\t lounge &  69 & automatic & 4230 & 149000 & 2 & 45.78367 &  8.96724 & 5499\\\\\n\t lounge &  69 & manual    & 4443 & 154000 & 1 & 40.54891 & 16.22886 & 5500\\\\\n\t lounge &  69 & manual    & 3865 &  95350 & 1 & 41.90322 & 12.49565 & 5500\\\\\n\t sport  & 101 & manual    & 4049 & 137142 & 1 & 45.46796 &  9.18178 & 5500\\\\\n\t lounge &  69 & manual    & 4169 & 231873 & 2 & 41.22255 & 16.06596 & 5500\\\\\n\t pop    &  69 & manual    & 2588 &  88000 & 2 & 43.88207 & 11.10035 & 5500\\\\\n\t lounge &  69 & manual    & 3562 &  96490 & 1 & 41.21628 & 14.52664 & 5500\\\\\n\t sport  &  69 & manual    & 4474 &  90000 & 1 & 43.92198 &  8.10363 & 5500\\\\\n\t lounge &  69 & manual    & 3957 & 145000 & 2 & 40.01385 & 18.15865 & 5500\\\\\n\t lounge & 101 & manual    & 4596 & 121000 & 2 & 43.06753 & 12.55155 & 5500\\\\\n\t lounge &  69 & manual    & 3684 & 110000 & 2 & 45.59650 & 10.10875 & 5500\\\\\n\t lounge &  69 & manual    & 3409 &  99556 & 1 & 45.59972 &  8.75362 & 5500\\\\\n\t lounge &  69 & manual    & 4474 &  55976 & 2 & 45.61005 &  9.24234 & 5500\\\\\n\t lounge &  69 & manual    & 4200 & 134717 & 1 & 44.10202 &  9.82024 & 5500\\\\\n\t lounge &  69 & manual    & 3470 & 113344 & 1 & 41.00380 & 16.87294 & 5500\\\\\n\t pop    &  69 & automatic & 3712 & 130000 & 1 & 45.81050 &  8.96474 & 5500\\\\\n\t lounge &  99 & manual    & 4566 &  96000 & 1 & 44.32589 & 10.83756 & 5500\\\\\n\\end{tabular}\n",
            "text/plain": [
              "    model  engine_power transmission age_in_days km     previous_owners\n",
              "1   pop    69           manual       4474         56779 2              \n",
              "2   lounge 69           manual       2708        160000 1              \n",
              "3   lounge 69           automatic    3470        170000 2              \n",
              "4   sport  69           manual       3288        132000 2              \n",
              "5   sport  69           manual       3712        124490 2              \n",
              "6   lounge 69           manual       3684         91000 1              \n",
              "7   lounge 69           automatic    4353         90068 1              \n",
              "8   pop    69           manual       4414         69000 2              \n",
              "9   lounge 69           automatic    4322        117000 1              \n",
              "10  lounge 99           manual       4566         78000 1              \n",
              "11  lounge 69           manual       3500        121000 2              \n",
              "12  lounge 69           manual       3197         51083 2              \n",
              "13  lounge 69           manual       2251         87000 2              \n",
              "14  pop    69           manual       3774         79000 1              \n",
              "15  lounge 69           manual       4018        101156 1              \n",
              "16  pop    69           manual       2922         31350 1              \n",
              "17  sport  69           manual       2588         71553 1              \n",
              "18  lounge 69           manual       2647         50000 2              \n",
              "19  lounge 99           automatic    3592         74903 1              \n",
              "20  lounge 69           automatic    2922         87000 2              \n",
              "21  lounge 69           manual       2070        114000 1              \n",
              "22  lounge 69           manual       1096         61197 2              \n",
              "23  lounge 69           manual       1096         62214 2              \n",
              "24  lounge 69           manual       2527         48000 1              \n",
              "25  lounge 69           manual       2251         73453 4              \n",
              "26  lounge 69           manual       1066         59961 2              \n",
              "27  lounge 69           manual       1066         59961 2              \n",
              "28  sport  69           manual       2739         77149 3              \n",
              "29  lounge 69           manual       1096         57000 2              \n",
              "30  lounge 69           manual        762         16000 1              \n",
              "⋮   ⋮      ⋮            ⋮            ⋮           ⋮      ⋮              \n",
              "351 lounge  69          manual       3319        161674 1              \n",
              "352 lounge  69          manual       3166         98000 1              \n",
              "353 lounge  69          manual       4292         97000 1              \n",
              "354 lounge  69          manual       2982        124900 1              \n",
              "355 lounge  69          manual       4627        158222 1              \n",
              "356 pop     69          manual       4566         86000 2              \n",
              "357 sport   69          manual       3743         68833 2              \n",
              "358 sport   69          manual       3957         38000 1              \n",
              "359 lounge  69          manual       4018         83000 2              \n",
              "360 sport   69          manual       4353        140100 1              \n",
              "361 pop     69          manual       3500        105026 2              \n",
              "362 lounge  69          manual       4049        135000 2              \n",
              "363 sport   84          manual       3074         79000 2              \n",
              "364 lounge  69          automatic    4230        149000 2              \n",
              "365 lounge  69          manual       4443        154000 1              \n",
              "366 lounge  69          manual       3865         95350 1              \n",
              "367 sport  101          manual       4049        137142 1              \n",
              "368 lounge  69          manual       4169        231873 2              \n",
              "369 pop     69          manual       2588         88000 2              \n",
              "370 lounge  69          manual       3562         96490 1              \n",
              "371 sport   69          manual       4474         90000 1              \n",
              "372 lounge  69          manual       3957        145000 2              \n",
              "373 lounge 101          manual       4596        121000 2              \n",
              "374 lounge  69          manual       3684        110000 2              \n",
              "375 lounge  69          manual       3409         99556 1              \n",
              "376 lounge  69          manual       4474         55976 2              \n",
              "377 lounge  69          manual       4200        134717 1              \n",
              "378 lounge  69          manual       3470        113344 1              \n",
              "379 pop     69          automatic    3712        130000 1              \n",
              "380 lounge  99          manual       4566         96000 1              \n",
              "    lat      lon      price\n",
              "1   45.07108  7.46403 4490 \n",
              "2   45.06968  7.70492 4500 \n",
              "3   45.51460  9.28434 4500 \n",
              "4   41.90322 12.49565 4700 \n",
              "5   45.53266  9.03892 4790 \n",
              "6   40.77478 14.59192 4900 \n",
              "7   41.72670 13.00980 4950 \n",
              "8   45.05660  9.70176 5290 \n",
              "9   45.32980 10.12680 5399 \n",
              "10  45.46796  9.18178 5800 \n",
              "11  45.75736  9.79584 5850 \n",
              "12  45.57122  9.15914 5880 \n",
              "13  45.06968  7.70492 5990 \n",
              "14  41.45072 12.62502 6300 \n",
              "15  45.35080 11.46609 6499 \n",
              "16  43.78451 10.92466 6500 \n",
              "17  41.90322 12.49565 6700 \n",
              "18  43.78237 11.25499 6900 \n",
              "19  45.62813  9.04546 6900 \n",
              "20  45.55844 12.23460 6900 \n",
              "21  45.53659 10.23204 7000 \n",
              "22  41.90322 12.49565 7100 \n",
              "23  41.90322 12.49565 7100 \n",
              "24  45.49802  9.67333 7200 \n",
              "25  45.06313  7.57680 7300 \n",
              "26  41.90322 12.49565 7480 \n",
              "27  45.57122  9.15914 7480 \n",
              "28  44.75489  8.03190 7800 \n",
              "29  45.46796  9.18178 7900 \n",
              "30  40.84014 14.25226 7990 \n",
              "⋮   ⋮        ⋮        ⋮    \n",
              "351 45.73374 11.52471 5400 \n",
              "352 45.49063  9.29473 5400 \n",
              "353 44.68560  8.88961 5400 \n",
              "354 45.51205 10.42701 5450 \n",
              "355 42.32232 12.05377 5450 \n",
              "356 45.06968  7.70492 5450 \n",
              "357 44.92488  7.33099 5490 \n",
              "358 45.58409  9.27096 5490 \n",
              "359 45.83069 12.03334 5490 \n",
              "360 46.16937  9.75165 5490 \n",
              "361 40.35795 18.16801 5490 \n",
              "362 41.90322 12.49565 5490 \n",
              "363 43.86867 10.81321 5499 \n",
              "364 45.78367  8.96724 5499 \n",
              "365 40.54891 16.22886 5500 \n",
              "366 41.90322 12.49565 5500 \n",
              "367 45.46796  9.18178 5500 \n",
              "368 41.22255 16.06596 5500 \n",
              "369 43.88207 11.10035 5500 \n",
              "370 41.21628 14.52664 5500 \n",
              "371 43.92198  8.10363 5500 \n",
              "372 40.01385 18.15865 5500 \n",
              "373 43.06753 12.55155 5500 \n",
              "374 45.59650 10.10875 5500 \n",
              "375 45.59972  8.75362 5500 \n",
              "376 45.61005  9.24234 5500 \n",
              "377 44.10202  9.82024 5500 \n",
              "378 41.00380 16.87294 5500 \n",
              "379 45.81050  8.96474 5500 \n",
              "380 44.32589 10.83756 5500 "
            ]
          },
          "metadata": {}
        }
      ],
      "source": [
        "Fiats <- read.csv(\"https://docs.google.com/spreadsheets/d/1xTEv5QVxY46NPemsu4nX45jCoAtugEtX4HPS8sXLUZo/export?format=csv\", stringsAsFactors = TRUE)\n",
        "Fiats\n"
      ]
    },
    {
      "cell_type": "markdown",
      "metadata": {
        "id": "qRpfYaAjXO3W"
      },
      "source": [
        "TASK: Use the ctree function to create a decision tree to determine whether we can predict price from the other variables.  The target/response variable is price, the other variables are the predictors.    NOTE: You don't have to list all of the predictor variables individually, you can specify `ctree(price ~ . , data = Fiats)` where the period after the tilde indicates all other variables in the data set. \n",
        "Plot the resulting decision tree.\n",
        "\n",
        "QUESTION: What variable(s) predicts the sales price?\n",
        "QUESTION: What is the median price of a used Fiat that is less than 366 days old?\n",
        "QUESTION: Which node displays the lowest median price?  Describe the age and mileage (km) of Fiats that fall into that node.\n",
        "QUESTION: Is model a predictor of price?\n"
      ]
    },
    {
      "cell_type": "markdown",
      "source": [
        "q1: age in days and km\n",
        "\n",
        "q2: 11400.562\n",
        "\n",
        "q3: older than 4049 days and more than 143900 miles = price of 4394\n",
        "\n",
        "q4: no it is not"
      ],
      "metadata": {
        "id": "3Vf8ooEJ7O5Q"
      }
    },
    {
      "cell_type": "code",
      "execution_count": null,
      "metadata": {
        "id": "PfzDhNquXO3X",
        "colab": {
          "base_uri": "https://localhost:8080/",
          "height": 888
        },
        "outputId": "d734a199-1266-44fd-b9a8-f4594e423191"
      },
      "outputs": [
        {
          "output_type": "display_data",
          "data": {
            "text/plain": [
              "\n",
              "Model formula:\n",
              "price ~ model + engine_power + transmission + age_in_days + km + \n",
              "    previous_owners + lat + lon\n",
              "\n",
              "Fitted party:\n",
              "[1] root\n",
              "|   [2] age_in_days <= 1886\n",
              "|   |   [3] age_in_days <= 366: 11400.562 (n = 16, err = 41940735.9)\n",
              "|   |   [4] age_in_days > 366\n",
              "|   |   |   [5] km <= 47983: 9752.551 (n = 49, err = 44099886.1)\n",
              "|   |   |   [6] km > 47983: 7894.000 (n = 10, err = 20900840.0)\n",
              "|   [7] age_in_days > 1886\n",
              "|   |   [8] km <= 79000\n",
              "|   |   |   [9] age_in_days <= 3592: 6742.111 (n = 9, err = 4038840.9)\n",
              "|   |   |   [10] age_in_days > 3592: 5286.111 (n = 18, err = 2465027.8)\n",
              "|   |   [11] km > 79000\n",
              "|   |   |   [12] age_in_days <= 4049\n",
              "|   |   |   |   [13] km <= 137142: 5068.589 (n = 95, err = 24921075.0)\n",
              "|   |   |   |   [14] km > 137142: 4731.838 (n = 37, err = 6699697.0)\n",
              "|   |   |   [15] age_in_days > 4049\n",
              "|   |   |   |   [16] km <= 143900: 4778.018 (n = 109, err = 21926638.0)\n",
              "|   |   |   |   [17] km > 143900: 4394.000 (n = 37, err = 17244670.0)\n",
              "\n",
              "Number of inner nodes:    8\n",
              "Number of terminal nodes: 9"
            ]
          },
          "metadata": {}
        },
        {
          "output_type": "display_data",
          "data": {
            "text/plain": [
              "plot without title"
            ],
            "image/png": "[encoded data removed]"
          },
          "metadata": {
            "image/png": {
              "width": 420,
              "height": 420
            }
          }
        }
      ],
      "source": [
        "regression_tree <- ctree(price ~ ., data = Fiats)\n",
        "regression_tree\n",
        "plot(regression_tree)\n",
        "\n"
      ]
    },
    {
      "cell_type": "markdown",
      "metadata": {
        "id": "EHRODSiMXO3X"
      },
      "source": [
        "Here is a different data set.\n",
        "Can we predict someone's gender by their favorite color, music, or beverages?  \n"
      ]
    },
    {
      "cell_type": "code",
      "execution_count": null,
      "metadata": {
        "id": "9q34goFWXO3X",
        "outputId": "46e30293-fb1b-408a-8674-6d264511ac10",
        "colab": {
          "base_uri": "https://localhost:8080/",
          "height": 1000
        }
      },
      "outputs": [
        {
          "output_type": "display_data",
          "data": {
            "text/html": [
              "<table class=\"dataframe\">\n",
              "<caption>A data.frame: 66 × 5</caption>\n",
              "<thead>\n",
              "\t<tr><th scope=col>FavColor</th><th scope=col>FavMusic</th><th scope=col>FavAlc</th><th scope=col>FavSoft</th><th scope=col>Gender</th></tr>\n",
              "\t<tr><th scope=col>&lt;fct&gt;</th><th scope=col>&lt;fct&gt;</th><th scope=col>&lt;fct&gt;</th><th scope=col>&lt;fct&gt;</th><th scope=col>&lt;fct&gt;</th></tr>\n",
              "</thead>\n",
              "<tbody>\n",
              "\t<tr><td>Cool   </td><td>Rock            </td><td>Vodka        </td><td>7UP/Sprite     </td><td>F</td></tr>\n",
              "\t<tr><td>Neutral</td><td>Hip hop         </td><td>Vodka        </td><td>Coca Cola/Pepsi</td><td>F</td></tr>\n",
              "\t<tr><td>Warm   </td><td>Rock            </td><td>Wine         </td><td>Coca Cola/Pepsi</td><td>F</td></tr>\n",
              "\t<tr><td>Warm   </td><td>Folk/Traditional</td><td>Whiskey      </td><td>Fanta          </td><td>F</td></tr>\n",
              "\t<tr><td>Cool   </td><td>Rock            </td><td>Vodka        </td><td>Coca Cola/Pepsi</td><td>F</td></tr>\n",
              "\t<tr><td>Warm   </td><td>Jazz/Blues      </td><td>Doesn't drink</td><td>Fanta          </td><td>F</td></tr>\n",
              "\t<tr><td>Cool   </td><td>Pop             </td><td>Beer         </td><td>Coca Cola/Pepsi</td><td>F</td></tr>\n",
              "\t<tr><td>Warm   </td><td>Pop             </td><td>Whiskey      </td><td>Fanta          </td><td>F</td></tr>\n",
              "\t<tr><td>Warm   </td><td>Rock            </td><td>Other        </td><td>7UP/Sprite     </td><td>F</td></tr>\n",
              "\t<tr><td>Neutral</td><td>Pop             </td><td>Wine         </td><td>Coca Cola/Pepsi</td><td>F</td></tr>\n",
              "\t<tr><td>Cool   </td><td>Pop             </td><td>Other        </td><td>7UP/Sprite     </td><td>F</td></tr>\n",
              "\t<tr><td>Warm   </td><td>Pop             </td><td>Other        </td><td>7UP/Sprite     </td><td>F</td></tr>\n",
              "\t<tr><td>Warm   </td><td>Pop             </td><td>Wine         </td><td>7UP/Sprite     </td><td>F</td></tr>\n",
              "\t<tr><td>Warm   </td><td>Electronic      </td><td>Wine         </td><td>Coca Cola/Pepsi</td><td>F</td></tr>\n",
              "\t<tr><td>Cool   </td><td>Rock            </td><td>Beer         </td><td>Coca Cola/Pepsi</td><td>F</td></tr>\n",
              "\t<tr><td>Warm   </td><td>Jazz/Blues      </td><td>Wine         </td><td>Coca Cola/Pepsi</td><td>F</td></tr>\n",
              "\t<tr><td>Cool   </td><td>Pop             </td><td>Wine         </td><td>7UP/Sprite     </td><td>F</td></tr>\n",
              "\t<tr><td>Cool   </td><td>Rock            </td><td>Other        </td><td>Coca Cola/Pepsi</td><td>F</td></tr>\n",
              "\t<tr><td>Cool   </td><td>Rock            </td><td>Other        </td><td>Coca Cola/Pepsi</td><td>F</td></tr>\n",
              "\t<tr><td>Cool   </td><td>Pop             </td><td>Doesn't drink</td><td>7UP/Sprite     </td><td>F</td></tr>\n",
              "\t<tr><td>Cool   </td><td>Pop             </td><td>Beer         </td><td>Fanta          </td><td>F</td></tr>\n",
              "\t<tr><td>Warm   </td><td>Jazz/Blues      </td><td>Whiskey      </td><td>Fanta          </td><td>F</td></tr>\n",
              "\t<tr><td>Cool   </td><td>Rock            </td><td>Vodka        </td><td>Coca Cola/Pepsi</td><td>F</td></tr>\n",
              "\t<tr><td>Warm   </td><td>Pop             </td><td>Other        </td><td>Coca Cola/Pepsi</td><td>F</td></tr>\n",
              "\t<tr><td>Cool   </td><td>Folk/Traditional</td><td>Whiskey      </td><td>7UP/Sprite     </td><td>F</td></tr>\n",
              "\t<tr><td><span style=white-space:pre-wrap>Warm   </span></td><td><span style=white-space:pre-wrap>R&amp;B and soul    </span></td><td><span style=white-space:pre-wrap>Whiskey      </span></td><td>Coca Cola/Pepsi</td><td>F</td></tr>\n",
              "\t<tr><td>Cool   </td><td>Pop             </td><td>Beer         </td><td>Other          </td><td>F</td></tr>\n",
              "\t<tr><td>Cool   </td><td>Pop             </td><td>Doesn't drink</td><td>Other          </td><td>F</td></tr>\n",
              "\t<tr><td>Cool   </td><td>Pop             </td><td>Doesn't drink</td><td>Coca Cola/Pepsi</td><td>F</td></tr>\n",
              "\t<tr><td>Cool   </td><td>Electronic      </td><td>Doesn't drink</td><td>Fanta          </td><td>F</td></tr>\n",
              "\t<tr><td>⋮</td><td>⋮</td><td>⋮</td><td>⋮</td><td>⋮</td></tr>\n",
              "\t<tr><td>Neutral</td><td>Rock            </td><td>Doesn't drink</td><td>Coca Cola/Pepsi</td><td>M</td></tr>\n",
              "\t<tr><td>Cool   </td><td>Pop             </td><td>Other        </td><td>Fanta          </td><td>M</td></tr>\n",
              "\t<tr><td>Cool   </td><td>Pop             </td><td>Whiskey      </td><td>Fanta          </td><td>M</td></tr>\n",
              "\t<tr><td>Warm   </td><td>Rock            </td><td>Vodka        </td><td>7UP/Sprite     </td><td>M</td></tr>\n",
              "\t<tr><td>Cool   </td><td>Rock            </td><td>Vodka        </td><td>Coca Cola/Pepsi</td><td>M</td></tr>\n",
              "\t<tr><td>Neutral</td><td>Pop             </td><td>Doesn't drink</td><td>7UP/Sprite     </td><td>M</td></tr>\n",
              "\t<tr><td><span style=white-space:pre-wrap>Warm   </span></td><td><span style=white-space:pre-wrap>R&amp;B and soul    </span></td><td>Doesn't drink</td><td>Coca Cola/Pepsi</td><td>M</td></tr>\n",
              "\t<tr><td>Cool   </td><td>Rock            </td><td>Wine         </td><td>7UP/Sprite     </td><td>M</td></tr>\n",
              "\t<tr><td>Cool   </td><td>Folk/Traditional</td><td>Beer         </td><td>Other          </td><td>M</td></tr>\n",
              "\t<tr><td>Cool   </td><td>Hip hop         </td><td>Beer         </td><td>Coca Cola/Pepsi</td><td>M</td></tr>\n",
              "\t<tr><td>Cool   </td><td>Hip hop         </td><td>Wine         </td><td>Coca Cola/Pepsi</td><td>M</td></tr>\n",
              "\t<tr><td><span style=white-space:pre-wrap>Cool   </span></td><td><span style=white-space:pre-wrap>R&amp;B and soul    </span></td><td><span style=white-space:pre-wrap>Whiskey      </span></td><td><span style=white-space:pre-wrap>7UP/Sprite     </span></td><td>M</td></tr>\n",
              "\t<tr><td>Cool   </td><td>Rock            </td><td>Doesn't drink</td><td>Other          </td><td>M</td></tr>\n",
              "\t<tr><td>Warm   </td><td>Hip hop         </td><td>Beer         </td><td>Coca Cola/Pepsi</td><td>M</td></tr>\n",
              "\t<tr><td><span style=white-space:pre-wrap>Cool   </span></td><td><span style=white-space:pre-wrap>R&amp;B and soul    </span></td><td>Doesn't drink</td><td>Coca Cola/Pepsi</td><td>M</td></tr>\n",
              "\t<tr><td>Cool   </td><td>Rock            </td><td>Doesn't drink</td><td>Coca Cola/Pepsi</td><td>M</td></tr>\n",
              "\t<tr><td>Cool   </td><td>Hip hop         </td><td>Doesn't drink</td><td>Other          </td><td>M</td></tr>\n",
              "\t<tr><td>Warm   </td><td>Rock            </td><td>Beer         </td><td>Fanta          </td><td>M</td></tr>\n",
              "\t<tr><td>Cool   </td><td>Electronic      </td><td>Doesn't drink</td><td>Fanta          </td><td>M</td></tr>\n",
              "\t<tr><td>Cool   </td><td>Electronic      </td><td>Other        </td><td>Fanta          </td><td>M</td></tr>\n",
              "\t<tr><td>Warm   </td><td>Folk/Traditional</td><td>Other        </td><td>Fanta          </td><td>M</td></tr>\n",
              "\t<tr><td>Warm   </td><td>Electronic      </td><td>Vodka        </td><td>Fanta          </td><td>M</td></tr>\n",
              "\t<tr><td>Warm   </td><td>Jazz/Blues      </td><td>Vodka        </td><td>Coca Cola/Pepsi</td><td>M</td></tr>\n",
              "\t<tr><td>Cool   </td><td>Pop             </td><td>Whiskey      </td><td>Other          </td><td>M</td></tr>\n",
              "\t<tr><td>Cool   </td><td>Electronic      </td><td>Whiskey      </td><td>Coca Cola/Pepsi</td><td>M</td></tr>\n",
              "\t<tr><td>Cool   </td><td>Rock            </td><td>Vodka        </td><td>Coca Cola/Pepsi</td><td>M</td></tr>\n",
              "\t<tr><td>Cool   </td><td>Hip hop         </td><td>Beer         </td><td>Coca Cola/Pepsi</td><td>M</td></tr>\n",
              "\t<tr><td>Neutral</td><td>Hip hop         </td><td>Doesn't drink</td><td>Fanta          </td><td>M</td></tr>\n",
              "\t<tr><td>Cool   </td><td>Rock            </td><td>Wine         </td><td>Coca Cola/Pepsi</td><td>M</td></tr>\n",
              "\t<tr><td>Cool   </td><td>Electronic      </td><td>Beer         </td><td>Coca Cola/Pepsi</td><td>M</td></tr>\n",
              "</tbody>\n",
              "</table>\n"
            ],
            "text/markdown": "\nA data.frame: 66 × 5\n\n| FavColor &lt;fct&gt; | FavMusic &lt;fct&gt; | FavAlc &lt;fct&gt; | FavSoft &lt;fct&gt; | Gender &lt;fct&gt; |\n|---|---|---|---|---|\n| Cool    | Rock             | Vodka         | 7UP/Sprite      | F |\n| Neutral | Hip hop          | Vodka         | Coca Cola/Pepsi | F |\n| Warm    | Rock             | Wine          | Coca Cola/Pepsi | F |\n| Warm    | Folk/Traditional | Whiskey       | Fanta           | F |\n| Cool    | Rock             | Vodka         | Coca Cola/Pepsi | F |\n| Warm    | Jazz/Blues       | Doesn't drink | Fanta           | F |\n| Cool    | Pop              | Beer          | Coca Cola/Pepsi | F |\n| Warm    | Pop              | Whiskey       | Fanta           | F |\n| Warm    | Rock             | Other         | 7UP/Sprite      | F |\n| Neutral | Pop              | Wine          | Coca Cola/Pepsi | F |\n| Cool    | Pop              | Other         | 7UP/Sprite      | F |\n| Warm    | Pop              | Other         | 7UP/Sprite      | F |\n| Warm    | Pop              | Wine          | 7UP/Sprite      | F |\n| Warm    | Electronic       | Wine          | Coca Cola/Pepsi | F |\n| Cool    | Rock             | Beer          | Coca Cola/Pepsi | F |\n| Warm    | Jazz/Blues       | Wine          | Coca Cola/Pepsi | F |\n| Cool    | Pop              | Wine          | 7UP/Sprite      | F |\n| Cool    | Rock             | Other         | Coca Cola/Pepsi | F |\n| Cool    | Rock             | Other         | Coca Cola/Pepsi | F |\n| Cool    | Pop              | Doesn't drink | 7UP/Sprite      | F |\n| Cool    | Pop              | Beer          | Fanta           | F |\n| Warm    | Jazz/Blues       | Whiskey       | Fanta           | F |\n| Cool    | Rock             | Vodka         | Coca Cola/Pepsi | F |\n| Warm    | Pop              | Other         | Coca Cola/Pepsi | F |\n| Cool    | Folk/Traditional | Whiskey       | 7UP/Sprite      | F |\n| Warm    | R&amp;B and soul     | Whiskey       | Coca Cola/Pepsi | F |\n| Cool    | Pop              | Beer          | Other           | F |\n| Cool    | Pop              | Doesn't drink | Other           | F |\n| Cool    | Pop              | Doesn't drink | Coca Cola/Pepsi | F |\n| Cool    | Electronic       | Doesn't drink | Fanta           | F |\n| ⋮ | ⋮ | ⋮ | ⋮ | ⋮ |\n| Neutral | Rock             | Doesn't drink | Coca Cola/Pepsi | M |\n| Cool    | Pop              | Other         | Fanta           | M |\n| Cool    | Pop              | Whiskey       | Fanta           | M |\n| Warm    | Rock             | Vodka         | 7UP/Sprite      | M |\n| Cool    | Rock             | Vodka         | Coca Cola/Pepsi | M |\n| Neutral | Pop              | Doesn't drink | 7UP/Sprite      | M |\n| Warm    | R&amp;B and soul     | Doesn't drink | Coca Cola/Pepsi | M |\n| Cool    | Rock             | Wine          | 7UP/Sprite      | M |\n| Cool    | Folk/Traditional | Beer          | Other           | M |\n| Cool    | Hip hop          | Beer          | Coca Cola/Pepsi | M |\n| Cool    | Hip hop          | Wine          | Coca Cola/Pepsi | M |\n| Cool    | R&amp;B and soul     | Whiskey       | 7UP/Sprite      | M |\n| Cool    | Rock             | Doesn't drink | Other           | M |\n| Warm    | Hip hop          | Beer          | Coca Cola/Pepsi | M |\n| Cool    | R&amp;B and soul     | Doesn't drink | Coca Cola/Pepsi | M |\n| Cool    | Rock             | Doesn't drink | Coca Cola/Pepsi | M |\n| Cool    | Hip hop          | Doesn't drink | Other           | M |\n| Warm    | Rock             | Beer          | Fanta           | M |\n| Cool    | Electronic       | Doesn't drink | Fanta           | M |\n| Cool    | Electronic       | Other         | Fanta           | M |\n| Warm    | Folk/Traditional | Other         | Fanta           | M |\n| Warm    | Electronic       | Vodka         | Fanta           | M |\n| Warm    | Jazz/Blues       | Vodka         | Coca Cola/Pepsi | M |\n| Cool    | Pop              | Whiskey       | Other           | M |\n| Cool    | Electronic       | Whiskey       | Coca Cola/Pepsi | M |\n| Cool    | Rock             | Vodka         | Coca Cola/Pepsi | M |\n| Cool    | Hip hop          | Beer          | Coca Cola/Pepsi | M |\n| Neutral | Hip hop          | Doesn't drink | Fanta           | M |\n| Cool    | Rock             | Wine          | Coca Cola/Pepsi | M |\n| Cool    | Electronic       | Beer          | Coca Cola/Pepsi | M |\n\n",
            "text/latex": "A data.frame: 66 × 5\n\\begin{tabular}{lllll}\n FavColor & FavMusic & FavAlc & FavSoft & Gender\\\\\n <fct> & <fct> & <fct> & <fct> & <fct>\\\\\n\\hline\n\t Cool    & Rock             & Vodka         & 7UP/Sprite      & F\\\\\n\t Neutral & Hip hop          & Vodka         & Coca Cola/Pepsi & F\\\\\n\t Warm    & Rock             & Wine          & Coca Cola/Pepsi & F\\\\\n\t Warm    & Folk/Traditional & Whiskey       & Fanta           & F\\\\\n\t Cool    & Rock             & Vodka         & Coca Cola/Pepsi & F\\\\\n\t Warm    & Jazz/Blues       & Doesn't drink & Fanta           & F\\\\\n\t Cool    & Pop              & Beer          & Coca Cola/Pepsi & F\\\\\n\t Warm    & Pop              & Whiskey       & Fanta           & F\\\\\n\t Warm    & Rock             & Other         & 7UP/Sprite      & F\\\\\n\t Neutral & Pop              & Wine          & Coca Cola/Pepsi & F\\\\\n\t Cool    & Pop              & Other         & 7UP/Sprite      & F\\\\\n\t Warm    & Pop              & Other         & 7UP/Sprite      & F\\\\\n\t Warm    & Pop              & Wine          & 7UP/Sprite      & F\\\\\n\t Warm    & Electronic       & Wine          & Coca Cola/Pepsi & F\\\\\n\t Cool    & Rock             & Beer          & Coca Cola/Pepsi & F\\\\\n\t Warm    & Jazz/Blues       & Wine          & Coca Cola/Pepsi & F\\\\\n\t Cool    & Pop              & Wine          & 7UP/Sprite      & F\\\\\n\t Cool    & Rock             & Other         & Coca Cola/Pepsi & F\\\\\n\t Cool    & Rock             & Other         & Coca Cola/Pepsi & F\\\\\n\t Cool    & Pop              & Doesn't drink & 7UP/Sprite      & F\\\\\n\t Cool    & Pop              & Beer          & Fanta           & F\\\\\n\t Warm    & Jazz/Blues       & Whiskey       & Fanta           & F\\\\\n\t Cool    & Rock             & Vodka         & Coca Cola/Pepsi & F\\\\\n\t Warm    & Pop              & Other         & Coca Cola/Pepsi & F\\\\\n\t Cool    & Folk/Traditional & Whiskey       & 7UP/Sprite      & F\\\\\n\t Warm    & R\\&B and soul     & Whiskey       & Coca Cola/Pepsi & F\\\\\n\t Cool    & Pop              & Beer          & Other           & F\\\\\n\t Cool    & Pop              & Doesn't drink & Other           & F\\\\\n\t Cool    & Pop              & Doesn't drink & Coca Cola/Pepsi & F\\\\\n\t Cool    & Electronic       & Doesn't drink & Fanta           & F\\\\\n\t ⋮ & ⋮ & ⋮ & ⋮ & ⋮\\\\\n\t Neutral & Rock             & Doesn't drink & Coca Cola/Pepsi & M\\\\\n\t Cool    & Pop              & Other         & Fanta           & M\\\\\n\t Cool    & Pop              & Whiskey       & Fanta           & M\\\\\n\t Warm    & Rock             & Vodka         & 7UP/Sprite      & M\\\\\n\t Cool    & Rock             & Vodka         & Coca Cola/Pepsi & M\\\\\n\t Neutral & Pop              & Doesn't drink & 7UP/Sprite      & M\\\\\n\t Warm    & R\\&B and soul     & Doesn't drink & Coca Cola/Pepsi & M\\\\\n\t Cool    & Rock             & Wine          & 7UP/Sprite      & M\\\\\n\t Cool    & Folk/Traditional & Beer          & Other           & M\\\\\n\t Cool    & Hip hop          & Beer          & Coca Cola/Pepsi & M\\\\\n\t Cool    & Hip hop          & Wine          & Coca Cola/Pepsi & M\\\\\n\t Cool    & R\\&B and soul     & Whiskey       & 7UP/Sprite      & M\\\\\n\t Cool    & Rock             & Doesn't drink & Other           & M\\\\\n\t Warm    & Hip hop          & Beer          & Coca Cola/Pepsi & M\\\\\n\t Cool    & R\\&B and soul     & Doesn't drink & Coca Cola/Pepsi & M\\\\\n\t Cool    & Rock             & Doesn't drink & Coca Cola/Pepsi & M\\\\\n\t Cool    & Hip hop          & Doesn't drink & Other           & M\\\\\n\t Warm    & Rock             & Beer          & Fanta           & M\\\\\n\t Cool    & Electronic       & Doesn't drink & Fanta           & M\\\\\n\t Cool    & Electronic       & Other         & Fanta           & M\\\\\n\t Warm    & Folk/Traditional & Other         & Fanta           & M\\\\\n\t Warm    & Electronic       & Vodka         & Fanta           & M\\\\\n\t Warm    & Jazz/Blues       & Vodka         & Coca Cola/Pepsi & M\\\\\n\t Cool    & Pop              & Whiskey       & Other           & M\\\\\n\t Cool    & Electronic       & Whiskey       & Coca Cola/Pepsi & M\\\\\n\t Cool    & Rock             & Vodka         & Coca Cola/Pepsi & M\\\\\n\t Cool    & Hip hop          & Beer          & Coca Cola/Pepsi & M\\\\\n\t Neutral & Hip hop          & Doesn't drink & Fanta           & M\\\\\n\t Cool    & Rock             & Wine          & Coca Cola/Pepsi & M\\\\\n\t Cool    & Electronic       & Beer          & Coca Cola/Pepsi & M\\\\\n\\end{tabular}\n",
            "text/plain": [
              "   FavColor FavMusic         FavAlc        FavSoft         Gender\n",
              "1  Cool     Rock             Vodka         7UP/Sprite      F     \n",
              "2  Neutral  Hip hop          Vodka         Coca Cola/Pepsi F     \n",
              "3  Warm     Rock             Wine          Coca Cola/Pepsi F     \n",
              "4  Warm     Folk/Traditional Whiskey       Fanta           F     \n",
              "5  Cool     Rock             Vodka         Coca Cola/Pepsi F     \n",
              "6  Warm     Jazz/Blues       Doesn't drink Fanta           F     \n",
              "7  Cool     Pop              Beer          Coca Cola/Pepsi F     \n",
              "8  Warm     Pop              Whiskey       Fanta           F     \n",
              "9  Warm     Rock             Other         7UP/Sprite      F     \n",
              "10 Neutral  Pop              Wine          Coca Cola/Pepsi F     \n",
              "11 Cool     Pop              Other         7UP/Sprite      F     \n",
              "12 Warm     Pop              Other         7UP/Sprite      F     \n",
              "13 Warm     Pop              Wine          7UP/Sprite      F     \n",
              "14 Warm     Electronic       Wine          Coca Cola/Pepsi F     \n",
              "15 Cool     Rock             Beer          Coca Cola/Pepsi F     \n",
              "16 Warm     Jazz/Blues       Wine          Coca Cola/Pepsi F     \n",
              "17 Cool     Pop              Wine          7UP/Sprite      F     \n",
              "18 Cool     Rock             Other         Coca Cola/Pepsi F     \n",
              "19 Cool     Rock             Other         Coca Cola/Pepsi F     \n",
              "20 Cool     Pop              Doesn't drink 7UP/Sprite      F     \n",
              "21 Cool     Pop              Beer          Fanta           F     \n",
              "22 Warm     Jazz/Blues       Whiskey       Fanta           F     \n",
              "23 Cool     Rock             Vodka         Coca Cola/Pepsi F     \n",
              "24 Warm     Pop              Other         Coca Cola/Pepsi F     \n",
              "25 Cool     Folk/Traditional Whiskey       7UP/Sprite      F     \n",
              "26 Warm     R&B and soul     Whiskey       Coca Cola/Pepsi F     \n",
              "27 Cool     Pop              Beer          Other           F     \n",
              "28 Cool     Pop              Doesn't drink Other           F     \n",
              "29 Cool     Pop              Doesn't drink Coca Cola/Pepsi F     \n",
              "30 Cool     Electronic       Doesn't drink Fanta           F     \n",
              "⋮  ⋮        ⋮                ⋮             ⋮               ⋮     \n",
              "37 Neutral  Rock             Doesn't drink Coca Cola/Pepsi M     \n",
              "38 Cool     Pop              Other         Fanta           M     \n",
              "39 Cool     Pop              Whiskey       Fanta           M     \n",
              "40 Warm     Rock             Vodka         7UP/Sprite      M     \n",
              "41 Cool     Rock             Vodka         Coca Cola/Pepsi M     \n",
              "42 Neutral  Pop              Doesn't drink 7UP/Sprite      M     \n",
              "43 Warm     R&B and soul     Doesn't drink Coca Cola/Pepsi M     \n",
              "44 Cool     Rock             Wine          7UP/Sprite      M     \n",
              "45 Cool     Folk/Traditional Beer          Other           M     \n",
              "46 Cool     Hip hop          Beer          Coca Cola/Pepsi M     \n",
              "47 Cool     Hip hop          Wine          Coca Cola/Pepsi M     \n",
              "48 Cool     R&B and soul     Whiskey       7UP/Sprite      M     \n",
              "49 Cool     Rock             Doesn't drink Other           M     \n",
              "50 Warm     Hip hop          Beer          Coca Cola/Pepsi M     \n",
              "51 Cool     R&B and soul     Doesn't drink Coca Cola/Pepsi M     \n",
              "52 Cool     Rock             Doesn't drink Coca Cola/Pepsi M     \n",
              "53 Cool     Hip hop          Doesn't drink Other           M     \n",
              "54 Warm     Rock             Beer          Fanta           M     \n",
              "55 Cool     Electronic       Doesn't drink Fanta           M     \n",
              "56 Cool     Electronic       Other         Fanta           M     \n",
              "57 Warm     Folk/Traditional Other         Fanta           M     \n",
              "58 Warm     Electronic       Vodka         Fanta           M     \n",
              "59 Warm     Jazz/Blues       Vodka         Coca Cola/Pepsi M     \n",
              "60 Cool     Pop              Whiskey       Other           M     \n",
              "61 Cool     Electronic       Whiskey       Coca Cola/Pepsi M     \n",
              "62 Cool     Rock             Vodka         Coca Cola/Pepsi M     \n",
              "63 Cool     Hip hop          Beer          Coca Cola/Pepsi M     \n",
              "64 Neutral  Hip hop          Doesn't drink Fanta           M     \n",
              "65 Cool     Rock             Wine          Coca Cola/Pepsi M     \n",
              "66 Cool     Electronic       Beer          Coca Cola/Pepsi M     "
            ]
          },
          "metadata": {}
        }
      ],
      "source": [
        "GenderPredict <- read.csv(\"https://docs.google.com/spreadsheets/d/1eleLAVKyB6Gb0t3CNCvJb_OudCB5stNyImy14XH5Gck/export?format=csv\", header = TRUE, stringsAsFactors = TRUE)\n",
        "GenderPredict\n"
      ]
    },
    {
      "cell_type": "markdown",
      "metadata": {
        "id": "gYZwde74XO3Y"
      },
      "source": [
        "First, let's ensure we have an adequate number of observations per Gender:\n",
        "\n"
      ]
    },
    {
      "cell_type": "code",
      "execution_count": null,
      "metadata": {
        "id": "j8k1Lm6bXO3Y",
        "outputId": "064b4817-2e05-46ee-c71f-0a25d85624a4",
        "colab": {
          "base_uri": "https://localhost:8080/",
          "height": 178
        }
      },
      "outputs": [
        {
          "output_type": "display_data",
          "data": {
            "text/html": [
              "<table class=\"dataframe\">\n",
              "<caption>A data.frame: 2 × 2</caption>\n",
              "<thead>\n",
              "\t<tr><th scope=col>Gender</th><th scope=col>n</th></tr>\n",
              "\t<tr><th scope=col>&lt;fct&gt;</th><th scope=col>&lt;int&gt;</th></tr>\n",
              "</thead>\n",
              "<tbody>\n",
              "\t<tr><td>F</td><td>33</td></tr>\n",
              "\t<tr><td>M</td><td>33</td></tr>\n",
              "</tbody>\n",
              "</table>\n"
            ],
            "text/markdown": "\nA data.frame: 2 × 2\n\n| Gender &lt;fct&gt; | n &lt;int&gt; |\n|---|---|\n| F | 33 |\n| M | 33 |\n\n",
            "text/latex": "A data.frame: 2 × 2\n\\begin{tabular}{ll}\n Gender & n\\\\\n <fct> & <int>\\\\\n\\hline\n\t F & 33\\\\\n\t M & 33\\\\\n\\end{tabular}\n",
            "text/plain": [
              "  Gender n \n",
              "1 F      33\n",
              "2 M      33"
            ]
          },
          "metadata": {}
        }
      ],
      "source": [
        "GenderPredict %>%\n",
        "  count(Gender)\n"
      ]
    },
    {
      "cell_type": "markdown",
      "metadata": {
        "id": "pLXE-guiXO3Y"
      },
      "source": [
        "TASK: Use ggplot with geom_bar to create a stacked bar graph of Favorite Color and Gender (x is Gender, fill is FavColor) \n",
        "QUESTION: What is your interpretation of the graph?  Does one gender differ significantly from the other in terms of color preference?\n"
      ]
    },
    {
      "cell_type": "code",
      "execution_count": null,
      "metadata": {
        "id": "0jZdfFK-XO3Y",
        "colab": {
          "base_uri": "https://localhost:8080/",
          "height": 437
        },
        "outputId": "76187d9d-ed6d-4342-aa11-ee85fdfc08ab"
      },
      "outputs": [
        {
          "output_type": "display_data",
          "data": {
            "text/plain": [
              "plot without title"
            ],
            "image/png": "[encoded data removed]"
          },
          "metadata": {
            "image/png": {
              "width": 420,
              "height": 420
            }
          }
        }
      ],
      "source": [
        "\n",
        "GenderPredict %>%\n",
        "ggplot() +\n",
        "geom_bar(aes(x=Gender, fill=FavColor))\n"
      ]
    },
    {
      "cell_type": "markdown",
      "metadata": {
        "id": "Lp1pGNadXO3Z"
      },
      "source": [
        "TASK: Create a stacked bar graph of Favorite Alcohol and Gender.  \n",
        "QUESTION: What is your interpretation of the graph? \n"
      ]
    },
    {
      "cell_type": "code",
      "execution_count": null,
      "metadata": {
        "id": "Bqu8Auj5XO3Z",
        "colab": {
          "base_uri": "https://localhost:8080/",
          "height": 437
        },
        "outputId": "09f20114-842f-4824-aa22-31d50e135b9d"
      },
      "outputs": [
        {
          "output_type": "display_data",
          "data": {
            "text/plain": [
              "plot without title"
            ],
            "image/png": "[encoded data removed]"
          },
          "metadata": {
            "image/png": {
              "width": 420,
              "height": 420
            }
          }
        }
      ],
      "source": [
        "\n",
        "GenderPredict %>%\n",
        "ggplot() +\n",
        "geom_bar(aes(x=Gender, fill=FavAlc))\n"
      ]
    },
    {
      "cell_type": "markdown",
      "metadata": {
        "id": "vRdfGQ6MXO3Z"
      },
      "source": [
        "TASK: Create a stacked bar graph of Favorite Music and Gender.  \n",
        "QUESTION: What is your interpretation of the graph? \n"
      ]
    },
    {
      "cell_type": "code",
      "execution_count": null,
      "metadata": {
        "id": "J0bTmszpXO3Z",
        "colab": {
          "base_uri": "https://localhost:8080/",
          "height": 437
        },
        "outputId": "8820b7d2-c5ec-4e87-91ff-9a0d6b0bec1b"
      },
      "outputs": [
        {
          "output_type": "display_data",
          "data": {
            "text/plain": [
              "plot without title"
            ],
            "image/png": "[encoded data removed]"
          },
          "metadata": {
            "image/png": {
              "width": 420,
              "height": 420
            }
          }
        }
      ],
      "source": [
        "\n",
        "GenderPredict %>%\n",
        "ggplot() +\n",
        "geom_bar(aes(x=Gender, fill=FavMusic))\n",
        "\n",
        "\n"
      ]
    },
    {
      "cell_type": "markdown",
      "metadata": {
        "id": "ow0ui-XjXO3Z"
      },
      "source": [
        "TASK: Create a stacked bar graph of Favorite Soft Drink and Gender.  \n",
        "QUESTION:What is your interpretation of the graph?  \n"
      ]
    },
    {
      "cell_type": "code",
      "execution_count": null,
      "metadata": {
        "id": "yjGSNxnpXO3a",
        "colab": {
          "base_uri": "https://localhost:8080/",
          "height": 437
        },
        "outputId": "1b21c36f-b5b6-47cf-b062-7a697af65d29"
      },
      "outputs": [
        {
          "output_type": "display_data",
          "data": {
            "text/plain": [
              "plot without title"
            ],
            "image/png": "[encoded data removed]"
          },
          "metadata": {
            "image/png": {
              "width": 420,
              "height": 420
            }
          }
        }
      ],
      "source": [
        "\n",
        "GenderPredict %>%\n",
        "ggplot() +\n",
        "geom_bar(aes(x=Gender, fill=FavSoft))\n",
        "\n"
      ]
    },
    {
      "cell_type": "markdown",
      "metadata": {
        "id": "FjWHATZeXO3a"
      },
      "source": [
        "It is not clear from the bar graphs whether there is a relationship between favorite color, music, alcohol, or soft drink and gender.  Perhaps some combination of the favorites might allow gender prediction.\n",
        "\n",
        "TASK: Use the ctree function with target variable Gender and all other variables as predictors.\n",
        "Plot the resulting decision tree.\n",
        "QUESTION: How many nodes does the tree contain?  What does this tell you?\n"
      ]
    },
    {
      "cell_type": "code",
      "execution_count": null,
      "metadata": {
        "id": "x37jd167XO3a",
        "colab": {
          "base_uri": "https://localhost:8080/",
          "height": 593
        },
        "outputId": "45eb8637-1dc8-4493-9e80-83eba8334ecb"
      },
      "outputs": [
        {
          "output_type": "display_data",
          "data": {
            "text/plain": [
              "\n",
              "Model formula:\n",
              "Gender ~ FavColor + FavMusic + FavAlc + FavSoft\n",
              "\n",
              "Fitted party:\n",
              "[1] root: F (n = 66, err = 50.0%) \n",
              "\n",
              "Number of inner nodes:    0\n",
              "Number of terminal nodes: 1"
            ]
          },
          "metadata": {}
        },
        {
          "output_type": "display_data",
          "data": {
            "text/plain": [
              "plot without title"
            ],
            "image/png": "[encoded data removed]"
          },
          "metadata": {
            "image/png": {
              "width": 420,
              "height": 420
            }
          }
        }
      ],
      "source": [
        "\n",
        "Gender_tree <- ctree(Gender ~ ., data = GenderPredict)\n",
        "Gender_tree\n",
        "plot(Gender_tree)\n",
        "\n"
      ]
    },
    {
      "cell_type": "markdown",
      "metadata": {
        "id": "O8ag3EaDXO3a"
      },
      "source": [
        "TASK: Instead of predicting gender, let's see if we can  predict favorite color from the other variables.\n",
        "Create a decision tree with favorite color as the target variable.\n",
        "Since color is not binary (more than 2 categories), the result is a bar graph that is not stacked.  You will see the decision tree contains only one node, which has a bar graph containing 3 bars for the 3 different types of colors.  \n",
        "QUESTION: How many nodes does the tree contain?  What does this tell you?\n"
      ]
    },
    {
      "cell_type": "code",
      "execution_count": null,
      "metadata": {
        "id": "HyHam_W-XO3a"
      },
      "outputs": [],
      "source": [
        "\n",
        "\n"
      ]
    },
    {
      "cell_type": "markdown",
      "metadata": {
        "id": "-2Oo5g7_XO3b"
      },
      "source": [
        "The CIA dataset has information on countries' infrastructure.  \n",
        "https://www.rdocumentation.org/packages/mdsr/versions/0.1.3/topics/CIACountries \n"
      ]
    },
    {
      "cell_type": "markdown",
      "source": [],
      "metadata": {
        "id": "esClGv3dAY3_"
      }
    },
    {
      "cell_type": "code",
      "execution_count": null,
      "metadata": {
        "id": "C2yr5YDUXO3b",
        "outputId": "c290f51e-4202-43f2-e278-dbeb58c46a99",
        "colab": {
          "base_uri": "https://localhost:8080/",
          "height": 1000
        }
      },
      "outputs": [
        {
          "output_type": "display_data",
          "data": {
            "text/html": [
              "<table class=\"dataframe\">\n",
              "<caption>A data.frame: 236 × 9</caption>\n",
              "<thead>\n",
              "\t<tr><th scope=col>X</th><th scope=col>country</th><th scope=col>pop</th><th scope=col>area</th><th scope=col>oil_prod</th><th scope=col>gdp</th><th scope=col>educ</th><th scope=col>roadways</th><th scope=col>net_users</th></tr>\n",
              "\t<tr><th scope=col>&lt;int&gt;</th><th scope=col>&lt;fct&gt;</th><th scope=col>&lt;int&gt;</th><th scope=col>&lt;dbl&gt;</th><th scope=col>&lt;int&gt;</th><th scope=col>&lt;int&gt;</th><th scope=col>&lt;dbl&gt;</th><th scope=col>&lt;dbl&gt;</th><th scope=col>&lt;fct&gt;</th></tr>\n",
              "</thead>\n",
              "<tbody>\n",
              "\t<tr><td> 1</td><td><span style=white-space:pre-wrap>Afghanistan           </span></td><td> 32564342</td><td> 652230</td><td><span style=white-space:pre-wrap>      0</span></td><td> 1900</td><td> NA</td><td>0.06462444</td><td>&gt;5% </td></tr>\n",
              "\t<tr><td> 2</td><td><span style=white-space:pre-wrap>Albania               </span></td><td><span style=white-space:pre-wrap>  3029278</span></td><td><span style=white-space:pre-wrap>  28748</span></td><td><span style=white-space:pre-wrap>  20510</span></td><td>11900</td><td>3.3</td><td>0.62613051</td><td>&gt;35%</td></tr>\n",
              "\t<tr><td> 3</td><td><span style=white-space:pre-wrap>Algeria               </span></td><td> 39542166</td><td>2381741</td><td>1420000</td><td>14500</td><td>4.3</td><td>0.04771929</td><td>&gt;15%</td></tr>\n",
              "\t<tr><td> 4</td><td>American Samoa        </td><td>    54343</td><td>    199</td><td>      0</td><td>13000</td><td> NA</td><td>1.21105528</td><td>NA  </td></tr>\n",
              "\t<tr><td> 5</td><td><span style=white-space:pre-wrap>Andorra               </span></td><td><span style=white-space:pre-wrap>    85580</span></td><td><span style=white-space:pre-wrap>    468</span></td><td><span style=white-space:pre-wrap>     NA</span></td><td>37200</td><td> NA</td><td>0.68376068</td><td>&gt;60%</td></tr>\n",
              "\t<tr><td> 6</td><td><span style=white-space:pre-wrap>Angola                </span></td><td> 19625353</td><td>1246700</td><td>1742000</td><td> 7300</td><td>3.5</td><td>0.04125211</td><td>&gt;15%</td></tr>\n",
              "\t<tr><td> 7</td><td><span style=white-space:pre-wrap>Anguilla              </span></td><td><span style=white-space:pre-wrap>    16418</span></td><td><span style=white-space:pre-wrap>     91</span></td><td><span style=white-space:pre-wrap>     NA</span></td><td>12200</td><td>2.8</td><td>1.92307692</td><td>&gt;15%</td></tr>\n",
              "\t<tr><td> 8</td><td><span style=white-space:pre-wrap>Antigua and Barbuda   </span></td><td><span style=white-space:pre-wrap>    92436</span></td><td><span style=white-space:pre-wrap>    443</span></td><td><span style=white-space:pre-wrap>      0</span></td><td>23600</td><td>2.4</td><td>2.64108352</td><td>&gt;60%</td></tr>\n",
              "\t<tr><td> 9</td><td><span style=white-space:pre-wrap>Argentina             </span></td><td> 43431886</td><td>2780400</td><td> 532100</td><td>22600</td><td>6.3</td><td>0.08321608</td><td>&gt;35%</td></tr>\n",
              "\t<tr><td>10</td><td><span style=white-space:pre-wrap>Armenia               </span></td><td><span style=white-space:pre-wrap>  3056382</span></td><td><span style=white-space:pre-wrap>  29743</span></td><td><span style=white-space:pre-wrap>      0</span></td><td> 8500</td><td>3.3</td><td>0.25905255</td><td>&gt;35%</td></tr>\n",
              "\t<tr><td>11</td><td><span style=white-space:pre-wrap>Aruba                 </span></td><td><span style=white-space:pre-wrap>   112162</span></td><td><span style=white-space:pre-wrap>    180</span></td><td><span style=white-space:pre-wrap>      0</span></td><td>25300</td><td>6.0</td><td><span style=white-space:pre-wrap>        NA</span></td><td>&gt;60%</td></tr>\n",
              "\t<tr><td>12</td><td><span style=white-space:pre-wrap>Australia             </span></td><td> 22751014</td><td>7741220</td><td> 354300</td><td>65400</td><td>5.6</td><td>0.10634202</td><td>&gt;60%</td></tr>\n",
              "\t<tr><td>13</td><td><span style=white-space:pre-wrap>Austria               </span></td><td><span style=white-space:pre-wrap>  8665550</span></td><td><span style=white-space:pre-wrap>  83871</span></td><td><span style=white-space:pre-wrap>  21760</span></td><td>47300</td><td>5.9</td><td>1.48451789</td><td>&gt;60%</td></tr>\n",
              "\t<tr><td>14</td><td><span style=white-space:pre-wrap>Azerbaijan            </span></td><td><span style=white-space:pre-wrap>  9780780</span></td><td><span style=white-space:pre-wrap>  86600</span></td><td> 845900</td><td>18000</td><td>2.4</td><td>0.61133949</td><td>&gt;35%</td></tr>\n",
              "\t<tr><td>15</td><td><span style=white-space:pre-wrap>Bahamas, The          </span></td><td><span style=white-space:pre-wrap>   324597</span></td><td><span style=white-space:pre-wrap>  13880</span></td><td><span style=white-space:pre-wrap>      0</span></td><td>25200</td><td> NA</td><td>0.19452450</td><td>&gt;60%</td></tr>\n",
              "\t<tr><td>16</td><td><span style=white-space:pre-wrap>Bahrain               </span></td><td><span style=white-space:pre-wrap>  1346613</span></td><td><span style=white-space:pre-wrap>    760</span></td><td><span style=white-space:pre-wrap>  49500</span></td><td>50100</td><td>2.6</td><td>5.42368421</td><td>&gt;60%</td></tr>\n",
              "\t<tr><td>17</td><td><span style=white-space:pre-wrap>Bangladesh            </span></td><td>168957745</td><td> 143998</td><td><span style=white-space:pre-wrap>   4000</span></td><td> 3600</td><td>2.2</td><td>0.14770344</td><td>&gt;5% </td></tr>\n",
              "\t<tr><td>18</td><td><span style=white-space:pre-wrap>Barbados              </span></td><td><span style=white-space:pre-wrap>   290604</span></td><td><span style=white-space:pre-wrap>    430</span></td><td><span style=white-space:pre-wrap>   1000</span></td><td>16600</td><td>5.6</td><td>3.72093023</td><td>&gt;60%</td></tr>\n",
              "\t<tr><td>19</td><td><span style=white-space:pre-wrap>Belarus               </span></td><td><span style=white-space:pre-wrap>  9589689</span></td><td> 207600</td><td><span style=white-space:pre-wrap>  30000</span></td><td>17700</td><td>5.1</td><td>0.41614643</td><td>&gt;35%</td></tr>\n",
              "\t<tr><td>20</td><td><span style=white-space:pre-wrap>Belgium               </span></td><td> 11323973</td><td><span style=white-space:pre-wrap>  30528</span></td><td><span style=white-space:pre-wrap>      0</span></td><td>43600</td><td>6.6</td><td>5.04494235</td><td>&gt;60%</td></tr>\n",
              "\t<tr><td>21</td><td><span style=white-space:pre-wrap>Belize                </span></td><td><span style=white-space:pre-wrap>   347369</span></td><td><span style=white-space:pre-wrap>  22966</span></td><td><span style=white-space:pre-wrap>   1818</span></td><td> 8400</td><td>6.6</td><td>0.12496734</td><td>&gt;15%</td></tr>\n",
              "\t<tr><td>22</td><td><span style=white-space:pre-wrap>Benin                 </span></td><td> 10448647</td><td> 112622</td><td><span style=white-space:pre-wrap>      0</span></td><td> 2100</td><td>5.3</td><td>0.14206816</td><td>&gt;0% </td></tr>\n",
              "\t<tr><td>23</td><td><span style=white-space:pre-wrap>Bermuda               </span></td><td><span style=white-space:pre-wrap>    70196</span></td><td><span style=white-space:pre-wrap>     54</span></td><td><span style=white-space:pre-wrap>      0</span></td><td>85700</td><td>2.6</td><td>8.27777778</td><td>&gt;60%</td></tr>\n",
              "\t<tr><td>24</td><td><span style=white-space:pre-wrap>Bhutan                </span></td><td><span style=white-space:pre-wrap>   741919</span></td><td><span style=white-space:pre-wrap>  38394</span></td><td><span style=white-space:pre-wrap>      0</span></td><td> 8200</td><td>4.7</td><td>0.27551180</td><td>&gt;15%</td></tr>\n",
              "\t<tr><td>25</td><td><span style=white-space:pre-wrap>Bolivia               </span></td><td> 10800882</td><td>1098581</td><td><span style=white-space:pre-wrap>  51130</span></td><td> 6500</td><td>6.9</td><td>0.07326542</td><td>&gt;35%</td></tr>\n",
              "\t<tr><td>26</td><td>Bosnia and Herzegovina</td><td><span style=white-space:pre-wrap>  3867055</span></td><td><span style=white-space:pre-wrap>  51197</span></td><td><span style=white-space:pre-wrap>      0</span></td><td>10500</td><td> NA</td><td>0.44779968</td><td>&gt;60%</td></tr>\n",
              "\t<tr><td>27</td><td><span style=white-space:pre-wrap>Botswana              </span></td><td><span style=white-space:pre-wrap>  2182719</span></td><td> 581730</td><td><span style=white-space:pre-wrap>      0</span></td><td>16400</td><td>9.5</td><td>0.03079779</td><td>&gt;5% </td></tr>\n",
              "\t<tr><td>28</td><td><span style=white-space:pre-wrap>Brazil                </span></td><td>204259812</td><td>8514877</td><td>2255000</td><td>15600</td><td>5.8</td><td>0.18567080</td><td>&gt;35%</td></tr>\n",
              "\t<tr><td>29</td><td>British Virgin Islands</td><td><span style=white-space:pre-wrap>    33454</span></td><td><span style=white-space:pre-wrap>    151</span></td><td><span style=white-space:pre-wrap>      0</span></td><td>42300</td><td>4.4</td><td>1.32450331</td><td>&gt;5% </td></tr>\n",
              "\t<tr><td>30</td><td><span style=white-space:pre-wrap>Brunei                </span></td><td><span style=white-space:pre-wrap>   429646</span></td><td><span style=white-space:pre-wrap>   5765</span></td><td> 126500</td><td>79700</td><td>3.5</td><td>0.52541197</td><td>&gt;60%</td></tr>\n",
              "\t<tr><td>⋮</td><td>⋮</td><td>⋮</td><td>⋮</td><td>⋮</td><td>⋮</td><td>⋮</td><td>⋮</td><td>⋮</td></tr>\n",
              "\t<tr><td>207</td><td><span style=white-space:pre-wrap>Tajikistan              </span></td><td><span style=white-space:pre-wrap>  8191958</span></td><td> 143100</td><td><span style=white-space:pre-wrap>    206</span></td><td> 2700</td><td>3.9</td><td>0.19403913</td><td>&gt;15%</td></tr>\n",
              "\t<tr><td>208</td><td><span style=white-space:pre-wrap>Tanzania                </span></td><td> 51045882</td><td> 947300</td><td><span style=white-space:pre-wrap>      0</span></td><td> 2900</td><td>6.2</td><td>0.09128259</td><td>&gt;5% </td></tr>\n",
              "\t<tr><td>209</td><td><span style=white-space:pre-wrap>Thailand                </span></td><td> 67976405</td><td> 513120</td><td> 232900</td><td>16100</td><td>5.8</td><td>0.35089843</td><td>&gt;15%</td></tr>\n",
              "\t<tr><td>210</td><td><span style=white-space:pre-wrap>Timor-Leste             </span></td><td><span style=white-space:pre-wrap>  1231116</span></td><td><span style=white-space:pre-wrap>  14874</span></td><td><span style=white-space:pre-wrap>  76490</span></td><td> 5600</td><td>9.4</td><td>0.40607772</td><td>&gt;0% </td></tr>\n",
              "\t<tr><td>211</td><td><span style=white-space:pre-wrap>Togo                    </span></td><td><span style=white-space:pre-wrap>  7552318</span></td><td><span style=white-space:pre-wrap>  56785</span></td><td><span style=white-space:pre-wrap>      0</span></td><td> 1500</td><td>4.5</td><td>0.20519503</td><td>&gt;0% </td></tr>\n",
              "\t<tr><td>212</td><td><span style=white-space:pre-wrap>Tokelau                 </span></td><td><span style=white-space:pre-wrap>     1337</span></td><td><span style=white-space:pre-wrap>     12</span></td><td><span style=white-space:pre-wrap>     NA</span></td><td> 1000</td><td> NA</td><td><span style=white-space:pre-wrap>        NA</span></td><td>&gt;35%</td></tr>\n",
              "\t<tr><td>213</td><td><span style=white-space:pre-wrap>Tonga                   </span></td><td><span style=white-space:pre-wrap>   106501</span></td><td><span style=white-space:pre-wrap>    747</span></td><td><span style=white-space:pre-wrap>      0</span></td><td> 5100</td><td>3.9</td><td>0.91030790</td><td>&gt;35%</td></tr>\n",
              "\t<tr><td>214</td><td><span style=white-space:pre-wrap>Trinidad and Tobago     </span></td><td><span style=white-space:pre-wrap>  1222363</span></td><td><span style=white-space:pre-wrap>   5128</span></td><td><span style=white-space:pre-wrap>  81260</span></td><td>32600</td><td>3.2</td><td>1.62246490</td><td>&gt;60%</td></tr>\n",
              "\t<tr><td>215</td><td><span style=white-space:pre-wrap>Tunisia                 </span></td><td> 11037225</td><td> 163610</td><td><span style=white-space:pre-wrap>  55050</span></td><td>11400</td><td>6.2</td><td>0.11868468</td><td>&gt;35%</td></tr>\n",
              "\t<tr><td>216</td><td><span style=white-space:pre-wrap>Turkey                  </span></td><td> 79414269</td><td> 783562</td><td><span style=white-space:pre-wrap>  47670</span></td><td>20400</td><td>2.9</td><td>0.49230054</td><td>&gt;35%</td></tr>\n",
              "\t<tr><td>217</td><td><span style=white-space:pre-wrap>Turkmenistan            </span></td><td><span style=white-space:pre-wrap>  5231422</span></td><td> 488100</td><td> 242900</td><td>16400</td><td> NA</td><td>0.12004097</td><td>&gt;5% </td></tr>\n",
              "\t<tr><td>218</td><td>Turks and Caicos Islands</td><td>    50280</td><td>    948</td><td>      0</td><td>29100</td><td> NA</td><td>0.12763713</td><td>NA  </td></tr>\n",
              "\t<tr><td>219</td><td><span style=white-space:pre-wrap>Tuvalu                  </span></td><td><span style=white-space:pre-wrap>    10869</span></td><td><span style=white-space:pre-wrap>     26</span></td><td><span style=white-space:pre-wrap>      0</span></td><td> 3400</td><td> NA</td><td>0.30769231</td><td>&gt;35%</td></tr>\n",
              "\t<tr><td>220</td><td><span style=white-space:pre-wrap>Uganda                  </span></td><td> 37101745</td><td> 241038</td><td><span style=white-space:pre-wrap>      0</span></td><td> 2000</td><td>3.3</td><td>0.08297447</td><td>&gt;15%</td></tr>\n",
              "\t<tr><td>221</td><td><span style=white-space:pre-wrap>Ukraine                 </span></td><td> 44429471</td><td> 603550</td><td><span style=white-space:pre-wrap>  40490</span></td><td> 7500</td><td>6.2</td><td>0.28115980</td><td>&gt;35%</td></tr>\n",
              "\t<tr><td>222</td><td><span style=white-space:pre-wrap>United Arab Emirates    </span></td><td><span style=white-space:pre-wrap>  5779760</span></td><td><span style=white-space:pre-wrap>  83600</span></td><td>2820000</td><td>67600</td><td> NA</td><td>0.04880383</td><td>&gt;60%</td></tr>\n",
              "\t<tr><td>223</td><td><span style=white-space:pre-wrap>United Kingdom          </span></td><td> 64088222</td><td> 243610</td><td> 787200</td><td>41200</td><td>6.2</td><td>1.61909610</td><td>&gt;60%</td></tr>\n",
              "\t<tr><td>224</td><td><span style=white-space:pre-wrap>United States           </span></td><td>321368864</td><td>9826675</td><td>8653000</td><td>55800</td><td>5.4</td><td>0.67027860</td><td>&gt;60%</td></tr>\n",
              "\t<tr><td>225</td><td><span style=white-space:pre-wrap>Uruguay                 </span></td><td><span style=white-space:pre-wrap>  3341893</span></td><td> 176215</td><td><span style=white-space:pre-wrap>      0</span></td><td>21500</td><td>4.5</td><td>0.44112022</td><td>&gt;35%</td></tr>\n",
              "\t<tr><td>226</td><td><span style=white-space:pre-wrap>Uzbekistan              </span></td><td> 29199942</td><td> 447400</td><td><span style=white-space:pre-wrap>  64810</span></td><td> 6100</td><td> NA</td><td>0.19333035</td><td>&gt;35%</td></tr>\n",
              "\t<tr><td>227</td><td><span style=white-space:pre-wrap>Vanuatu                 </span></td><td><span style=white-space:pre-wrap>   272264</span></td><td><span style=white-space:pre-wrap>  12189</span></td><td><span style=white-space:pre-wrap>      0</span></td><td> 2500</td><td>5.0</td><td>0.08778407</td><td>&gt;5% </td></tr>\n",
              "\t<tr><td>228</td><td><span style=white-space:pre-wrap>Venezuela               </span></td><td> 29275460</td><td> 912050</td><td>2500000</td><td>16700</td><td>6.9</td><td>0.10542733</td><td>&gt;35%</td></tr>\n",
              "\t<tr><td>229</td><td><span style=white-space:pre-wrap>Vietnam                 </span></td><td> 94348835</td><td> 331210</td><td> 298400</td><td> 6000</td><td>6.3</td><td>0.62387307</td><td>&gt;35%</td></tr>\n",
              "\t<tr><td>230</td><td><span style=white-space:pre-wrap>Virgin Islands          </span></td><td><span style=white-space:pre-wrap>   103574</span></td><td><span style=white-space:pre-wrap>   1910</span></td><td><span style=white-space:pre-wrap>      0</span></td><td>36100</td><td> NA</td><td>0.65968586</td><td>&gt;15%</td></tr>\n",
              "\t<tr><td>231</td><td><span style=white-space:pre-wrap>Wallis and Futuna       </span></td><td><span style=white-space:pre-wrap>    15613</span></td><td><span style=white-space:pre-wrap>    142</span></td><td><span style=white-space:pre-wrap>     NA</span></td><td> 3800</td><td> NA</td><td><span style=white-space:pre-wrap>        NA</span></td><td>&gt;5% </td></tr>\n",
              "\t<tr><td>232</td><td><span style=white-space:pre-wrap>West Bank               </span></td><td><span style=white-space:pre-wrap>  2785366</span></td><td><span style=white-space:pre-wrap>   5860</span></td><td><span style=white-space:pre-wrap>      0</span></td><td> 4300</td><td> NA</td><td>0.79965870</td><td>&gt;35%</td></tr>\n",
              "\t<tr><td>233</td><td>Western Sahara          </td><td>   570866</td><td> 266000</td><td>      0</td><td> 2500</td><td> NA</td><td>        NA</td><td>NA  </td></tr>\n",
              "\t<tr><td>234</td><td><span style=white-space:pre-wrap>Yemen                   </span></td><td> 26737317</td><td> 527968</td><td> 125100</td><td> 2700</td><td>5.2</td><td>0.13504606</td><td>&gt;15%</td></tr>\n",
              "\t<tr><td>235</td><td><span style=white-space:pre-wrap>Zambia                  </span></td><td> 15066266</td><td> 752618</td><td><span style=white-space:pre-wrap>      0</span></td><td> 3900</td><td>1.3</td><td>0.05375104</td><td>&gt;15%</td></tr>\n",
              "\t<tr><td>236</td><td><span style=white-space:pre-wrap>Zimbabwe                </span></td><td> 14229541</td><td> 390757</td><td><span style=white-space:pre-wrap>      0</span></td><td> 2100</td><td>2.5</td><td>0.24891941</td><td>&gt;15%</td></tr>\n",
              "</tbody>\n",
              "</table>\n"
            ],
            "text/markdown": "\nA data.frame: 236 × 9\n\n| X &lt;int&gt; | country &lt;fct&gt; | pop &lt;int&gt; | area &lt;dbl&gt; | oil_prod &lt;int&gt; | gdp &lt;int&gt; | educ &lt;dbl&gt; | roadways &lt;dbl&gt; | net_users &lt;fct&gt; |\n|---|---|---|---|---|---|---|---|---|\n|  1 | Afghanistan            |  32564342 |  652230 |       0 |  1900 |  NA | 0.06462444 | &gt;5%  |\n|  2 | Albania                |   3029278 |   28748 |   20510 | 11900 | 3.3 | 0.62613051 | &gt;35% |\n|  3 | Algeria                |  39542166 | 2381741 | 1420000 | 14500 | 4.3 | 0.04771929 | &gt;15% |\n|  4 | American Samoa         |     54343 |     199 |       0 | 13000 |  NA | 1.21105528 | NA   |\n|  5 | Andorra                |     85580 |     468 |      NA | 37200 |  NA | 0.68376068 | &gt;60% |\n|  6 | Angola                 |  19625353 | 1246700 | 1742000 |  7300 | 3.5 | 0.04125211 | &gt;15% |\n|  7 | Anguilla               |     16418 |      91 |      NA | 12200 | 2.8 | 1.92307692 | &gt;15% |\n|  8 | Antigua and Barbuda    |     92436 |     443 |       0 | 23600 | 2.4 | 2.64108352 | &gt;60% |\n|  9 | Argentina              |  43431886 | 2780400 |  532100 | 22600 | 6.3 | 0.08321608 | &gt;35% |\n| 10 | Armenia                |   3056382 |   29743 |       0 |  8500 | 3.3 | 0.25905255 | &gt;35% |\n| 11 | Aruba                  |    112162 |     180 |       0 | 25300 | 6.0 |         NA | &gt;60% |\n| 12 | Australia              |  22751014 | 7741220 |  354300 | 65400 | 5.6 | 0.10634202 | &gt;60% |\n| 13 | Austria                |   8665550 |   83871 |   21760 | 47300 | 5.9 | 1.48451789 | &gt;60% |\n| 14 | Azerbaijan             |   9780780 |   86600 |  845900 | 18000 | 2.4 | 0.61133949 | &gt;35% |\n| 15 | Bahamas, The           |    324597 |   13880 |       0 | 25200 |  NA | 0.19452450 | &gt;60% |\n| 16 | Bahrain                |   1346613 |     760 |   49500 | 50100 | 2.6 | 5.42368421 | &gt;60% |\n| 17 | Bangladesh             | 168957745 |  143998 |    4000 |  3600 | 2.2 | 0.14770344 | &gt;5%  |\n| 18 | Barbados               |    290604 |     430 |    1000 | 16600 | 5.6 | 3.72093023 | &gt;60% |\n| 19 | Belarus                |   9589689 |  207600 |   30000 | 17700 | 5.1 | 0.41614643 | &gt;35% |\n| 20 | Belgium                |  11323973 |   30528 |       0 | 43600 | 6.6 | 5.04494235 | &gt;60% |\n| 21 | Belize                 |    347369 |   22966 |    1818 |  8400 | 6.6 | 0.12496734 | &gt;15% |\n| 22 | Benin                  |  10448647 |  112622 |       0 |  2100 | 5.3 | 0.14206816 | &gt;0%  |\n| 23 | Bermuda                |     70196 |      54 |       0 | 85700 | 2.6 | 8.27777778 | &gt;60% |\n| 24 | Bhutan                 |    741919 |   38394 |       0 |  8200 | 4.7 | 0.27551180 | &gt;15% |\n| 25 | Bolivia                |  10800882 | 1098581 |   51130 |  6500 | 6.9 | 0.07326542 | &gt;35% |\n| 26 | Bosnia and Herzegovina |   3867055 |   51197 |       0 | 10500 |  NA | 0.44779968 | &gt;60% |\n| 27 | Botswana               |   2182719 |  581730 |       0 | 16400 | 9.5 | 0.03079779 | &gt;5%  |\n| 28 | Brazil                 | 204259812 | 8514877 | 2255000 | 15600 | 5.8 | 0.18567080 | &gt;35% |\n| 29 | British Virgin Islands |     33454 |     151 |       0 | 42300 | 4.4 | 1.32450331 | &gt;5%  |\n| 30 | Brunei                 |    429646 |    5765 |  126500 | 79700 | 3.5 | 0.52541197 | &gt;60% |\n| ⋮ | ⋮ | ⋮ | ⋮ | ⋮ | ⋮ | ⋮ | ⋮ | ⋮ |\n| 207 | Tajikistan               |   8191958 |  143100 |     206 |  2700 | 3.9 | 0.19403913 | &gt;15% |\n| 208 | Tanzania                 |  51045882 |  947300 |       0 |  2900 | 6.2 | 0.09128259 | &gt;5%  |\n| 209 | Thailand                 |  67976405 |  513120 |  232900 | 16100 | 5.8 | 0.35089843 | &gt;15% |\n| 210 | Timor-Leste              |   1231116 |   14874 |   76490 |  5600 | 9.4 | 0.40607772 | &gt;0%  |\n| 211 | Togo                     |   7552318 |   56785 |       0 |  1500 | 4.5 | 0.20519503 | &gt;0%  |\n| 212 | Tokelau                  |      1337 |      12 |      NA |  1000 |  NA |         NA | &gt;35% |\n| 213 | Tonga                    |    106501 |     747 |       0 |  5100 | 3.9 | 0.91030790 | &gt;35% |\n| 214 | Trinidad and Tobago      |   1222363 |    5128 |   81260 | 32600 | 3.2 | 1.62246490 | &gt;60% |\n| 215 | Tunisia                  |  11037225 |  163610 |   55050 | 11400 | 6.2 | 0.11868468 | &gt;35% |\n| 216 | Turkey                   |  79414269 |  783562 |   47670 | 20400 | 2.9 | 0.49230054 | &gt;35% |\n| 217 | Turkmenistan             |   5231422 |  488100 |  242900 | 16400 |  NA | 0.12004097 | &gt;5%  |\n| 218 | Turks and Caicos Islands |     50280 |     948 |       0 | 29100 |  NA | 0.12763713 | NA   |\n| 219 | Tuvalu                   |     10869 |      26 |       0 |  3400 |  NA | 0.30769231 | &gt;35% |\n| 220 | Uganda                   |  37101745 |  241038 |       0 |  2000 | 3.3 | 0.08297447 | &gt;15% |\n| 221 | Ukraine                  |  44429471 |  603550 |   40490 |  7500 | 6.2 | 0.28115980 | &gt;35% |\n| 222 | United Arab Emirates     |   5779760 |   83600 | 2820000 | 67600 |  NA | 0.04880383 | &gt;60% |\n| 223 | United Kingdom           |  64088222 |  243610 |  787200 | 41200 | 6.2 | 1.61909610 | &gt;60% |\n| 224 | United States            | 321368864 | 9826675 | 8653000 | 55800 | 5.4 | 0.67027860 | &gt;60% |\n| 225 | Uruguay                  |   3341893 |  176215 |       0 | 21500 | 4.5 | 0.44112022 | &gt;35% |\n| 226 | Uzbekistan               |  29199942 |  447400 |   64810 |  6100 |  NA | 0.19333035 | &gt;35% |\n| 227 | Vanuatu                  |    272264 |   12189 |       0 |  2500 | 5.0 | 0.08778407 | &gt;5%  |\n| 228 | Venezuela                |  29275460 |  912050 | 2500000 | 16700 | 6.9 | 0.10542733 | &gt;35% |\n| 229 | Vietnam                  |  94348835 |  331210 |  298400 |  6000 | 6.3 | 0.62387307 | &gt;35% |\n| 230 | Virgin Islands           |    103574 |    1910 |       0 | 36100 |  NA | 0.65968586 | &gt;15% |\n| 231 | Wallis and Futuna        |     15613 |     142 |      NA |  3800 |  NA |         NA | &gt;5%  |\n| 232 | West Bank                |   2785366 |    5860 |       0 |  4300 |  NA | 0.79965870 | &gt;35% |\n| 233 | Western Sahara           |    570866 |  266000 |       0 |  2500 |  NA |         NA | NA   |\n| 234 | Yemen                    |  26737317 |  527968 |  125100 |  2700 | 5.2 | 0.13504606 | &gt;15% |\n| 235 | Zambia                   |  15066266 |  752618 |       0 |  3900 | 1.3 | 0.05375104 | &gt;15% |\n| 236 | Zimbabwe                 |  14229541 |  390757 |       0 |  2100 | 2.5 | 0.24891941 | &gt;15% |\n\n",
            "text/latex": "A data.frame: 236 × 9\n\\begin{tabular}{lllllllll}\n X & country & pop & area & oil\\_prod & gdp & educ & roadways & net\\_users\\\\\n <int> & <fct> & <int> & <dbl> & <int> & <int> & <dbl> & <dbl> & <fct>\\\\\n\\hline\n\t  1 & Afghanistan            &  32564342 &  652230 &       0 &  1900 &  NA & 0.06462444 & >5\\% \\\\\n\t  2 & Albania                &   3029278 &   28748 &   20510 & 11900 & 3.3 & 0.62613051 & >35\\%\\\\\n\t  3 & Algeria                &  39542166 & 2381741 & 1420000 & 14500 & 4.3 & 0.04771929 & >15\\%\\\\\n\t  4 & American Samoa         &     54343 &     199 &       0 & 13000 &  NA & 1.21105528 & NA  \\\\\n\t  5 & Andorra                &     85580 &     468 &      NA & 37200 &  NA & 0.68376068 & >60\\%\\\\\n\t  6 & Angola                 &  19625353 & 1246700 & 1742000 &  7300 & 3.5 & 0.04125211 & >15\\%\\\\\n\t  7 & Anguilla               &     16418 &      91 &      NA & 12200 & 2.8 & 1.92307692 & >15\\%\\\\\n\t  8 & Antigua and Barbuda    &     92436 &     443 &       0 & 23600 & 2.4 & 2.64108352 & >60\\%\\\\\n\t  9 & Argentina              &  43431886 & 2780400 &  532100 & 22600 & 6.3 & 0.08321608 & >35\\%\\\\\n\t 10 & Armenia                &   3056382 &   29743 &       0 &  8500 & 3.3 & 0.25905255 & >35\\%\\\\\n\t 11 & Aruba                  &    112162 &     180 &       0 & 25300 & 6.0 &         NA & >60\\%\\\\\n\t 12 & Australia              &  22751014 & 7741220 &  354300 & 65400 & 5.6 & 0.10634202 & >60\\%\\\\\n\t 13 & Austria                &   8665550 &   83871 &   21760 & 47300 & 5.9 & 1.48451789 & >60\\%\\\\\n\t 14 & Azerbaijan             &   9780780 &   86600 &  845900 & 18000 & 2.4 & 0.61133949 & >35\\%\\\\\n\t 15 & Bahamas, The           &    324597 &   13880 &       0 & 25200 &  NA & 0.19452450 & >60\\%\\\\\n\t 16 & Bahrain                &   1346613 &     760 &   49500 & 50100 & 2.6 & 5.42368421 & >60\\%\\\\\n\t 17 & Bangladesh             & 168957745 &  143998 &    4000 &  3600 & 2.2 & 0.14770344 & >5\\% \\\\\n\t 18 & Barbados               &    290604 &     430 &    1000 & 16600 & 5.6 & 3.72093023 & >60\\%\\\\\n\t 19 & Belarus                &   9589689 &  207600 &   30000 & 17700 & 5.1 & 0.41614643 & >35\\%\\\\\n\t 20 & Belgium                &  11323973 &   30528 &       0 & 43600 & 6.6 & 5.04494235 & >60\\%\\\\\n\t 21 & Belize                 &    347369 &   22966 &    1818 &  8400 & 6.6 & 0.12496734 & >15\\%\\\\\n\t 22 & Benin                  &  10448647 &  112622 &       0 &  2100 & 5.3 & 0.14206816 & >0\\% \\\\\n\t 23 & Bermuda                &     70196 &      54 &       0 & 85700 & 2.6 & 8.27777778 & >60\\%\\\\\n\t 24 & Bhutan                 &    741919 &   38394 &       0 &  8200 & 4.7 & 0.27551180 & >15\\%\\\\\n\t 25 & Bolivia                &  10800882 & 1098581 &   51130 &  6500 & 6.9 & 0.07326542 & >35\\%\\\\\n\t 26 & Bosnia and Herzegovina &   3867055 &   51197 &       0 & 10500 &  NA & 0.44779968 & >60\\%\\\\\n\t 27 & Botswana               &   2182719 &  581730 &       0 & 16400 & 9.5 & 0.03079779 & >5\\% \\\\\n\t 28 & Brazil                 & 204259812 & 8514877 & 2255000 & 15600 & 5.8 & 0.18567080 & >35\\%\\\\\n\t 29 & British Virgin Islands &     33454 &     151 &       0 & 42300 & 4.4 & 1.32450331 & >5\\% \\\\\n\t 30 & Brunei                 &    429646 &    5765 &  126500 & 79700 & 3.5 & 0.52541197 & >60\\%\\\\\n\t ⋮ & ⋮ & ⋮ & ⋮ & ⋮ & ⋮ & ⋮ & ⋮ & ⋮\\\\\n\t 207 & Tajikistan               &   8191958 &  143100 &     206 &  2700 & 3.9 & 0.19403913 & >15\\%\\\\\n\t 208 & Tanzania                 &  51045882 &  947300 &       0 &  2900 & 6.2 & 0.09128259 & >5\\% \\\\\n\t 209 & Thailand                 &  67976405 &  513120 &  232900 & 16100 & 5.8 & 0.35089843 & >15\\%\\\\\n\t 210 & Timor-Leste              &   1231116 &   14874 &   76490 &  5600 & 9.4 & 0.40607772 & >0\\% \\\\\n\t 211 & Togo                     &   7552318 &   56785 &       0 &  1500 & 4.5 & 0.20519503 & >0\\% \\\\\n\t 212 & Tokelau                  &      1337 &      12 &      NA &  1000 &  NA &         NA & >35\\%\\\\\n\t 213 & Tonga                    &    106501 &     747 &       0 &  5100 & 3.9 & 0.91030790 & >35\\%\\\\\n\t 214 & Trinidad and Tobago      &   1222363 &    5128 &   81260 & 32600 & 3.2 & 1.62246490 & >60\\%\\\\\n\t 215 & Tunisia                  &  11037225 &  163610 &   55050 & 11400 & 6.2 & 0.11868468 & >35\\%\\\\\n\t 216 & Turkey                   &  79414269 &  783562 &   47670 & 20400 & 2.9 & 0.49230054 & >35\\%\\\\\n\t 217 & Turkmenistan             &   5231422 &  488100 &  242900 & 16400 &  NA & 0.12004097 & >5\\% \\\\\n\t 218 & Turks and Caicos Islands &     50280 &     948 &       0 & 29100 &  NA & 0.12763713 & NA  \\\\\n\t 219 & Tuvalu                   &     10869 &      26 &       0 &  3400 &  NA & 0.30769231 & >35\\%\\\\\n\t 220 & Uganda                   &  37101745 &  241038 &       0 &  2000 & 3.3 & 0.08297447 & >15\\%\\\\\n\t 221 & Ukraine                  &  44429471 &  603550 &   40490 &  7500 & 6.2 & 0.28115980 & >35\\%\\\\\n\t 222 & United Arab Emirates     &   5779760 &   83600 & 2820000 & 67600 &  NA & 0.04880383 & >60\\%\\\\\n\t 223 & United Kingdom           &  64088222 &  243610 &  787200 & 41200 & 6.2 & 1.61909610 & >60\\%\\\\\n\t 224 & United States            & 321368864 & 9826675 & 8653000 & 55800 & 5.4 & 0.67027860 & >60\\%\\\\\n\t 225 & Uruguay                  &   3341893 &  176215 &       0 & 21500 & 4.5 & 0.44112022 & >35\\%\\\\\n\t 226 & Uzbekistan               &  29199942 &  447400 &   64810 &  6100 &  NA & 0.19333035 & >35\\%\\\\\n\t 227 & Vanuatu                  &    272264 &   12189 &       0 &  2500 & 5.0 & 0.08778407 & >5\\% \\\\\n\t 228 & Venezuela                &  29275460 &  912050 & 2500000 & 16700 & 6.9 & 0.10542733 & >35\\%\\\\\n\t 229 & Vietnam                  &  94348835 &  331210 &  298400 &  6000 & 6.3 & 0.62387307 & >35\\%\\\\\n\t 230 & Virgin Islands           &    103574 &    1910 &       0 & 36100 &  NA & 0.65968586 & >15\\%\\\\\n\t 231 & Wallis and Futuna        &     15613 &     142 &      NA &  3800 &  NA &         NA & >5\\% \\\\\n\t 232 & West Bank                &   2785366 &    5860 &       0 &  4300 &  NA & 0.79965870 & >35\\%\\\\\n\t 233 & Western Sahara           &    570866 &  266000 &       0 &  2500 &  NA &         NA & NA  \\\\\n\t 234 & Yemen                    &  26737317 &  527968 &  125100 &  2700 & 5.2 & 0.13504606 & >15\\%\\\\\n\t 235 & Zambia                   &  15066266 &  752618 &       0 &  3900 & 1.3 & 0.05375104 & >15\\%\\\\\n\t 236 & Zimbabwe                 &  14229541 &  390757 &       0 &  2100 & 2.5 & 0.24891941 & >15\\%\\\\\n\\end{tabular}\n",
            "text/plain": [
              "    X   country                  pop       area    oil_prod gdp   educ\n",
              "1    1  Afghanistan               32564342  652230       0   1900  NA \n",
              "2    2  Albania                    3029278   28748   20510  11900 3.3 \n",
              "3    3  Algeria                   39542166 2381741 1420000  14500 4.3 \n",
              "4    4  American Samoa               54343     199       0  13000  NA \n",
              "5    5  Andorra                      85580     468      NA  37200  NA \n",
              "6    6  Angola                    19625353 1246700 1742000   7300 3.5 \n",
              "7    7  Anguilla                     16418      91      NA  12200 2.8 \n",
              "8    8  Antigua and Barbuda          92436     443       0  23600 2.4 \n",
              "9    9  Argentina                 43431886 2780400  532100  22600 6.3 \n",
              "10  10  Armenia                    3056382   29743       0   8500 3.3 \n",
              "11  11  Aruba                       112162     180       0  25300 6.0 \n",
              "12  12  Australia                 22751014 7741220  354300  65400 5.6 \n",
              "13  13  Austria                    8665550   83871   21760  47300 5.9 \n",
              "14  14  Azerbaijan                 9780780   86600  845900  18000 2.4 \n",
              "15  15  Bahamas, The                324597   13880       0  25200  NA \n",
              "16  16  Bahrain                    1346613     760   49500  50100 2.6 \n",
              "17  17  Bangladesh               168957745  143998    4000   3600 2.2 \n",
              "18  18  Barbados                    290604     430    1000  16600 5.6 \n",
              "19  19  Belarus                    9589689  207600   30000  17700 5.1 \n",
              "20  20  Belgium                   11323973   30528       0  43600 6.6 \n",
              "21  21  Belize                      347369   22966    1818   8400 6.6 \n",
              "22  22  Benin                     10448647  112622       0   2100 5.3 \n",
              "23  23  Bermuda                      70196      54       0  85700 2.6 \n",
              "24  24  Bhutan                      741919   38394       0   8200 4.7 \n",
              "25  25  Bolivia                   10800882 1098581   51130   6500 6.9 \n",
              "26  26  Bosnia and Herzegovina     3867055   51197       0  10500  NA \n",
              "27  27  Botswana                   2182719  581730       0  16400 9.5 \n",
              "28  28  Brazil                   204259812 8514877 2255000  15600 5.8 \n",
              "29  29  British Virgin Islands       33454     151       0  42300 4.4 \n",
              "30  30  Brunei                      429646    5765  126500  79700 3.5 \n",
              "⋮   ⋮   ⋮                        ⋮         ⋮       ⋮        ⋮     ⋮   \n",
              "207 207 Tajikistan                 8191958  143100     206   2700 3.9 \n",
              "208 208 Tanzania                  51045882  947300       0   2900 6.2 \n",
              "209 209 Thailand                  67976405  513120  232900  16100 5.8 \n",
              "210 210 Timor-Leste                1231116   14874   76490   5600 9.4 \n",
              "211 211 Togo                       7552318   56785       0   1500 4.5 \n",
              "212 212 Tokelau                       1337      12      NA   1000  NA \n",
              "213 213 Tonga                       106501     747       0   5100 3.9 \n",
              "214 214 Trinidad and Tobago        1222363    5128   81260  32600 3.2 \n",
              "215 215 Tunisia                   11037225  163610   55050  11400 6.2 \n",
              "216 216 Turkey                    79414269  783562   47670  20400 2.9 \n",
              "217 217 Turkmenistan               5231422  488100  242900  16400  NA \n",
              "218 218 Turks and Caicos Islands     50280     948       0  29100  NA \n",
              "219 219 Tuvalu                       10869      26       0   3400  NA \n",
              "220 220 Uganda                    37101745  241038       0   2000 3.3 \n",
              "221 221 Ukraine                   44429471  603550   40490   7500 6.2 \n",
              "222 222 United Arab Emirates       5779760   83600 2820000  67600  NA \n",
              "223 223 United Kingdom            64088222  243610  787200  41200 6.2 \n",
              "224 224 United States            321368864 9826675 8653000  55800 5.4 \n",
              "225 225 Uruguay                    3341893  176215       0  21500 4.5 \n",
              "226 226 Uzbekistan                29199942  447400   64810   6100  NA \n",
              "227 227 Vanuatu                     272264   12189       0   2500 5.0 \n",
              "228 228 Venezuela                 29275460  912050 2500000  16700 6.9 \n",
              "229 229 Vietnam                   94348835  331210  298400   6000 6.3 \n",
              "230 230 Virgin Islands              103574    1910       0  36100  NA \n",
              "231 231 Wallis and Futuna            15613     142      NA   3800  NA \n",
              "232 232 West Bank                  2785366    5860       0   4300  NA \n",
              "233 233 Western Sahara              570866  266000       0   2500  NA \n",
              "234 234 Yemen                     26737317  527968  125100   2700 5.2 \n",
              "235 235 Zambia                    15066266  752618       0   3900 1.3 \n",
              "236 236 Zimbabwe                  14229541  390757       0   2100 2.5 \n",
              "    roadways   net_users\n",
              "1   0.06462444 >5%      \n",
              "2   0.62613051 >35%     \n",
              "3   0.04771929 >15%     \n",
              "4   1.21105528 NA       \n",
              "5   0.68376068 >60%     \n",
              "6   0.04125211 >15%     \n",
              "7   1.92307692 >15%     \n",
              "8   2.64108352 >60%     \n",
              "9   0.08321608 >35%     \n",
              "10  0.25905255 >35%     \n",
              "11          NA >60%     \n",
              "12  0.10634202 >60%     \n",
              "13  1.48451789 >60%     \n",
              "14  0.61133949 >35%     \n",
              "15  0.19452450 >60%     \n",
              "16  5.42368421 >60%     \n",
              "17  0.14770344 >5%      \n",
              "18  3.72093023 >60%     \n",
              "19  0.41614643 >35%     \n",
              "20  5.04494235 >60%     \n",
              "21  0.12496734 >15%     \n",
              "22  0.14206816 >0%      \n",
              "23  8.27777778 >60%     \n",
              "24  0.27551180 >15%     \n",
              "25  0.07326542 >35%     \n",
              "26  0.44779968 >60%     \n",
              "27  0.03079779 >5%      \n",
              "28  0.18567080 >35%     \n",
              "29  1.32450331 >5%      \n",
              "30  0.52541197 >60%     \n",
              "⋮   ⋮          ⋮        \n",
              "207 0.19403913 >15%     \n",
              "208 0.09128259 >5%      \n",
              "209 0.35089843 >15%     \n",
              "210 0.40607772 >0%      \n",
              "211 0.20519503 >0%      \n",
              "212         NA >35%     \n",
              "213 0.91030790 >35%     \n",
              "214 1.62246490 >60%     \n",
              "215 0.11868468 >35%     \n",
              "216 0.49230054 >35%     \n",
              "217 0.12004097 >5%      \n",
              "218 0.12763713 NA       \n",
              "219 0.30769231 >35%     \n",
              "220 0.08297447 >15%     \n",
              "221 0.28115980 >35%     \n",
              "222 0.04880383 >60%     \n",
              "223 1.61909610 >60%     \n",
              "224 0.67027860 >60%     \n",
              "225 0.44112022 >35%     \n",
              "226 0.19333035 >35%     \n",
              "227 0.08778407 >5%      \n",
              "228 0.10542733 >35%     \n",
              "229 0.62387307 >35%     \n",
              "230 0.65968586 >15%     \n",
              "231         NA >5%      \n",
              "232 0.79965870 >35%     \n",
              "233         NA NA       \n",
              "234 0.13504606 >15%     \n",
              "235 0.05375104 >15%     \n",
              "236 0.24891941 >15%     "
            ]
          },
          "metadata": {}
        }
      ],
      "source": [
        "ciacountries <- read.csv(\"https://docs.google.com/spreadsheets/d/1cchkzUuurVwpHhTpJsKIymlM8jvFF2ZNvEhA0ue9F7I/export?format=csv\", header = TRUE, stringsAsFactors = TRUE)\n",
        "ciacountries\n"
      ]
    },
    {
      "cell_type": "markdown",
      "metadata": {
        "id": "Djt4KVoOXO3b"
      },
      "source": [
        "We need to filter out the missing N/A values from the tibble:\n",
        "\n"
      ]
    },
    {
      "cell_type": "code",
      "execution_count": null,
      "metadata": {
        "id": "hbBhstTOXO3b",
        "outputId": "b1002f4c-98b3-4f8d-da80-9adaae172257",
        "colab": {
          "base_uri": "https://localhost:8080/",
          "height": 1000
        }
      },
      "outputs": [
        {
          "output_type": "display_data",
          "data": {
            "text/html": [
              "<table class=\"dataframe\">\n",
              "<caption>A data.frame: 216 × 9</caption>\n",
              "<thead>\n",
              "\t<tr><th scope=col>X</th><th scope=col>country</th><th scope=col>pop</th><th scope=col>area</th><th scope=col>oil_prod</th><th scope=col>gdp</th><th scope=col>educ</th><th scope=col>roadways</th><th scope=col>net_users</th></tr>\n",
              "\t<tr><th scope=col>&lt;int&gt;</th><th scope=col>&lt;fct&gt;</th><th scope=col>&lt;int&gt;</th><th scope=col>&lt;dbl&gt;</th><th scope=col>&lt;int&gt;</th><th scope=col>&lt;int&gt;</th><th scope=col>&lt;dbl&gt;</th><th scope=col>&lt;dbl&gt;</th><th scope=col>&lt;fct&gt;</th></tr>\n",
              "</thead>\n",
              "<tbody>\n",
              "\t<tr><td> 1</td><td><span style=white-space:pre-wrap>Afghanistan           </span></td><td> 32564342</td><td> 652230</td><td><span style=white-space:pre-wrap>      0</span></td><td> 1900</td><td> NA</td><td>0.06462444</td><td>&gt;5% </td></tr>\n",
              "\t<tr><td> 2</td><td><span style=white-space:pre-wrap>Albania               </span></td><td><span style=white-space:pre-wrap>  3029278</span></td><td><span style=white-space:pre-wrap>  28748</span></td><td><span style=white-space:pre-wrap>  20510</span></td><td>11900</td><td>3.3</td><td>0.62613051</td><td>&gt;35%</td></tr>\n",
              "\t<tr><td> 3</td><td><span style=white-space:pre-wrap>Algeria               </span></td><td> 39542166</td><td>2381741</td><td>1420000</td><td>14500</td><td>4.3</td><td>0.04771929</td><td>&gt;15%</td></tr>\n",
              "\t<tr><td> 5</td><td><span style=white-space:pre-wrap>Andorra               </span></td><td><span style=white-space:pre-wrap>    85580</span></td><td><span style=white-space:pre-wrap>    468</span></td><td><span style=white-space:pre-wrap>     NA</span></td><td>37200</td><td> NA</td><td>0.68376068</td><td>&gt;60%</td></tr>\n",
              "\t<tr><td> 6</td><td><span style=white-space:pre-wrap>Angola                </span></td><td> 19625353</td><td>1246700</td><td>1742000</td><td> 7300</td><td>3.5</td><td>0.04125211</td><td>&gt;15%</td></tr>\n",
              "\t<tr><td> 7</td><td><span style=white-space:pre-wrap>Anguilla              </span></td><td><span style=white-space:pre-wrap>    16418</span></td><td><span style=white-space:pre-wrap>     91</span></td><td><span style=white-space:pre-wrap>     NA</span></td><td>12200</td><td>2.8</td><td>1.92307692</td><td>&gt;15%</td></tr>\n",
              "\t<tr><td> 8</td><td><span style=white-space:pre-wrap>Antigua and Barbuda   </span></td><td><span style=white-space:pre-wrap>    92436</span></td><td><span style=white-space:pre-wrap>    443</span></td><td><span style=white-space:pre-wrap>      0</span></td><td>23600</td><td>2.4</td><td>2.64108352</td><td>&gt;60%</td></tr>\n",
              "\t<tr><td> 9</td><td><span style=white-space:pre-wrap>Argentina             </span></td><td> 43431886</td><td>2780400</td><td> 532100</td><td>22600</td><td>6.3</td><td>0.08321608</td><td>&gt;35%</td></tr>\n",
              "\t<tr><td>10</td><td><span style=white-space:pre-wrap>Armenia               </span></td><td><span style=white-space:pre-wrap>  3056382</span></td><td><span style=white-space:pre-wrap>  29743</span></td><td><span style=white-space:pre-wrap>      0</span></td><td> 8500</td><td>3.3</td><td>0.25905255</td><td>&gt;35%</td></tr>\n",
              "\t<tr><td>11</td><td><span style=white-space:pre-wrap>Aruba                 </span></td><td><span style=white-space:pre-wrap>   112162</span></td><td><span style=white-space:pre-wrap>    180</span></td><td><span style=white-space:pre-wrap>      0</span></td><td>25300</td><td>6.0</td><td><span style=white-space:pre-wrap>        NA</span></td><td>&gt;60%</td></tr>\n",
              "\t<tr><td>12</td><td><span style=white-space:pre-wrap>Australia             </span></td><td> 22751014</td><td>7741220</td><td> 354300</td><td>65400</td><td>5.6</td><td>0.10634202</td><td>&gt;60%</td></tr>\n",
              "\t<tr><td>13</td><td><span style=white-space:pre-wrap>Austria               </span></td><td><span style=white-space:pre-wrap>  8665550</span></td><td><span style=white-space:pre-wrap>  83871</span></td><td><span style=white-space:pre-wrap>  21760</span></td><td>47300</td><td>5.9</td><td>1.48451789</td><td>&gt;60%</td></tr>\n",
              "\t<tr><td>14</td><td><span style=white-space:pre-wrap>Azerbaijan            </span></td><td><span style=white-space:pre-wrap>  9780780</span></td><td><span style=white-space:pre-wrap>  86600</span></td><td> 845900</td><td>18000</td><td>2.4</td><td>0.61133949</td><td>&gt;35%</td></tr>\n",
              "\t<tr><td>15</td><td><span style=white-space:pre-wrap>Bahamas, The          </span></td><td><span style=white-space:pre-wrap>   324597</span></td><td><span style=white-space:pre-wrap>  13880</span></td><td><span style=white-space:pre-wrap>      0</span></td><td>25200</td><td> NA</td><td>0.19452450</td><td>&gt;60%</td></tr>\n",
              "\t<tr><td>16</td><td><span style=white-space:pre-wrap>Bahrain               </span></td><td><span style=white-space:pre-wrap>  1346613</span></td><td><span style=white-space:pre-wrap>    760</span></td><td><span style=white-space:pre-wrap>  49500</span></td><td>50100</td><td>2.6</td><td>5.42368421</td><td>&gt;60%</td></tr>\n",
              "\t<tr><td>17</td><td><span style=white-space:pre-wrap>Bangladesh            </span></td><td>168957745</td><td> 143998</td><td><span style=white-space:pre-wrap>   4000</span></td><td> 3600</td><td>2.2</td><td>0.14770344</td><td>&gt;5% </td></tr>\n",
              "\t<tr><td>18</td><td><span style=white-space:pre-wrap>Barbados              </span></td><td><span style=white-space:pre-wrap>   290604</span></td><td><span style=white-space:pre-wrap>    430</span></td><td><span style=white-space:pre-wrap>   1000</span></td><td>16600</td><td>5.6</td><td>3.72093023</td><td>&gt;60%</td></tr>\n",
              "\t<tr><td>19</td><td><span style=white-space:pre-wrap>Belarus               </span></td><td><span style=white-space:pre-wrap>  9589689</span></td><td> 207600</td><td><span style=white-space:pre-wrap>  30000</span></td><td>17700</td><td>5.1</td><td>0.41614643</td><td>&gt;35%</td></tr>\n",
              "\t<tr><td>20</td><td><span style=white-space:pre-wrap>Belgium               </span></td><td> 11323973</td><td><span style=white-space:pre-wrap>  30528</span></td><td><span style=white-space:pre-wrap>      0</span></td><td>43600</td><td>6.6</td><td>5.04494235</td><td>&gt;60%</td></tr>\n",
              "\t<tr><td>21</td><td><span style=white-space:pre-wrap>Belize                </span></td><td><span style=white-space:pre-wrap>   347369</span></td><td><span style=white-space:pre-wrap>  22966</span></td><td><span style=white-space:pre-wrap>   1818</span></td><td> 8400</td><td>6.6</td><td>0.12496734</td><td>&gt;15%</td></tr>\n",
              "\t<tr><td>22</td><td><span style=white-space:pre-wrap>Benin                 </span></td><td> 10448647</td><td> 112622</td><td><span style=white-space:pre-wrap>      0</span></td><td> 2100</td><td>5.3</td><td>0.14206816</td><td>&gt;0% </td></tr>\n",
              "\t<tr><td>23</td><td><span style=white-space:pre-wrap>Bermuda               </span></td><td><span style=white-space:pre-wrap>    70196</span></td><td><span style=white-space:pre-wrap>     54</span></td><td><span style=white-space:pre-wrap>      0</span></td><td>85700</td><td>2.6</td><td>8.27777778</td><td>&gt;60%</td></tr>\n",
              "\t<tr><td>24</td><td><span style=white-space:pre-wrap>Bhutan                </span></td><td><span style=white-space:pre-wrap>   741919</span></td><td><span style=white-space:pre-wrap>  38394</span></td><td><span style=white-space:pre-wrap>      0</span></td><td> 8200</td><td>4.7</td><td>0.27551180</td><td>&gt;15%</td></tr>\n",
              "\t<tr><td>25</td><td><span style=white-space:pre-wrap>Bolivia               </span></td><td> 10800882</td><td>1098581</td><td><span style=white-space:pre-wrap>  51130</span></td><td> 6500</td><td>6.9</td><td>0.07326542</td><td>&gt;35%</td></tr>\n",
              "\t<tr><td>26</td><td>Bosnia and Herzegovina</td><td><span style=white-space:pre-wrap>  3867055</span></td><td><span style=white-space:pre-wrap>  51197</span></td><td><span style=white-space:pre-wrap>      0</span></td><td>10500</td><td> NA</td><td>0.44779968</td><td>&gt;60%</td></tr>\n",
              "\t<tr><td>27</td><td><span style=white-space:pre-wrap>Botswana              </span></td><td><span style=white-space:pre-wrap>  2182719</span></td><td> 581730</td><td><span style=white-space:pre-wrap>      0</span></td><td>16400</td><td>9.5</td><td>0.03079779</td><td>&gt;5% </td></tr>\n",
              "\t<tr><td>28</td><td><span style=white-space:pre-wrap>Brazil                </span></td><td>204259812</td><td>8514877</td><td>2255000</td><td>15600</td><td>5.8</td><td>0.18567080</td><td>&gt;35%</td></tr>\n",
              "\t<tr><td>29</td><td>British Virgin Islands</td><td><span style=white-space:pre-wrap>    33454</span></td><td><span style=white-space:pre-wrap>    151</span></td><td><span style=white-space:pre-wrap>      0</span></td><td>42300</td><td>4.4</td><td>1.32450331</td><td>&gt;5% </td></tr>\n",
              "\t<tr><td>30</td><td><span style=white-space:pre-wrap>Brunei                </span></td><td><span style=white-space:pre-wrap>   429646</span></td><td><span style=white-space:pre-wrap>   5765</span></td><td> 126500</td><td>79700</td><td>3.5</td><td>0.52541197</td><td>&gt;60%</td></tr>\n",
              "\t<tr><td>31</td><td><span style=white-space:pre-wrap>Bulgaria              </span></td><td><span style=white-space:pre-wrap>  7186893</span></td><td> 110879</td><td><span style=white-space:pre-wrap>   1000</span></td><td>19100</td><td>4.1</td><td>0.17597561</td><td>&gt;35%</td></tr>\n",
              "\t<tr><td>⋮</td><td>⋮</td><td>⋮</td><td>⋮</td><td>⋮</td><td>⋮</td><td>⋮</td><td>⋮</td><td>⋮</td></tr>\n",
              "\t<tr><td>205</td><td><span style=white-space:pre-wrap>Syria               </span></td><td> 17064854</td><td> 185180</td><td><span style=white-space:pre-wrap>  22660</span></td><td> 5100</td><td>5.1</td><td>0.37732477</td><td>&gt;15%</td></tr>\n",
              "\t<tr><td>206</td><td><span style=white-space:pre-wrap>Taiwan              </span></td><td> 23415126</td><td><span style=white-space:pre-wrap>  35980</span></td><td><span style=white-space:pre-wrap>    159</span></td><td>46800</td><td> NA</td><td>1.15272373</td><td>&gt;60%</td></tr>\n",
              "\t<tr><td>207</td><td><span style=white-space:pre-wrap>Tajikistan          </span></td><td><span style=white-space:pre-wrap>  8191958</span></td><td> 143100</td><td><span style=white-space:pre-wrap>    206</span></td><td> 2700</td><td>3.9</td><td>0.19403913</td><td>&gt;15%</td></tr>\n",
              "\t<tr><td>208</td><td><span style=white-space:pre-wrap>Tanzania            </span></td><td> 51045882</td><td> 947300</td><td><span style=white-space:pre-wrap>      0</span></td><td> 2900</td><td>6.2</td><td>0.09128259</td><td>&gt;5% </td></tr>\n",
              "\t<tr><td>209</td><td><span style=white-space:pre-wrap>Thailand            </span></td><td> 67976405</td><td> 513120</td><td> 232900</td><td>16100</td><td>5.8</td><td>0.35089843</td><td>&gt;15%</td></tr>\n",
              "\t<tr><td>210</td><td><span style=white-space:pre-wrap>Timor-Leste         </span></td><td><span style=white-space:pre-wrap>  1231116</span></td><td><span style=white-space:pre-wrap>  14874</span></td><td><span style=white-space:pre-wrap>  76490</span></td><td> 5600</td><td>9.4</td><td>0.40607772</td><td>&gt;0% </td></tr>\n",
              "\t<tr><td>211</td><td><span style=white-space:pre-wrap>Togo                </span></td><td><span style=white-space:pre-wrap>  7552318</span></td><td><span style=white-space:pre-wrap>  56785</span></td><td><span style=white-space:pre-wrap>      0</span></td><td> 1500</td><td>4.5</td><td>0.20519503</td><td>&gt;0% </td></tr>\n",
              "\t<tr><td>212</td><td><span style=white-space:pre-wrap>Tokelau             </span></td><td><span style=white-space:pre-wrap>     1337</span></td><td><span style=white-space:pre-wrap>     12</span></td><td><span style=white-space:pre-wrap>     NA</span></td><td> 1000</td><td> NA</td><td><span style=white-space:pre-wrap>        NA</span></td><td>&gt;35%</td></tr>\n",
              "\t<tr><td>213</td><td><span style=white-space:pre-wrap>Tonga               </span></td><td><span style=white-space:pre-wrap>   106501</span></td><td><span style=white-space:pre-wrap>    747</span></td><td><span style=white-space:pre-wrap>      0</span></td><td> 5100</td><td>3.9</td><td>0.91030790</td><td>&gt;35%</td></tr>\n",
              "\t<tr><td>214</td><td>Trinidad and Tobago </td><td><span style=white-space:pre-wrap>  1222363</span></td><td><span style=white-space:pre-wrap>   5128</span></td><td><span style=white-space:pre-wrap>  81260</span></td><td>32600</td><td>3.2</td><td>1.62246490</td><td>&gt;60%</td></tr>\n",
              "\t<tr><td>215</td><td><span style=white-space:pre-wrap>Tunisia             </span></td><td> 11037225</td><td> 163610</td><td><span style=white-space:pre-wrap>  55050</span></td><td>11400</td><td>6.2</td><td>0.11868468</td><td>&gt;35%</td></tr>\n",
              "\t<tr><td>216</td><td><span style=white-space:pre-wrap>Turkey              </span></td><td> 79414269</td><td> 783562</td><td><span style=white-space:pre-wrap>  47670</span></td><td>20400</td><td>2.9</td><td>0.49230054</td><td>&gt;35%</td></tr>\n",
              "\t<tr><td>217</td><td><span style=white-space:pre-wrap>Turkmenistan        </span></td><td><span style=white-space:pre-wrap>  5231422</span></td><td> 488100</td><td> 242900</td><td>16400</td><td> NA</td><td>0.12004097</td><td>&gt;5% </td></tr>\n",
              "\t<tr><td>219</td><td><span style=white-space:pre-wrap>Tuvalu              </span></td><td><span style=white-space:pre-wrap>    10869</span></td><td><span style=white-space:pre-wrap>     26</span></td><td><span style=white-space:pre-wrap>      0</span></td><td> 3400</td><td> NA</td><td>0.30769231</td><td>&gt;35%</td></tr>\n",
              "\t<tr><td>220</td><td><span style=white-space:pre-wrap>Uganda              </span></td><td> 37101745</td><td> 241038</td><td><span style=white-space:pre-wrap>      0</span></td><td> 2000</td><td>3.3</td><td>0.08297447</td><td>&gt;15%</td></tr>\n",
              "\t<tr><td>221</td><td><span style=white-space:pre-wrap>Ukraine             </span></td><td> 44429471</td><td> 603550</td><td><span style=white-space:pre-wrap>  40490</span></td><td> 7500</td><td>6.2</td><td>0.28115980</td><td>&gt;35%</td></tr>\n",
              "\t<tr><td>222</td><td>United Arab Emirates</td><td><span style=white-space:pre-wrap>  5779760</span></td><td><span style=white-space:pre-wrap>  83600</span></td><td>2820000</td><td>67600</td><td> NA</td><td>0.04880383</td><td>&gt;60%</td></tr>\n",
              "\t<tr><td>223</td><td><span style=white-space:pre-wrap>United Kingdom      </span></td><td> 64088222</td><td> 243610</td><td> 787200</td><td>41200</td><td>6.2</td><td>1.61909610</td><td>&gt;60%</td></tr>\n",
              "\t<tr><td>224</td><td><span style=white-space:pre-wrap>United States       </span></td><td>321368864</td><td>9826675</td><td>8653000</td><td>55800</td><td>5.4</td><td>0.67027860</td><td>&gt;60%</td></tr>\n",
              "\t<tr><td>225</td><td><span style=white-space:pre-wrap>Uruguay             </span></td><td><span style=white-space:pre-wrap>  3341893</span></td><td> 176215</td><td><span style=white-space:pre-wrap>      0</span></td><td>21500</td><td>4.5</td><td>0.44112022</td><td>&gt;35%</td></tr>\n",
              "\t<tr><td>226</td><td><span style=white-space:pre-wrap>Uzbekistan          </span></td><td> 29199942</td><td> 447400</td><td><span style=white-space:pre-wrap>  64810</span></td><td> 6100</td><td> NA</td><td>0.19333035</td><td>&gt;35%</td></tr>\n",
              "\t<tr><td>227</td><td><span style=white-space:pre-wrap>Vanuatu             </span></td><td><span style=white-space:pre-wrap>   272264</span></td><td><span style=white-space:pre-wrap>  12189</span></td><td><span style=white-space:pre-wrap>      0</span></td><td> 2500</td><td>5.0</td><td>0.08778407</td><td>&gt;5% </td></tr>\n",
              "\t<tr><td>228</td><td><span style=white-space:pre-wrap>Venezuela           </span></td><td> 29275460</td><td> 912050</td><td>2500000</td><td>16700</td><td>6.9</td><td>0.10542733</td><td>&gt;35%</td></tr>\n",
              "\t<tr><td>229</td><td><span style=white-space:pre-wrap>Vietnam             </span></td><td> 94348835</td><td> 331210</td><td> 298400</td><td> 6000</td><td>6.3</td><td>0.62387307</td><td>&gt;35%</td></tr>\n",
              "\t<tr><td>230</td><td><span style=white-space:pre-wrap>Virgin Islands      </span></td><td><span style=white-space:pre-wrap>   103574</span></td><td><span style=white-space:pre-wrap>   1910</span></td><td><span style=white-space:pre-wrap>      0</span></td><td>36100</td><td> NA</td><td>0.65968586</td><td>&gt;15%</td></tr>\n",
              "\t<tr><td>231</td><td><span style=white-space:pre-wrap>Wallis and Futuna   </span></td><td><span style=white-space:pre-wrap>    15613</span></td><td><span style=white-space:pre-wrap>    142</span></td><td><span style=white-space:pre-wrap>     NA</span></td><td> 3800</td><td> NA</td><td><span style=white-space:pre-wrap>        NA</span></td><td>&gt;5% </td></tr>\n",
              "\t<tr><td>232</td><td><span style=white-space:pre-wrap>West Bank           </span></td><td><span style=white-space:pre-wrap>  2785366</span></td><td><span style=white-space:pre-wrap>   5860</span></td><td><span style=white-space:pre-wrap>      0</span></td><td> 4300</td><td> NA</td><td>0.79965870</td><td>&gt;35%</td></tr>\n",
              "\t<tr><td>234</td><td><span style=white-space:pre-wrap>Yemen               </span></td><td> 26737317</td><td> 527968</td><td> 125100</td><td> 2700</td><td>5.2</td><td>0.13504606</td><td>&gt;15%</td></tr>\n",
              "\t<tr><td>235</td><td><span style=white-space:pre-wrap>Zambia              </span></td><td> 15066266</td><td> 752618</td><td><span style=white-space:pre-wrap>      0</span></td><td> 3900</td><td>1.3</td><td>0.05375104</td><td>&gt;15%</td></tr>\n",
              "\t<tr><td>236</td><td><span style=white-space:pre-wrap>Zimbabwe            </span></td><td> 14229541</td><td> 390757</td><td><span style=white-space:pre-wrap>      0</span></td><td> 2100</td><td>2.5</td><td>0.24891941</td><td>&gt;15%</td></tr>\n",
              "</tbody>\n",
              "</table>\n"
            ],
            "text/markdown": "\nA data.frame: 216 × 9\n\n| X &lt;int&gt; | country &lt;fct&gt; | pop &lt;int&gt; | area &lt;dbl&gt; | oil_prod &lt;int&gt; | gdp &lt;int&gt; | educ &lt;dbl&gt; | roadways &lt;dbl&gt; | net_users &lt;fct&gt; |\n|---|---|---|---|---|---|---|---|---|\n|  1 | Afghanistan            |  32564342 |  652230 |       0 |  1900 |  NA | 0.06462444 | &gt;5%  |\n|  2 | Albania                |   3029278 |   28748 |   20510 | 11900 | 3.3 | 0.62613051 | &gt;35% |\n|  3 | Algeria                |  39542166 | 2381741 | 1420000 | 14500 | 4.3 | 0.04771929 | &gt;15% |\n|  5 | Andorra                |     85580 |     468 |      NA | 37200 |  NA | 0.68376068 | &gt;60% |\n|  6 | Angola                 |  19625353 | 1246700 | 1742000 |  7300 | 3.5 | 0.04125211 | &gt;15% |\n|  7 | Anguilla               |     16418 |      91 |      NA | 12200 | 2.8 | 1.92307692 | &gt;15% |\n|  8 | Antigua and Barbuda    |     92436 |     443 |       0 | 23600 | 2.4 | 2.64108352 | &gt;60% |\n|  9 | Argentina              |  43431886 | 2780400 |  532100 | 22600 | 6.3 | 0.08321608 | &gt;35% |\n| 10 | Armenia                |   3056382 |   29743 |       0 |  8500 | 3.3 | 0.25905255 | &gt;35% |\n| 11 | Aruba                  |    112162 |     180 |       0 | 25300 | 6.0 |         NA | &gt;60% |\n| 12 | Australia              |  22751014 | 7741220 |  354300 | 65400 | 5.6 | 0.10634202 | &gt;60% |\n| 13 | Austria                |   8665550 |   83871 |   21760 | 47300 | 5.9 | 1.48451789 | &gt;60% |\n| 14 | Azerbaijan             |   9780780 |   86600 |  845900 | 18000 | 2.4 | 0.61133949 | &gt;35% |\n| 15 | Bahamas, The           |    324597 |   13880 |       0 | 25200 |  NA | 0.19452450 | &gt;60% |\n| 16 | Bahrain                |   1346613 |     760 |   49500 | 50100 | 2.6 | 5.42368421 | &gt;60% |\n| 17 | Bangladesh             | 168957745 |  143998 |    4000 |  3600 | 2.2 | 0.14770344 | &gt;5%  |\n| 18 | Barbados               |    290604 |     430 |    1000 | 16600 | 5.6 | 3.72093023 | &gt;60% |\n| 19 | Belarus                |   9589689 |  207600 |   30000 | 17700 | 5.1 | 0.41614643 | &gt;35% |\n| 20 | Belgium                |  11323973 |   30528 |       0 | 43600 | 6.6 | 5.04494235 | &gt;60% |\n| 21 | Belize                 |    347369 |   22966 |    1818 |  8400 | 6.6 | 0.12496734 | &gt;15% |\n| 22 | Benin                  |  10448647 |  112622 |       0 |  2100 | 5.3 | 0.14206816 | &gt;0%  |\n| 23 | Bermuda                |     70196 |      54 |       0 | 85700 | 2.6 | 8.27777778 | &gt;60% |\n| 24 | Bhutan                 |    741919 |   38394 |       0 |  8200 | 4.7 | 0.27551180 | &gt;15% |\n| 25 | Bolivia                |  10800882 | 1098581 |   51130 |  6500 | 6.9 | 0.07326542 | &gt;35% |\n| 26 | Bosnia and Herzegovina |   3867055 |   51197 |       0 | 10500 |  NA | 0.44779968 | &gt;60% |\n| 27 | Botswana               |   2182719 |  581730 |       0 | 16400 | 9.5 | 0.03079779 | &gt;5%  |\n| 28 | Brazil                 | 204259812 | 8514877 | 2255000 | 15600 | 5.8 | 0.18567080 | &gt;35% |\n| 29 | British Virgin Islands |     33454 |     151 |       0 | 42300 | 4.4 | 1.32450331 | &gt;5%  |\n| 30 | Brunei                 |    429646 |    5765 |  126500 | 79700 | 3.5 | 0.52541197 | &gt;60% |\n| 31 | Bulgaria               |   7186893 |  110879 |    1000 | 19100 | 4.1 | 0.17597561 | &gt;35% |\n| ⋮ | ⋮ | ⋮ | ⋮ | ⋮ | ⋮ | ⋮ | ⋮ | ⋮ |\n| 205 | Syria                |  17064854 |  185180 |   22660 |  5100 | 5.1 | 0.37732477 | &gt;15% |\n| 206 | Taiwan               |  23415126 |   35980 |     159 | 46800 |  NA | 1.15272373 | &gt;60% |\n| 207 | Tajikistan           |   8191958 |  143100 |     206 |  2700 | 3.9 | 0.19403913 | &gt;15% |\n| 208 | Tanzania             |  51045882 |  947300 |       0 |  2900 | 6.2 | 0.09128259 | &gt;5%  |\n| 209 | Thailand             |  67976405 |  513120 |  232900 | 16100 | 5.8 | 0.35089843 | &gt;15% |\n| 210 | Timor-Leste          |   1231116 |   14874 |   76490 |  5600 | 9.4 | 0.40607772 | &gt;0%  |\n| 211 | Togo                 |   7552318 |   56785 |       0 |  1500 | 4.5 | 0.20519503 | &gt;0%  |\n| 212 | Tokelau              |      1337 |      12 |      NA |  1000 |  NA |         NA | &gt;35% |\n| 213 | Tonga                |    106501 |     747 |       0 |  5100 | 3.9 | 0.91030790 | &gt;35% |\n| 214 | Trinidad and Tobago  |   1222363 |    5128 |   81260 | 32600 | 3.2 | 1.62246490 | &gt;60% |\n| 215 | Tunisia              |  11037225 |  163610 |   55050 | 11400 | 6.2 | 0.11868468 | &gt;35% |\n| 216 | Turkey               |  79414269 |  783562 |   47670 | 20400 | 2.9 | 0.49230054 | &gt;35% |\n| 217 | Turkmenistan         |   5231422 |  488100 |  242900 | 16400 |  NA | 0.12004097 | &gt;5%  |\n| 219 | Tuvalu               |     10869 |      26 |       0 |  3400 |  NA | 0.30769231 | &gt;35% |\n| 220 | Uganda               |  37101745 |  241038 |       0 |  2000 | 3.3 | 0.08297447 | &gt;15% |\n| 221 | Ukraine              |  44429471 |  603550 |   40490 |  7500 | 6.2 | 0.28115980 | &gt;35% |\n| 222 | United Arab Emirates |   5779760 |   83600 | 2820000 | 67600 |  NA | 0.04880383 | &gt;60% |\n| 223 | United Kingdom       |  64088222 |  243610 |  787200 | 41200 | 6.2 | 1.61909610 | &gt;60% |\n| 224 | United States        | 321368864 | 9826675 | 8653000 | 55800 | 5.4 | 0.67027860 | &gt;60% |\n| 225 | Uruguay              |   3341893 |  176215 |       0 | 21500 | 4.5 | 0.44112022 | &gt;35% |\n| 226 | Uzbekistan           |  29199942 |  447400 |   64810 |  6100 |  NA | 0.19333035 | &gt;35% |\n| 227 | Vanuatu              |    272264 |   12189 |       0 |  2500 | 5.0 | 0.08778407 | &gt;5%  |\n| 228 | Venezuela            |  29275460 |  912050 | 2500000 | 16700 | 6.9 | 0.10542733 | &gt;35% |\n| 229 | Vietnam              |  94348835 |  331210 |  298400 |  6000 | 6.3 | 0.62387307 | &gt;35% |\n| 230 | Virgin Islands       |    103574 |    1910 |       0 | 36100 |  NA | 0.65968586 | &gt;15% |\n| 231 | Wallis and Futuna    |     15613 |     142 |      NA |  3800 |  NA |         NA | &gt;5%  |\n| 232 | West Bank            |   2785366 |    5860 |       0 |  4300 |  NA | 0.79965870 | &gt;35% |\n| 234 | Yemen                |  26737317 |  527968 |  125100 |  2700 | 5.2 | 0.13504606 | &gt;15% |\n| 235 | Zambia               |  15066266 |  752618 |       0 |  3900 | 1.3 | 0.05375104 | &gt;15% |\n| 236 | Zimbabwe             |  14229541 |  390757 |       0 |  2100 | 2.5 | 0.24891941 | &gt;15% |\n\n",
            "text/latex": "A data.frame: 216 × 9\n\\begin{tabular}{lllllllll}\n X & country & pop & area & oil\\_prod & gdp & educ & roadways & net\\_users\\\\\n <int> & <fct> & <int> & <dbl> & <int> & <int> & <dbl> & <dbl> & <fct>\\\\\n\\hline\n\t  1 & Afghanistan            &  32564342 &  652230 &       0 &  1900 &  NA & 0.06462444 & >5\\% \\\\\n\t  2 & Albania                &   3029278 &   28748 &   20510 & 11900 & 3.3 & 0.62613051 & >35\\%\\\\\n\t  3 & Algeria                &  39542166 & 2381741 & 1420000 & 14500 & 4.3 & 0.04771929 & >15\\%\\\\\n\t  5 & Andorra                &     85580 &     468 &      NA & 37200 &  NA & 0.68376068 & >60\\%\\\\\n\t  6 & Angola                 &  19625353 & 1246700 & 1742000 &  7300 & 3.5 & 0.04125211 & >15\\%\\\\\n\t  7 & Anguilla               &     16418 &      91 &      NA & 12200 & 2.8 & 1.92307692 & >15\\%\\\\\n\t  8 & Antigua and Barbuda    &     92436 &     443 &       0 & 23600 & 2.4 & 2.64108352 & >60\\%\\\\\n\t  9 & Argentina              &  43431886 & 2780400 &  532100 & 22600 & 6.3 & 0.08321608 & >35\\%\\\\\n\t 10 & Armenia                &   3056382 &   29743 &       0 &  8500 & 3.3 & 0.25905255 & >35\\%\\\\\n\t 11 & Aruba                  &    112162 &     180 &       0 & 25300 & 6.0 &         NA & >60\\%\\\\\n\t 12 & Australia              &  22751014 & 7741220 &  354300 & 65400 & 5.6 & 0.10634202 & >60\\%\\\\\n\t 13 & Austria                &   8665550 &   83871 &   21760 & 47300 & 5.9 & 1.48451789 & >60\\%\\\\\n\t 14 & Azerbaijan             &   9780780 &   86600 &  845900 & 18000 & 2.4 & 0.61133949 & >35\\%\\\\\n\t 15 & Bahamas, The           &    324597 &   13880 &       0 & 25200 &  NA & 0.19452450 & >60\\%\\\\\n\t 16 & Bahrain                &   1346613 &     760 &   49500 & 50100 & 2.6 & 5.42368421 & >60\\%\\\\\n\t 17 & Bangladesh             & 168957745 &  143998 &    4000 &  3600 & 2.2 & 0.14770344 & >5\\% \\\\\n\t 18 & Barbados               &    290604 &     430 &    1000 & 16600 & 5.6 & 3.72093023 & >60\\%\\\\\n\t 19 & Belarus                &   9589689 &  207600 &   30000 & 17700 & 5.1 & 0.41614643 & >35\\%\\\\\n\t 20 & Belgium                &  11323973 &   30528 &       0 & 43600 & 6.6 & 5.04494235 & >60\\%\\\\\n\t 21 & Belize                 &    347369 &   22966 &    1818 &  8400 & 6.6 & 0.12496734 & >15\\%\\\\\n\t 22 & Benin                  &  10448647 &  112622 &       0 &  2100 & 5.3 & 0.14206816 & >0\\% \\\\\n\t 23 & Bermuda                &     70196 &      54 &       0 & 85700 & 2.6 & 8.27777778 & >60\\%\\\\\n\t 24 & Bhutan                 &    741919 &   38394 &       0 &  8200 & 4.7 & 0.27551180 & >15\\%\\\\\n\t 25 & Bolivia                &  10800882 & 1098581 &   51130 &  6500 & 6.9 & 0.07326542 & >35\\%\\\\\n\t 26 & Bosnia and Herzegovina &   3867055 &   51197 &       0 & 10500 &  NA & 0.44779968 & >60\\%\\\\\n\t 27 & Botswana               &   2182719 &  581730 &       0 & 16400 & 9.5 & 0.03079779 & >5\\% \\\\\n\t 28 & Brazil                 & 204259812 & 8514877 & 2255000 & 15600 & 5.8 & 0.18567080 & >35\\%\\\\\n\t 29 & British Virgin Islands &     33454 &     151 &       0 & 42300 & 4.4 & 1.32450331 & >5\\% \\\\\n\t 30 & Brunei                 &    429646 &    5765 &  126500 & 79700 & 3.5 & 0.52541197 & >60\\%\\\\\n\t 31 & Bulgaria               &   7186893 &  110879 &    1000 & 19100 & 4.1 & 0.17597561 & >35\\%\\\\\n\t ⋮ & ⋮ & ⋮ & ⋮ & ⋮ & ⋮ & ⋮ & ⋮ & ⋮\\\\\n\t 205 & Syria                &  17064854 &  185180 &   22660 &  5100 & 5.1 & 0.37732477 & >15\\%\\\\\n\t 206 & Taiwan               &  23415126 &   35980 &     159 & 46800 &  NA & 1.15272373 & >60\\%\\\\\n\t 207 & Tajikistan           &   8191958 &  143100 &     206 &  2700 & 3.9 & 0.19403913 & >15\\%\\\\\n\t 208 & Tanzania             &  51045882 &  947300 &       0 &  2900 & 6.2 & 0.09128259 & >5\\% \\\\\n\t 209 & Thailand             &  67976405 &  513120 &  232900 & 16100 & 5.8 & 0.35089843 & >15\\%\\\\\n\t 210 & Timor-Leste          &   1231116 &   14874 &   76490 &  5600 & 9.4 & 0.40607772 & >0\\% \\\\\n\t 211 & Togo                 &   7552318 &   56785 &       0 &  1500 & 4.5 & 0.20519503 & >0\\% \\\\\n\t 212 & Tokelau              &      1337 &      12 &      NA &  1000 &  NA &         NA & >35\\%\\\\\n\t 213 & Tonga                &    106501 &     747 &       0 &  5100 & 3.9 & 0.91030790 & >35\\%\\\\\n\t 214 & Trinidad and Tobago  &   1222363 &    5128 &   81260 & 32600 & 3.2 & 1.62246490 & >60\\%\\\\\n\t 215 & Tunisia              &  11037225 &  163610 &   55050 & 11400 & 6.2 & 0.11868468 & >35\\%\\\\\n\t 216 & Turkey               &  79414269 &  783562 &   47670 & 20400 & 2.9 & 0.49230054 & >35\\%\\\\\n\t 217 & Turkmenistan         &   5231422 &  488100 &  242900 & 16400 &  NA & 0.12004097 & >5\\% \\\\\n\t 219 & Tuvalu               &     10869 &      26 &       0 &  3400 &  NA & 0.30769231 & >35\\%\\\\\n\t 220 & Uganda               &  37101745 &  241038 &       0 &  2000 & 3.3 & 0.08297447 & >15\\%\\\\\n\t 221 & Ukraine              &  44429471 &  603550 &   40490 &  7500 & 6.2 & 0.28115980 & >35\\%\\\\\n\t 222 & United Arab Emirates &   5779760 &   83600 & 2820000 & 67600 &  NA & 0.04880383 & >60\\%\\\\\n\t 223 & United Kingdom       &  64088222 &  243610 &  787200 & 41200 & 6.2 & 1.61909610 & >60\\%\\\\\n\t 224 & United States        & 321368864 & 9826675 & 8653000 & 55800 & 5.4 & 0.67027860 & >60\\%\\\\\n\t 225 & Uruguay              &   3341893 &  176215 &       0 & 21500 & 4.5 & 0.44112022 & >35\\%\\\\\n\t 226 & Uzbekistan           &  29199942 &  447400 &   64810 &  6100 &  NA & 0.19333035 & >35\\%\\\\\n\t 227 & Vanuatu              &    272264 &   12189 &       0 &  2500 & 5.0 & 0.08778407 & >5\\% \\\\\n\t 228 & Venezuela            &  29275460 &  912050 & 2500000 & 16700 & 6.9 & 0.10542733 & >35\\%\\\\\n\t 229 & Vietnam              &  94348835 &  331210 &  298400 &  6000 & 6.3 & 0.62387307 & >35\\%\\\\\n\t 230 & Virgin Islands       &    103574 &    1910 &       0 & 36100 &  NA & 0.65968586 & >15\\%\\\\\n\t 231 & Wallis and Futuna    &     15613 &     142 &      NA &  3800 &  NA &         NA & >5\\% \\\\\n\t 232 & West Bank            &   2785366 &    5860 &       0 &  4300 &  NA & 0.79965870 & >35\\%\\\\\n\t 234 & Yemen                &  26737317 &  527968 &  125100 &  2700 & 5.2 & 0.13504606 & >15\\%\\\\\n\t 235 & Zambia               &  15066266 &  752618 &       0 &  3900 & 1.3 & 0.05375104 & >15\\%\\\\\n\t 236 & Zimbabwe             &  14229541 &  390757 &       0 &  2100 & 2.5 & 0.24891941 & >15\\%\\\\\n\\end{tabular}\n",
            "text/plain": [
              "    X   country                pop       area    oil_prod gdp   educ roadways  \n",
              "1    1  Afghanistan             32564342  652230       0   1900  NA  0.06462444\n",
              "2    2  Albania                  3029278   28748   20510  11900 3.3  0.62613051\n",
              "3    3  Algeria                 39542166 2381741 1420000  14500 4.3  0.04771929\n",
              "4    5  Andorra                    85580     468      NA  37200  NA  0.68376068\n",
              "5    6  Angola                  19625353 1246700 1742000   7300 3.5  0.04125211\n",
              "6    7  Anguilla                   16418      91      NA  12200 2.8  1.92307692\n",
              "7    8  Antigua and Barbuda        92436     443       0  23600 2.4  2.64108352\n",
              "8    9  Argentina               43431886 2780400  532100  22600 6.3  0.08321608\n",
              "9   10  Armenia                  3056382   29743       0   8500 3.3  0.25905255\n",
              "10  11  Aruba                     112162     180       0  25300 6.0          NA\n",
              "11  12  Australia               22751014 7741220  354300  65400 5.6  0.10634202\n",
              "12  13  Austria                  8665550   83871   21760  47300 5.9  1.48451789\n",
              "13  14  Azerbaijan               9780780   86600  845900  18000 2.4  0.61133949\n",
              "14  15  Bahamas, The              324597   13880       0  25200  NA  0.19452450\n",
              "15  16  Bahrain                  1346613     760   49500  50100 2.6  5.42368421\n",
              "16  17  Bangladesh             168957745  143998    4000   3600 2.2  0.14770344\n",
              "17  18  Barbados                  290604     430    1000  16600 5.6  3.72093023\n",
              "18  19  Belarus                  9589689  207600   30000  17700 5.1  0.41614643\n",
              "19  20  Belgium                 11323973   30528       0  43600 6.6  5.04494235\n",
              "20  21  Belize                    347369   22966    1818   8400 6.6  0.12496734\n",
              "21  22  Benin                   10448647  112622       0   2100 5.3  0.14206816\n",
              "22  23  Bermuda                    70196      54       0  85700 2.6  8.27777778\n",
              "23  24  Bhutan                    741919   38394       0   8200 4.7  0.27551180\n",
              "24  25  Bolivia                 10800882 1098581   51130   6500 6.9  0.07326542\n",
              "25  26  Bosnia and Herzegovina   3867055   51197       0  10500  NA  0.44779968\n",
              "26  27  Botswana                 2182719  581730       0  16400 9.5  0.03079779\n",
              "27  28  Brazil                 204259812 8514877 2255000  15600 5.8  0.18567080\n",
              "28  29  British Virgin Islands     33454     151       0  42300 4.4  1.32450331\n",
              "29  30  Brunei                    429646    5765  126500  79700 3.5  0.52541197\n",
              "30  31  Bulgaria                 7186893  110879    1000  19100 4.1  0.17597561\n",
              "⋮   ⋮   ⋮                      ⋮         ⋮       ⋮        ⋮     ⋮    ⋮         \n",
              "187 205 Syria                   17064854  185180   22660   5100 5.1  0.37732477\n",
              "188 206 Taiwan                  23415126   35980     159  46800  NA  1.15272373\n",
              "189 207 Tajikistan               8191958  143100     206   2700 3.9  0.19403913\n",
              "190 208 Tanzania                51045882  947300       0   2900 6.2  0.09128259\n",
              "191 209 Thailand                67976405  513120  232900  16100 5.8  0.35089843\n",
              "192 210 Timor-Leste              1231116   14874   76490   5600 9.4  0.40607772\n",
              "193 211 Togo                     7552318   56785       0   1500 4.5  0.20519503\n",
              "194 212 Tokelau                     1337      12      NA   1000  NA          NA\n",
              "195 213 Tonga                     106501     747       0   5100 3.9  0.91030790\n",
              "196 214 Trinidad and Tobago      1222363    5128   81260  32600 3.2  1.62246490\n",
              "197 215 Tunisia                 11037225  163610   55050  11400 6.2  0.11868468\n",
              "198 216 Turkey                  79414269  783562   47670  20400 2.9  0.49230054\n",
              "199 217 Turkmenistan             5231422  488100  242900  16400  NA  0.12004097\n",
              "200 219 Tuvalu                     10869      26       0   3400  NA  0.30769231\n",
              "201 220 Uganda                  37101745  241038       0   2000 3.3  0.08297447\n",
              "202 221 Ukraine                 44429471  603550   40490   7500 6.2  0.28115980\n",
              "203 222 United Arab Emirates     5779760   83600 2820000  67600  NA  0.04880383\n",
              "204 223 United Kingdom          64088222  243610  787200  41200 6.2  1.61909610\n",
              "205 224 United States          321368864 9826675 8653000  55800 5.4  0.67027860\n",
              "206 225 Uruguay                  3341893  176215       0  21500 4.5  0.44112022\n",
              "207 226 Uzbekistan              29199942  447400   64810   6100  NA  0.19333035\n",
              "208 227 Vanuatu                   272264   12189       0   2500 5.0  0.08778407\n",
              "209 228 Venezuela               29275460  912050 2500000  16700 6.9  0.10542733\n",
              "210 229 Vietnam                 94348835  331210  298400   6000 6.3  0.62387307\n",
              "211 230 Virgin Islands            103574    1910       0  36100  NA  0.65968586\n",
              "212 231 Wallis and Futuna          15613     142      NA   3800  NA          NA\n",
              "213 232 West Bank                2785366    5860       0   4300  NA  0.79965870\n",
              "214 234 Yemen                   26737317  527968  125100   2700 5.2  0.13504606\n",
              "215 235 Zambia                  15066266  752618       0   3900 1.3  0.05375104\n",
              "216 236 Zimbabwe                14229541  390757       0   2100 2.5  0.24891941\n",
              "    net_users\n",
              "1   >5%      \n",
              "2   >35%     \n",
              "3   >15%     \n",
              "4   >60%     \n",
              "5   >15%     \n",
              "6   >15%     \n",
              "7   >60%     \n",
              "8   >35%     \n",
              "9   >35%     \n",
              "10  >60%     \n",
              "11  >60%     \n",
              "12  >60%     \n",
              "13  >35%     \n",
              "14  >60%     \n",
              "15  >60%     \n",
              "16  >5%      \n",
              "17  >60%     \n",
              "18  >35%     \n",
              "19  >60%     \n",
              "20  >15%     \n",
              "21  >0%      \n",
              "22  >60%     \n",
              "23  >15%     \n",
              "24  >35%     \n",
              "25  >60%     \n",
              "26  >5%      \n",
              "27  >35%     \n",
              "28  >5%      \n",
              "29  >60%     \n",
              "30  >35%     \n",
              "⋮   ⋮        \n",
              "187 >15%     \n",
              "188 >60%     \n",
              "189 >15%     \n",
              "190 >5%      \n",
              "191 >15%     \n",
              "192 >0%      \n",
              "193 >0%      \n",
              "194 >35%     \n",
              "195 >35%     \n",
              "196 >60%     \n",
              "197 >35%     \n",
              "198 >35%     \n",
              "199 >5%      \n",
              "200 >35%     \n",
              "201 >15%     \n",
              "202 >35%     \n",
              "203 >60%     \n",
              "204 >60%     \n",
              "205 >60%     \n",
              "206 >35%     \n",
              "207 >35%     \n",
              "208 >5%      \n",
              "209 >35%     \n",
              "210 >35%     \n",
              "211 >15%     \n",
              "212 >5%      \n",
              "213 >35%     \n",
              "214 >15%     \n",
              "215 >15%     \n",
              "216 >15%     "
            ]
          },
          "metadata": {}
        }
      ],
      "source": [
        "ciacountries <- ciacountries %>%\n",
        "filter(!is.na(net_users)) \n",
        "ciacountries\n"
      ]
    },
    {
      "cell_type": "markdown",
      "metadata": {
        "id": "wirhIaxEXO3b"
      },
      "source": [
        "TASK: The net_users variable indicates the percent of internet users.  Create a decision tree to determine what variables predict the % of net users in the country.\n",
        "QUESTION: Which variable(s) is a predictor for percent internet users? Look at the data set documentation at https://www.rdocumentation.org/packages/mdsr/versions/0.1.3/topics/CIACountries.  What does this variable mean? How do you explain the relationship between the predictor variable and the target/response variable?\n"
      ]
    },
    {
      "cell_type": "code",
      "execution_count": null,
      "metadata": {
        "id": "owh33IGkXO3c"
      },
      "outputs": [],
      "source": [
        "\n",
        "\n"
      ]
    },
    {
      "cell_type": "markdown",
      "metadata": {
        "id": "l0g6E70_XO3c"
      },
      "source": [
        "Filter out missing values for roadways.\n",
        "\n"
      ]
    },
    {
      "cell_type": "code",
      "execution_count": null,
      "metadata": {
        "id": "jBRZNz5pXO3c",
        "outputId": "df21a59b-500d-4c65-e63f-2bb6c4bfa0c7",
        "colab": {
          "base_uri": "https://localhost:8080/",
          "height": 1000
        }
      },
      "outputs": [
        {
          "output_type": "display_data",
          "data": {
            "text/html": [
              "<table class=\"dataframe\">\n",
              "<caption>A data.frame: 210 × 9</caption>\n",
              "<thead>\n",
              "\t<tr><th scope=col>X</th><th scope=col>country</th><th scope=col>pop</th><th scope=col>area</th><th scope=col>oil_prod</th><th scope=col>gdp</th><th scope=col>educ</th><th scope=col>roadways</th><th scope=col>net_users</th></tr>\n",
              "\t<tr><th scope=col>&lt;int&gt;</th><th scope=col>&lt;fct&gt;</th><th scope=col>&lt;int&gt;</th><th scope=col>&lt;dbl&gt;</th><th scope=col>&lt;int&gt;</th><th scope=col>&lt;int&gt;</th><th scope=col>&lt;dbl&gt;</th><th scope=col>&lt;dbl&gt;</th><th scope=col>&lt;fct&gt;</th></tr>\n",
              "</thead>\n",
              "<tbody>\n",
              "\t<tr><td> 1</td><td><span style=white-space:pre-wrap>Afghanistan           </span></td><td> 32564342</td><td> 652230</td><td><span style=white-space:pre-wrap>      0</span></td><td> 1900</td><td> NA</td><td>0.06462444</td><td>&gt;5% </td></tr>\n",
              "\t<tr><td> 2</td><td><span style=white-space:pre-wrap>Albania               </span></td><td><span style=white-space:pre-wrap>  3029278</span></td><td><span style=white-space:pre-wrap>  28748</span></td><td><span style=white-space:pre-wrap>  20510</span></td><td>11900</td><td>3.3</td><td>0.62613051</td><td>&gt;35%</td></tr>\n",
              "\t<tr><td> 3</td><td><span style=white-space:pre-wrap>Algeria               </span></td><td> 39542166</td><td>2381741</td><td>1420000</td><td>14500</td><td>4.3</td><td>0.04771929</td><td>&gt;15%</td></tr>\n",
              "\t<tr><td> 5</td><td><span style=white-space:pre-wrap>Andorra               </span></td><td><span style=white-space:pre-wrap>    85580</span></td><td><span style=white-space:pre-wrap>    468</span></td><td><span style=white-space:pre-wrap>     NA</span></td><td>37200</td><td> NA</td><td>0.68376068</td><td>&gt;60%</td></tr>\n",
              "\t<tr><td> 6</td><td><span style=white-space:pre-wrap>Angola                </span></td><td> 19625353</td><td>1246700</td><td>1742000</td><td> 7300</td><td>3.5</td><td>0.04125211</td><td>&gt;15%</td></tr>\n",
              "\t<tr><td> 7</td><td><span style=white-space:pre-wrap>Anguilla              </span></td><td><span style=white-space:pre-wrap>    16418</span></td><td><span style=white-space:pre-wrap>     91</span></td><td><span style=white-space:pre-wrap>     NA</span></td><td>12200</td><td>2.8</td><td>1.92307692</td><td>&gt;15%</td></tr>\n",
              "\t<tr><td> 8</td><td><span style=white-space:pre-wrap>Antigua and Barbuda   </span></td><td><span style=white-space:pre-wrap>    92436</span></td><td><span style=white-space:pre-wrap>    443</span></td><td><span style=white-space:pre-wrap>      0</span></td><td>23600</td><td>2.4</td><td>2.64108352</td><td>&gt;60%</td></tr>\n",
              "\t<tr><td> 9</td><td><span style=white-space:pre-wrap>Argentina             </span></td><td> 43431886</td><td>2780400</td><td> 532100</td><td>22600</td><td>6.3</td><td>0.08321608</td><td>&gt;35%</td></tr>\n",
              "\t<tr><td>10</td><td><span style=white-space:pre-wrap>Armenia               </span></td><td><span style=white-space:pre-wrap>  3056382</span></td><td><span style=white-space:pre-wrap>  29743</span></td><td><span style=white-space:pre-wrap>      0</span></td><td> 8500</td><td>3.3</td><td>0.25905255</td><td>&gt;35%</td></tr>\n",
              "\t<tr><td>12</td><td><span style=white-space:pre-wrap>Australia             </span></td><td> 22751014</td><td>7741220</td><td> 354300</td><td>65400</td><td>5.6</td><td>0.10634202</td><td>&gt;60%</td></tr>\n",
              "\t<tr><td>13</td><td><span style=white-space:pre-wrap>Austria               </span></td><td><span style=white-space:pre-wrap>  8665550</span></td><td><span style=white-space:pre-wrap>  83871</span></td><td><span style=white-space:pre-wrap>  21760</span></td><td>47300</td><td>5.9</td><td>1.48451789</td><td>&gt;60%</td></tr>\n",
              "\t<tr><td>14</td><td><span style=white-space:pre-wrap>Azerbaijan            </span></td><td><span style=white-space:pre-wrap>  9780780</span></td><td><span style=white-space:pre-wrap>  86600</span></td><td> 845900</td><td>18000</td><td>2.4</td><td>0.61133949</td><td>&gt;35%</td></tr>\n",
              "\t<tr><td>15</td><td><span style=white-space:pre-wrap>Bahamas, The          </span></td><td><span style=white-space:pre-wrap>   324597</span></td><td><span style=white-space:pre-wrap>  13880</span></td><td><span style=white-space:pre-wrap>      0</span></td><td>25200</td><td> NA</td><td>0.19452450</td><td>&gt;60%</td></tr>\n",
              "\t<tr><td>16</td><td><span style=white-space:pre-wrap>Bahrain               </span></td><td><span style=white-space:pre-wrap>  1346613</span></td><td><span style=white-space:pre-wrap>    760</span></td><td><span style=white-space:pre-wrap>  49500</span></td><td>50100</td><td>2.6</td><td>5.42368421</td><td>&gt;60%</td></tr>\n",
              "\t<tr><td>17</td><td><span style=white-space:pre-wrap>Bangladesh            </span></td><td>168957745</td><td> 143998</td><td><span style=white-space:pre-wrap>   4000</span></td><td> 3600</td><td>2.2</td><td>0.14770344</td><td>&gt;5% </td></tr>\n",
              "\t<tr><td>18</td><td><span style=white-space:pre-wrap>Barbados              </span></td><td><span style=white-space:pre-wrap>   290604</span></td><td><span style=white-space:pre-wrap>    430</span></td><td><span style=white-space:pre-wrap>   1000</span></td><td>16600</td><td>5.6</td><td>3.72093023</td><td>&gt;60%</td></tr>\n",
              "\t<tr><td>19</td><td><span style=white-space:pre-wrap>Belarus               </span></td><td><span style=white-space:pre-wrap>  9589689</span></td><td> 207600</td><td><span style=white-space:pre-wrap>  30000</span></td><td>17700</td><td>5.1</td><td>0.41614643</td><td>&gt;35%</td></tr>\n",
              "\t<tr><td>20</td><td><span style=white-space:pre-wrap>Belgium               </span></td><td> 11323973</td><td><span style=white-space:pre-wrap>  30528</span></td><td><span style=white-space:pre-wrap>      0</span></td><td>43600</td><td>6.6</td><td>5.04494235</td><td>&gt;60%</td></tr>\n",
              "\t<tr><td>21</td><td><span style=white-space:pre-wrap>Belize                </span></td><td><span style=white-space:pre-wrap>   347369</span></td><td><span style=white-space:pre-wrap>  22966</span></td><td><span style=white-space:pre-wrap>   1818</span></td><td> 8400</td><td>6.6</td><td>0.12496734</td><td>&gt;15%</td></tr>\n",
              "\t<tr><td>22</td><td><span style=white-space:pre-wrap>Benin                 </span></td><td> 10448647</td><td> 112622</td><td><span style=white-space:pre-wrap>      0</span></td><td> 2100</td><td>5.3</td><td>0.14206816</td><td>&gt;0% </td></tr>\n",
              "\t<tr><td>23</td><td><span style=white-space:pre-wrap>Bermuda               </span></td><td><span style=white-space:pre-wrap>    70196</span></td><td><span style=white-space:pre-wrap>     54</span></td><td><span style=white-space:pre-wrap>      0</span></td><td>85700</td><td>2.6</td><td>8.27777778</td><td>&gt;60%</td></tr>\n",
              "\t<tr><td>24</td><td><span style=white-space:pre-wrap>Bhutan                </span></td><td><span style=white-space:pre-wrap>   741919</span></td><td><span style=white-space:pre-wrap>  38394</span></td><td><span style=white-space:pre-wrap>      0</span></td><td> 8200</td><td>4.7</td><td>0.27551180</td><td>&gt;15%</td></tr>\n",
              "\t<tr><td>25</td><td><span style=white-space:pre-wrap>Bolivia               </span></td><td> 10800882</td><td>1098581</td><td><span style=white-space:pre-wrap>  51130</span></td><td> 6500</td><td>6.9</td><td>0.07326542</td><td>&gt;35%</td></tr>\n",
              "\t<tr><td>26</td><td>Bosnia and Herzegovina</td><td><span style=white-space:pre-wrap>  3867055</span></td><td><span style=white-space:pre-wrap>  51197</span></td><td><span style=white-space:pre-wrap>      0</span></td><td>10500</td><td> NA</td><td>0.44779968</td><td>&gt;60%</td></tr>\n",
              "\t<tr><td>27</td><td><span style=white-space:pre-wrap>Botswana              </span></td><td><span style=white-space:pre-wrap>  2182719</span></td><td> 581730</td><td><span style=white-space:pre-wrap>      0</span></td><td>16400</td><td>9.5</td><td>0.03079779</td><td>&gt;5% </td></tr>\n",
              "\t<tr><td>28</td><td><span style=white-space:pre-wrap>Brazil                </span></td><td>204259812</td><td>8514877</td><td>2255000</td><td>15600</td><td>5.8</td><td>0.18567080</td><td>&gt;35%</td></tr>\n",
              "\t<tr><td>29</td><td>British Virgin Islands</td><td><span style=white-space:pre-wrap>    33454</span></td><td><span style=white-space:pre-wrap>    151</span></td><td><span style=white-space:pre-wrap>      0</span></td><td>42300</td><td>4.4</td><td>1.32450331</td><td>&gt;5% </td></tr>\n",
              "\t<tr><td>30</td><td><span style=white-space:pre-wrap>Brunei                </span></td><td><span style=white-space:pre-wrap>   429646</span></td><td><span style=white-space:pre-wrap>   5765</span></td><td> 126500</td><td>79700</td><td>3.5</td><td>0.52541197</td><td>&gt;60%</td></tr>\n",
              "\t<tr><td>31</td><td><span style=white-space:pre-wrap>Bulgaria              </span></td><td><span style=white-space:pre-wrap>  7186893</span></td><td> 110879</td><td><span style=white-space:pre-wrap>   1000</span></td><td>19100</td><td>4.1</td><td>0.17597561</td><td>&gt;35%</td></tr>\n",
              "\t<tr><td>32</td><td><span style=white-space:pre-wrap>Burkina Faso          </span></td><td> 18931686</td><td> 274200</td><td><span style=white-space:pre-wrap>      0</span></td><td> 1700</td><td>3.4</td><td>0.05569657</td><td>&gt;0% </td></tr>\n",
              "\t<tr><td>⋮</td><td>⋮</td><td>⋮</td><td>⋮</td><td>⋮</td><td>⋮</td><td>⋮</td><td>⋮</td><td>⋮</td></tr>\n",
              "\t<tr><td>203</td><td><span style=white-space:pre-wrap>Sweden              </span></td><td><span style=white-space:pre-wrap>  9801616</span></td><td> 450295</td><td><span style=white-space:pre-wrap>      0</span></td><td>47900</td><td>7.0</td><td>1.28707625</td><td>&gt;60%</td></tr>\n",
              "\t<tr><td>204</td><td><span style=white-space:pre-wrap>Switzerland         </span></td><td><span style=white-space:pre-wrap>  8121830</span></td><td><span style=white-space:pre-wrap>  41277</span></td><td><span style=white-space:pre-wrap>      0</span></td><td>58600</td><td>5.2</td><td>1.73132737</td><td>&gt;60%</td></tr>\n",
              "\t<tr><td>205</td><td><span style=white-space:pre-wrap>Syria               </span></td><td> 17064854</td><td> 185180</td><td><span style=white-space:pre-wrap>  22660</span></td><td> 5100</td><td>5.1</td><td>0.37732477</td><td>&gt;15%</td></tr>\n",
              "\t<tr><td>206</td><td><span style=white-space:pre-wrap>Taiwan              </span></td><td> 23415126</td><td><span style=white-space:pre-wrap>  35980</span></td><td><span style=white-space:pre-wrap>    159</span></td><td>46800</td><td> NA</td><td>1.15272373</td><td>&gt;60%</td></tr>\n",
              "\t<tr><td>207</td><td><span style=white-space:pre-wrap>Tajikistan          </span></td><td><span style=white-space:pre-wrap>  8191958</span></td><td> 143100</td><td><span style=white-space:pre-wrap>    206</span></td><td> 2700</td><td>3.9</td><td>0.19403913</td><td>&gt;15%</td></tr>\n",
              "\t<tr><td>208</td><td><span style=white-space:pre-wrap>Tanzania            </span></td><td> 51045882</td><td> 947300</td><td><span style=white-space:pre-wrap>      0</span></td><td> 2900</td><td>6.2</td><td>0.09128259</td><td>&gt;5% </td></tr>\n",
              "\t<tr><td>209</td><td><span style=white-space:pre-wrap>Thailand            </span></td><td> 67976405</td><td> 513120</td><td> 232900</td><td>16100</td><td>5.8</td><td>0.35089843</td><td>&gt;15%</td></tr>\n",
              "\t<tr><td>210</td><td><span style=white-space:pre-wrap>Timor-Leste         </span></td><td><span style=white-space:pre-wrap>  1231116</span></td><td><span style=white-space:pre-wrap>  14874</span></td><td><span style=white-space:pre-wrap>  76490</span></td><td> 5600</td><td>9.4</td><td>0.40607772</td><td>&gt;0% </td></tr>\n",
              "\t<tr><td>211</td><td><span style=white-space:pre-wrap>Togo                </span></td><td><span style=white-space:pre-wrap>  7552318</span></td><td><span style=white-space:pre-wrap>  56785</span></td><td><span style=white-space:pre-wrap>      0</span></td><td> 1500</td><td>4.5</td><td>0.20519503</td><td>&gt;0% </td></tr>\n",
              "\t<tr><td>213</td><td><span style=white-space:pre-wrap>Tonga               </span></td><td><span style=white-space:pre-wrap>   106501</span></td><td><span style=white-space:pre-wrap>    747</span></td><td><span style=white-space:pre-wrap>      0</span></td><td> 5100</td><td>3.9</td><td>0.91030790</td><td>&gt;35%</td></tr>\n",
              "\t<tr><td>214</td><td>Trinidad and Tobago </td><td><span style=white-space:pre-wrap>  1222363</span></td><td><span style=white-space:pre-wrap>   5128</span></td><td><span style=white-space:pre-wrap>  81260</span></td><td>32600</td><td>3.2</td><td>1.62246490</td><td>&gt;60%</td></tr>\n",
              "\t<tr><td>215</td><td><span style=white-space:pre-wrap>Tunisia             </span></td><td> 11037225</td><td> 163610</td><td><span style=white-space:pre-wrap>  55050</span></td><td>11400</td><td>6.2</td><td>0.11868468</td><td>&gt;35%</td></tr>\n",
              "\t<tr><td>216</td><td><span style=white-space:pre-wrap>Turkey              </span></td><td> 79414269</td><td> 783562</td><td><span style=white-space:pre-wrap>  47670</span></td><td>20400</td><td>2.9</td><td>0.49230054</td><td>&gt;35%</td></tr>\n",
              "\t<tr><td>217</td><td><span style=white-space:pre-wrap>Turkmenistan        </span></td><td><span style=white-space:pre-wrap>  5231422</span></td><td> 488100</td><td> 242900</td><td>16400</td><td> NA</td><td>0.12004097</td><td>&gt;5% </td></tr>\n",
              "\t<tr><td>219</td><td><span style=white-space:pre-wrap>Tuvalu              </span></td><td><span style=white-space:pre-wrap>    10869</span></td><td><span style=white-space:pre-wrap>     26</span></td><td><span style=white-space:pre-wrap>      0</span></td><td> 3400</td><td> NA</td><td>0.30769231</td><td>&gt;35%</td></tr>\n",
              "\t<tr><td>220</td><td><span style=white-space:pre-wrap>Uganda              </span></td><td> 37101745</td><td> 241038</td><td><span style=white-space:pre-wrap>      0</span></td><td> 2000</td><td>3.3</td><td>0.08297447</td><td>&gt;15%</td></tr>\n",
              "\t<tr><td>221</td><td><span style=white-space:pre-wrap>Ukraine             </span></td><td> 44429471</td><td> 603550</td><td><span style=white-space:pre-wrap>  40490</span></td><td> 7500</td><td>6.2</td><td>0.28115980</td><td>&gt;35%</td></tr>\n",
              "\t<tr><td>222</td><td>United Arab Emirates</td><td><span style=white-space:pre-wrap>  5779760</span></td><td><span style=white-space:pre-wrap>  83600</span></td><td>2820000</td><td>67600</td><td> NA</td><td>0.04880383</td><td>&gt;60%</td></tr>\n",
              "\t<tr><td>223</td><td><span style=white-space:pre-wrap>United Kingdom      </span></td><td> 64088222</td><td> 243610</td><td> 787200</td><td>41200</td><td>6.2</td><td>1.61909610</td><td>&gt;60%</td></tr>\n",
              "\t<tr><td>224</td><td><span style=white-space:pre-wrap>United States       </span></td><td>321368864</td><td>9826675</td><td>8653000</td><td>55800</td><td>5.4</td><td>0.67027860</td><td>&gt;60%</td></tr>\n",
              "\t<tr><td>225</td><td><span style=white-space:pre-wrap>Uruguay             </span></td><td><span style=white-space:pre-wrap>  3341893</span></td><td> 176215</td><td><span style=white-space:pre-wrap>      0</span></td><td>21500</td><td>4.5</td><td>0.44112022</td><td>&gt;35%</td></tr>\n",
              "\t<tr><td>226</td><td><span style=white-space:pre-wrap>Uzbekistan          </span></td><td> 29199942</td><td> 447400</td><td><span style=white-space:pre-wrap>  64810</span></td><td> 6100</td><td> NA</td><td>0.19333035</td><td>&gt;35%</td></tr>\n",
              "\t<tr><td>227</td><td><span style=white-space:pre-wrap>Vanuatu             </span></td><td><span style=white-space:pre-wrap>   272264</span></td><td><span style=white-space:pre-wrap>  12189</span></td><td><span style=white-space:pre-wrap>      0</span></td><td> 2500</td><td>5.0</td><td>0.08778407</td><td>&gt;5% </td></tr>\n",
              "\t<tr><td>228</td><td><span style=white-space:pre-wrap>Venezuela           </span></td><td> 29275460</td><td> 912050</td><td>2500000</td><td>16700</td><td>6.9</td><td>0.10542733</td><td>&gt;35%</td></tr>\n",
              "\t<tr><td>229</td><td><span style=white-space:pre-wrap>Vietnam             </span></td><td> 94348835</td><td> 331210</td><td> 298400</td><td> 6000</td><td>6.3</td><td>0.62387307</td><td>&gt;35%</td></tr>\n",
              "\t<tr><td>230</td><td><span style=white-space:pre-wrap>Virgin Islands      </span></td><td><span style=white-space:pre-wrap>   103574</span></td><td><span style=white-space:pre-wrap>   1910</span></td><td><span style=white-space:pre-wrap>      0</span></td><td>36100</td><td> NA</td><td>0.65968586</td><td>&gt;15%</td></tr>\n",
              "\t<tr><td>232</td><td><span style=white-space:pre-wrap>West Bank           </span></td><td><span style=white-space:pre-wrap>  2785366</span></td><td><span style=white-space:pre-wrap>   5860</span></td><td><span style=white-space:pre-wrap>      0</span></td><td> 4300</td><td> NA</td><td>0.79965870</td><td>&gt;35%</td></tr>\n",
              "\t<tr><td>234</td><td><span style=white-space:pre-wrap>Yemen               </span></td><td> 26737317</td><td> 527968</td><td> 125100</td><td> 2700</td><td>5.2</td><td>0.13504606</td><td>&gt;15%</td></tr>\n",
              "\t<tr><td>235</td><td><span style=white-space:pre-wrap>Zambia              </span></td><td> 15066266</td><td> 752618</td><td><span style=white-space:pre-wrap>      0</span></td><td> 3900</td><td>1.3</td><td>0.05375104</td><td>&gt;15%</td></tr>\n",
              "\t<tr><td>236</td><td><span style=white-space:pre-wrap>Zimbabwe            </span></td><td> 14229541</td><td> 390757</td><td><span style=white-space:pre-wrap>      0</span></td><td> 2100</td><td>2.5</td><td>0.24891941</td><td>&gt;15%</td></tr>\n",
              "</tbody>\n",
              "</table>\n"
            ],
            "text/markdown": "\nA data.frame: 210 × 9\n\n| X &lt;int&gt; | country &lt;fct&gt; | pop &lt;int&gt; | area &lt;dbl&gt; | oil_prod &lt;int&gt; | gdp &lt;int&gt; | educ &lt;dbl&gt; | roadways &lt;dbl&gt; | net_users &lt;fct&gt; |\n|---|---|---|---|---|---|---|---|---|\n|  1 | Afghanistan            |  32564342 |  652230 |       0 |  1900 |  NA | 0.06462444 | &gt;5%  |\n|  2 | Albania                |   3029278 |   28748 |   20510 | 11900 | 3.3 | 0.62613051 | &gt;35% |\n|  3 | Algeria                |  39542166 | 2381741 | 1420000 | 14500 | 4.3 | 0.04771929 | &gt;15% |\n|  5 | Andorra                |     85580 |     468 |      NA | 37200 |  NA | 0.68376068 | &gt;60% |\n|  6 | Angola                 |  19625353 | 1246700 | 1742000 |  7300 | 3.5 | 0.04125211 | &gt;15% |\n|  7 | Anguilla               |     16418 |      91 |      NA | 12200 | 2.8 | 1.92307692 | &gt;15% |\n|  8 | Antigua and Barbuda    |     92436 |     443 |       0 | 23600 | 2.4 | 2.64108352 | &gt;60% |\n|  9 | Argentina              |  43431886 | 2780400 |  532100 | 22600 | 6.3 | 0.08321608 | &gt;35% |\n| 10 | Armenia                |   3056382 |   29743 |       0 |  8500 | 3.3 | 0.25905255 | &gt;35% |\n| 12 | Australia              |  22751014 | 7741220 |  354300 | 65400 | 5.6 | 0.10634202 | &gt;60% |\n| 13 | Austria                |   8665550 |   83871 |   21760 | 47300 | 5.9 | 1.48451789 | &gt;60% |\n| 14 | Azerbaijan             |   9780780 |   86600 |  845900 | 18000 | 2.4 | 0.61133949 | &gt;35% |\n| 15 | Bahamas, The           |    324597 |   13880 |       0 | 25200 |  NA | 0.19452450 | &gt;60% |\n| 16 | Bahrain                |   1346613 |     760 |   49500 | 50100 | 2.6 | 5.42368421 | &gt;60% |\n| 17 | Bangladesh             | 168957745 |  143998 |    4000 |  3600 | 2.2 | 0.14770344 | &gt;5%  |\n| 18 | Barbados               |    290604 |     430 |    1000 | 16600 | 5.6 | 3.72093023 | &gt;60% |\n| 19 | Belarus                |   9589689 |  207600 |   30000 | 17700 | 5.1 | 0.41614643 | &gt;35% |\n| 20 | Belgium                |  11323973 |   30528 |       0 | 43600 | 6.6 | 5.04494235 | &gt;60% |\n| 21 | Belize                 |    347369 |   22966 |    1818 |  8400 | 6.6 | 0.12496734 | &gt;15% |\n| 22 | Benin                  |  10448647 |  112622 |       0 |  2100 | 5.3 | 0.14206816 | &gt;0%  |\n| 23 | Bermuda                |     70196 |      54 |       0 | 85700 | 2.6 | 8.27777778 | &gt;60% |\n| 24 | Bhutan                 |    741919 |   38394 |       0 |  8200 | 4.7 | 0.27551180 | &gt;15% |\n| 25 | Bolivia                |  10800882 | 1098581 |   51130 |  6500 | 6.9 | 0.07326542 | &gt;35% |\n| 26 | Bosnia and Herzegovina |   3867055 |   51197 |       0 | 10500 |  NA | 0.44779968 | &gt;60% |\n| 27 | Botswana               |   2182719 |  581730 |       0 | 16400 | 9.5 | 0.03079779 | &gt;5%  |\n| 28 | Brazil                 | 204259812 | 8514877 | 2255000 | 15600 | 5.8 | 0.18567080 | &gt;35% |\n| 29 | British Virgin Islands |     33454 |     151 |       0 | 42300 | 4.4 | 1.32450331 | &gt;5%  |\n| 30 | Brunei                 |    429646 |    5765 |  126500 | 79700 | 3.5 | 0.52541197 | &gt;60% |\n| 31 | Bulgaria               |   7186893 |  110879 |    1000 | 19100 | 4.1 | 0.17597561 | &gt;35% |\n| 32 | Burkina Faso           |  18931686 |  274200 |       0 |  1700 | 3.4 | 0.05569657 | &gt;0%  |\n| ⋮ | ⋮ | ⋮ | ⋮ | ⋮ | ⋮ | ⋮ | ⋮ | ⋮ |\n| 203 | Sweden               |   9801616 |  450295 |       0 | 47900 | 7.0 | 1.28707625 | &gt;60% |\n| 204 | Switzerland          |   8121830 |   41277 |       0 | 58600 | 5.2 | 1.73132737 | &gt;60% |\n| 205 | Syria                |  17064854 |  185180 |   22660 |  5100 | 5.1 | 0.37732477 | &gt;15% |\n| 206 | Taiwan               |  23415126 |   35980 |     159 | 46800 |  NA | 1.15272373 | &gt;60% |\n| 207 | Tajikistan           |   8191958 |  143100 |     206 |  2700 | 3.9 | 0.19403913 | &gt;15% |\n| 208 | Tanzania             |  51045882 |  947300 |       0 |  2900 | 6.2 | 0.09128259 | &gt;5%  |\n| 209 | Thailand             |  67976405 |  513120 |  232900 | 16100 | 5.8 | 0.35089843 | &gt;15% |\n| 210 | Timor-Leste          |   1231116 |   14874 |   76490 |  5600 | 9.4 | 0.40607772 | &gt;0%  |\n| 211 | Togo                 |   7552318 |   56785 |       0 |  1500 | 4.5 | 0.20519503 | &gt;0%  |\n| 213 | Tonga                |    106501 |     747 |       0 |  5100 | 3.9 | 0.91030790 | &gt;35% |\n| 214 | Trinidad and Tobago  |   1222363 |    5128 |   81260 | 32600 | 3.2 | 1.62246490 | &gt;60% |\n| 215 | Tunisia              |  11037225 |  163610 |   55050 | 11400 | 6.2 | 0.11868468 | &gt;35% |\n| 216 | Turkey               |  79414269 |  783562 |   47670 | 20400 | 2.9 | 0.49230054 | &gt;35% |\n| 217 | Turkmenistan         |   5231422 |  488100 |  242900 | 16400 |  NA | 0.12004097 | &gt;5%  |\n| 219 | Tuvalu               |     10869 |      26 |       0 |  3400 |  NA | 0.30769231 | &gt;35% |\n| 220 | Uganda               |  37101745 |  241038 |       0 |  2000 | 3.3 | 0.08297447 | &gt;15% |\n| 221 | Ukraine              |  44429471 |  603550 |   40490 |  7500 | 6.2 | 0.28115980 | &gt;35% |\n| 222 | United Arab Emirates |   5779760 |   83600 | 2820000 | 67600 |  NA | 0.04880383 | &gt;60% |\n| 223 | United Kingdom       |  64088222 |  243610 |  787200 | 41200 | 6.2 | 1.61909610 | &gt;60% |\n| 224 | United States        | 321368864 | 9826675 | 8653000 | 55800 | 5.4 | 0.67027860 | &gt;60% |\n| 225 | Uruguay              |   3341893 |  176215 |       0 | 21500 | 4.5 | 0.44112022 | &gt;35% |\n| 226 | Uzbekistan           |  29199942 |  447400 |   64810 |  6100 |  NA | 0.19333035 | &gt;35% |\n| 227 | Vanuatu              |    272264 |   12189 |       0 |  2500 | 5.0 | 0.08778407 | &gt;5%  |\n| 228 | Venezuela            |  29275460 |  912050 | 2500000 | 16700 | 6.9 | 0.10542733 | &gt;35% |\n| 229 | Vietnam              |  94348835 |  331210 |  298400 |  6000 | 6.3 | 0.62387307 | &gt;35% |\n| 230 | Virgin Islands       |    103574 |    1910 |       0 | 36100 |  NA | 0.65968586 | &gt;15% |\n| 232 | West Bank            |   2785366 |    5860 |       0 |  4300 |  NA | 0.79965870 | &gt;35% |\n| 234 | Yemen                |  26737317 |  527968 |  125100 |  2700 | 5.2 | 0.13504606 | &gt;15% |\n| 235 | Zambia               |  15066266 |  752618 |       0 |  3900 | 1.3 | 0.05375104 | &gt;15% |\n| 236 | Zimbabwe             |  14229541 |  390757 |       0 |  2100 | 2.5 | 0.24891941 | &gt;15% |\n\n",
            "text/latex": "A data.frame: 210 × 9\n\\begin{tabular}{lllllllll}\n X & country & pop & area & oil\\_prod & gdp & educ & roadways & net\\_users\\\\\n <int> & <fct> & <int> & <dbl> & <int> & <int> & <dbl> & <dbl> & <fct>\\\\\n\\hline\n\t  1 & Afghanistan            &  32564342 &  652230 &       0 &  1900 &  NA & 0.06462444 & >5\\% \\\\\n\t  2 & Albania                &   3029278 &   28748 &   20510 & 11900 & 3.3 & 0.62613051 & >35\\%\\\\\n\t  3 & Algeria                &  39542166 & 2381741 & 1420000 & 14500 & 4.3 & 0.04771929 & >15\\%\\\\\n\t  5 & Andorra                &     85580 &     468 &      NA & 37200 &  NA & 0.68376068 & >60\\%\\\\\n\t  6 & Angola                 &  19625353 & 1246700 & 1742000 &  7300 & 3.5 & 0.04125211 & >15\\%\\\\\n\t  7 & Anguilla               &     16418 &      91 &      NA & 12200 & 2.8 & 1.92307692 & >15\\%\\\\\n\t  8 & Antigua and Barbuda    &     92436 &     443 &       0 & 23600 & 2.4 & 2.64108352 & >60\\%\\\\\n\t  9 & Argentina              &  43431886 & 2780400 &  532100 & 22600 & 6.3 & 0.08321608 & >35\\%\\\\\n\t 10 & Armenia                &   3056382 &   29743 &       0 &  8500 & 3.3 & 0.25905255 & >35\\%\\\\\n\t 12 & Australia              &  22751014 & 7741220 &  354300 & 65400 & 5.6 & 0.10634202 & >60\\%\\\\\n\t 13 & Austria                &   8665550 &   83871 &   21760 & 47300 & 5.9 & 1.48451789 & >60\\%\\\\\n\t 14 & Azerbaijan             &   9780780 &   86600 &  845900 & 18000 & 2.4 & 0.61133949 & >35\\%\\\\\n\t 15 & Bahamas, The           &    324597 &   13880 &       0 & 25200 &  NA & 0.19452450 & >60\\%\\\\\n\t 16 & Bahrain                &   1346613 &     760 &   49500 & 50100 & 2.6 & 5.42368421 & >60\\%\\\\\n\t 17 & Bangladesh             & 168957745 &  143998 &    4000 &  3600 & 2.2 & 0.14770344 & >5\\% \\\\\n\t 18 & Barbados               &    290604 &     430 &    1000 & 16600 & 5.6 & 3.72093023 & >60\\%\\\\\n\t 19 & Belarus                &   9589689 &  207600 &   30000 & 17700 & 5.1 & 0.41614643 & >35\\%\\\\\n\t 20 & Belgium                &  11323973 &   30528 &       0 & 43600 & 6.6 & 5.04494235 & >60\\%\\\\\n\t 21 & Belize                 &    347369 &   22966 &    1818 &  8400 & 6.6 & 0.12496734 & >15\\%\\\\\n\t 22 & Benin                  &  10448647 &  112622 &       0 &  2100 & 5.3 & 0.14206816 & >0\\% \\\\\n\t 23 & Bermuda                &     70196 &      54 &       0 & 85700 & 2.6 & 8.27777778 & >60\\%\\\\\n\t 24 & Bhutan                 &    741919 &   38394 &       0 &  8200 & 4.7 & 0.27551180 & >15\\%\\\\\n\t 25 & Bolivia                &  10800882 & 1098581 &   51130 &  6500 & 6.9 & 0.07326542 & >35\\%\\\\\n\t 26 & Bosnia and Herzegovina &   3867055 &   51197 &       0 & 10500 &  NA & 0.44779968 & >60\\%\\\\\n\t 27 & Botswana               &   2182719 &  581730 &       0 & 16400 & 9.5 & 0.03079779 & >5\\% \\\\\n\t 28 & Brazil                 & 204259812 & 8514877 & 2255000 & 15600 & 5.8 & 0.18567080 & >35\\%\\\\\n\t 29 & British Virgin Islands &     33454 &     151 &       0 & 42300 & 4.4 & 1.32450331 & >5\\% \\\\\n\t 30 & Brunei                 &    429646 &    5765 &  126500 & 79700 & 3.5 & 0.52541197 & >60\\%\\\\\n\t 31 & Bulgaria               &   7186893 &  110879 &    1000 & 19100 & 4.1 & 0.17597561 & >35\\%\\\\\n\t 32 & Burkina Faso           &  18931686 &  274200 &       0 &  1700 & 3.4 & 0.05569657 & >0\\% \\\\\n\t ⋮ & ⋮ & ⋮ & ⋮ & ⋮ & ⋮ & ⋮ & ⋮ & ⋮\\\\\n\t 203 & Sweden               &   9801616 &  450295 &       0 & 47900 & 7.0 & 1.28707625 & >60\\%\\\\\n\t 204 & Switzerland          &   8121830 &   41277 &       0 & 58600 & 5.2 & 1.73132737 & >60\\%\\\\\n\t 205 & Syria                &  17064854 &  185180 &   22660 &  5100 & 5.1 & 0.37732477 & >15\\%\\\\\n\t 206 & Taiwan               &  23415126 &   35980 &     159 & 46800 &  NA & 1.15272373 & >60\\%\\\\\n\t 207 & Tajikistan           &   8191958 &  143100 &     206 &  2700 & 3.9 & 0.19403913 & >15\\%\\\\\n\t 208 & Tanzania             &  51045882 &  947300 &       0 &  2900 & 6.2 & 0.09128259 & >5\\% \\\\\n\t 209 & Thailand             &  67976405 &  513120 &  232900 & 16100 & 5.8 & 0.35089843 & >15\\%\\\\\n\t 210 & Timor-Leste          &   1231116 &   14874 &   76490 &  5600 & 9.4 & 0.40607772 & >0\\% \\\\\n\t 211 & Togo                 &   7552318 &   56785 &       0 &  1500 & 4.5 & 0.20519503 & >0\\% \\\\\n\t 213 & Tonga                &    106501 &     747 &       0 &  5100 & 3.9 & 0.91030790 & >35\\%\\\\\n\t 214 & Trinidad and Tobago  &   1222363 &    5128 &   81260 & 32600 & 3.2 & 1.62246490 & >60\\%\\\\\n\t 215 & Tunisia              &  11037225 &  163610 &   55050 & 11400 & 6.2 & 0.11868468 & >35\\%\\\\\n\t 216 & Turkey               &  79414269 &  783562 &   47670 & 20400 & 2.9 & 0.49230054 & >35\\%\\\\\n\t 217 & Turkmenistan         &   5231422 &  488100 &  242900 & 16400 &  NA & 0.12004097 & >5\\% \\\\\n\t 219 & Tuvalu               &     10869 &      26 &       0 &  3400 &  NA & 0.30769231 & >35\\%\\\\\n\t 220 & Uganda               &  37101745 &  241038 &       0 &  2000 & 3.3 & 0.08297447 & >15\\%\\\\\n\t 221 & Ukraine              &  44429471 &  603550 &   40490 &  7500 & 6.2 & 0.28115980 & >35\\%\\\\\n\t 222 & United Arab Emirates &   5779760 &   83600 & 2820000 & 67600 &  NA & 0.04880383 & >60\\%\\\\\n\t 223 & United Kingdom       &  64088222 &  243610 &  787200 & 41200 & 6.2 & 1.61909610 & >60\\%\\\\\n\t 224 & United States        & 321368864 & 9826675 & 8653000 & 55800 & 5.4 & 0.67027860 & >60\\%\\\\\n\t 225 & Uruguay              &   3341893 &  176215 &       0 & 21500 & 4.5 & 0.44112022 & >35\\%\\\\\n\t 226 & Uzbekistan           &  29199942 &  447400 &   64810 &  6100 &  NA & 0.19333035 & >35\\%\\\\\n\t 227 & Vanuatu              &    272264 &   12189 &       0 &  2500 & 5.0 & 0.08778407 & >5\\% \\\\\n\t 228 & Venezuela            &  29275460 &  912050 & 2500000 & 16700 & 6.9 & 0.10542733 & >35\\%\\\\\n\t 229 & Vietnam              &  94348835 &  331210 &  298400 &  6000 & 6.3 & 0.62387307 & >35\\%\\\\\n\t 230 & Virgin Islands       &    103574 &    1910 &       0 & 36100 &  NA & 0.65968586 & >15\\%\\\\\n\t 232 & West Bank            &   2785366 &    5860 &       0 &  4300 &  NA & 0.79965870 & >35\\%\\\\\n\t 234 & Yemen                &  26737317 &  527968 &  125100 &  2700 & 5.2 & 0.13504606 & >15\\%\\\\\n\t 235 & Zambia               &  15066266 &  752618 &       0 &  3900 & 1.3 & 0.05375104 & >15\\%\\\\\n\t 236 & Zimbabwe             &  14229541 &  390757 &       0 &  2100 & 2.5 & 0.24891941 & >15\\%\\\\\n\\end{tabular}\n",
            "text/plain": [
              "    X   country                pop       area    oil_prod gdp   educ roadways  \n",
              "1    1  Afghanistan             32564342  652230       0   1900  NA  0.06462444\n",
              "2    2  Albania                  3029278   28748   20510  11900 3.3  0.62613051\n",
              "3    3  Algeria                 39542166 2381741 1420000  14500 4.3  0.04771929\n",
              "4    5  Andorra                    85580     468      NA  37200  NA  0.68376068\n",
              "5    6  Angola                  19625353 1246700 1742000   7300 3.5  0.04125211\n",
              "6    7  Anguilla                   16418      91      NA  12200 2.8  1.92307692\n",
              "7    8  Antigua and Barbuda        92436     443       0  23600 2.4  2.64108352\n",
              "8    9  Argentina               43431886 2780400  532100  22600 6.3  0.08321608\n",
              "9   10  Armenia                  3056382   29743       0   8500 3.3  0.25905255\n",
              "10  12  Australia               22751014 7741220  354300  65400 5.6  0.10634202\n",
              "11  13  Austria                  8665550   83871   21760  47300 5.9  1.48451789\n",
              "12  14  Azerbaijan               9780780   86600  845900  18000 2.4  0.61133949\n",
              "13  15  Bahamas, The              324597   13880       0  25200  NA  0.19452450\n",
              "14  16  Bahrain                  1346613     760   49500  50100 2.6  5.42368421\n",
              "15  17  Bangladesh             168957745  143998    4000   3600 2.2  0.14770344\n",
              "16  18  Barbados                  290604     430    1000  16600 5.6  3.72093023\n",
              "17  19  Belarus                  9589689  207600   30000  17700 5.1  0.41614643\n",
              "18  20  Belgium                 11323973   30528       0  43600 6.6  5.04494235\n",
              "19  21  Belize                    347369   22966    1818   8400 6.6  0.12496734\n",
              "20  22  Benin                   10448647  112622       0   2100 5.3  0.14206816\n",
              "21  23  Bermuda                    70196      54       0  85700 2.6  8.27777778\n",
              "22  24  Bhutan                    741919   38394       0   8200 4.7  0.27551180\n",
              "23  25  Bolivia                 10800882 1098581   51130   6500 6.9  0.07326542\n",
              "24  26  Bosnia and Herzegovina   3867055   51197       0  10500  NA  0.44779968\n",
              "25  27  Botswana                 2182719  581730       0  16400 9.5  0.03079779\n",
              "26  28  Brazil                 204259812 8514877 2255000  15600 5.8  0.18567080\n",
              "27  29  British Virgin Islands     33454     151       0  42300 4.4  1.32450331\n",
              "28  30  Brunei                    429646    5765  126500  79700 3.5  0.52541197\n",
              "29  31  Bulgaria                 7186893  110879    1000  19100 4.1  0.17597561\n",
              "30  32  Burkina Faso            18931686  274200       0   1700 3.4  0.05569657\n",
              "⋮   ⋮   ⋮                      ⋮         ⋮       ⋮        ⋮     ⋮    ⋮         \n",
              "181 203 Sweden                   9801616  450295       0  47900 7.0  1.28707625\n",
              "182 204 Switzerland              8121830   41277       0  58600 5.2  1.73132737\n",
              "183 205 Syria                   17064854  185180   22660   5100 5.1  0.37732477\n",
              "184 206 Taiwan                  23415126   35980     159  46800  NA  1.15272373\n",
              "185 207 Tajikistan               8191958  143100     206   2700 3.9  0.19403913\n",
              "186 208 Tanzania                51045882  947300       0   2900 6.2  0.09128259\n",
              "187 209 Thailand                67976405  513120  232900  16100 5.8  0.35089843\n",
              "188 210 Timor-Leste              1231116   14874   76490   5600 9.4  0.40607772\n",
              "189 211 Togo                     7552318   56785       0   1500 4.5  0.20519503\n",
              "190 213 Tonga                     106501     747       0   5100 3.9  0.91030790\n",
              "191 214 Trinidad and Tobago      1222363    5128   81260  32600 3.2  1.62246490\n",
              "192 215 Tunisia                 11037225  163610   55050  11400 6.2  0.11868468\n",
              "193 216 Turkey                  79414269  783562   47670  20400 2.9  0.49230054\n",
              "194 217 Turkmenistan             5231422  488100  242900  16400  NA  0.12004097\n",
              "195 219 Tuvalu                     10869      26       0   3400  NA  0.30769231\n",
              "196 220 Uganda                  37101745  241038       0   2000 3.3  0.08297447\n",
              "197 221 Ukraine                 44429471  603550   40490   7500 6.2  0.28115980\n",
              "198 222 United Arab Emirates     5779760   83600 2820000  67600  NA  0.04880383\n",
              "199 223 United Kingdom          64088222  243610  787200  41200 6.2  1.61909610\n",
              "200 224 United States          321368864 9826675 8653000  55800 5.4  0.67027860\n",
              "201 225 Uruguay                  3341893  176215       0  21500 4.5  0.44112022\n",
              "202 226 Uzbekistan              29199942  447400   64810   6100  NA  0.19333035\n",
              "203 227 Vanuatu                   272264   12189       0   2500 5.0  0.08778407\n",
              "204 228 Venezuela               29275460  912050 2500000  16700 6.9  0.10542733\n",
              "205 229 Vietnam                 94348835  331210  298400   6000 6.3  0.62387307\n",
              "206 230 Virgin Islands            103574    1910       0  36100  NA  0.65968586\n",
              "207 232 West Bank                2785366    5860       0   4300  NA  0.79965870\n",
              "208 234 Yemen                   26737317  527968  125100   2700 5.2  0.13504606\n",
              "209 235 Zambia                  15066266  752618       0   3900 1.3  0.05375104\n",
              "210 236 Zimbabwe                14229541  390757       0   2100 2.5  0.24891941\n",
              "    net_users\n",
              "1   >5%      \n",
              "2   >35%     \n",
              "3   >15%     \n",
              "4   >60%     \n",
              "5   >15%     \n",
              "6   >15%     \n",
              "7   >60%     \n",
              "8   >35%     \n",
              "9   >35%     \n",
              "10  >60%     \n",
              "11  >60%     \n",
              "12  >35%     \n",
              "13  >60%     \n",
              "14  >60%     \n",
              "15  >5%      \n",
              "16  >60%     \n",
              "17  >35%     \n",
              "18  >60%     \n",
              "19  >15%     \n",
              "20  >0%      \n",
              "21  >60%     \n",
              "22  >15%     \n",
              "23  >35%     \n",
              "24  >60%     \n",
              "25  >5%      \n",
              "26  >35%     \n",
              "27  >5%      \n",
              "28  >60%     \n",
              "29  >35%     \n",
              "30  >0%      \n",
              "⋮   ⋮        \n",
              "181 >60%     \n",
              "182 >60%     \n",
              "183 >15%     \n",
              "184 >60%     \n",
              "185 >15%     \n",
              "186 >5%      \n",
              "187 >15%     \n",
              "188 >0%      \n",
              "189 >0%      \n",
              "190 >35%     \n",
              "191 >60%     \n",
              "192 >35%     \n",
              "193 >35%     \n",
              "194 >5%      \n",
              "195 >35%     \n",
              "196 >15%     \n",
              "197 >35%     \n",
              "198 >60%     \n",
              "199 >60%     \n",
              "200 >60%     \n",
              "201 >35%     \n",
              "202 >35%     \n",
              "203 >5%      \n",
              "204 >35%     \n",
              "205 >35%     \n",
              "206 >15%     \n",
              "207 >35%     \n",
              "208 >15%     \n",
              "209 >15%     \n",
              "210 >15%     "
            ]
          },
          "metadata": {}
        }
      ],
      "source": [
        "ciacountries <- ciacountries %>%\n",
        "filter(!is.na(roadways)) \n",
        "ciacountries\n"
      ]
    },
    {
      "cell_type": "markdown",
      "metadata": {
        "id": "K8JXmgAwXO3c"
      },
      "source": [
        "TASK: Create a decision tree to determine what variables predict roadways.\n",
        "QUESTION: What is your interpretation of the result?\n"
      ]
    },
    {
      "cell_type": "code",
      "execution_count": null,
      "metadata": {
        "id": "ImjaCJBlXO3c"
      },
      "outputs": [],
      "source": [
        "\n",
        "\n"
      ]
    },
    {
      "cell_type": "markdown",
      "metadata": {
        "id": "EyS1ra2qXO3c"
      },
      "source": [
        "What about predicting Education?\n",
        "\n",
        "TASK: Filter out missing values for Education.\n"
      ]
    },
    {
      "cell_type": "code",
      "execution_count": null,
      "metadata": {
        "id": "pVWpaLF8XO3d"
      },
      "outputs": [],
      "source": [
        "\n",
        "\n"
      ]
    },
    {
      "cell_type": "markdown",
      "metadata": {
        "id": "wIz30mzeXO3d"
      },
      "source": [
        "TASK: Create a decision tree to determine what variables predict Education\n",
        "QUESTION: What is your interpretation of the result?\n"
      ]
    },
    {
      "cell_type": "code",
      "execution_count": null,
      "metadata": {
        "id": "6_gcYe4eXO3d"
      },
      "outputs": [],
      "source": [
        "\n",
        "\n"
      ]
    },
    {
      "cell_type": "markdown",
      "metadata": {
        "id": "ZX7VdBWpXO3d"
      },
      "source": [
        "TASK: Does education predict gdp?   Filter out missing values of gpd, then create the decision tree.\n",
        "QUESTION: What variables predict gpd?  How would you describe the circular relationships?\n"
      ]
    },
    {
      "cell_type": "code",
      "execution_count": null,
      "metadata": {
        "id": "Doc4vPzjXO3d"
      },
      "outputs": [],
      "source": [
        "\n",
        "\n"
      ]
    },
    {
      "cell_type": "markdown",
      "metadata": {
        "id": "fGA2thcrXO3e"
      },
      "source": [
        "\n"
      ]
    },
    {
      "cell_type": "code",
      "execution_count": null,
      "metadata": {
        "id": "WDv2LOj1XO3e"
      },
      "outputs": [],
      "source": [
        "\n",
        "\n"
      ]
    },
    {
      "cell_type": "markdown",
      "metadata": {
        "id": "JSEp6pxaXO3e"
      },
      "source": [
        "\n",
        "\n"
      ]
    }
  ],
  "metadata": {
    "anaconda-cloud": "",
    "kernelspec": {
      "display_name": "R",
      "language": "R",
      "name": "ir"
    },
    "language_info": {
      "codemirror_mode": "r",
      "file_extension": ".r",
      "mimetype": "text/x-r-source",
      "name": "R",
      "pygments_lexer": "r",
      "version": "4.1.0"
    },
    "colab": {
      "provenance": [],
      "include_colab_link": true
    }
  },
  "nbformat": 4,
  "nbformat_minor": 0
}